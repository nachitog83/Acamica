{
 "cells": [
  {
   "cell_type": "markdown",
   "metadata": {},
   "source": [
    "# Estimando \n",
    "\n",
    "El objetivo de esta actividad es que los/as alumnos/as reflexionen sobre los procesos de `medición y de estimación`. También, amigarse con las incertezas y los errores.\n",
    "\n",
    "En un frasco, llamémoslo `Frasco 1`, ponemos una cantidad $n$ de __porotos__. En otro frasco, `Frasco 2`, ponemos una cantidad definida de esos mismos elementos: `240 porotos`"
   ]
  },
  {
   "cell_type": "markdown",
   "metadata": {},
   "source": [
    "Armar grupos de tres personas cada uno y estimar `cota inferior`, `valor más probable` y `cota superior` de la `cantidad de porotos en el Frasco 1`, para los siguientes casos:"
   ]
  },
  {
   "cell_type": "markdown",
   "metadata": {},
   "source": [
    "### Casos\n",
    "1. Estimar la cantidad de porotos en el Frasco 1 sin ningún dato extra, sólo mediante la observación.\n",
    "2. Estimar la cantidad de porotos en el Frasco 1, sabiendo que el peso del frasco lleno con porotos, es de 490 gr y el peso de los 240 porotos es de 95 gr.\n",
    "3. Estimar la cantidad de porotos en el Frasco 1, sabiendo que el peso del frasco lleno con porotos, es de 490 gr, el peso de los 240 porotos es de 95 gr y el peso del frasco vacío se encuentra entre 210 a 230 gr.\n",
    "\n",
    "`Nota:` Ambos frascos con iguales."
   ]
  },
  {
   "cell_type": "markdown",
   "metadata": {},
   "source": [
    "### Reflexiones\n",
    "\n",
    "* Estimar implica hacer `suposiciones`. Los grupos deben `explicitar todas sus suposiciones`\n",
    "* El manejo de incertezas es una temática importantísima en Data Science. Una estimación sin una incerteza asociada en general tiene poco valor."
   ]
  },
  {
   "cell_type": "markdown",
   "metadata": {},
   "source": [
    "### Indicaciones\n",
    "* A medida que les damos algún datos extra (casos 2 y 3), ¿qué valor se modifica más: `cota inferior`, `valor más probable` o `cota superior`?\n",
    "* ¿Cómo `propagarían` el error en la medición del frasco?\n",
    "* A medida que vamos agregando información, ¿qué esperan que pase con las incertezas?"
   ]
  }
 ],
 "metadata": {
  "kernelspec": {
   "display_name": "Python 3",
   "language": "python",
   "name": "python3"
  },
  "language_info": {
   "codemirror_mode": {
    "name": "ipython",
    "version": 3
   },
   "file_extension": ".py",
   "mimetype": "text/x-python",
   "name": "python",
   "nbconvert_exporter": "python",
   "pygments_lexer": "ipython3",
   "version": "3.7.4"
  }
 },
 "nbformat": 4,
 "nbformat_minor": 4
}
