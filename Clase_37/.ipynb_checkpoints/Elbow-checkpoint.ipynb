{
 "cells": [
  {
   "cell_type": "markdown",
   "metadata": {},
   "source": [
    "# K-Means"
   ]
  },
  {
   "cell_type": "markdown",
   "metadata": {},
   "source": [
    "El algoritmo K-Means agrupa datos (en clústers) tratando de separar muestras en `K` grupos de igual varianza, minimizando un criterio conocido como la `inercia o la suma de cuadrados dentro del grupo`. Este algoritmo requiere que se especifique el número de clústeres, `K`. Se adapta bien a un gran número de muestras y se ha utilizado en una amplia gama de áreas de aplicación en muchos campos diferentes.\n",
    "\n",
    "El algoritmo K-Means divide un conjunto $N$ de muestras/instancias $X$ en $K$ grupos disjuntos, cada uno descrito por la media $\\mu_j$ de las muestras en el grupo. Las medias se denominan comúnmente como el grupo de `centroides`; tengan en cuenta que, en general, los centroides no son puntos del conjunto $X$ (puede sarse el caso que por cuestiones aleatorias si coincidan), aunque viven en el mismo espacio.\n",
    "\n",
    "El algoritmo K-Means tiene como objetivo elegir `centroides que minimicen la inercia`, o el criterio de suma de cuadrados dentro del clúster:\n",
    "\n",
    "$$\\sum_{i=0}^n \\min_{\\mu_j \\in C} (\\left \\|  x_i - \\mu_j \\right \\| ^2)$$   \n",
    " \n",
    "La inercia se puede reconocer como una medida de la coherencia interna de los clústeres, pero sufre de varios inconvenientes:\n",
    "\n",
    "* La inercia supone que los grupos son convexos e isotrópicos, lo que no siempre es así. `Responde mal a grupos alargados, o con formas irregulares.`\n",
    "* La inercia no es una métrica normalizada: solo sabemos que los valores más bajos son mejores y cero es óptimo. Pero en espacios de dimensiones muy altas, las distancias euclidianas tienden a inflarse (esta es una instancia de la llamada \"maldición de la dimensionalidad\").\n",
    "\n",
    "### Para más información sobre K-Means vean este [video.](https://www.youtube.com/watch?v=4b5d3muPQmA)"
   ]
  },
  {
   "cell_type": "markdown",
   "metadata": {},
   "source": [
    "----\n",
    "# Distancia al Centroide"
   ]
  },
  {
   "cell_type": "markdown",
   "metadata": {},
   "source": [
    "Medimos cúal es la distancia media de cada dato $i$ al centroide más cercano:\n",
    "\n",
    "$$d(i)=\\left \\|X_i - C_j\\right \\|^2$$"
   ]
  },
  {
   "cell_type": "markdown",
   "metadata": {},
   "source": [
    "Donde $X_i$ es la posición del dato $i$. $C_j$ es la posición del centroide más cercano."
   ]
  },
  {
   "cell_type": "markdown",
   "metadata": {},
   "source": [
    "Luego, calculamos la distancia media total como el promedio de las distancias individuales:\n",
    "\n",
    "$$D=\\frac{1}{N}\\sum_{i=1}^N d(i)$$"
   ]
  },
  {
   "cell_type": "markdown",
   "metadata": {},
   "source": [
    "Si repetimos el cálculo de $D$ para los distintos valores de $K$, podemos tener la distancia media total para cada uno de los $K$ elegidos."
   ]
  },
  {
   "cell_type": "markdown",
   "metadata": {},
   "source": [
    "# El método del codo\n",
    "\n",
    "La idea es ejecutar K-Means para muchas cantidades diferentes de clústeres $K$ y decir cuál de esas cantidades es la cantidad óptima de clústeres. `Por lo tanto, el objetivo es encontrar un punto de equilibrio en el que las muestras de un grupo sean lo más homogéneas posible y los grupos sean lo más diferentes entre sí.`\n",
    "\n",
    "Como K-Means calcula las distancias entre las muestras y el centro del grupo al que pertenece la muestra (`Inercia`), lo ideal es que esta distancia sea la más pequeña posible. Hablando matemáticamente, estamos buscando varios grupos en los que la suma de cuadrados dentro de los grupos, esté más cerca de 0, siendo cero el resultado óptimo."
   ]
  },
  {
   "cell_type": "markdown",
   "metadata": {},
   "source": [
    "## Para determinar el número óptimo de grupos, tenemos que seleccionar el valor de $K$ en el `codo`, es decir, el punto después del cual la `inercia` comienza a disminuir de manera lineal. "
   ]
  },
  {
   "cell_type": "markdown",
   "metadata": {},
   "source": [
    "<img src='https://www.jeremyjordan.me/content/images/2016/12/BzwBY.png'>"
   ]
  },
  {
   "cell_type": "markdown",
   "metadata": {},
   "source": [
    "----\n",
    "# En python\n",
    "\n",
    "```python\n",
    "# Preparamos una lista donde vamos a ir agregando las distancias medias\n",
    "Sum_of_squared_distances = []\n",
    "# Fiteammos un modelo para cada numero de cluster que queremos testear\n",
    "K = np.arange(2,14)\n",
    "for k in K:\n",
    "    # Definimos y entrenamos el modelo\n",
    "    km = KMeans(n_clusters=k)\n",
    "    km = km.fit(X)\n",
    "    # Calculamos la distancia media y agregamos a la lista\n",
    "    distancia_total = km.inertia_\n",
    "    distancia_media = np.divide(distancia_total,X.shape[0])\n",
    "    Sum_of_squared_distances.append(distancia_media)\n",
    "```"
   ]
  },
  {
   "cell_type": "code",
   "execution_count": 1,
   "metadata": {},
   "outputs": [],
   "source": [
    "import matplotlib.pyplot as plt\n",
    "from sklearn.datasets import make_blobs\n",
    "\n",
    "# Create dataset with 3 random cluster centers and 1000 datapoints\n",
    "x, y = make_blobs(n_samples=1000, centers=3, n_features=2, shuffle=True, random_state=31)"
   ]
  },
  {
   "cell_type": "code",
   "execution_count": 2,
   "metadata": {},
   "outputs": [],
   "source": [
    "from sklearn.cluster import KMeans\n",
    "import numpy as np\n",
    "\n",
    "# Preparamos una lista donde vamos a ir agregando las distancias medias\n",
    "Sum_of_squared_distances = []\n",
    "# Fiteammos un modelo para cada numero de cluster que queremos testear\n",
    "K = np.arange(1,14)\n",
    "for k in K:\n",
    "    # Definimos y entrenamos el modelo\n",
    "    km = KMeans(n_clusters=k)\n",
    "    km = km.fit(x)\n",
    "    # Calculamos la distancia media y agregamos a la lista\n",
    "    distancia_total = km.inertia_ # corresponde a d(i)\n",
    "    distancia_media = np.divide(distancia_total,x.shape[0]) # corresponde a D\n",
    "    Sum_of_squared_distances.append(distancia_media)"
   ]
  },
  {
   "cell_type": "code",
   "execution_count": 3,
   "metadata": {},
   "outputs": [
    {
     "data": {
      "image/png": "[encoded data removed]",
      "text/plain": [
       "<Figure size 720x360 with 1 Axes>"
      ]
     },
     "metadata": {
      "needs_background": "light"
     },
     "output_type": "display_data"
    }
   ],
   "source": [
    "plt.figure(figsize=(10,5))\n",
    "plt.ylabel(\"Within-Cluster-Sum of Squared\")\n",
    "plt.xlabel(\"K\")\n",
    "plt.xlim([1,13])\n",
    "plt.scatter(3, Sum_of_squared_distances[3], color='r', marker='s', s=60, label='Punto de codo elegido')\n",
    "plt.plot(K, Sum_of_squared_distances, 'b*--', label='Suma de cuadrados para distintos K');\n",
    "plt.grid()\n",
    "plt.legend();"
   ]
  }
 ],
 "metadata": {
  "kernelspec": {
   "display_name": "Python 3",
   "language": "python",
   "name": "python3"
  },
  "language_info": {
   "codemirror_mode": {
    "name": "ipython",
    "version": 3
   },
   "file_extension": ".py",
   "mimetype": "text/x-python",
   "name": "python",
   "nbconvert_exporter": "python",
   "pygments_lexer": "ipython3",
   "version": "3.7.4"
  }
 },
 "nbformat": 4,
 "nbformat_minor": 4
}
