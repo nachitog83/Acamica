{
 "cells": [
  {
   "cell_type": "markdown",
   "metadata": {},
   "source": [
    "# ¿Cómo funciona el algoritmo KNN?\n",
    "\n",
    "Supongamos que tenemos un dataset con las features `edad` y `experiencia` y queremos predecir el `salario` de un nuevo empleado, del cual conocemos su `edad` y `experiencia`.\n",
    "\n",
    "Los pasos a seguir por el algoritmo KNN, serían los siguientes:\n",
    "1. Elegir un valor de `K`, el cual debe de ser `impar`\n",
    "2. Hallar la `distancia` del nuevo punto (nuevo empleado) a cada uno de los puntos de entrenamiento.\n",
    "3. Hallar los `K vecinos más cercanos` a ese nuevo punto.\n",
    "4. Para `clasificación`, contar el número de puntos de datos en cada categoría entre los K vecinos. El nuevo empleado pertenecerá a la clase que tenga más vecinos.\n",
    "5. Para `regresión`, el valor para el nuevo punto de datos será el promedio de los K vecinos."
   ]
  },
  {
   "cell_type": "code",
   "execution_count": 2,
   "metadata": {
    "jupyter": {
     "source_hidden": true
    }
   },
   "outputs": [
    {
     "data": {
      "text/html": [
       "<img src=\"https://miro.medium.com/max/1319/1*8lt4Y2oBpm_bb-79eDuanA.png\"/>"
      ],
      "text/plain": [
       "<IPython.core.display.Image object>"
      ]
     },
     "execution_count": 2,
     "metadata": {},
     "output_type": "execute_result"
    }
   ],
   "source": [
    "from IPython.display import Image\n",
    "from IPython.core.display import HTML \n",
    "Image(url= \"https://miro.medium.com/max/1319/1*8lt4Y2oBpm_bb-79eDuanA.png\")"
   ]
  },
  {
   "cell_type": "markdown",
   "metadata": {},
   "source": [
    "# ¿Cómo se calcula la distancia (ó métrica en Scikit-Learn)?\n",
    "\n",
    "La distancia entre dos puntos $p=(x_1,y_1)$ y $q=(x_2,y_2)$ se puede calcular usando:\n",
    "* `Distancia Euclidiana`\n",
    "* `Distancia de Manhattan`\n",
    "* `Distancia Minkowski`"
   ]
  },
  {
   "cell_type": "markdown",
   "metadata": {},
   "source": [
    "### Distancia Euclidiana: \n",
    "\n",
    "$E(p,q)=\\sqrt{(x_1-x_2)^2+(y_1-y_2)^2}$"
   ]
  },
  {
   "cell_type": "markdown",
   "metadata": {},
   "source": [
    "### Distancia Manhattan:\n",
    "\n",
    "$E(p,q)=\\vert x_1-x_2 \\vert + \\vert y_1-y_2 \\vert$"
   ]
  },
  {
   "cell_type": "markdown",
   "metadata": {},
   "source": [
    "### Distancia Minkowski: \n",
    "\n",
    "$E(p,q)=\\left(\\vert x_1-x_2 \\vert^\\rho+\\vert y_1-y_2\\vert^\\rho\\right)^\\frac{1}{\\rho}$\n",
    "\n",
    "Donde $\\rho$ es cualquier valor real. Usualmente se escoge un valor entre $1$ y $2$. \n",
    "\n",
    "Cuando $\\rho=1$, la distancia de `Minkowski` se convierte en la distancia de `Manhattan`. Cuando $\\rho=2$, se convierte en la distancia `Euclidiana`\n",
    "\n",
    "Por otra parte, la métrica de Minkowski en la distancia por defecto en Scikit-Learn."
   ]
  },
  {
   "cell_type": "markdown",
   "metadata": {},
   "source": [
    "# Consideraciones\n",
    "\n",
    "* Como se calcula la similitud con respecto a la distancia, debemos tener en mente que las distancias entre variables deben ser comparables. Si usamos un rango de medida en una variable y otro muy distinto en otra, las distancias no están normalizadas y estaremos comparando peras con manzanas.\n",
    "* Para realizar un análisis con KNN tenemos siempre de normalizar los datos, reescalar todas las variables para que las distancias sean equiparables. Una posible normalización que vimos con Scikit-Learn fue la función `StandardScaler`.\n",
    "* Otro importante asunto es que hay que eliminar los NAN de los datos, pues afectan a los cálculos de distancia."
   ]
  },
  {
   "cell_type": "code",
   "execution_count": null,
   "metadata": {},
   "outputs": [],
   "source": []
  }
 ],
 "metadata": {
  "kernelspec": {
   "display_name": "Python 3",
   "language": "python",
   "name": "python3"
  },
  "language_info": {
   "codemirror_mode": {
    "name": "ipython",
    "version": 3
   },
   "file_extension": ".py",
   "mimetype": "text/x-python",
   "name": "python",
   "nbconvert_exporter": "python",
   "pygments_lexer": "ipython3",
   "version": "3.7.4"
  }
 },
 "nbformat": 4,
 "nbformat_minor": 4
}
