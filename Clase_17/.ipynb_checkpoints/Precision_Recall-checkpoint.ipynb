{
 "cells": [
  {
   "cell_type": "markdown",
   "metadata": {},
   "source": [
    "# Precisión y Recall"
   ]
  },
  {
   "cell_type": "markdown",
   "metadata": {},
   "source": [
    "`Supongamos de la existencia de un algoritmo de IA que reconoce perros en imagenes, dicho programa reconoce 7 perros en una escena que contiene 9 perros y algunos gatos` \n",
    "\n",
    "### Imagen original:\n",
    "\n",
    "![title](original.png)"
   ]
  },
  {
   "cell_type": "markdown",
   "metadata": {},
   "source": [
    "### Imagen luego del reconocimiento:\n",
    "\n",
    "![title](reconocimiento.png)"
   ]
  },
  {
   "cell_type": "markdown",
   "metadata": {},
   "source": [
    "Como podemos ver, 4 de las identificaciones han sido correctas, pero 3 eran gatos. Además, el algoritmo no reconoció a otros 5 perros."
   ]
  },
  {
   "cell_type": "markdown",
   "metadata": {},
   "source": [
    "# Precisión\n",
    "\n",
    "$Precision = \\frac{TP}{TP+FP} = \\frac{4}{4+3} = \\frac{4}{7}$"
   ]
  },
  {
   "cell_type": "markdown",
   "metadata": {},
   "source": [
    "# Recall\n",
    "\n",
    "$Recall = \\frac{TP}{TP+FN} = \\frac{4}{4+5} = \\frac{4}{9}$"
   ]
  },
  {
   "cell_type": "markdown",
   "metadata": {},
   "source": [
    "Donde:\n",
    "\n",
    "$TP=True \\ Positive \\\\\n",
    "FP=False \\ Positive \\\\\n",
    "FN=False \\ Negative$"
   ]
  },
  {
   "cell_type": "code",
   "execution_count": null,
   "metadata": {},
   "outputs": [],
   "source": []
  }
 ],
 "metadata": {
  "kernelspec": {
   "display_name": "Python 3",
   "language": "python",
   "name": "python3"
  },
  "language_info": {
   "codemirror_mode": {
    "name": "ipython",
    "version": 3
   },
   "file_extension": ".py",
   "mimetype": "text/x-python",
   "name": "python",
   "nbconvert_exporter": "python",
   "pygments_lexer": "ipython3",
   "version": "3.7.4"
  }
 },
 "nbformat": 4,
 "nbformat_minor": 4
}
