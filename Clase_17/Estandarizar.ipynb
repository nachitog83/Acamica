{
 "cells": [
  {
   "cell_type": "markdown",
   "metadata": {},
   "source": [
    "# ¿Por qué estandarizar los datos?"
   ]
  },
  {
   "cell_type": "markdown",
   "metadata": {},
   "source": [
    "* Un alumno `A` saca una puntuación de `85` en un examen cuyas puntuaciones tienen una media, $\\mu=79$ y una desviación de $\\sigma=8$. \n",
    "\n",
    "* Un alumno `B` saca `74` en un examen cuyas puntuaciones tienen una media, $\\mu=70$ y desviación típica de $\\sigma=5$. \n",
    "\n",
    "## ¿Cuál de los dos alumnos obtuvo una puntuación mejor? \n",
    "\n",
    "Si cometemos el error de no estandarizar los datos, podemos caer en la tentación de decir que el alumno `A` fue mejor, sin antes realizar ningún análisis previo.\n",
    "\n",
    "La respuesta correcta, usando Z-Score, se obtiene de la siguiente manera:\n",
    "\n",
    "${\\displaystyle z_{a}={\\frac {85-79}{8}}={\\frac {6}{8}}=0,75}$\n",
    "\n",
    "${\\displaystyle z_{b}={\\frac {74-70}{5}}={\\frac {4}{5}}=0,8}$\n",
    "\n",
    "Así el alumno `B` lo hizo mejor que el `A`, aunque su puntuación de `74` es inferior a `85`."
   ]
  }
 ],
 "metadata": {
  "kernelspec": {
   "display_name": "Python 3",
   "language": "python",
   "name": "python3"
  },
  "language_info": {
   "codemirror_mode": {
    "name": "ipython",
    "version": 3
   },
   "file_extension": ".py",
   "mimetype": "text/x-python",
   "name": "python",
   "nbconvert_exporter": "python",
   "pygments_lexer": "ipython3",
   "version": "3.7.4"
  }
 },
 "nbformat": 4,
 "nbformat_minor": 4
}
