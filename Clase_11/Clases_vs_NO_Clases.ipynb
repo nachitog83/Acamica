{
 "cells": [
  {
   "cell_type": "markdown",
   "metadata": {},
   "source": [
    "# ¿Por qué está bueno usar clases?"
   ]
  },
  {
   "cell_type": "markdown",
   "metadata": {},
   "source": [
    "### Supongamos que queremos definir datos en relación a un perro y una serie de acciones que éste perro puede realizar:\n",
    "#### Datos del perro:\n",
    "* `Raza:` Golden\n",
    "* `Edad:` 3\n",
    "* `Sexo:` Hembra\n",
    "\n",
    "#### Acciones que puede realizar el perro:\n",
    "* `Puede ladrar`\n",
    "* `Puede morder`"
   ]
  },
  {
   "cell_type": "markdown",
   "metadata": {},
   "source": [
    "---\n",
    "### Sin usar clases:\n",
    "Primero definimos las características del perro:"
   ]
  },
  {
   "cell_type": "code",
   "execution_count": 1,
   "metadata": {},
   "outputs": [],
   "source": [
    "raza = 'Golden'\n",
    "edad = 3 #años\n",
    "sexo = 'Hembra'\n",
    "nombre = 'Galadriel'"
   ]
  },
  {
   "cell_type": "markdown",
   "metadata": {},
   "source": [
    "Y luego definimos las funciones que puede realizar el perro:"
   ]
  },
  {
   "cell_type": "code",
   "execution_count": 2,
   "metadata": {},
   "outputs": [],
   "source": [
    "def ladrar():\n",
    "    print('Guau, guau!')"
   ]
  },
  {
   "cell_type": "code",
   "execution_count": 3,
   "metadata": {},
   "outputs": [],
   "source": [
    "def morder():\n",
    "    print('Ñam, ñam...')"
   ]
  },
  {
   "cell_type": "markdown",
   "metadata": {},
   "source": [
    "Ahora, hacemos que el perro ladre:"
   ]
  },
  {
   "cell_type": "code",
   "execution_count": 4,
   "metadata": {},
   "outputs": [
    {
     "name": "stdout",
     "output_type": "stream",
     "text": [
      "Guau, guau!\n"
     ]
    }
   ],
   "source": [
    "ladrar()"
   ]
  },
  {
   "cell_type": "markdown",
   "metadata": {},
   "source": [
    "Y que muerda:"
   ]
  },
  {
   "cell_type": "code",
   "execution_count": 5,
   "metadata": {},
   "outputs": [
    {
     "name": "stdout",
     "output_type": "stream",
     "text": [
      "Ñam, ñam...\n"
     ]
    }
   ],
   "source": [
    "morder()"
   ]
  },
  {
   "cell_type": "markdown",
   "metadata": {},
   "source": [
    "Mostramos los datos de nuestro perro:"
   ]
  },
  {
   "cell_type": "code",
   "execution_count": 6,
   "metadata": {},
   "outputs": [
    {
     "name": "stdout",
     "output_type": "stream",
     "text": [
      "Mi perra se llama Galadriel\n",
      "Mi perra es de raza Golden\n",
      "Mi perra tiene 3 años\n",
      "Mi perra es Hembra\n"
     ]
    }
   ],
   "source": [
    "print('Mi perra se llama %s'%nombre)\n",
    "print('Mi perra es de raza %s'%raza)\n",
    "print('Mi perra tiene %s años'%edad)\n",
    "print('Mi perra es %s'%sexo)"
   ]
  },
  {
   "cell_type": "markdown",
   "metadata": {},
   "source": [
    "---\n",
    "### Ahora veamos como sería usando clases:"
   ]
  },
  {
   "cell_type": "markdown",
   "metadata": {},
   "source": [
    "Definimos la clase `Perro`, con los datos usados en el caso anterior y con los métodos que definen las acciones que puede realizar nuestro perro:"
   ]
  },
  {
   "cell_type": "code",
   "execution_count": 7,
   "metadata": {},
   "outputs": [],
   "source": [
    "class Perro:\n",
    "    def __init__(self, raza, edad, sexo, nombre):\n",
    "        self.raza = raza\n",
    "        self.edad = edad\n",
    "        self.sexo = sexo\n",
    "        self.nombre = nombre\n",
    "    \n",
    "    def ladrar(self):\n",
    "        print('Guau, guau!')\n",
    "    \n",
    "    def morder(self):\n",
    "        print('Ñam, ñam...')"
   ]
  },
  {
   "cell_type": "markdown",
   "metadata": {},
   "source": [
    "Ahora creamos nuestro objeto `mi_perra`:"
   ]
  },
  {
   "cell_type": "code",
   "execution_count": 8,
   "metadata": {},
   "outputs": [],
   "source": [
    "mi_perra = Perro(raza, edad, sexo, nombre)"
   ]
  },
  {
   "cell_type": "markdown",
   "metadata": {},
   "source": [
    "Mostramos sus datos:"
   ]
  },
  {
   "cell_type": "code",
   "execution_count": 9,
   "metadata": {},
   "outputs": [
    {
     "name": "stdout",
     "output_type": "stream",
     "text": [
      "Mi perra se llama Galadriel\n",
      "Mi perra es de raza Golden\n",
      "Mi perra tiene 3 años\n",
      "Mi perra es Hembra\n"
     ]
    }
   ],
   "source": [
    "print('Mi perra se llama %s'%mi_perra.nombre)\n",
    "print('Mi perra es de raza %s'%mi_perra.raza)\n",
    "print('Mi perra tiene %s años'%mi_perra.edad)\n",
    "print('Mi perra es %s'%mi_perra.sexo)"
   ]
  },
  {
   "cell_type": "markdown",
   "metadata": {},
   "source": [
    "Lo hacemos ladrar:"
   ]
  },
  {
   "cell_type": "code",
   "execution_count": 10,
   "metadata": {},
   "outputs": [
    {
     "name": "stdout",
     "output_type": "stream",
     "text": [
      "Guau, guau!\n"
     ]
    }
   ],
   "source": [
    "mi_perra.ladrar()"
   ]
  },
  {
   "cell_type": "markdown",
   "metadata": {},
   "source": [
    "Lo hacemos morder:"
   ]
  },
  {
   "cell_type": "code",
   "execution_count": 11,
   "metadata": {},
   "outputs": [
    {
     "name": "stdout",
     "output_type": "stream",
     "text": [
      "Ñam, ñam...\n"
     ]
    }
   ],
   "source": [
    "mi_perra.morder()"
   ]
  },
  {
   "cell_type": "markdown",
   "metadata": {},
   "source": [
    "# Ventajas:\n",
    "* Mayor comodidad.\n",
    "* Más consistencia.\n",
    "* Lo podemos reutilizar!"
   ]
  },
  {
   "cell_type": "code",
   "execution_count": 12,
   "metadata": {},
   "outputs": [],
   "source": [
    "otro_perro = Perro('Policía', 5, 'Macho', 'Sauron')"
   ]
  },
  {
   "cell_type": "code",
   "execution_count": 13,
   "metadata": {},
   "outputs": [
    {
     "name": "stdout",
     "output_type": "stream",
     "text": [
      "Mi perro se llama Sauron\n",
      "Mi perro es de raza Policía\n",
      "Mi perro tiene 5 años\n",
      "Mi perro es Macho\n",
      "Guau, guau!\n",
      "Ñam, ñam...\n"
     ]
    }
   ],
   "source": [
    "print('Mi perro se llama %s'%otro_perro.nombre)\n",
    "print('Mi perro es de raza %s'%otro_perro.raza)\n",
    "print('Mi perro tiene %s años'%otro_perro.edad)\n",
    "print('Mi perro es %s'%otro_perro.sexo)\n",
    "otro_perro.ladrar()\n",
    "otro_perro.morder()"
   ]
  },
  {
   "cell_type": "code",
   "execution_count": null,
   "metadata": {},
   "outputs": [],
   "source": []
  }
 ],
 "metadata": {
  "kernelspec": {
   "display_name": "Python 3",
   "language": "python",
   "name": "python3"
  },
  "language_info": {
   "codemirror_mode": {
    "name": "ipython",
    "version": 3
   },
   "file_extension": ".py",
   "mimetype": "text/x-python",
   "name": "python",
   "nbconvert_exporter": "python",
   "pygments_lexer": "ipython3",
   "version": "3.7.4"
  }
 },
 "nbformat": 4,
 "nbformat_minor": 4
}
