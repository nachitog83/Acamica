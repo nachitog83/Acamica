{
 "cells": [
  {
   "cell_type": "markdown",
   "metadata": {},
   "source": [
    "# Sistemas de recomendación: ¿Qué dice el gráfico de Long-Tail?\n",
    "\n",
    "El gráfico de cola larga muestra la distribución de calificaciones o popularidad entre los artículos o productos en el mercado. En el eje `X`, los elementos están ordenados por su popularidad o frecuencias de calificación, mientras que el eje `Y` muestra la popularidad en términos de calificaciones, demanda, etc. Este gráfico básicamente señala 3 hechos importantes para los sistemas de recomendación;\n",
    "\n",
    "<img src=\"https://miro.medium.com/max/435/1*9V4i7s4ZxFHMxylZdd6KQg.png\">\n",
    "\n",
    "## Popularidad\n",
    "\n",
    "Los productos en el lado izquierdo (o en el área azul) se denominan populares porque su popularidad es mayor que la del área verde o de cola larga. Además, los productos populares son generalmente productos competitivos. Por otro lado, los productos en el área verde de cola larga se consideran impopulares o productos nuevos en el mercado. El umbral que discrimina los artículos populares e impopulares en el mercado es un hiperparámetro para el comerciante.\n",
    "\n",
    "Algunas investigaciones muestran que, aunque los productos populares significan que se venden mucho, los productos impopulares o los de cola larga generalmente obtienen mejores ganancias para los comerciantes.\n",
    "\n",
    "## Diversidad\n",
    "\n",
    "Los algoritmos de recomendación generalmente están diseñados para dar recomendaciones para artículos populares porque son populares :) Sin embargo, un buen sistema de recomendaciones debería proporcionar `diversidad.` Los mismos artículos conocidos pueden aburrir a los clientes. Por lo tanto, ajustar el umbral, punto de partida de la cola larga, en el sistema de recomendación es una investigación importante a tener en cuenta. Moverlo a la derecha en el gráfico puede aumentar la diversidad en las recomendaciones hechas.\n",
    "\n",
    "## Escasez\n",
    "\n",
    "Los elementos en el lado derecho del gráfico tienen una calificación menor que los del lado izquierdo. Esto significa que hay mucho más escasez o áreas no observadas para esos elementos en la matriz de calificaciones. Esto puede provocar que un sistema de recomendación que se basa en algoritmos de vecindad produzca malos resultados. \n",
    "\n",
    "Cuanto más movemos el umbral hacia el lado derecho, peores resultados brinda el sistema de recomendación.\n",
    "Como resultado, la escasez y la cola larga son 2 propiedades importantes de un sistema de recomendación para tener en cuenta en el diseño y el proceso."
   ]
  }
 ],
 "metadata": {
  "kernelspec": {
   "display_name": "Python 3",
   "language": "python",
   "name": "python3"
  },
  "language_info": {
   "codemirror_mode": {
    "name": "ipython",
    "version": 3
   },
   "file_extension": ".py",
   "mimetype": "text/x-python",
   "name": "python",
   "nbconvert_exporter": "python",
   "pygments_lexer": "ipython3",
   "version": "3.7.6"
  }
 },
 "nbformat": 4,
 "nbformat_minor": 4
}
