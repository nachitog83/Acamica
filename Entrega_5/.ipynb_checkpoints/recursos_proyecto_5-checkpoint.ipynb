{
  "nbformat": 4,
  "nbformat_minor": 0,
  "metadata": {
    "kernelspec": {
      "name": "python3",
      "display_name": "Python 3"
    },
    "language_info": {
      "codemirror_mode": {
        "name": "ipython",
        "version": 3
      },
      "file_extension": ".py",
      "mimetype": "text/x-python",
      "name": "python",
      "nbconvert_exporter": "python",
      "pygments_lexer": "ipython3",
      "version": "3.7.6"
    },
    "colab": {
      "name": "recursos_proyecto_5.ipynb",
      "provenance": [],
      "collapsed_sections": [],
      "toc_visible": true
    },
    "accelerator": "GPU"
  },
  "cells": [
    {
      "cell_type": "markdown",
      "metadata": {
        "id": "iKdhFmibikHl",
        "colab_type": "text"
      },
      "source": [
        "# Proyecto 5: Análisis de sentimiento en reviews de películas"
      ]
    },
    {
      "cell_type": "markdown",
      "metadata": {
        "id": "egry98U9ikHo",
        "colab_type": "text"
      },
      "source": [
        "En este proyecto vamos a trabajar con un dataset de reviews de películas. El objectivo es clasificar cada comentario de acuerdo al sentimiento positivo o negativo hacia la película. Para hacerlo, vamos a trabajar con procesamiento de texto para luego aplicar las diferentes técnicas predictivas que hemos visto."
      ]
    },
    {
      "cell_type": "markdown",
      "metadata": {
        "id": "E1LkQNyEikHq",
        "colab_type": "text"
      },
      "source": [
        "## Dataset"
      ]
    },
    {
      "cell_type": "markdown",
      "metadata": {
        "id": "syvZz-YCikHs",
        "colab_type": "text"
      },
      "source": [
        "En primer lugar, carguemos las reviews para comenzar a procesarlas. En este caso no tenemos un archivo `.csv`, sino un directorio estructurado de la siguiente forma: \n",
        "```\n",
        "movie_reviews/\n",
        "  neg/\n",
        "  pos/\n",
        "```\n",
        "`sklearn` nos provee de la función `load_files` que permite recorrer este tipo de estructuras. "
      ]
    },
    {
      "cell_type": "code",
      "metadata": {
        "id": "LN5NJFusiur2",
        "colab_type": "code",
        "outputId": "bfad1d77-d260-4287-baec-66989b7c51fb",
        "colab": {
          "base_uri": "https://localhost:8080/",
          "height": 127
        }
      },
      "source": [
        "from google.colab import drive\n",
        "drive.mount('/content/drive')"
      ],
      "execution_count": 0,
      "outputs": [
        {
          "output_type": "stream",
          "text": [
            "Go to this URL in a browser: https://accounts.google.com/o/oauth2/auth?client_id=947318989803-6bn6qk8qdgf4n4g3pfee6491hc0brc4i.apps.googleusercontent.com&redirect_uri=urn%3aietf%3awg%3aoauth%3a2.0%3aoob&response_type=code&scope=email%20https%3a%2f%2fwww.googleapis.com%2fauth%2fdocs.test%20https%3a%2f%2fwww.googleapis.com%2fauth%2fdrive%20https%3a%2f%2fwww.googleapis.com%2fauth%2fdrive.photos.readonly%20https%3a%2f%2fwww.googleapis.com%2fauth%2fpeopleapi.readonly\n",
            "\n",
            "Enter your authorization code:\n",
            "··········\n",
            "Mounted at /content/drive\n"
          ],
          "name": "stdout"
        }
      ]
    },
    {
      "cell_type": "code",
      "metadata": {
        "id": "lwdsUt5cikHu",
        "colab_type": "code",
        "colab": {}
      },
      "source": [
        "import warnings\n",
        "warnings.filterwarnings(\"ignore\")\n",
        "import sklearn\n",
        "from sklearn.datasets import load_files\n",
        "moviedir = r'/content/drive/My Drive/Colab Notebooks/entrega+5/dataset/movie_reviews' \n",
        "movie_reviews = load_files(moviedir, shuffle=True)"
      ],
      "execution_count": 0,
      "outputs": []
    },
    {
      "cell_type": "markdown",
      "metadata": {
        "id": "64WjydyuikH0",
        "colab_type": "text"
      },
      "source": [
        "Ahora en la variable `movies` tendremos guardadas las reviews (`movies.data`) y su sentimiento (`movies.target`).\n",
        "Veamos cuantas reviews tenemos en total:"
      ]
    },
    {
      "cell_type": "code",
      "metadata": {
        "id": "0AxLACVZikH1",
        "colab_type": "code",
        "outputId": "cdc2c660-9a03-4c3c-b689-0e7a4b9cdec0",
        "colab": {
          "base_uri": "https://localhost:8080/",
          "height": 35
        }
      },
      "source": [
        "print(\"Tenemos {} reviews, con clases {},\".format(len(movie_reviews.data), movie_reviews.target_names))"
      ],
      "execution_count": 0,
      "outputs": [
        {
          "output_type": "stream",
          "text": [
            "Tenemos 2000 reviews, con clases ['neg', 'pos'],\n"
          ],
          "name": "stdout"
        }
      ]
    },
    {
      "cell_type": "markdown",
      "metadata": {
        "id": "P6YbNkg8ikH8",
        "colab_type": "text"
      },
      "source": [
        "Analizando la estructura de los documentos, veamos como luce una muestra de `movies.data`:"
      ]
    },
    {
      "cell_type": "code",
      "metadata": {
        "id": "ew5W39QLikH-",
        "colab_type": "code",
        "outputId": "829a0289-f447-4608-c6f4-397724d2070a",
        "colab": {
          "base_uri": "https://localhost:8080/",
          "height": 55
        }
      },
      "source": [
        "movie_reviews.data[0][:500]"
      ],
      "execution_count": 0,
      "outputs": [
        {
          "output_type": "execute_result",
          "data": {
            "text/plain": [
              "b\"arnold schwarzenegger has been an icon for action enthusiasts , since the late 80's , but lately his films have been very sloppy and the one-liners are getting worse . \\nit's hard seeing arnold as mr . freeze in batman and robin , especially when he says tons of ice jokes , but hey he got 15 million , what's it matter to him ? \\nonce again arnold has signed to do another expensive blockbuster , that can't compare with the likes of the terminator series , true lies and even eraser . \\nin this so cal\""
            ]
          },
          "metadata": {
            "tags": []
          },
          "execution_count": 4
        }
      ]
    },
    {
      "cell_type": "markdown",
      "metadata": {
        "id": "CZQgX3y0ikIE",
        "colab_type": "text"
      },
      "source": [
        "Y ahora, con la propiedad `target` podemos ver la categoría asociada a esta review"
      ]
    },
    {
      "cell_type": "code",
      "metadata": {
        "id": "1Y7SssHNikIF",
        "colab_type": "code",
        "outputId": "01449dd5-c25d-42dc-d862-d3b5e9884147",
        "colab": {
          "base_uri": "https://localhost:8080/",
          "height": 35
        }
      },
      "source": [
        "movie_reviews.target[0]"
      ],
      "execution_count": 0,
      "outputs": [
        {
          "output_type": "execute_result",
          "data": {
            "text/plain": [
              "0"
            ]
          },
          "metadata": {
            "tags": []
          },
          "execution_count": 5
        }
      ]
    },
    {
      "cell_type": "markdown",
      "metadata": {
        "id": "QVRQz4J6ikIL",
        "colab_type": "text"
      },
      "source": [
        "En este caso es un 0, es decir `neg`."
      ]
    },
    {
      "cell_type": "markdown",
      "metadata": {
        "id": "TnHKcFAIikIM",
        "colab_type": "text"
      },
      "source": [
        "## Separando en conjuntos de entrenamiento y de testeo"
      ]
    },
    {
      "cell_type": "markdown",
      "metadata": {
        "id": "R-xINGJUikIO",
        "colab_type": "text"
      },
      "source": [
        "Antes de comenzar con el entrenamiento de los modelos probando distintos algoritmos para encontrar los mejores modelos, vamos a separar el conjunto de reviews en training y testing. "
      ]
    },
    {
      "cell_type": "code",
      "metadata": {
        "id": "XrLkQc6RikIP",
        "colab_type": "code",
        "colab": {}
      },
      "source": [
        "from sklearn.model_selection import train_test_split\n",
        "X_train, X_test, y_train, y_test = train_test_split(\n",
        "    movie_reviews.data, movie_reviews.target, test_size = 0.20, stratify=movie_reviews.target, random_state = 12)"
      ],
      "execution_count": 0,
      "outputs": []
    },
    {
      "cell_type": "markdown",
      "metadata": {
        "id": "Ds-MMXt7ikIU",
        "colab_type": "text"
      },
      "source": [
        "## Preprocesamiento"
      ]
    },
    {
      "cell_type": "markdown",
      "metadata": {
        "id": "fzIQf4PVikIV",
        "colab_type": "text"
      },
      "source": [
        "Para trabajar con texto tenemos que realizar una serie de pasos antes de poder entrenar un modelo. Es decir, buscar la forma de convertir el texto a una representación numérica que pueda ser interpretable por los algoritmos de clasificación. \n",
        "Para ello vamos a realizar una serie de pasos.\n",
        "- Tokenizar el texto\n",
        "- Convertir a vectores de términos/documentos\n",
        "- Aplicar tfidf\n"
      ]
    },
    {
      "cell_type": "markdown",
      "metadata": {
        "id": "PGrxc0_XikIW",
        "colab_type": "text"
      },
      "source": [
        "Es importante destacar que el `fit` debe hacerse sobre el conjunto de `train` y no sobre el total, ya que `tfidf` tiene en cuenta la frecuencia de aparición de las palabras respecto al total del conjunto. Una vez que usamos el `fit` con el conjunto de entrenamiento podemos aplicar la transformación al conjunto de `test`. "
      ]
    },
    {
      "cell_type": "markdown",
      "metadata": {
        "id": "k-PlP6OfikIX",
        "colab_type": "text"
      },
      "source": [
        "**1) Vectorizá** los textos para obtener una matriz de términos/documentos utilizando td-idf. "
      ]
    },
    {
      "cell_type": "code",
      "metadata": {
        "id": "IPrKFnLiikIZ",
        "colab_type": "code",
        "colab": {}
      },
      "source": [
        "# Realizá los pasos necesarios para vectorizar los conjuntos de entrenamiento y testeo en este celda\n",
        "from sklearn.feature_extraction.text import TfidfVectorizer\n",
        "\n",
        "tfidf_vect = TfidfVectorizer(strip_accents='unicode', stop_words='english', token_pattern='\\w+')\n",
        "X_train_tfidf = tfidf_vect.fit_transform(X_train)\n",
        "X_test_tfidf = tfidf_vect.transform(X_test)"
      ],
      "execution_count": 0,
      "outputs": []
    },
    {
      "cell_type": "code",
      "metadata": {
        "id": "oH02IGbHikIe",
        "colab_type": "code",
        "outputId": "85c87d2d-09f7-4f69-e129-acc84698cd44",
        "colab": {
          "base_uri": "https://localhost:8080/",
          "height": 395
        }
      },
      "source": [
        "tfidf_vect.get_params()"
      ],
      "execution_count": 0,
      "outputs": [
        {
          "output_type": "execute_result",
          "data": {
            "text/plain": [
              "{'analyzer': 'word',\n",
              " 'binary': False,\n",
              " 'decode_error': 'strict',\n",
              " 'dtype': numpy.float64,\n",
              " 'encoding': 'utf-8',\n",
              " 'input': 'content',\n",
              " 'lowercase': True,\n",
              " 'max_df': 1.0,\n",
              " 'max_features': None,\n",
              " 'min_df': 1,\n",
              " 'ngram_range': (1, 1),\n",
              " 'norm': 'l2',\n",
              " 'preprocessor': None,\n",
              " 'smooth_idf': True,\n",
              " 'stop_words': 'english',\n",
              " 'strip_accents': 'unicode',\n",
              " 'sublinear_tf': False,\n",
              " 'token_pattern': '\\\\w+',\n",
              " 'tokenizer': <function nltk.tokenize.word_tokenize>,\n",
              " 'use_idf': True,\n",
              " 'vocabulary': None}"
            ]
          },
          "metadata": {
            "tags": []
          },
          "execution_count": 27
        }
      ]
    },
    {
      "cell_type": "markdown",
      "metadata": {
        "id": "fE6kyC6GikIk",
        "colab_type": "text"
      },
      "source": [
        "### Dimensión de la matriz de términos\n",
        "Una vez vectorizados los documentos veamos qué forma tiene la matriz resultante"
      ]
    },
    {
      "cell_type": "code",
      "metadata": {
        "id": "Of4IMRv_ikIm",
        "colab_type": "code",
        "outputId": "41a04c57-0f13-4a4d-9b21-09c0cb427fcf",
        "colab": {
          "base_uri": "https://localhost:8080/",
          "height": 35
        }
      },
      "source": [
        "X_train_tfidf.shape"
      ],
      "execution_count": 0,
      "outputs": [
        {
          "output_type": "execute_result",
          "data": {
            "text/plain": [
              "(1600, 36073)"
            ]
          },
          "metadata": {
            "tags": []
          },
          "execution_count": 9
        }
      ]
    },
    {
      "cell_type": "markdown",
      "metadata": {
        "id": "EUvt427sikIq",
        "colab_type": "text"
      },
      "source": [
        "__¿ Por qué tiene estas dimensiones ?__"
      ]
    },
    {
      "cell_type": "markdown",
      "metadata": {
        "id": "MCS7E0IOikIr",
        "colab_type": "text"
      },
      "source": [
        "Responder."
      ]
    },
    {
      "cell_type": "markdown",
      "metadata": {
        "id": "WOO_H1nFikIs",
        "colab_type": "text"
      },
      "source": [
        "Porque el resultado es una matriz de términos por documentos. Por cada término existente en el dataset habrá una columna, ya que no se realizó ningún tipo de filtrado."
      ]
    },
    {
      "cell_type": "markdown",
      "metadata": {
        "id": "eLOu5D2HikIu",
        "colab_type": "text"
      },
      "source": [
        "## Entrenando los modelos\n",
        "Una vez que tenemos una matriz con los vectores correspondientes a los documentos luego de aplicarse td-idf podemos comenzar con el proceso de entrenamiento de los modelos. Para eso, vamos a comparar diferentes algoritmos vistos como SVM, Random Forest, AdaBoost, Voting. Y todos los algoritmos complementarios que se quieran introducir. \n",
        "Para el entrenamiento de los modelos usaremos GridSearch recorriendo una lista de parámetros según corresponda a cada algoritmo. Además usaremos 5-fold CV y el scoring estará dado por el área bajo la curva roc."
      ]
    },
    {
      "cell_type": "markdown",
      "metadata": {
        "id": "3Bfe3t96ikIv",
        "colab_type": "text"
      },
      "source": [
        "### Support Vector Machines (SVM)"
      ]
    },
    {
      "cell_type": "markdown",
      "metadata": {
        "id": "-PxJ3bSUikIw",
        "colab_type": "text"
      },
      "source": [
        "__Ajustar un SVM (kernel lineal) al conjunto de datos de entrenamiento y devolver la matriz de confusión en testing.__\n",
        "\n",
        "Basándonos en el paper https://www.csie.ntu.edu.tw/~cjlin/papers/guide/guide.pdf, vamos a utilizar un kernel lineal. Al tener menos instancias que features este es el procedimiento recomendado. \n",
        "\n",
        "Nuestro espacio de parámetros para recorrer de forma exhaustiva utilizando GridSearch será el siguiente:\n",
        "\n",
        "* C = [0.001, 0.01, 0.1, 1, 10]\n",
        "* loss = ['hinge', 'squared_hinge'] \n",
        "\n",
        "**2) Entrenar** un modelo utilizando `Grid Search` y el clasificador `LinearSVC` con `5-fold` cross validation y que utilice como `scoring` el área bajo la curva roc."
      ]
    },
    {
      "cell_type": "code",
      "metadata": {
        "id": "LoBLo7_KikIy",
        "colab_type": "code",
        "outputId": "33268f52-10be-4116-a5e6-bae3e539d36e",
        "colab": {
          "base_uri": "https://localhost:8080/",
          "height": 215
        }
      },
      "source": [
        "# Realizá el entrenamiento en esta celda\n",
        "from sklearn.svm import LinearSVC\n",
        "from sklearn.model_selection import GridSearchCV\n",
        "\n",
        "lsvm = LinearSVC()\n",
        "\n",
        "param_grid_svm = {'loss':['hinge', 'squared_hinge'],\n",
        "              'C':[0.001, 0.01, 0.1, 1, 10]}\n",
        "\n",
        "grid_search_svm = GridSearchCV(lsvm, param_grid=param_grid_svm, scoring='roc_auc' , cv=5)\n",
        "grid_search_svm.fit(X_train_tfidf, y_train)"
      ],
      "execution_count": 0,
      "outputs": [
        {
          "output_type": "execute_result",
          "data": {
            "text/plain": [
              "GridSearchCV(cv=5, error_score=nan,\n",
              "             estimator=LinearSVC(C=1.0, class_weight=None, dual=True,\n",
              "                                 fit_intercept=True, intercept_scaling=1,\n",
              "                                 loss='squared_hinge', max_iter=1000,\n",
              "                                 multi_class='ovr', penalty='l2',\n",
              "                                 random_state=None, tol=0.0001, verbose=0),\n",
              "             iid='deprecated', n_jobs=None,\n",
              "             param_grid={'C': [0.001, 0.01, 0.1, 1, 10],\n",
              "                         'loss': ['hinge', 'squared_hinge']},\n",
              "             pre_dispatch='2*n_jobs', refit=True, return_train_score=False,\n",
              "             scoring='roc_auc', verbose=0)"
            ]
          },
          "metadata": {
            "tags": []
          },
          "execution_count": 11
        }
      ]
    },
    {
      "cell_type": "markdown",
      "metadata": {
        "id": "grhoY3ZmikI3",
        "colab_type": "text"
      },
      "source": [
        "Veamos los resultados promediados por cada combinación de parámetros:"
      ]
    },
    {
      "cell_type": "code",
      "metadata": {
        "id": "vUtls0kGikI4",
        "colab_type": "code",
        "colab": {}
      },
      "source": [
        "svm_results = list(zip(grid_search_svm.cv_results_['mean_test_score'], grid_search_svm.cv_results_['params']))"
      ],
      "execution_count": 0,
      "outputs": []
    },
    {
      "cell_type": "code",
      "metadata": {
        "id": "yxizD-hwikI8",
        "colab_type": "code",
        "outputId": "7218101e-573f-4b41-9189-b4b8ccd16ee7",
        "colab": {
          "base_uri": "https://localhost:8080/",
          "height": 197
        }
      },
      "source": [
        "sorted(svm_results, key=lambda x: -x[0])"
      ],
      "execution_count": 0,
      "outputs": [
        {
          "output_type": "execute_result",
          "data": {
            "text/plain": [
              "[(0.9153281249999999, {'C': 10, 'loss': 'squared_hinge'}),\n",
              " (0.9147578125000001, {'C': 10, 'loss': 'hinge'}),\n",
              " (0.9146171875, {'C': 1, 'loss': 'squared_hinge'}),\n",
              " (0.9132578125, {'C': 1, 'loss': 'hinge'}),\n",
              " (0.8931250000000001, {'C': 0.1, 'loss': 'squared_hinge'}),\n",
              " (0.8708281249999998, {'C': 0.01, 'loss': 'squared_hinge'}),\n",
              " (0.8669453125000001, {'C': 0.001, 'loss': 'squared_hinge'}),\n",
              " (0.8660468750000001, {'C': 0.001, 'loss': 'hinge'}),\n",
              " (0.8660468750000001, {'C': 0.01, 'loss': 'hinge'}),\n",
              " (0.8660468750000001, {'C': 0.1, 'loss': 'hinge'})]"
            ]
          },
          "metadata": {
            "tags": []
          },
          "execution_count": 13
        }
      ]
    },
    {
      "cell_type": "code",
      "metadata": {
        "id": "2SrBuffTikI_",
        "colab_type": "code",
        "outputId": "1c234d84-cf76-4317-ea3c-cc1ff63610f7",
        "colab": {
          "base_uri": "https://localhost:8080/",
          "height": 35
        }
      },
      "source": [
        "grid_search_svm.best_params_"
      ],
      "execution_count": 0,
      "outputs": [
        {
          "output_type": "execute_result",
          "data": {
            "text/plain": [
              "{'C': 10, 'loss': 'squared_hinge'}"
            ]
          },
          "metadata": {
            "tags": []
          },
          "execution_count": 14
        }
      ]
    },
    {
      "cell_type": "code",
      "metadata": {
        "id": "uUcAPjS1ikJE",
        "colab_type": "code",
        "colab": {}
      },
      "source": [
        "optimised_svm = grid_search_svm.best_estimator_"
      ],
      "execution_count": 0,
      "outputs": []
    },
    {
      "cell_type": "markdown",
      "metadata": {
        "id": "vJUrBoXPikJI",
        "colab_type": "text"
      },
      "source": [
        "## Matriz de confusión \n",
        "Una forma de ver fácilmente el resultado de un clasificador es utilizando una matriz de confusión. A continuación\n",
        "se presenta una función para visualizar una matriz de confusión utilizando `matplotlib`."
      ]
    },
    {
      "cell_type": "code",
      "metadata": {
        "id": "ZQfAQEnmikJJ",
        "colab_type": "code",
        "colab": {}
      },
      "source": [
        "import numpy as np\n",
        "import itertools\n",
        "import matplotlib.pylab as plt\n",
        "def plot_confusion_matrix(cm, classes,\n",
        "                          normalize=False,\n",
        "                          title='Confusion matrix',\n",
        "                          cmap=plt.cm.Blues):\n",
        "    \"\"\"\n",
        "    This function prints and plots the confusion matrix.\n",
        "    Normalization can be applied by setting `normalize=True`.\n",
        "    \"\"\"\n",
        "    if normalize:\n",
        "        cm = cm.astype('float') / cm.sum(axis=1)[:, np.newaxis]\n",
        "        print(\"Normalized confusion matrix\")\n",
        "    else:\n",
        "        print('Confusion matrix, without normalization')\n",
        "\n",
        "    print(cm)\n",
        "\n",
        "    plt.imshow(cm, interpolation='nearest', cmap=cmap)\n",
        "    plt.title(title)\n",
        "    plt.colorbar()\n",
        "    tick_marks = np.arange(len(classes))\n",
        "    plt.xticks(tick_marks, classes, rotation=45)\n",
        "    plt.yticks(tick_marks, classes)\n",
        "\n",
        "    fmt = '.2f' if normalize else 'd'\n",
        "    thresh = cm.max() / 2.\n",
        "    for i, j in itertools.product(range(cm.shape[0]), range(cm.shape[1])):\n",
        "        plt.text(j, i, format(cm[i, j], fmt),\n",
        "                 horizontalalignment=\"center\",\n",
        "                 color=\"white\" if cm[i, j] > thresh else \"black\")\n",
        "\n",
        "    plt.tight_layout()\n",
        "    plt.ylabel('True label')\n",
        "    plt.xlabel('Predicted label')\n",
        "    plt.show()\n",
        "\n"
      ],
      "execution_count": 0,
      "outputs": []
    },
    {
      "cell_type": "markdown",
      "metadata": {
        "id": "nCnuBB6qikJO",
        "colab_type": "text"
      },
      "source": [
        "**3) Mostrá** los resultados de la predicción del clasificador `LinearSVC` sobre el conjunto de test con una matriz de confusión"
      ]
    },
    {
      "cell_type": "code",
      "metadata": {
        "id": "s9__A4X-ikJP",
        "colab_type": "code",
        "outputId": "e130c9f6-d588-4b2d-84f8-499b15f4b086",
        "colab": {
          "base_uri": "https://localhost:8080/",
          "height": 365
        }
      },
      "source": [
        "# Mostrá la matriz de confusión en esta celda\n",
        "from sklearn.metrics import confusion_matrix\n",
        "\n",
        "y_test_pred_svm = optimised_svm.predict(X_test_tfidf)\n",
        "y_scores_svm = optimised_svm.decision_function(X_test_tfidf)\n",
        "\n",
        "cm_svm = confusion_matrix(y_test, y_test_pred_svm)\n",
        "plot_confusion_matrix(cm_svm, classes=movie_reviews.target_names)"
      ],
      "execution_count": 0,
      "outputs": [
        {
          "output_type": "stream",
          "text": [
            "Confusion matrix, without normalization\n",
            "[[159  41]\n",
            " [ 28 172]]\n"
          ],
          "name": "stdout"
        },
        {
          "output_type": "display_data",
          "data": {
            "image/png": "[encoded data removed]",
            "text/plain": [
              "<Figure size 432x288 with 2 Axes>"
            ]
          },
          "metadata": {
            "tags": []
          }
        }
      ]
    },
    {
      "cell_type": "markdown",
      "metadata": {
        "id": "cJehj8lRikJT",
        "colab_type": "text"
      },
      "source": [
        "**4) Calcular** el área bajo la curva ROC (AUC) en el conjunto de testing para el modelo y mostrá el `classification_report`"
      ]
    },
    {
      "cell_type": "code",
      "metadata": {
        "id": "-K32fIPvikJV",
        "colab_type": "code",
        "outputId": "8ca6bf32-cff3-4fa8-b508-709e83e29ec0",
        "colab": {
          "base_uri": "https://localhost:8080/",
          "height": 35
        }
      },
      "source": [
        "# Mostrá el roc_auc score y el classification_report en esta celda\n",
        "from sklearn.metrics import roc_auc_score\n",
        "\n",
        "mov_roc_svm = roc_auc_score(y_test, y_scores_svm)\n",
        "print(mov_roc_svm)"
      ],
      "execution_count": 0,
      "outputs": [
        {
          "output_type": "stream",
          "text": [
            "0.921825\n"
          ],
          "name": "stdout"
        }
      ]
    },
    {
      "cell_type": "code",
      "metadata": {
        "id": "BFJj4kQwikJY",
        "colab_type": "code",
        "outputId": "30efbdb6-38d3-4431-c86d-018a88cc3051",
        "colab": {
          "base_uri": "https://localhost:8080/",
          "height": 179
        }
      },
      "source": [
        "from sklearn.metrics import classification_report\n",
        "\n",
        "report_svm = classification_report(y_test, y_test_pred_svm)\n",
        "print(report_svm)"
      ],
      "execution_count": 0,
      "outputs": [
        {
          "output_type": "stream",
          "text": [
            "              precision    recall  f1-score   support\n",
            "\n",
            "           0       0.85      0.80      0.82       200\n",
            "           1       0.81      0.86      0.83       200\n",
            "\n",
            "    accuracy                           0.83       400\n",
            "   macro avg       0.83      0.83      0.83       400\n",
            "weighted avg       0.83      0.83      0.83       400\n",
            "\n"
          ],
          "name": "stdout"
        }
      ]
    },
    {
      "cell_type": "markdown",
      "metadata": {
        "id": "Aygrf6CoikJb",
        "colab_type": "text"
      },
      "source": [
        "### Random Forests\n",
        "El siguiente modelo que vamos a entrenar es utilizando la técnica de Random Forest. "
      ]
    },
    {
      "cell_type": "markdown",
      "metadata": {
        "id": "HZM8xkPmikJc",
        "colab_type": "text"
      },
      "source": [
        "__5) Usando grid search__ con cross validation (5 folds), encontrar el mejor modelo según el AUC dado el siguiente espacio de búsqueda:\n",
        "\n",
        "* n_estimators = [100, 500, 1000]\n",
        "* max_depth: [3, 7, None]\n",
        "* min_samples_split: [2, 3, 10]\n",
        "* bootstrap: [True, False]\n",
        "* criterion: [\"gini\", \"entropy\"]\n",
        "\n",
        "(puede tardar un poco la ejecución dado el tamaño del dataset)"
      ]
    },
    {
      "cell_type": "code",
      "metadata": {
        "id": "MVk4JfG0ikJe",
        "colab_type": "code",
        "outputId": "098e68d5-1fb8-4776-fe96-2689bdab7ceb",
        "colab": {
          "base_uri": "https://localhost:8080/",
          "height": 449
        }
      },
      "source": [
        "# entrenar el modelo en esta celda\n",
        "from sklearn.ensemble import RandomForestClassifier\n",
        "\n",
        "rf = RandomForestClassifier()\n",
        "\n",
        "param_grid_rf = {'n_estimators':[100, 500, 1000],\n",
        "                 'max_depth':[3, 7, None],\n",
        "                 'min_samples_split': [2, 3, 10],\n",
        "                 'bootstrap': [True, False],\n",
        "                 'criterion': [\"gini\", \"entropy\"]\n",
        "                }\n",
        "\n",
        "grid_search_rf = GridSearchCV(rf, param_grid=param_grid_rf, scoring='roc_auc' , cv=5)\n",
        "grid_search_rf.fit(X_train_tfidf, y_train)"
      ],
      "execution_count": 0,
      "outputs": [
        {
          "output_type": "execute_result",
          "data": {
            "text/plain": [
              "GridSearchCV(cv=5, error_score=nan,\n",
              "             estimator=RandomForestClassifier(bootstrap=True, ccp_alpha=0.0,\n",
              "                                              class_weight=None,\n",
              "                                              criterion='gini', max_depth=None,\n",
              "                                              max_features='auto',\n",
              "                                              max_leaf_nodes=None,\n",
              "                                              max_samples=None,\n",
              "                                              min_impurity_decrease=0.0,\n",
              "                                              min_impurity_split=None,\n",
              "                                              min_samples_leaf=1,\n",
              "                                              min_samples_split=2,\n",
              "                                              min_weight_fraction_leaf=0.0,\n",
              "                                              n_estimators=100, n_jobs=None,\n",
              "                                              oob_score=False,\n",
              "                                              random_state=None, verbose=0,\n",
              "                                              warm_start=False),\n",
              "             iid='deprecated', n_jobs=None,\n",
              "             param_grid={'bootstrap': [True, False],\n",
              "                         'criterion': ['gini', 'entropy'],\n",
              "                         'max_depth': [3, 7, None],\n",
              "                         'min_samples_split': [2, 3, 10],\n",
              "                         'n_estimators': [100, 500, 1000]},\n",
              "             pre_dispatch='2*n_jobs', refit=True, return_train_score=False,\n",
              "             scoring='roc_auc', verbose=0)"
            ]
          },
          "metadata": {
            "tags": []
          },
          "execution_count": 20
        }
      ]
    },
    {
      "cell_type": "markdown",
      "metadata": {
        "id": "1BUfNG2YikJi",
        "colab_type": "text"
      },
      "source": [
        "**6) Repetir** los mismos pasos utilizados con el anterior modelo pero esta vez para `Random Forest`. Es decir, mostrar la matriz de confusión, scores, etc"
      ]
    },
    {
      "cell_type": "code",
      "metadata": {
        "id": "ijOEVCJvOZkT",
        "colab_type": "code",
        "colab": {}
      },
      "source": [
        "rf_results = list(zip(grid_search_rf.cv_results_['mean_test_score'], grid_search_rf.cv_results_['params']))"
      ],
      "execution_count": 0,
      "outputs": []
    },
    {
      "cell_type": "code",
      "metadata": {
        "id": "OgO0i1c8fyKP",
        "colab_type": "code",
        "outputId": "e4e9c7c7-4a96-4ff1-c926-530c64d32589",
        "colab": {
          "base_uri": "https://localhost:8080/",
          "height": 1000
        }
      },
      "source": [
        "sorted(rf_results, key=lambda x: -x[0])"
      ],
      "execution_count": 0,
      "outputs": [
        {
          "output_type": "execute_result",
          "data": {
            "text/plain": [
              "[(0.90023828125,\n",
              "  {'bootstrap': False,\n",
              "   'criterion': 'entropy',\n",
              "   'max_depth': None,\n",
              "   'min_samples_split': 2,\n",
              "   'n_estimators': 500}),\n",
              " (0.89851171875,\n",
              "  {'bootstrap': False,\n",
              "   'criterion': 'entropy',\n",
              "   'max_depth': None,\n",
              "   'min_samples_split': 2,\n",
              "   'n_estimators': 1000}),\n",
              " (0.8984726562500001,\n",
              "  {'bootstrap': False,\n",
              "   'criterion': 'entropy',\n",
              "   'max_depth': None,\n",
              "   'min_samples_split': 3,\n",
              "   'n_estimators': 1000}),\n",
              " (0.8964140624999999,\n",
              "  {'bootstrap': False,\n",
              "   'criterion': 'entropy',\n",
              "   'max_depth': None,\n",
              "   'min_samples_split': 10,\n",
              "   'n_estimators': 1000}),\n",
              " (0.8953359374999998,\n",
              "  {'bootstrap': False,\n",
              "   'criterion': 'entropy',\n",
              "   'max_depth': None,\n",
              "   'min_samples_split': 3,\n",
              "   'n_estimators': 500}),\n",
              " (0.89305078125,\n",
              "  {'bootstrap': True,\n",
              "   'criterion': 'entropy',\n",
              "   'max_depth': None,\n",
              "   'min_samples_split': 3,\n",
              "   'n_estimators': 1000}),\n",
              " (0.892828125,\n",
              "  {'bootstrap': False,\n",
              "   'criterion': 'entropy',\n",
              "   'max_depth': None,\n",
              "   'min_samples_split': 10,\n",
              "   'n_estimators': 500}),\n",
              " (0.8926562500000002,\n",
              "  {'bootstrap': False,\n",
              "   'criterion': 'gini',\n",
              "   'max_depth': None,\n",
              "   'min_samples_split': 3,\n",
              "   'n_estimators': 1000}),\n",
              " (0.8926210937500002,\n",
              "  {'bootstrap': False,\n",
              "   'criterion': 'gini',\n",
              "   'max_depth': None,\n",
              "   'min_samples_split': 2,\n",
              "   'n_estimators': 1000}),\n",
              " (0.8925625,\n",
              "  {'bootstrap': True,\n",
              "   'criterion': 'entropy',\n",
              "   'max_depth': None,\n",
              "   'min_samples_split': 3,\n",
              "   'n_estimators': 500}),\n",
              " (0.8917851562500001,\n",
              "  {'bootstrap': False,\n",
              "   'criterion': 'gini',\n",
              "   'max_depth': None,\n",
              "   'min_samples_split': 2,\n",
              "   'n_estimators': 500}),\n",
              " (0.8906171875,\n",
              "  {'bootstrap': True,\n",
              "   'criterion': 'entropy',\n",
              "   'max_depth': None,\n",
              "   'min_samples_split': 2,\n",
              "   'n_estimators': 1000}),\n",
              " (0.8905234375,\n",
              "  {'bootstrap': False,\n",
              "   'criterion': 'gini',\n",
              "   'max_depth': None,\n",
              "   'min_samples_split': 10,\n",
              "   'n_estimators': 1000}),\n",
              " (0.8902109375,\n",
              "  {'bootstrap': True,\n",
              "   'criterion': 'entropy',\n",
              "   'max_depth': None,\n",
              "   'min_samples_split': 10,\n",
              "   'n_estimators': 1000}),\n",
              " (0.8896445312499999,\n",
              "  {'bootstrap': True,\n",
              "   'criterion': 'entropy',\n",
              "   'max_depth': None,\n",
              "   'min_samples_split': 2,\n",
              "   'n_estimators': 500}),\n",
              " (0.8896328125,\n",
              "  {'bootstrap': False,\n",
              "   'criterion': 'gini',\n",
              "   'max_depth': None,\n",
              "   'min_samples_split': 10,\n",
              "   'n_estimators': 500}),\n",
              " (0.88696875,\n",
              "  {'bootstrap': False,\n",
              "   'criterion': 'entropy',\n",
              "   'max_depth': None,\n",
              "   'min_samples_split': 2,\n",
              "   'n_estimators': 100}),\n",
              " (0.885515625,\n",
              "  {'bootstrap': False,\n",
              "   'criterion': 'gini',\n",
              "   'max_depth': None,\n",
              "   'min_samples_split': 3,\n",
              "   'n_estimators': 500}),\n",
              " (0.8853203124999999,\n",
              "  {'bootstrap': True,\n",
              "   'criterion': 'entropy',\n",
              "   'max_depth': None,\n",
              "   'min_samples_split': 10,\n",
              "   'n_estimators': 500}),\n",
              " (0.8843359375000001,\n",
              "  {'bootstrap': True,\n",
              "   'criterion': 'entropy',\n",
              "   'max_depth': 7,\n",
              "   'min_samples_split': 2,\n",
              "   'n_estimators': 1000}),\n",
              " (0.8840312500000002,\n",
              "  {'bootstrap': False,\n",
              "   'criterion': 'entropy',\n",
              "   'max_depth': None,\n",
              "   'min_samples_split': 10,\n",
              "   'n_estimators': 100}),\n",
              " (0.8829960937499999,\n",
              "  {'bootstrap': True,\n",
              "   'criterion': 'gini',\n",
              "   'max_depth': None,\n",
              "   'min_samples_split': 2,\n",
              "   'n_estimators': 1000}),\n",
              " (0.8829843749999998,\n",
              "  {'bootstrap': True,\n",
              "   'criterion': 'entropy',\n",
              "   'max_depth': 7,\n",
              "   'min_samples_split': 3,\n",
              "   'n_estimators': 1000}),\n",
              " (0.8827539062500002,\n",
              "  {'bootstrap': True,\n",
              "   'criterion': 'gini',\n",
              "   'max_depth': None,\n",
              "   'min_samples_split': 2,\n",
              "   'n_estimators': 500}),\n",
              " (0.8824375,\n",
              "  {'bootstrap': True,\n",
              "   'criterion': 'gini',\n",
              "   'max_depth': None,\n",
              "   'min_samples_split': 3,\n",
              "   'n_estimators': 1000}),\n",
              " (0.8824296875,\n",
              "  {'bootstrap': True,\n",
              "   'criterion': 'gini',\n",
              "   'max_depth': None,\n",
              "   'min_samples_split': 3,\n",
              "   'n_estimators': 500}),\n",
              " (0.882390625,\n",
              "  {'bootstrap': True,\n",
              "   'criterion': 'entropy',\n",
              "   'max_depth': 7,\n",
              "   'min_samples_split': 10,\n",
              "   'n_estimators': 500}),\n",
              " (0.8823203125000001,\n",
              "  {'bootstrap': True,\n",
              "   'criterion': 'entropy',\n",
              "   'max_depth': 7,\n",
              "   'min_samples_split': 10,\n",
              "   'n_estimators': 1000}),\n",
              " (0.8817890625,\n",
              "  {'bootstrap': False,\n",
              "   'criterion': 'gini',\n",
              "   'max_depth': 7,\n",
              "   'min_samples_split': 3,\n",
              "   'n_estimators': 1000}),\n",
              " (0.8810546875,\n",
              "  {'bootstrap': True,\n",
              "   'criterion': 'entropy',\n",
              "   'max_depth': 3,\n",
              "   'min_samples_split': 3,\n",
              "   'n_estimators': 1000}),\n",
              " (0.8808828125,\n",
              "  {'bootstrap': False,\n",
              "   'criterion': 'gini',\n",
              "   'max_depth': 7,\n",
              "   'min_samples_split': 10,\n",
              "   'n_estimators': 1000}),\n",
              " (0.8807578125,\n",
              "  {'bootstrap': True,\n",
              "   'criterion': 'entropy',\n",
              "   'max_depth': 7,\n",
              "   'min_samples_split': 3,\n",
              "   'n_estimators': 500}),\n",
              " (0.8807499999999999,\n",
              "  {'bootstrap': False,\n",
              "   'criterion': 'gini',\n",
              "   'max_depth': 7,\n",
              "   'min_samples_split': 3,\n",
              "   'n_estimators': 500}),\n",
              " (0.88046875,\n",
              "  {'bootstrap': False,\n",
              "   'criterion': 'entropy',\n",
              "   'max_depth': 7,\n",
              "   'min_samples_split': 10,\n",
              "   'n_estimators': 1000}),\n",
              " (0.88034375,\n",
              "  {'bootstrap': False,\n",
              "   'criterion': 'gini',\n",
              "   'max_depth': 7,\n",
              "   'min_samples_split': 2,\n",
              "   'n_estimators': 1000}),\n",
              " (0.879921875,\n",
              "  {'bootstrap': True,\n",
              "   'criterion': 'gini',\n",
              "   'max_depth': 7,\n",
              "   'min_samples_split': 10,\n",
              "   'n_estimators': 1000}),\n",
              " (0.87965625,\n",
              "  {'bootstrap': True,\n",
              "   'criterion': 'gini',\n",
              "   'max_depth': None,\n",
              "   'min_samples_split': 10,\n",
              "   'n_estimators': 1000}),\n",
              " (0.8788359374999999,\n",
              "  {'bootstrap': True,\n",
              "   'criterion': 'gini',\n",
              "   'max_depth': 7,\n",
              "   'min_samples_split': 3,\n",
              "   'n_estimators': 1000}),\n",
              " (0.8784296875000001,\n",
              "  {'bootstrap': True,\n",
              "   'criterion': 'gini',\n",
              "   'max_depth': 7,\n",
              "   'min_samples_split': 2,\n",
              "   'n_estimators': 1000}),\n",
              " (0.8783203125,\n",
              "  {'bootstrap': False,\n",
              "   'criterion': 'entropy',\n",
              "   'max_depth': 7,\n",
              "   'min_samples_split': 2,\n",
              "   'n_estimators': 1000}),\n",
              " (0.8781640625000001,\n",
              "  {'bootstrap': False,\n",
              "   'criterion': 'entropy',\n",
              "   'max_depth': 7,\n",
              "   'min_samples_split': 10,\n",
              "   'n_estimators': 500}),\n",
              " (0.8780078124999999,\n",
              "  {'bootstrap': True,\n",
              "   'criterion': 'entropy',\n",
              "   'max_depth': 3,\n",
              "   'min_samples_split': 10,\n",
              "   'n_estimators': 1000}),\n",
              " (0.87778125,\n",
              "  {'bootstrap': True,\n",
              "   'criterion': 'entropy',\n",
              "   'max_depth': 7,\n",
              "   'min_samples_split': 2,\n",
              "   'n_estimators': 500}),\n",
              " (0.8775390625,\n",
              "  {'bootstrap': True,\n",
              "   'criterion': 'entropy',\n",
              "   'max_depth': 3,\n",
              "   'min_samples_split': 3,\n",
              "   'n_estimators': 500}),\n",
              " (0.877328125,\n",
              "  {'bootstrap': False,\n",
              "   'criterion': 'entropy',\n",
              "   'max_depth': 7,\n",
              "   'min_samples_split': 3,\n",
              "   'n_estimators': 1000}),\n",
              " (0.8772187500000002,\n",
              "  {'bootstrap': True,\n",
              "   'criterion': 'gini',\n",
              "   'max_depth': 7,\n",
              "   'min_samples_split': 2,\n",
              "   'n_estimators': 500}),\n",
              " (0.8771796875,\n",
              "  {'bootstrap': False,\n",
              "   'criterion': 'entropy',\n",
              "   'max_depth': 7,\n",
              "   'min_samples_split': 2,\n",
              "   'n_estimators': 500}),\n",
              " (0.8767343750000001,\n",
              "  {'bootstrap': True,\n",
              "   'criterion': 'gini',\n",
              "   'max_depth': None,\n",
              "   'min_samples_split': 10,\n",
              "   'n_estimators': 500}),\n",
              " (0.8763789062499999,\n",
              "  {'bootstrap': False,\n",
              "   'criterion': 'gini',\n",
              "   'max_depth': None,\n",
              "   'min_samples_split': 2,\n",
              "   'n_estimators': 100}),\n",
              " (0.8763359375,\n",
              "  {'bootstrap': True,\n",
              "   'criterion': 'gini',\n",
              "   'max_depth': 7,\n",
              "   'min_samples_split': 3,\n",
              "   'n_estimators': 500}),\n",
              " (0.8762187499999999,\n",
              "  {'bootstrap': False,\n",
              "   'criterion': 'entropy',\n",
              "   'max_depth': 7,\n",
              "   'min_samples_split': 3,\n",
              "   'n_estimators': 500}),\n",
              " (0.8756796874999999,\n",
              "  {'bootstrap': False,\n",
              "   'criterion': 'gini',\n",
              "   'max_depth': 7,\n",
              "   'min_samples_split': 2,\n",
              "   'n_estimators': 500}),\n",
              " (0.87525,\n",
              "  {'bootstrap': True,\n",
              "   'criterion': 'entropy',\n",
              "   'max_depth': 3,\n",
              "   'min_samples_split': 2,\n",
              "   'n_estimators': 1000}),\n",
              " (0.8751796875,\n",
              "  {'bootstrap': True,\n",
              "   'criterion': 'gini',\n",
              "   'max_depth': 3,\n",
              "   'min_samples_split': 2,\n",
              "   'n_estimators': 1000}),\n",
              " (0.874609375,\n",
              "  {'bootstrap': False,\n",
              "   'criterion': 'gini',\n",
              "   'max_depth': 7,\n",
              "   'min_samples_split': 10,\n",
              "   'n_estimators': 500}),\n",
              " (0.8743359375,\n",
              "  {'bootstrap': True,\n",
              "   'criterion': 'gini',\n",
              "   'max_depth': 7,\n",
              "   'min_samples_split': 10,\n",
              "   'n_estimators': 500}),\n",
              " (0.87425,\n",
              "  {'bootstrap': True,\n",
              "   'criterion': 'gini',\n",
              "   'max_depth': 3,\n",
              "   'min_samples_split': 10,\n",
              "   'n_estimators': 1000}),\n",
              " (0.8737109375,\n",
              "  {'bootstrap': False,\n",
              "   'criterion': 'gini',\n",
              "   'max_depth': None,\n",
              "   'min_samples_split': 3,\n",
              "   'n_estimators': 100}),\n",
              " (0.873671875,\n",
              "  {'bootstrap': False,\n",
              "   'criterion': 'gini',\n",
              "   'max_depth': None,\n",
              "   'min_samples_split': 10,\n",
              "   'n_estimators': 100}),\n",
              " (0.873375,\n",
              "  {'bootstrap': False,\n",
              "   'criterion': 'gini',\n",
              "   'max_depth': 3,\n",
              "   'min_samples_split': 3,\n",
              "   'n_estimators': 1000}),\n",
              " (0.872625,\n",
              "  {'bootstrap': True,\n",
              "   'criterion': 'entropy',\n",
              "   'max_depth': 3,\n",
              "   'min_samples_split': 10,\n",
              "   'n_estimators': 500}),\n",
              " (0.87237109375,\n",
              "  {'bootstrap': True,\n",
              "   'criterion': 'entropy',\n",
              "   'max_depth': None,\n",
              "   'min_samples_split': 2,\n",
              "   'n_estimators': 100}),\n",
              " (0.8722734375,\n",
              "  {'bootstrap': True,\n",
              "   'criterion': 'gini',\n",
              "   'max_depth': 3,\n",
              "   'min_samples_split': 3,\n",
              "   'n_estimators': 1000}),\n",
              " (0.8715078125,\n",
              "  {'bootstrap': False,\n",
              "   'criterion': 'gini',\n",
              "   'max_depth': 3,\n",
              "   'min_samples_split': 10,\n",
              "   'n_estimators': 1000}),\n",
              " (0.8714999999999999,\n",
              "  {'bootstrap': False,\n",
              "   'criterion': 'entropy',\n",
              "   'max_depth': 3,\n",
              "   'min_samples_split': 10,\n",
              "   'n_estimators': 1000}),\n",
              " (0.8710312499999999,\n",
              "  {'bootstrap': False,\n",
              "   'criterion': 'entropy',\n",
              "   'max_depth': 3,\n",
              "   'min_samples_split': 2,\n",
              "   'n_estimators': 500}),\n",
              " (0.8709921875,\n",
              "  {'bootstrap': False,\n",
              "   'criterion': 'gini',\n",
              "   'max_depth': 3,\n",
              "   'min_samples_split': 2,\n",
              "   'n_estimators': 1000}),\n",
              " (0.8707343750000002,\n",
              "  {'bootstrap': True,\n",
              "   'criterion': 'gini',\n",
              "   'max_depth': 3,\n",
              "   'min_samples_split': 2,\n",
              "   'n_estimators': 500}),\n",
              " (0.8707265625,\n",
              "  {'bootstrap': True,\n",
              "   'criterion': 'entropy',\n",
              "   'max_depth': None,\n",
              "   'min_samples_split': 10,\n",
              "   'n_estimators': 100}),\n",
              " (0.8707226562500001,\n",
              "  {'bootstrap': False,\n",
              "   'criterion': 'entropy',\n",
              "   'max_depth': None,\n",
              "   'min_samples_split': 3,\n",
              "   'n_estimators': 100}),\n",
              " (0.870203125,\n",
              "  {'bootstrap': False,\n",
              "   'criterion': 'entropy',\n",
              "   'max_depth': 3,\n",
              "   'min_samples_split': 2,\n",
              "   'n_estimators': 1000}),\n",
              " (0.8691093750000001,\n",
              "  {'bootstrap': False,\n",
              "   'criterion': 'entropy',\n",
              "   'max_depth': 3,\n",
              "   'min_samples_split': 3,\n",
              "   'n_estimators': 1000}),\n",
              " (0.8690078124999999,\n",
              "  {'bootstrap': True,\n",
              "   'criterion': 'gini',\n",
              "   'max_depth': 3,\n",
              "   'min_samples_split': 3,\n",
              "   'n_estimators': 500}),\n",
              " (0.8686093749999999,\n",
              "  {'bootstrap': False,\n",
              "   'criterion': 'gini',\n",
              "   'max_depth': 3,\n",
              "   'min_samples_split': 2,\n",
              "   'n_estimators': 500}),\n",
              " (0.8684218749999999,\n",
              "  {'bootstrap': True,\n",
              "   'criterion': 'entropy',\n",
              "   'max_depth': 3,\n",
              "   'min_samples_split': 2,\n",
              "   'n_estimators': 500}),\n",
              " (0.8670781250000001,\n",
              "  {'bootstrap': True,\n",
              "   'criterion': 'gini',\n",
              "   'max_depth': 3,\n",
              "   'min_samples_split': 10,\n",
              "   'n_estimators': 500}),\n",
              " (0.866828125,\n",
              "  {'bootstrap': False,\n",
              "   'criterion': 'entropy',\n",
              "   'max_depth': 3,\n",
              "   'min_samples_split': 3,\n",
              "   'n_estimators': 500}),\n",
              " (0.8661328125000001,\n",
              "  {'bootstrap': False,\n",
              "   'criterion': 'entropy',\n",
              "   'max_depth': 3,\n",
              "   'min_samples_split': 10,\n",
              "   'n_estimators': 500}),\n",
              " (0.8659140625000001,\n",
              "  {'bootstrap': True,\n",
              "   'criterion': 'entropy',\n",
              "   'max_depth': None,\n",
              "   'min_samples_split': 3,\n",
              "   'n_estimators': 100}),\n",
              " (0.8658984375000001,\n",
              "  {'bootstrap': False,\n",
              "   'criterion': 'gini',\n",
              "   'max_depth': 3,\n",
              "   'min_samples_split': 3,\n",
              "   'n_estimators': 500}),\n",
              " (0.865875,\n",
              "  {'bootstrap': False,\n",
              "   'criterion': 'gini',\n",
              "   'max_depth': 3,\n",
              "   'min_samples_split': 10,\n",
              "   'n_estimators': 500}),\n",
              " (0.86559375,\n",
              "  {'bootstrap': False,\n",
              "   'criterion': 'gini',\n",
              "   'max_depth': 7,\n",
              "   'min_samples_split': 3,\n",
              "   'n_estimators': 100}),\n",
              " (0.8609140624999998,\n",
              "  {'bootstrap': False,\n",
              "   'criterion': 'entropy',\n",
              "   'max_depth': 7,\n",
              "   'min_samples_split': 2,\n",
              "   'n_estimators': 100}),\n",
              " (0.8607812499999999,\n",
              "  {'bootstrap': False,\n",
              "   'criterion': 'gini',\n",
              "   'max_depth': 7,\n",
              "   'min_samples_split': 10,\n",
              "   'n_estimators': 100}),\n",
              " (0.8596093750000001,\n",
              "  {'bootstrap': True,\n",
              "   'criterion': 'gini',\n",
              "   'max_depth': None,\n",
              "   'min_samples_split': 10,\n",
              "   'n_estimators': 100}),\n",
              " (0.8590390625,\n",
              "  {'bootstrap': True,\n",
              "   'criterion': 'gini',\n",
              "   'max_depth': 7,\n",
              "   'min_samples_split': 10,\n",
              "   'n_estimators': 100}),\n",
              " (0.8574023437499999,\n",
              "  {'bootstrap': True,\n",
              "   'criterion': 'gini',\n",
              "   'max_depth': None,\n",
              "   'min_samples_split': 2,\n",
              "   'n_estimators': 100}),\n",
              " (0.8573593749999999,\n",
              "  {'bootstrap': False,\n",
              "   'criterion': 'entropy',\n",
              "   'max_depth': 7,\n",
              "   'min_samples_split': 10,\n",
              "   'n_estimators': 100}),\n",
              " (0.85703125,\n",
              "  {'bootstrap': True,\n",
              "   'criterion': 'gini',\n",
              "   'max_depth': None,\n",
              "   'min_samples_split': 3,\n",
              "   'n_estimators': 100}),\n",
              " (0.8564609375,\n",
              "  {'bootstrap': False,\n",
              "   'criterion': 'gini',\n",
              "   'max_depth': 7,\n",
              "   'min_samples_split': 2,\n",
              "   'n_estimators': 100}),\n",
              " (0.8560234374999999,\n",
              "  {'bootstrap': True,\n",
              "   'criterion': 'entropy',\n",
              "   'max_depth': 7,\n",
              "   'min_samples_split': 3,\n",
              "   'n_estimators': 100}),\n",
              " (0.8559921875000001,\n",
              "  {'bootstrap': False,\n",
              "   'criterion': 'entropy',\n",
              "   'max_depth': 7,\n",
              "   'min_samples_split': 3,\n",
              "   'n_estimators': 100}),\n",
              " (0.8534062500000001,\n",
              "  {'bootstrap': True,\n",
              "   'criterion': 'gini',\n",
              "   'max_depth': 7,\n",
              "   'min_samples_split': 2,\n",
              "   'n_estimators': 100}),\n",
              " (0.8525,\n",
              "  {'bootstrap': True,\n",
              "   'criterion': 'entropy',\n",
              "   'max_depth': 7,\n",
              "   'min_samples_split': 10,\n",
              "   'n_estimators': 100}),\n",
              " (0.8499296875000001,\n",
              "  {'bootstrap': True,\n",
              "   'criterion': 'gini',\n",
              "   'max_depth': 7,\n",
              "   'min_samples_split': 3,\n",
              "   'n_estimators': 100}),\n",
              " (0.8431796874999999,\n",
              "  {'bootstrap': False,\n",
              "   'criterion': 'gini',\n",
              "   'max_depth': 3,\n",
              "   'min_samples_split': 2,\n",
              "   'n_estimators': 100}),\n",
              " (0.8431171875000001,\n",
              "  {'bootstrap': False,\n",
              "   'criterion': 'entropy',\n",
              "   'max_depth': 3,\n",
              "   'min_samples_split': 10,\n",
              "   'n_estimators': 100}),\n",
              " (0.842125,\n",
              "  {'bootstrap': True,\n",
              "   'criterion': 'entropy',\n",
              "   'max_depth': 7,\n",
              "   'min_samples_split': 2,\n",
              "   'n_estimators': 100}),\n",
              " (0.8408125,\n",
              "  {'bootstrap': False,\n",
              "   'criterion': 'entropy',\n",
              "   'max_depth': 3,\n",
              "   'min_samples_split': 3,\n",
              "   'n_estimators': 100}),\n",
              " (0.8395390625000001,\n",
              "  {'bootstrap': False,\n",
              "   'criterion': 'gini',\n",
              "   'max_depth': 3,\n",
              "   'min_samples_split': 10,\n",
              "   'n_estimators': 100}),\n",
              " (0.8388671875,\n",
              "  {'bootstrap': False,\n",
              "   'criterion': 'gini',\n",
              "   'max_depth': 3,\n",
              "   'min_samples_split': 3,\n",
              "   'n_estimators': 100}),\n",
              " (0.8374140625,\n",
              "  {'bootstrap': True,\n",
              "   'criterion': 'entropy',\n",
              "   'max_depth': 3,\n",
              "   'min_samples_split': 2,\n",
              "   'n_estimators': 100}),\n",
              " (0.8368046874999999,\n",
              "  {'bootstrap': True,\n",
              "   'criterion': 'gini',\n",
              "   'max_depth': 3,\n",
              "   'min_samples_split': 2,\n",
              "   'n_estimators': 100}),\n",
              " (0.8341171875000001,\n",
              "  {'bootstrap': False,\n",
              "   'criterion': 'entropy',\n",
              "   'max_depth': 3,\n",
              "   'min_samples_split': 2,\n",
              "   'n_estimators': 100}),\n",
              " (0.830890625,\n",
              "  {'bootstrap': True,\n",
              "   'criterion': 'gini',\n",
              "   'max_depth': 3,\n",
              "   'min_samples_split': 10,\n",
              "   'n_estimators': 100}),\n",
              " (0.82559375,\n",
              "  {'bootstrap': True,\n",
              "   'criterion': 'entropy',\n",
              "   'max_depth': 3,\n",
              "   'min_samples_split': 3,\n",
              "   'n_estimators': 100}),\n",
              " (0.8235937499999999,\n",
              "  {'bootstrap': True,\n",
              "   'criterion': 'gini',\n",
              "   'max_depth': 3,\n",
              "   'min_samples_split': 3,\n",
              "   'n_estimators': 100}),\n",
              " (0.8229999999999998,\n",
              "  {'bootstrap': True,\n",
              "   'criterion': 'entropy',\n",
              "   'max_depth': 3,\n",
              "   'min_samples_split': 10,\n",
              "   'n_estimators': 100})]"
            ]
          },
          "metadata": {
            "tags": []
          },
          "execution_count": 22
        }
      ]
    },
    {
      "cell_type": "code",
      "metadata": {
        "id": "bheDB6vEf37C",
        "colab_type": "code",
        "colab": {}
      },
      "source": [
        "optimised_rf = grid_search_rf.best_estimator_"
      ],
      "execution_count": 0,
      "outputs": []
    },
    {
      "cell_type": "code",
      "metadata": {
        "id": "a7iPBz-AgAAa",
        "colab_type": "code",
        "outputId": "77e374a8-69b0-4cb2-cd8b-5874dca69bee",
        "colab": {
          "base_uri": "https://localhost:8080/",
          "height": 365
        }
      },
      "source": [
        "y_test_pred_rf = optimised_rf.predict(X_test_tfidf)\n",
        "y_scores_rf = optimised_rf.predict_proba(X_test_tfidf)\n",
        "\n",
        "cm_rf = confusion_matrix(y_test, y_test_pred_rf)\n",
        "plot_confusion_matrix(cm_rf, classes=movie_reviews.target_names)"
      ],
      "execution_count": 0,
      "outputs": [
        {
          "output_type": "stream",
          "text": [
            "Confusion matrix, without normalization\n",
            "[[175  25]\n",
            " [ 36 164]]\n"
          ],
          "name": "stdout"
        },
        {
          "output_type": "display_data",
          "data": {
            "image/png": "[encoded data removed]",
            "text/plain": [
              "<Figure size 432x288 with 2 Axes>"
            ]
          },
          "metadata": {
            "tags": []
          }
        }
      ]
    },
    {
      "cell_type": "code",
      "metadata": {
        "id": "mtSuBqyXgTmE",
        "colab_type": "code",
        "outputId": "2f79e1c7-0c2e-466d-b232-9b90116cad79",
        "colab": {
          "base_uri": "https://localhost:8080/",
          "height": 35
        }
      },
      "source": [
        "mov_roc_rf = roc_auc_score(y_test, y_scores_rf[:,1])\n",
        "print(mov_roc_rf)"
      ],
      "execution_count": 0,
      "outputs": [
        {
          "output_type": "stream",
          "text": [
            "0.9206\n"
          ],
          "name": "stdout"
        }
      ]
    },
    {
      "cell_type": "code",
      "metadata": {
        "id": "K7zCE2XtgX3b",
        "colab_type": "code",
        "outputId": "aa96664d-fb58-4350-8c35-84570588b4c8",
        "colab": {
          "base_uri": "https://localhost:8080/",
          "height": 179
        }
      },
      "source": [
        "report_rf = classification_report(y_test, y_test_pred_rf)\n",
        "print(report_rf)"
      ],
      "execution_count": 0,
      "outputs": [
        {
          "output_type": "stream",
          "text": [
            "              precision    recall  f1-score   support\n",
            "\n",
            "           0       0.83      0.88      0.85       200\n",
            "           1       0.87      0.82      0.84       200\n",
            "\n",
            "    accuracy                           0.85       400\n",
            "   macro avg       0.85      0.85      0.85       400\n",
            "weighted avg       0.85      0.85      0.85       400\n",
            "\n"
          ],
          "name": "stdout"
        }
      ]
    },
    {
      "cell_type": "markdown",
      "metadata": {
        "id": "W6kAcRveikJj",
        "colab_type": "text"
      },
      "source": [
        "### Multilayer Perceptron"
      ]
    },
    {
      "cell_type": "markdown",
      "metadata": {
        "id": "bKwAvt8iikJk",
        "colab_type": "text"
      },
      "source": [
        "**6) Repetir** los mismos pasos utilizados con el anterior modelo pero esta vez para `Multilayer Perceptron`. Es decir, mostrar la matriz de confusión, scores, etc\n",
        "\n",
        "El `param_grid` debe recorrer estos valores: `{'hidden_layer_sizes': [(10,),(5,5), (2,2)]}`"
      ]
    },
    {
      "cell_type": "code",
      "metadata": {
        "id": "3SfH6s3inRp6",
        "colab_type": "code",
        "outputId": "8ab20ab8-f495-4c2e-d99d-45e27fe1faf0",
        "colab": {
          "base_uri": "https://localhost:8080/",
          "height": 341
        }
      },
      "source": [
        "from sklearn.neural_network import MLPClassifier\n",
        "\n",
        "mpclf = MLPClassifier()\n",
        "\n",
        "param_grid_mp = {'hidden_layer_sizes': [(10,),(5,5), (2,2)]}\n",
        "\n",
        "grid_search_mp = GridSearchCV(mpclf, param_grid=param_grid_mp, scoring='roc_auc' , cv=5)\n",
        "grid_search_mp.fit(X_train_tfidf, y_train)"
      ],
      "execution_count": 0,
      "outputs": [
        {
          "output_type": "execute_result",
          "data": {
            "text/plain": [
              "GridSearchCV(cv=5, error_score=nan,\n",
              "             estimator=MLPClassifier(activation='relu', alpha=0.0001,\n",
              "                                     batch_size='auto', beta_1=0.9,\n",
              "                                     beta_2=0.999, early_stopping=False,\n",
              "                                     epsilon=1e-08, hidden_layer_sizes=(100,),\n",
              "                                     learning_rate='constant',\n",
              "                                     learning_rate_init=0.001, max_fun=15000,\n",
              "                                     max_iter=200, momentum=0.9,\n",
              "                                     n_iter_no_change=10,\n",
              "                                     nesterovs_momentum=True, power_t=0.5,\n",
              "                                     random_state=None, shuffle=True,\n",
              "                                     solver='adam', tol=0.0001,\n",
              "                                     validation_fraction=0.1, verbose=False,\n",
              "                                     warm_start=False),\n",
              "             iid='deprecated', n_jobs=None,\n",
              "             param_grid={'hidden_layer_sizes': [(10,), (5, 5), (2, 2)]},\n",
              "             pre_dispatch='2*n_jobs', refit=True, return_train_score=False,\n",
              "             scoring='roc_auc', verbose=0)"
            ]
          },
          "metadata": {
            "tags": []
          },
          "execution_count": 27
        }
      ]
    },
    {
      "cell_type": "code",
      "metadata": {
        "id": "qS0kAv85pxxW",
        "colab_type": "code",
        "colab": {}
      },
      "source": [
        "mp_results = list(zip(grid_search_mp.cv_results_['mean_test_score'], grid_search_mp.cv_results_['params']))"
      ],
      "execution_count": 0,
      "outputs": []
    },
    {
      "cell_type": "code",
      "metadata": {
        "id": "oqWpA5b9p5S_",
        "colab_type": "code",
        "outputId": "32f4e70e-8e8a-444f-f582-3fb0e7b218b3",
        "colab": {
          "base_uri": "https://localhost:8080/",
          "height": 71
        }
      },
      "source": [
        "sorted(mp_results, key=lambda x: -x[0])"
      ],
      "execution_count": 0,
      "outputs": [
        {
          "output_type": "execute_result",
          "data": {
            "text/plain": [
              "[(0.9054609375, {'hidden_layer_sizes': (10,)}),\n",
              " (0.8991718749999998, {'hidden_layer_sizes': (5, 5)}),\n",
              " (0.8968515625, {'hidden_layer_sizes': (2, 2)})]"
            ]
          },
          "metadata": {
            "tags": []
          },
          "execution_count": 29
        }
      ]
    },
    {
      "cell_type": "code",
      "metadata": {
        "id": "Hsl379BBp5dY",
        "colab_type": "code",
        "colab": {}
      },
      "source": [
        "optimised_mp = grid_search_mp.best_estimator_"
      ],
      "execution_count": 0,
      "outputs": []
    },
    {
      "cell_type": "code",
      "metadata": {
        "id": "GboqwNtnp5mR",
        "colab_type": "code",
        "outputId": "46e8f165-4dd7-44c2-c397-370898bc81c8",
        "colab": {
          "base_uri": "https://localhost:8080/",
          "height": 365
        }
      },
      "source": [
        "y_test_pred_mp = optimised_mp.predict(X_test_tfidf)\n",
        "y_scores_mp = optimised_mp.predict_proba(X_test_tfidf)\n",
        "\n",
        "cm_mp = confusion_matrix(y_test, y_test_pred_mp)\n",
        "plot_confusion_matrix(cm_mp, classes=movie_reviews.target_names)"
      ],
      "execution_count": 0,
      "outputs": [
        {
          "output_type": "stream",
          "text": [
            "Confusion matrix, without normalization\n",
            "[[155  45]\n",
            " [ 25 175]]\n"
          ],
          "name": "stdout"
        },
        {
          "output_type": "display_data",
          "data": {
            "image/png": "[encoded data removed]",
            "text/plain": [
              "<Figure size 432x288 with 2 Axes>"
            ]
          },
          "metadata": {
            "tags": []
          }
        }
      ]
    },
    {
      "cell_type": "code",
      "metadata": {
        "id": "Y-54GdtEp5uh",
        "colab_type": "code",
        "outputId": "fe06df41-3835-44f8-abaf-daf9a90f5c5b",
        "colab": {
          "base_uri": "https://localhost:8080/",
          "height": 35
        }
      },
      "source": [
        "mov_roc_mp = roc_auc_score(y_test, y_scores_mp[:,1])\n",
        "print(mov_roc_mp)"
      ],
      "execution_count": 0,
      "outputs": [
        {
          "output_type": "stream",
          "text": [
            "0.9133999999999999\n"
          ],
          "name": "stdout"
        }
      ]
    },
    {
      "cell_type": "code",
      "metadata": {
        "id": "qbEd0Emtp53w",
        "colab_type": "code",
        "outputId": "aef6b5a0-826e-4d3e-dd43-0329e0adcd6a",
        "colab": {
          "base_uri": "https://localhost:8080/",
          "height": 179
        }
      },
      "source": [
        "report_mp = classification_report(y_test, y_test_pred_mp)\n",
        "print(report_mp)"
      ],
      "execution_count": 0,
      "outputs": [
        {
          "output_type": "stream",
          "text": [
            "              precision    recall  f1-score   support\n",
            "\n",
            "           0       0.86      0.78      0.82       200\n",
            "           1       0.80      0.88      0.83       200\n",
            "\n",
            "    accuracy                           0.82       400\n",
            "   macro avg       0.83      0.82      0.82       400\n",
            "weighted avg       0.83      0.82      0.82       400\n",
            "\n"
          ],
          "name": "stdout"
        }
      ]
    },
    {
      "cell_type": "markdown",
      "metadata": {
        "id": "jABq731vikJl",
        "colab_type": "text"
      },
      "source": [
        "### AdaBoost"
      ]
    },
    {
      "cell_type": "markdown",
      "metadata": {
        "id": "TnK6sSP-ikJm",
        "colab_type": "text"
      },
      "source": [
        "**7) Repetir** los mismos pasos utilizados con el anterior modelo pero esta vez para `AdaBoost`. Es decir, mostrar la matriz de confusión, scores, etc\n",
        "\n",
        "El `param_grid` debe recorrer estos valores: `{'n_estimators': [50, 100, 500]}`\n"
      ]
    },
    {
      "cell_type": "code",
      "metadata": {
        "id": "vccparEZqyE2",
        "colab_type": "code",
        "outputId": "4246c5ed-7497-4a1a-aaf4-e9247f1de547",
        "colab": {
          "base_uri": "https://localhost:8080/",
          "height": 179
        }
      },
      "source": [
        "from sklearn.ensemble import AdaBoostClassifier\n",
        "\n",
        "abclf = AdaBoostClassifier()\n",
        "\n",
        "param_grid_ab = {'n_estimators': [50, 100, 500]}\n",
        "\n",
        "grid_search_ab = GridSearchCV(abclf, param_grid=param_grid_ab, scoring='roc_auc' , cv=5)\n",
        "grid_search_ab.fit(X_train_tfidf, y_train)"
      ],
      "execution_count": 0,
      "outputs": [
        {
          "output_type": "execute_result",
          "data": {
            "text/plain": [
              "GridSearchCV(cv=5, error_score=nan,\n",
              "             estimator=AdaBoostClassifier(algorithm='SAMME.R',\n",
              "                                          base_estimator=None,\n",
              "                                          learning_rate=1.0, n_estimators=50,\n",
              "                                          random_state=None),\n",
              "             iid='deprecated', n_jobs=None,\n",
              "             param_grid={'n_estimators': [50, 100, 500]},\n",
              "             pre_dispatch='2*n_jobs', refit=True, return_train_score=False,\n",
              "             scoring='roc_auc', verbose=0)"
            ]
          },
          "metadata": {
            "tags": []
          },
          "execution_count": 34
        }
      ]
    },
    {
      "cell_type": "code",
      "metadata": {
        "id": "YRH-FiPGqzzH",
        "colab_type": "code",
        "colab": {}
      },
      "source": [
        "ab_results = list(zip(grid_search_ab.cv_results_['mean_test_score'], grid_search_ab.cv_results_['params']))"
      ],
      "execution_count": 0,
      "outputs": []
    },
    {
      "cell_type": "code",
      "metadata": {
        "id": "LtsI-6o6qz5P",
        "colab_type": "code",
        "outputId": "77b3bc7e-f815-4042-eab4-a169ba4c2c75",
        "colab": {
          "base_uri": "https://localhost:8080/",
          "height": 71
        }
      },
      "source": [
        "sorted(ab_results, key=lambda x: -x[0])"
      ],
      "execution_count": 0,
      "outputs": [
        {
          "output_type": "execute_result",
          "data": {
            "text/plain": [
              "[(0.8548203124999999, {'n_estimators': 500}),\n",
              " (0.8379843750000001, {'n_estimators': 100}),\n",
              " (0.8143671875, {'n_estimators': 50})]"
            ]
          },
          "metadata": {
            "tags": []
          },
          "execution_count": 36
        }
      ]
    },
    {
      "cell_type": "code",
      "metadata": {
        "id": "rxmmsUq-qz-q",
        "colab_type": "code",
        "colab": {}
      },
      "source": [
        "optimised_ab = grid_search_ab.best_estimator_"
      ],
      "execution_count": 0,
      "outputs": []
    },
    {
      "cell_type": "code",
      "metadata": {
        "id": "aGgCf8k4q0Hn",
        "colab_type": "code",
        "outputId": "bbfb2597-96ff-4775-a154-02f1a3159842",
        "colab": {
          "base_uri": "https://localhost:8080/",
          "height": 365
        }
      },
      "source": [
        "y_test_pred_ab = optimised_ab.predict(X_test_tfidf)\n",
        "y_scores_ab = optimised_ab.predict_proba(X_test_tfidf)\n",
        "\n",
        "cm_ab = confusion_matrix(y_test, y_test_pred_ab)\n",
        "plot_confusion_matrix(cm_ab, classes=movie_reviews.target_names)"
      ],
      "execution_count": 0,
      "outputs": [
        {
          "output_type": "stream",
          "text": [
            "Confusion matrix, without normalization\n",
            "[[151  49]\n",
            " [ 33 167]]\n"
          ],
          "name": "stdout"
        },
        {
          "output_type": "display_data",
          "data": {
            "image/png": "[encoded data removed]",
            "text/plain": [
              "<Figure size 432x288 with 2 Axes>"
            ]
          },
          "metadata": {
            "tags": []
          }
        }
      ]
    },
    {
      "cell_type": "code",
      "metadata": {
        "id": "94mVmxA8q0K7",
        "colab_type": "code",
        "outputId": "ed2e42b9-8594-4402-84e6-57d048b8f339",
        "colab": {
          "base_uri": "https://localhost:8080/",
          "height": 35
        }
      },
      "source": [
        "mov_roc_ab = roc_auc_score(y_test, y_scores_ab[:,1])\n",
        "print(mov_roc_ab)"
      ],
      "execution_count": 0,
      "outputs": [
        {
          "output_type": "stream",
          "text": [
            "0.8820249999999998\n"
          ],
          "name": "stdout"
        }
      ]
    },
    {
      "cell_type": "code",
      "metadata": {
        "id": "KaIBaX8Xq0Fy",
        "colab_type": "code",
        "outputId": "a1334772-34ac-4662-d152-d72f13f43cb9",
        "colab": {
          "base_uri": "https://localhost:8080/",
          "height": 179
        }
      },
      "source": [
        "report_ab = classification_report(y_test, y_test_pred_ab)\n",
        "print(report_ab)"
      ],
      "execution_count": 0,
      "outputs": [
        {
          "output_type": "stream",
          "text": [
            "              precision    recall  f1-score   support\n",
            "\n",
            "           0       0.82      0.76      0.79       200\n",
            "           1       0.77      0.83      0.80       200\n",
            "\n",
            "    accuracy                           0.80       400\n",
            "   macro avg       0.80      0.79      0.79       400\n",
            "weighted avg       0.80      0.80      0.79       400\n",
            "\n"
          ],
          "name": "stdout"
        }
      ]
    },
    {
      "cell_type": "markdown",
      "metadata": {
        "id": "3M20-ZwxikJn",
        "colab_type": "text"
      },
      "source": [
        "__8) Armar un ensamble entre los cuatro modelos usando votación y medir el accuracy de cada uno de los modelos.__\n"
      ]
    },
    {
      "cell_type": "code",
      "metadata": {
        "id": "XIPBMmYBuFFE",
        "colab_type": "code",
        "outputId": "f45f4e02-3f16-42e3-f951-efbce457318f",
        "colab": {
          "base_uri": "https://localhost:8080/",
          "height": 521
        }
      },
      "source": [
        "  from sklearn.ensemble import VotingClassifier\n",
        "\n",
        "  eclf = VotingClassifier(estimators=[('svm', optimised_svm), ('rf', optimised_rf), ('mp', optimised_mp), ('ab', optimised_ab)], voting='hard')\n",
        "  eclf.fit(X_train_tfidf, y_train)"
      ],
      "execution_count": 0,
      "outputs": [
        {
          "output_type": "execute_result",
          "data": {
            "text/plain": [
              "VotingClassifier(estimators=[('svm',\n",
              "                              LinearSVC(C=10, class_weight=None, dual=True,\n",
              "                                        fit_intercept=True, intercept_scaling=1,\n",
              "                                        loss='squared_hinge', max_iter=1000,\n",
              "                                        multi_class='ovr', penalty='l2',\n",
              "                                        random_state=None, tol=0.0001,\n",
              "                                        verbose=0)),\n",
              "                             ('rf',\n",
              "                              RandomForestClassifier(bootstrap=False,\n",
              "                                                     ccp_alpha=0.0,\n",
              "                                                     class_weight=None,\n",
              "                                                     criterion='entropy',\n",
              "                                                     max_depth=None,\n",
              "                                                     max_features=...\n",
              "                                            momentum=0.9, n_iter_no_change=10,\n",
              "                                            nesterovs_momentum=True,\n",
              "                                            power_t=0.5, random_state=None,\n",
              "                                            shuffle=True, solver='adam',\n",
              "                                            tol=0.0001, validation_fraction=0.1,\n",
              "                                            verbose=False, warm_start=False)),\n",
              "                             ('ab',\n",
              "                              AdaBoostClassifier(algorithm='SAMME.R',\n",
              "                                                 base_estimator=None,\n",
              "                                                 learning_rate=1.0,\n",
              "                                                 n_estimators=500,\n",
              "                                                 random_state=None))],\n",
              "                 flatten_transform=True, n_jobs=None, voting='hard',\n",
              "                 weights=None)"
            ]
          },
          "metadata": {
            "tags": []
          },
          "execution_count": 41
        }
      ]
    },
    {
      "cell_type": "code",
      "metadata": {
        "id": "YTX_eQMkwpgj",
        "colab_type": "code",
        "outputId": "518fbef4-5c4c-4ebf-8cac-96c4b7c25500",
        "colab": {
          "base_uri": "https://localhost:8080/",
          "height": 107
        }
      },
      "source": [
        "from sklearn.model_selection import cross_val_score\n",
        "for clf, label in zip([optimised_svm, optimised_rf, optimised_mp, optimised_ab, eclf], ['Linear SVM', 'Random Forest', 'Multilayer Perceptron', 'AdaBoost', 'Ensemble']):\n",
        "    scores = cross_val_score(clf, X_test_tfidf, y_test, cv=10, scoring='accuracy')\n",
        "    print(\"Accuracy: %0.2f (+/- %0.2f) [%s]\" % (scores.mean(), scores.std(), label))"
      ],
      "execution_count": 0,
      "outputs": [
        {
          "output_type": "stream",
          "text": [
            "Accuracy: 0.77 (+/- 0.05) [Linear SVM]\n",
            "Accuracy: 0.77 (+/- 0.06) [Random Forest]\n",
            "Accuracy: 0.72 (+/- 0.07) [Multilayer Perceptron]\n",
            "Accuracy: 0.72 (+/- 0.07) [AdaBoost]\n",
            "Accuracy: 0.76 (+/- 0.06) [Ensemble]\n"
          ],
          "name": "stdout"
        }
      ]
    },
    {
      "cell_type": "code",
      "metadata": {
        "id": "NcBG3Vldv9zi",
        "colab_type": "code",
        "outputId": "dc4fe9f4-7bf7-4928-96f3-dd27d2e4307f",
        "colab": {
          "base_uri": "https://localhost:8080/",
          "height": 35
        }
      },
      "source": [
        "confidence = eclf.score(X_test_tfidf, y_test)\n",
        "print('accuracy:', confidence)"
      ],
      "execution_count": 0,
      "outputs": [
        {
          "output_type": "stream",
          "text": [
            "accuracy: 0.845\n"
          ],
          "name": "stdout"
        }
      ]
    },
    {
      "cell_type": "code",
      "metadata": {
        "id": "HB92eVXk11oK",
        "colab_type": "code",
        "colab": {}
      },
      "source": [
        "y_pred = eclf.predict(X_test_tfidf)"
      ],
      "execution_count": 0,
      "outputs": []
    },
    {
      "cell_type": "markdown",
      "metadata": {
        "id": "Y7o2duLiikJo",
        "colab_type": "text"
      },
      "source": [
        "__9) Seleccioná el modelo__ que te haya dado el mejor score y utilizalo como tu modelo final. Reentrenalo con todos tus datos de entrenamiento.\n"
      ]
    },
    {
      "cell_type": "code",
      "metadata": {
        "id": "fE74eFDKikJp",
        "colab_type": "code",
        "outputId": "cece63d9-c3a8-4390-d2a9-e0530e09dac1",
        "colab": {
          "base_uri": "https://localhost:8080/",
          "height": 35
        }
      },
      "source": [
        "# Guardamos el modelo\n",
        "from sklearn.externals import joblib\n",
        "joblib.dump(eclf, 'sentiment.pkl') "
      ],
      "execution_count": 0,
      "outputs": [
        {
          "output_type": "execute_result",
          "data": {
            "text/plain": [
              "['sentiment.pkl']"
            ]
          },
          "metadata": {
            "tags": []
          },
          "execution_count": 45
        }
      ]
    },
    {
      "cell_type": "code",
      "metadata": {
        "id": "7Uky7MlWikJs",
        "colab_type": "code",
        "outputId": "deb8ef54-dd8e-4334-97ce-0701633125a7",
        "colab": {
          "base_uri": "https://localhost:8080/",
          "height": 359
        }
      },
      "source": [
        "y_pred"
      ],
      "execution_count": 0,
      "outputs": [
        {
          "output_type": "execute_result",
          "data": {
            "text/plain": [
              "array([0, 1, 0, 1, 0, 1, 0, 0, 1, 0, 0, 0, 1, 0, 0, 0, 1, 1, 0, 0, 1, 0,\n",
              "       1, 0, 1, 0, 1, 0, 1, 1, 1, 0, 0, 0, 1, 0, 0, 0, 1, 1, 0, 0, 0, 0,\n",
              "       1, 0, 1, 0, 1, 0, 0, 1, 0, 1, 1, 0, 0, 1, 1, 1, 1, 1, 0, 0, 0, 1,\n",
              "       0, 0, 0, 1, 1, 1, 0, 0, 0, 1, 0, 1, 1, 0, 1, 0, 0, 1, 1, 0, 1, 0,\n",
              "       1, 1, 1, 0, 0, 1, 0, 1, 0, 0, 0, 1, 0, 1, 0, 0, 0, 1, 1, 0, 0, 0,\n",
              "       0, 1, 0, 1, 0, 0, 1, 0, 0, 1, 0, 1, 1, 0, 1, 1, 0, 1, 0, 0, 1, 0,\n",
              "       0, 0, 1, 1, 0, 1, 0, 1, 0, 1, 1, 1, 0, 0, 1, 0, 0, 0, 0, 0, 0, 1,\n",
              "       1, 0, 1, 0, 1, 1, 0, 0, 0, 1, 0, 0, 1, 1, 1, 0, 0, 1, 1, 0, 1, 0,\n",
              "       0, 0, 0, 1, 0, 1, 1, 0, 0, 0, 1, 0, 1, 1, 1, 0, 1, 0, 1, 1, 0, 0,\n",
              "       0, 1, 0, 1, 0, 0, 1, 1, 0, 0, 0, 1, 1, 0, 0, 0, 0, 1, 0, 0, 0, 0,\n",
              "       1, 1, 1, 1, 0, 0, 0, 0, 1, 1, 0, 0, 0, 0, 1, 1, 1, 0, 0, 1, 1, 0,\n",
              "       1, 1, 0, 0, 1, 0, 0, 0, 0, 0, 0, 0, 0, 0, 1, 1, 1, 1, 0, 0, 0, 1,\n",
              "       0, 0, 1, 0, 0, 0, 1, 1, 1, 0, 1, 0, 1, 1, 0, 0, 0, 0, 1, 1, 1, 1,\n",
              "       1, 1, 0, 1, 1, 1, 0, 1, 0, 0, 0, 0, 0, 1, 1, 0, 1, 0, 0, 1, 0, 0,\n",
              "       1, 0, 0, 1, 0, 0, 1, 0, 1, 1, 1, 0, 1, 0, 1, 0, 1, 1, 0, 1, 0, 1,\n",
              "       0, 0, 0, 1, 1, 1, 1, 1, 1, 1, 1, 0, 0, 1, 0, 0, 1, 1, 1, 0, 0, 1,\n",
              "       1, 1, 1, 0, 0, 1, 1, 0, 1, 0, 0, 1, 0, 0, 1, 1, 1, 0, 1, 0, 0, 1,\n",
              "       0, 0, 0, 0, 1, 1, 1, 1, 0, 0, 1, 0, 1, 0, 0, 0, 0, 0, 0, 1, 1, 0,\n",
              "       1, 1, 1, 1])"
            ]
          },
          "metadata": {
            "tags": []
          },
          "execution_count": 46
        }
      ]
    },
    {
      "cell_type": "markdown",
      "metadata": {
        "id": "i9yI-d95ikJx",
        "colab_type": "text"
      },
      "source": [
        "## Clasificación de reviews de Rocky 4."
      ]
    },
    {
      "cell_type": "markdown",
      "metadata": {
        "id": "SWwXG43JikJy",
        "colab_type": "text"
      },
      "source": [
        "A partir de [criticas de la película Rocky 4](https://www.rottentomatoes.com/m/rocky_iv/reviews/?type=user) veamos como las clasifica nuestro mejor modelo"
      ]
    },
    {
      "cell_type": "code",
      "metadata": {
        "id": "ZI5FebBAikJ1",
        "colab_type": "code",
        "colab": {}
      },
      "source": [
        "reviews_new = [\"Stallone creates credible villains worthy of his heroic character.\",\n",
        "               \"Another brilliant Rocky film, probably my favourite one out of the lot\",\n",
        "               \"Yeah, this movie sucks.\",\n",
        "               \"My favourite rocky film! So good so much heart. Slightly better than 2\",\n",
        "               \"What has this got to do with boxing. Also everyone looked like dolls. Also if you are a real true boxing fan (not casuals), you would understand that this stupidity is no description of boxing!!\",\n",
        "               \"The new film's narrative is stripped down to essentials, which gives it an emblematic quality.\",\n",
        "               \"Absurdly ridiculous, this just isn't a good movie at all\", \n",
        "               \"Very basic and predictable but still an okay movie. No special music to save this one.\", \n",
        "              \"Rocky 4 is an extremely ambitious movie that is definitely worth watching.\",\n",
        "              'Highly beautiful',\n",
        "               \"If it wasn't for the robots (WTF????), and the painfully overwritten lines of an absurdly dogmatic persuasion, then this would otherwise be nothing more than an interminable series of mildly rousing montages. There are some unintentionally funny bits though, and Dolph's Ivan showcases the best and worst of all Rocky's opponents.\",\n",
        "              \"While all aspects of realism is thrown out the window, ROCKY IV is an adrenaline rush of action and excitment, with an incredible soundtrack and arguably the best movie fight in history between Balboa and Drago\",\n",
        "              \"Just like the songs, exercise routines and repetitive clips, it seems redundant to add another installment in this already falling franchise when you clearly lack material. Rocky IV is petty, childish and seems overlong despite of its 91 minutes of run time for it merely has an idea of a TV drama episode which is stretched to a point of exhaustion. Its painful to watch Sylvester Stallone go through this enormous amount of training and hardly make a point out there. He fails on all the levels here; writer, director and actor, to deliver any loose end of the thread for the audience to hang on to. Rocky IV is predictable, loosely written and choreographed and executed unsupervised.\"]\n",
        "reviews_new_counts = tfidf_vect.transform(reviews_new)\n",
        "reviews_new_tfidf = tfidf_vect.transform(reviews_new)"
      ],
      "execution_count": 0,
      "outputs": []
    },
    {
      "cell_type": "code",
      "metadata": {
        "id": "2WIJGHy_ikJ5",
        "colab_type": "code",
        "colab": {}
      },
      "source": [
        "pred = eclf.predict(reviews_new_tfidf)"
      ],
      "execution_count": 0,
      "outputs": []
    },
    {
      "cell_type": "code",
      "metadata": {
        "id": "Fy_DvijtikJ8",
        "colab_type": "code",
        "outputId": "0fa3f677-f1ad-42e2-f274-af2a223d1bfd",
        "colab": {
          "base_uri": "https://localhost:8080/",
          "height": 505
        }
      },
      "source": [
        "for review, category in zip(reviews_new, pred):\n",
        "    print('%r => %s \\n' % (review, movie_reviews.target_names[category]))"
      ],
      "execution_count": 0,
      "outputs": [
        {
          "output_type": "stream",
          "text": [
            "'Stallone creates credible villains worthy of his heroic character.' => pos \n",
            "\n",
            "'Another brilliant Rocky film, probably my favourite one out of the lot' => pos \n",
            "\n",
            "'Yeah, this movie sucks.' => neg \n",
            "\n",
            "'My favourite rocky film! So good so much heart. Slightly better than 2' => pos \n",
            "\n",
            "'What has this got to do with boxing. Also everyone looked like dolls. Also if you are a real true boxing fan (not casuals), you would understand that this stupidity is no description of boxing!!' => neg \n",
            "\n",
            "\"The new film's narrative is stripped down to essentials, which gives it an emblematic quality.\" => neg \n",
            "\n",
            "\"Absurdly ridiculous, this just isn't a good movie at all\" => neg \n",
            "\n",
            "'Very basic and predictable but still an okay movie. No special music to save this one.' => neg \n",
            "\n",
            "'Rocky 4 is an extremely ambitious movie that is definitely worth watching.' => pos \n",
            "\n",
            "'Highly beautiful' => pos \n",
            "\n",
            "\"If it wasn't for the robots (WTF????), and the painfully overwritten lines of an absurdly dogmatic persuasion, then this would otherwise be nothing more than an interminable series of mildly rousing montages. There are some unintentionally funny bits though, and Dolph's Ivan showcases the best and worst of all Rocky's opponents.\" => neg \n",
            "\n",
            "'While all aspects of realism is thrown out the window, ROCKY IV is an adrenaline rush of action and excitment, with an incredible soundtrack and arguably the best movie fight in history between Balboa and Drago' => pos \n",
            "\n",
            "'Just like the songs, exercise routines and repetitive clips, it seems redundant to add another installment in this already falling franchise when you clearly lack material. Rocky IV is petty, childish and seems overlong despite of its 91 minutes of run time for it merely has an idea of a TV drama episode which is stretched to a point of exhaustion. Its painful to watch Sylvester Stallone go through this enormous amount of training and hardly make a point out there. He fails on all the levels here; writer, director and actor, to deliver any loose end of the thread for the audience to hang on to. Rocky IV is predictable, loosely written and choreographed and executed unsupervised.' => neg \n",
            "\n"
          ],
          "name": "stdout"
        }
      ]
    }
  ]
}