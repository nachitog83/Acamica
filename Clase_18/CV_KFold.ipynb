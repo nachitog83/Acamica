{
 "cells": [
  {
   "cell_type": "markdown",
   "metadata": {},
   "source": [
    "# Validación cruzada: evaluación del rendimiento del estimador"
   ]
  },
  {
   "cell_type": "markdown",
   "metadata": {},
   "source": [
    "Evaluar un modelo de Machine Learning puede ser bastante complicado. Por lo general, dividimos el conjunto de datos en conjuntos de `entrenamiento` y `test` y usamos el conjunto de entrenamiento para entrenar el modelo y el conjunto de testing para probar el modelo. Luego evaluamos el rendimiento del modelo en función de una métrica de error para determinar la precisión del modelo. Sin embargo, este método no es muy confiable ya que la precisión obtenida para un conjunto de prueba puede ser muy diferente a la precisión obtenida para un conjunto de prueba diferente. Para evitar este problema de sobreajuste en el conjunto de `testing`, se suele dividir el dataset en tres subconjuntos: `ENTRENAMIENTO`, `VALIDACION` y `PRUEBA`, el problema que ello trae aparejado es que vamos a tener menos datos para realizar el entrenamiento:"
   ]
  },
  {
   "cell_type": "code",
   "execution_count": 12,
   "metadata": {
    "jupyter": {
     "source_hidden": true
    }
   },
   "outputs": [
    {
     "data": {
      "text/html": [
       "<img src=\"https://miro.medium.com/max/948/1*4G__SV580CxFj78o9yUXuQ.png\"/>"
      ],
      "text/plain": [
       "<IPython.core.display.Image object>"
      ]
     },
     "execution_count": 12,
     "metadata": {},
     "output_type": "execute_result"
    }
   ],
   "source": [
    "from IPython.display import Image\n",
    "from IPython.core.display import HTML \n",
    "Image(url= \"https://miro.medium.com/max/948/1*4G__SV580CxFj78o9yUXuQ.png\")"
   ]
  },
  {
   "cell_type": "markdown",
   "metadata": {},
   "source": [
    "La validación cruzada de `K-fold` (CV) proporciona una solución a este problema dividiendo los datos en pliegues y asegurando que cada pliegue se use como un conjunto de validación en algún momento."
   ]
  },
  {
   "cell_type": "markdown",
   "metadata": {},
   "source": [
    "# ¿Qué es la validación cruzada K-Fold?"
   ]
  },
  {
   "cell_type": "markdown",
   "metadata": {},
   "source": [
    "La validación cruzada K-Fold consiste en dividir un dataset en un número K de secciones/pliegues, donde cada pliegue se usa como un conjunto de `testing` en algún momento. Tomemos el escenario de la validación cruzada de 5 pliegues (K = 5). Aquí, el conjunto de datos se divide en 5 pliegues. En la primera iteración, el primer pliegue se usa para probar el modelo y el resto se usa para entrenar el modelo. En la segunda iteración, el segundo pliegue se usa como conjunto de prueba, mientras que el resto sirve como conjunto de entrenamiento. Este proceso se repite hasta que cada pliegue de los 5 pliegues se haya utilizado como conjunto de prueba, de ésta manera `se garantiza que los resultados con independientes de la partición entre datos de entrenamiento y prueba`"
   ]
  },
  {
   "cell_type": "code",
   "execution_count": 9,
   "metadata": {
    "jupyter": {
     "source_hidden": true
    }
   },
   "outputs": [
    {
     "data": {
      "text/html": [
       "<img src=\"https://miro.medium.com/max/1509/1*IjKy-Zc9zVOHFzMw2GXaQw.png\"/>"
      ],
      "text/plain": [
       "<IPython.core.display.Image object>"
      ]
     },
     "execution_count": 9,
     "metadata": {},
     "output_type": "execute_result"
    }
   ],
   "source": [
    "from IPython.display import Image\n",
    "from IPython.core.display import HTML \n",
    "Image(url= \"https://miro.medium.com/max/1509/1*IjKy-Zc9zVOHFzMw2GXaQw.png\")"
   ]
  },
  {
   "cell_type": "code",
   "execution_count": 14,
   "metadata": {
    "jupyter": {
     "source_hidden": true
    }
   },
   "outputs": [
    {
     "data": {
      "text/html": [
       "<img src=\"https://3gp10c1vpy442j63me73gy3s-wpengine.netdna-ssl.com/wp-content/uploads/2018/03/Screen-Shot-2018-03-21-at-4.26.53-PM.png\"/>"
      ],
      "text/plain": [
       "<IPython.core.display.Image object>"
      ]
     },
     "execution_count": 14,
     "metadata": {},
     "output_type": "execute_result"
    }
   ],
   "source": [
    "from IPython.display import Image\n",
    "from IPython.core.display import HTML \n",
    "Image(url= \"https://3gp10c1vpy442j63me73gy3s-wpengine.netdna-ssl.com/wp-content/uploads/2018/03/Screen-Shot-2018-03-21-at-4.26.53-PM.png\")"
   ]
  },
  {
   "cell_type": "markdown",
   "metadata": {},
   "source": [
    "# K-Fold con Scikit-Learn"
   ]
  },
  {
   "cell_type": "code",
   "execution_count": null,
   "metadata": {},
   "outputs": [],
   "source": [
    "from sklearn.model_selection import cross_val_score\n",
    "\n",
    "regressor = DecisionTreeRegressor(max_depth = 5)\n",
    "regressor.fit(X_train, y_train)\n",
    "\n",
    "score = cross_val_score(regressor, X_train, y_train, scoring=\"neg_mean_squared_error\", cv=10)"
   ]
  },
  {
   "cell_type": "markdown",
   "metadata": {},
   "source": [
    "Donde `CV=10`, indica la cantidad de Folds que se van a usar."
   ]
  },
  {
   "cell_type": "markdown",
   "metadata": {},
   "source": [
    "# Esquema final"
   ]
  },
  {
   "cell_type": "code",
   "execution_count": 15,
   "metadata": {
    "jupyter": {
     "source_hidden": true
    }
   },
   "outputs": [
    {
     "data": {
      "text/html": [
       "<img src=\"http://www.cs.nthu.edu.tw/~shwu/courses/ml/labs/08_CV_Ensembling/fig-holdout.png\"/>"
      ],
      "text/plain": [
       "<IPython.core.display.Image object>"
      ]
     },
     "execution_count": 15,
     "metadata": {},
     "output_type": "execute_result"
    }
   ],
   "source": [
    "from IPython.display import Image\n",
    "from IPython.core.display import HTML \n",
    "Image(url= \"http://www.cs.nthu.edu.tw/~shwu/courses/ml/labs/08_CV_Ensembling/fig-holdout.png\")"
   ]
  }
 ],
 "metadata": {
  "kernelspec": {
   "display_name": "Python 3",
   "language": "python",
   "name": "python3"
  },
  "language_info": {
   "codemirror_mode": {
    "name": "ipython",
    "version": 3
   },
   "file_extension": ".py",
   "mimetype": "text/x-python",
   "name": "python",
   "nbconvert_exporter": "python",
   "pygments_lexer": "ipython3",
   "version": "3.7.4"
  }
 },
 "nbformat": 4,
 "nbformat_minor": 4
}
