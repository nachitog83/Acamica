{
 "cells": [
  {
   "cell_type": "markdown",
   "metadata": {},
   "source": [
    "# Diccionarios en Python:"
   ]
  },
  {
   "cell_type": "markdown",
   "metadata": {},
   "source": [
    "Los diccionarios en Python son un tipo de estructuras de datos que permite guardar un conjunto no ordenado de pares __clave:valor__, siendo las claves únicas dentro de un mismo diccionario (es decir que no pueden existir dos elementos con una misma clave).\n",
    "\n",
    "Veamos a continuación un ejemplo de como declarariamos un diccionario en Python en cuyos elementos tenemos los jugadores de Boca Juniors del año 2000, siendo la clave el número de su camiseta (clave única) y el valor su nombre:"
   ]
  },
  {
   "cell_type": "code",
   "execution_count": 1,
   "metadata": {},
   "outputs": [],
   "source": [
    "# Defino la varible 'futbolistas' como un diccionario. No es necesario declarar que tipo de dato es\n",
    "futbolistas = dict()\n",
    "\n",
    "futbolistas = {\n",
    "    1 : \"Córdoba\", 4 : \"Ibarra\",\n",
    "    2 : \"Bermúdez\", 13 : \"Traverso\",\n",
    "    6 : \"Matellán\", 22 : \"Battaglia\",\n",
    "    5 : \"Serna\", 18 : \"Basualdo\",\n",
    "    10 : \"Riquelme\", 9 : \"Palermo\",\n",
    "    16 : \"Delgado\"\n",
    "}"
   ]
  },
  {
   "cell_type": "markdown",
   "metadata": {},
   "source": [
    "Como vemos el diccionario se declara entre los caracteres __{}__ y cada uno de los elementos los separamos por comas (__,__). Cada elemento lo definimos con su par __clave:valor__, pudiendo ser la clave y el valor de cualquier tipo de dato (‘int’, ‘float’, ‘chr’, ‘str’, ‘bool’, ‘object’).\n",
    "\n",
    "A continuación vamos a recorrer el diccionario y a imprimir sus pares __clave:valor__ (más adelante veremos todos los métodos de los diccionarios):"
   ]
  },
  {
   "cell_type": "code",
   "execution_count": 2,
   "metadata": {},
   "outputs": [
    {
     "name": "stdout",
     "output_type": "stream",
     "text": [
      "1 -> Córdoba\n",
      "4 -> Ibarra\n",
      "2 -> Bermúdez\n",
      "13 -> Traverso\n",
      "6 -> Matellán\n",
      "22 -> Battaglia\n",
      "5 -> Serna\n",
      "18 -> Basualdo\n",
      "10 -> Riquelme\n",
      "9 -> Palermo\n",
      "16 -> Delgado\n"
     ]
    }
   ],
   "source": [
    "# Recorrer un diccionario, imprimiendo su clave-valor\n",
    "for k,v in futbolistas.items():\n",
    "    print(\"%s -> %s\" %(k,v))"
   ]
  },
  {
   "cell_type": "markdown",
   "metadata": {},
   "source": [
    "Seguidamente vamos a mostrar como trabajar con los disintintos métodos asociados a los diccionarios. Para ello nos vamos a utilizar el diccionario __futbolistas__ que hemos declarado al principio, en el que hemos guardado elementos futbolistas que tienen como clave su dorsal (es decir un 'int') y como valor su nombre (un 'string').\n",
    "\n",
    "### 1 - En primer lugar vamos a mostrar como contar los elementos de un diccionario, que lo hacemos de la siguiente forma:"
   ]
  },
  {
   "cell_type": "code",
   "execution_count": 3,
   "metadata": {},
   "outputs": [
    {
     "name": "stdout",
     "output_type": "stream",
     "text": [
      "Número de elementos del diccionario len(futbolistas) = 11\n"
     ]
    }
   ],
   "source": [
    "# Vemos cuantos elementos tiene nuestro diccionario\n",
    "numElem = len(futbolistas)\n",
    "print(\"Número de elementos del diccionario len(futbolistas) = %i\" %numElem)"
   ]
  },
  {
   "cell_type": "markdown",
   "metadata": {},
   "source": [
    "### 2 - Con el método __keys()__ obtenemos una lista con las claves del diccionario y de la misma forma con el método __values()__ obtenemos una lista con los valores del diccionario. En el siguiente fragmento de código vemos como obtener estas listas:"
   ]
  },
  {
   "cell_type": "code",
   "execution_count": 4,
   "metadata": {},
   "outputs": [
    {
     "name": "stdout",
     "output_type": "stream",
     "text": [
      "Claves del diccionario futbolistas.keys(): \n",
      "dict_keys([1, 4, 2, 13, 6, 22, 5, 18, 10, 9, 16])\n"
     ]
    }
   ],
   "source": [
    "# Imprimimos una lista con las claves del diccionario\n",
    "keys = futbolistas.keys();\n",
    "print(\"Claves del diccionario futbolistas.keys(): \\n%s\"%keys)"
   ]
  },
  {
   "cell_type": "code",
   "execution_count": 5,
   "metadata": {},
   "outputs": [
    {
     "name": "stdout",
     "output_type": "stream",
     "text": [
      "Valores del diccionario futbolistas.values(): \n",
      "dict_values(['Córdoba', 'Ibarra', 'Bermúdez', 'Traverso', 'Matellán', 'Battaglia', 'Serna', 'Basualdo', 'Riquelme', 'Palermo', 'Delgado'])\n"
     ]
    }
   ],
   "source": [
    "# Imprimimos en una lista los valores del diccionario\n",
    "values = futbolistas.values()\n",
    "print(\"Valores del diccionario futbolistas.values(): \\n%s\" %values)"
   ]
  },
  {
   "cell_type": "markdown",
   "metadata": {},
   "source": [
    "### 3 - Con el método __get(key)__, pasándole como parámetro una clave, obtenemos el valor del elemento que tiene esa clave:"
   ]
  },
  {
   "cell_type": "code",
   "execution_count": 6,
   "metadata": {},
   "outputs": [
    {
     "name": "stdout",
     "output_type": "stream",
     "text": [
      "Obtenemos el valor cuya clave es '6' futbolistas.get(6): Matellán\n"
     ]
    }
   ],
   "source": [
    "# Obtenemos el valor de un elemento dada su clave\n",
    "elem = futbolistas.get(6)\n",
    "print(\"Obtenemos el valor cuya clave es '6' futbolistas.get(6): %s\" %elem)"
   ]
  },
  {
   "cell_type": "markdown",
   "metadata": {},
   "source": [
    "### 4 - A continuación vamos a ver dos formas de insertar elementos en el diccionario. La primera de ellas es la más sencilla (como si de un array asociativo se tratase), pasándole la clave entre corchetes y asignándole un valor:"
   ]
  },
  {
   "cell_type": "code",
   "execution_count": 7,
   "metadata": {},
   "outputs": [
    {
     "name": "stdout",
     "output_type": "stream",
     "text": [
      "Diccionario tras añadir un elemento: futbolistas[22] = 'Schelotto' \n",
      "{1: 'Córdoba', 4: 'Ibarra', 2: 'Bermúdez', 13: 'Traverso', 6: 'Matellán', 22: 'Battaglia', 5: 'Serna', 18: 'Basualdo', 10: 'Riquelme', 9: 'Palermo', 16: 'Delgado', 7: 'Schelotto'}\n"
     ]
    }
   ],
   "source": [
    "# Añadimos un nuevo elemento a la lista\n",
    "futbolistas[7] = 'Schelotto'\n",
    "print(\"Diccionario tras añadir un elemento: futbolistas[22] = 'Schelotto' \\n%s\" %futbolistas)"
   ]
  },
  {
   "cell_type": "markdown",
   "metadata": {},
   "source": [
    "### 5 - La segunda forma de insertar un elemento es con el método __setdefault(key,default=valor)__ al que se le pasa como parámetros un clave y un valor. Este método tiene la peculiaridad de que solo inserta el elemento en el diccionario sino existe un elemento con esa clave. Si existe un elemento con esa clave no realiza la inserción:"
   ]
  },
  {
   "cell_type": "code",
   "execution_count": 8,
   "metadata": {},
   "outputs": [
    {
     "name": "stdout",
     "output_type": "stream",
     "text": [
      "Insertamos un elemento en el diccionario. Si la clave existe no lo inserta\n",
      "futbolistas.setdefault(14,'Burdisso'): Burdisso\n"
     ]
    }
   ],
   "source": [
    "# Insertamos un elemento en el array. Si la clave ya existe no inserta el elemento\n",
    "elem2 = futbolistas.setdefault(14,'Burdisso')\n",
    "print(\"Insertamos un elemento en el diccionario. Si la clave existe no lo inserta\" \\\n",
    "      \"\\nfutbolistas.setdefault(14,'Burdisso'): %s\" %elem2)"
   ]
  },
  {
   "cell_type": "markdown",
   "metadata": {},
   "source": [
    "### 6 - El siguiente método que vamos a ver __pop(key)__ nos borrará del diccionario aquel elemento que tenga como clave, la que le pasamos como parámetro. Por ejemplo vamos a borrar el elemento con clave=22:"
   ]
  },
  {
   "cell_type": "code",
   "execution_count": 9,
   "metadata": {},
   "outputs": [
    {
     "name": "stdout",
     "output_type": "stream",
     "text": [
      "Diccionario tras eliminar un elemento: futbolistas.pop(22) \n",
      "{1: 'Córdoba', 4: 'Ibarra', 2: 'Bermúdez', 13: 'Traverso', 6: 'Matellán', 5: 'Serna', 18: 'Basualdo', 10: 'Riquelme', 9: 'Palermo', 16: 'Delgado', 7: 'Schelotto', 14: 'Burdisso'}\n"
     ]
    }
   ],
   "source": [
    "# Eliminamos un elemento del diccionario dada su clave\n",
    "futbolistas.pop(22)\n",
    "print(\"Diccionario tras eliminar un elemento: futbolistas.pop(22) \\n%s\" %futbolistas)"
   ]
  },
  {
   "cell_type": "markdown",
   "metadata": {},
   "source": [
    "### 7 - Para hacer una copia de un diccionario, se utiliza el método __copy()__:"
   ]
  },
  {
   "cell_type": "code",
   "execution_count": 10,
   "metadata": {},
   "outputs": [
    {
     "name": "stdout",
     "output_type": "stream",
     "text": [
      "Realizamos una copia del diccionario futbolistasCopy=futbolistas.copy(): \n",
      "{1: 'Córdoba', 4: 'Ibarra', 2: 'Bermúdez', 13: 'Traverso', 6: 'Matellán', 5: 'Serna', 18: 'Basualdo', 10: 'Riquelme', 9: 'Palermo', 16: 'Delgado', 7: 'Schelotto', 14: 'Burdisso'}\n"
     ]
    }
   ],
   "source": [
    "# Hacemos una copia del diccionario\n",
    "futbolistasCopy = futbolistas.copy();\n",
    "print(\"Realizamos una copia del diccionario futbolistasCopy=futbolistas.copy(): \\n%s\" %futbolistas)"
   ]
  },
  {
   "cell_type": "markdown",
   "metadata": {},
   "source": [
    "### 8 - Para eliminar el contenido (o los elementos) de un diccionario utilizamos el método __clear()__:"
   ]
  },
  {
   "cell_type": "code",
   "execution_count": 11,
   "metadata": {},
   "outputs": [
    {
     "name": "stdout",
     "output_type": "stream",
     "text": [
      "Eliminamos los elementos de un diccionario futbolistasCopy.clear(): {}\n"
     ]
    }
   ],
   "source": [
    "# Eliminamos los elementos de un diccionario\n",
    "futbolistasCopy.clear()\n",
    "print(\"Eliminamos los elementos de un diccionario futbolistasCopy.clear(): %s\" %futbolistasCopy)"
   ]
  },
  {
   "cell_type": "markdown",
   "metadata": {},
   "source": [
    "### 9 - Con el método __fromkeys(listKey,default=value)__, creamos un diccionario cuyas claves son las que le pasamos como parámetro en una lista. Si le pasamos un segundo parámetro, pondrá ese parámetro como clave de cada uno de los elementos. Veamos un ejemplo:"
   ]
  },
  {
   "cell_type": "code",
   "execution_count": 12,
   "metadata": {},
   "outputs": [
    {
     "name": "stdout",
     "output_type": "stream",
     "text": [
      "Creamos un diccionario a partir de una lista dictList = dict.fromkeys(keys, 'nada'): \n",
      "{'nombre': 'nada', 'apellidos': 'nada', 'edad': 'nada'}\n"
     ]
    }
   ],
   "source": [
    "# Creamos un diccionario a partir de una lista con las claves\n",
    "keys = ['nombre', 'apellidos', 'edad']\n",
    "dictList = dict.fromkeys(keys, 'nada')\n",
    "print(\"Creamos un diccionario a partir de una lista dictList = dict.fromkeys(keys, 'nada'): \\n%s\" %dictList)"
   ]
  },
  {
   "cell_type": "markdown",
   "metadata": {},
   "source": [
    "### 10 - El método que nos permite comprobar si existe o no una clave es el método __key in dict__. Veamos un ejemplo:"
   ]
  },
  {
   "cell_type": "code",
   "execution_count": 13,
   "metadata": {},
   "outputs": [
    {
     "name": "stdout",
     "output_type": "stream",
     "text": [
      "Comprobamos si existen los elementos 2 y 8 \n",
      "\tfutbolistas.has_key(2) = True \n",
      "\tfutbolistas.has_key(8) = False\n"
     ]
    }
   ],
   "source": [
    "# Comprobamos si existe o no una clave\n",
    "existe_2 = 2 in futbolistas\n",
    "existe_8 = 8 in futbolistas\n",
    "print(\"Comprobamos si existen los elementos 2 y 8 \\n\\tfutbolistas.has_key(2) = %s \" \\\n",
    "      \"\\n\\tfutbolistas.has_key(8) = %s\" %(existe_2,existe_8))"
   ]
  },
  {
   "cell_type": "markdown",
   "metadata": {},
   "source": [
    "### 11 - Otro método muy util; es el método __items()__ que devuelve los elementos de los diccionarios en tuplas, en la que en cada una de ellas esta en la primera posición la clave y en la segunda el valor. Veamos un ejemplo:"
   ]
  },
  {
   "cell_type": "code",
   "execution_count": 14,
   "metadata": {},
   "outputs": [
    {
     "name": "stdout",
     "output_type": "stream",
     "text": [
      "Pasamos el diccionario a tuplas con clave-valor: tuplas = futbolistas.items() \n",
      "dict_items([(1, 'Córdoba'), (4, 'Ibarra'), (2, 'Bermúdez'), (13, 'Traverso'), (6, 'Matellán'), (5, 'Serna'), (18, 'Basualdo'), (10, 'Riquelme'), (9, 'Palermo'), (16, 'Delgado'), (7, 'Schelotto'), (14, 'Burdisso')])\n"
     ]
    }
   ],
   "source": [
    "# Devolvemos los elementos del diccionario en tuplas\n",
    "tuplas = futbolistas.items()\n",
    "print(\"Pasamos el diccionario a tuplas con clave-valor: tuplas = futbolistas.items() \\n%s\" %tuplas)"
   ]
  },
  {
   "cell_type": "markdown",
   "metadata": {},
   "source": [
    "## 12 - Por último vamos a ver el método __update(dict)__ que nos va a permitir unir los elementos de dos diccionarios. Este método inserta en el diccionario aquellos elementos del diccionario que se le pasa como parámetro, cuyas claves no estén en el diccionario. Veamos el siguiente ejemplo:"
   ]
  },
  {
   "cell_type": "code",
   "execution_count": 15,
   "metadata": {},
   "outputs": [],
   "source": [
    "# Mergeamos dos diccionarios\n",
    "suplentes = {\n",
    "    12:'Abbondanzieri', 19:'Muñoz', 17:'Arruabarrena',\n",
    "    15:'Coloccini' , 3:'Samuel', 20:'Gustavo Schelotto',\n",
    "    11:'Barijho', 8:'Herrera'\n",
    "}"
   ]
  },
  {
   "cell_type": "code",
   "execution_count": 16,
   "metadata": {},
   "outputs": [
    {
     "name": "stdout",
     "output_type": "stream",
     "text": [
      "Añadimos los elementos de un diccionario a otro futbolistas.update(suplentes): \n",
      "{1: 'Córdoba', 4: 'Ibarra', 2: 'Bermúdez', 13: 'Traverso', 6: 'Matellán', 5: 'Serna', 18: 'Basualdo', 10: 'Riquelme', 9: 'Palermo', 16: 'Delgado', 7: 'Schelotto', 14: 'Burdisso', 12: 'Abbondanzieri', 19: 'Muñoz', 17: 'Arruabarrena', 15: 'Coloccini', 3: 'Samuel', 20: 'Gustavo Schelotto', 11: 'Barijho', 8: 'Herrera'}\n"
     ]
    }
   ],
   "source": [
    "futbolistas.update(suplentes)\n",
    "print(\"Añadimos los elementos de un diccionario a otro futbolistas.update(suplentes): \\n%s\" %futbolistas)"
   ]
  },
  {
   "cell_type": "markdown",
   "metadata": {},
   "source": [
    "### Como vemos en este ejemplo nos hemos creado un nuevo diccionario con los futbolistas __suplentes__ y lo hemos unido al diccionario futbolistas. De esta forma el diccionario __futbolistas__ ya tiene todos los futbolistas (__titulares+suplentes__). Como resultado tenemos lo siguiente:"
   ]
  },
  {
   "cell_type": "code",
   "execution_count": 17,
   "metadata": {},
   "outputs": [
    {
     "data": {
      "text/plain": [
       "{1: 'Córdoba',\n",
       " 4: 'Ibarra',\n",
       " 2: 'Bermúdez',\n",
       " 13: 'Traverso',\n",
       " 6: 'Matellán',\n",
       " 5: 'Serna',\n",
       " 18: 'Basualdo',\n",
       " 10: 'Riquelme',\n",
       " 9: 'Palermo',\n",
       " 16: 'Delgado',\n",
       " 7: 'Schelotto',\n",
       " 14: 'Burdisso',\n",
       " 12: 'Abbondanzieri',\n",
       " 19: 'Muñoz',\n",
       " 17: 'Arruabarrena',\n",
       " 15: 'Coloccini',\n",
       " 3: 'Samuel',\n",
       " 20: 'Gustavo Schelotto',\n",
       " 11: 'Barijho',\n",
       " 8: 'Herrera'}"
      ]
     },
     "execution_count": 17,
     "metadata": {},
     "output_type": "execute_result"
    }
   ],
   "source": [
    "futbolistas"
   ]
  }
 ],
 "metadata": {
  "kernelspec": {
   "display_name": "Python 3",
   "language": "python",
   "name": "python3"
  },
  "language_info": {
   "codemirror_mode": {
    "name": "ipython",
    "version": 3
   },
   "file_extension": ".py",
   "mimetype": "text/x-python",
   "name": "python",
   "nbconvert_exporter": "python",
   "pygments_lexer": "ipython3",
   "version": "3.7.4"
  }
 },
 "nbformat": 4,
 "nbformat_minor": 4
}
