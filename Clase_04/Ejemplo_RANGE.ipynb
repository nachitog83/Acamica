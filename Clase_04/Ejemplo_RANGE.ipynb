{
 "cells": [
  {
   "cell_type": "markdown",
   "metadata": {},
   "source": [
    "# Función __range()__:"
   ]
  },
  {
   "cell_type": "markdown",
   "metadata": {},
   "source": [
    "En ésta notebook vamos a aprender cómo usar la función __range()__ de Python, con la ayuda de diferentes ejemplos. __range()__, es una función integrada de Python que devuelve un objeto de rango, que no es más que una secuencia de enteros. Es decir, Python __range()__ genera los números enteros entre el valor __entero de inicio__ y el valor __entero de parada__, que generalmente se utiliza para iterar en un ciclo __for__."
   ]
  },
  {
   "cell_type": "markdown",
   "metadata": {},
   "source": [
    "Veamos cómo usar la función __range()__ con la ayuda de un ejemplo simple:"
   ]
  },
  {
   "cell_type": "code",
   "execution_count": 1,
   "metadata": {},
   "outputs": [
    {
     "name": "stdout",
     "output_type": "stream",
     "text": [
      "0, 1, 2, 3, 4, 5, "
     ]
    }
   ],
   "source": [
    "for i in range(6):\n",
    "    print(i, end=', ')"
   ]
  },
  {
   "cell_type": "markdown",
   "metadata": {},
   "source": [
    "__Nota:__ Tenemos enteros de 0 a 5 porque la función __range()__ no incluye el número de parada en el resultado."
   ]
  },
  {
   "cell_type": "code",
   "execution_count": 2,
   "metadata": {
    "jupyter": {
     "source_hidden": true
    }
   },
   "outputs": [
    {
     "data": {
      "text/html": [
       "<img src=\"https://pynative.com/wp-content/uploads/2018/10/python_range-300x220.png\" width=\"300\"/>"
      ],
      "text/plain": [
       "<IPython.core.display.Image object>"
      ]
     },
     "execution_count": 2,
     "metadata": {},
     "output_type": "execute_result"
    }
   ],
   "source": [
    "from IPython.display import Image\n",
    "from IPython.core.display import HTML \n",
    "Image(url= \"https://pynative.com/wp-content/uploads/2018/10/python_range-300x220.png\", width=300)"
   ]
  },
  {
   "cell_type": "markdown",
   "metadata": {},
   "source": [
    "## Sintaxis y argumentos de la función __range()__:"
   ]
  },
  {
   "cell_type": "markdown",
   "metadata": {},
   "source": [
    ">range(inicio, parada [, paso])"
   ]
  },
  {
   "cell_type": "markdown",
   "metadata": {},
   "source": [
    "__range()__ toma tres argumentos, de los tres, dos son opcionales. Es decir, __Inicio__ y __Paso__ son los argumentos opcionales. \n",
    "* Un argumento de inicio es un número inicial de la secuencia, es decir, límite inferior. Por defecto, comienza con 0 si no se especifica.\n",
    "* Un argumento de parada es un límite superior. Es decir, generar números hasta este número, la función range() no incluye este número en el resultado.\n",
    "* El paso es una diferencia entre cada número en el resultado. El valor predeterminado del paso es 1 si no se especifica."
   ]
  },
  {
   "cell_type": "markdown",
   "metadata": {},
   "source": [
    "---"
   ]
  },
  {
   "cell_type": "markdown",
   "metadata": {},
   "source": [
    "## Ejemplos:"
   ]
  },
  {
   "cell_type": "markdown",
   "metadata": {},
   "source": [
    "### 1 - Usar solo un argumento en __range()__:"
   ]
  },
  {
   "cell_type": "code",
   "execution_count": 3,
   "metadata": {},
   "outputs": [
    {
     "name": "stdout",
     "output_type": "stream",
     "text": [
      "Imprime los primeros 5 números usando la función de rango:\n",
      "0,1,2,3,4,"
     ]
    }
   ],
   "source": [
    "print(\"Imprime los primeros 5 números usando la función de rango:\")\n",
    "for i in range(5):\n",
    "    print(i, end = ',') "
   ]
  },
  {
   "cell_type": "markdown",
   "metadata": {},
   "source": [
    "Solo se pasa el argumento de __parada__ a la función __range()__. Entonces, por defecto, toma __inicio=0__ y __paso=1__."
   ]
  },
  {
   "cell_type": "markdown",
   "metadata": {},
   "source": [
    "### 2 - Usar dos argumentos (__inicio__ y __parada__) en __range()__:"
   ]
  },
  {
   "cell_type": "code",
   "execution_count": 4,
   "metadata": {},
   "outputs": [
    {
     "name": "stdout",
     "output_type": "stream",
     "text": [
      "Imprimir números enteros dentro del número de inicio y parada dados usando la función range():\n",
      "5,6,7,8,9,"
     ]
    }
   ],
   "source": [
    "print (\"Imprimir números enteros dentro del número de inicio y parada dados usando la función range():\")\n",
    "for i in range(5, 10):\n",
    "    print(i, end = ',') "
   ]
  },
  {
   "cell_type": "markdown",
   "metadata": {},
   "source": [
    "Solo se pasan dos argumentos (__inicio__ y __parada__) a la función de rango. Entonces, por defecto, toma el valor del argumento __paso=1__."
   ]
  },
  {
   "cell_type": "markdown",
   "metadata": {},
   "source": [
    "### 3 - Uso de los tres argumentos en la función __range()__:"
   ]
  },
  {
   "cell_type": "code",
   "execution_count": 5,
   "metadata": {},
   "outputs": [
    {
     "name": "stdout",
     "output_type": "stream",
     "text": [
      "Utilizando los argumentos de inicio, paradan y paso en la función range() de Python:\n",
      "Imprimiendo todos los números impares entre 1 y 10 usando range():\n",
      "1,3,5,7,9,"
     ]
    }
   ],
   "source": [
    "print (\"Utilizando los argumentos de inicio, paradan y paso en la función range() de Python:\")\n",
    "print (\"Imprimiendo todos los números impares entre 1 y 10 usando range():\")\n",
    "for i in range(1, 10, 2):\n",
    "    print(i, end = ',') "
   ]
  },
  {
   "cell_type": "markdown",
   "metadata": {},
   "source": [
    "---"
   ]
  },
  {
   "cell_type": "markdown",
   "metadata": {},
   "source": [
    "## Puntos a recordar acerca de los argumentos de la función __range()__:\n",
    "* La función __range()__ sólo funciona con números enteros.\n",
    "* Todos los argumentos deben ser enteros. No se puede pasar una cadena o número flotante o cualquier otro tipo en un argumento de inicio, parada y paso.\n",
    "* Los tres argumentos pueden ser positivos o negativos .\n",
    "* El valor del paso no debe ser cero. Si un paso es cero, python genera una excepción __ValueError__."
   ]
  },
  {
   "cell_type": "markdown",
   "metadata": {},
   "source": [
    "---"
   ]
  },
  {
   "cell_type": "markdown",
   "metadata": {},
   "source": [
    "## Python __range()__ con bucle __for__:\n",
    "Un bucle ejecuta un bloque de código o declaración repetidamente durante el número fijo de veces. Usando for loop podemos iterar sobre una secuencia de números producidos por la función __range()__.\n",
    "\n",
    "Veamos esto con un ejemplo. Supongamos que tenemos una lista de 5 números y deseamos mostrar cada elemento duplicado, veamos cómo hacerlo usando una función __for__ y con __range()__."
   ]
  },
  {
   "cell_type": "code",
   "execution_count": 6,
   "metadata": {},
   "outputs": [
    {
     "name": "stdout",
     "output_type": "stream",
     "text": [
      "Duplica los números de la lista usando la función for loop y range ():\n",
      "Índice de elementos [ 0 ] -> Valor anterior = 10 -> Valor duplicado = 20\n",
      "Índice de elementos [ 1 ] -> Valor anterior = 16 -> Valor duplicado = 32\n",
      "Índice de elementos [ 2 ] -> Valor anterior = 19 -> Valor duplicado = 38\n",
      "Índice de elementos [ 3 ] -> Valor anterior = 22 -> Valor duplicado = 44\n",
      "Índice de elementos [ 4 ] -> Valor anterior = 35 -> Valor duplicado = 70\n"
     ]
    }
   ],
   "source": [
    "print (\"Duplica los números de la lista usando la función for loop y range ():\")\n",
    "lista = [10, 16, 19, 22, 35]\n",
    "for i in range(len(lista)):\n",
    "    print(\"Índice de elementos [\", i, \"] ->\", \"Valor anterior =\", lista[i], \"-> Valor duplicado =\", lista[i] * 2) "
   ]
  },
  {
   "cell_type": "markdown",
   "metadata": {},
   "source": [
    "Aquí, usando una __len(list)__, obtuvimos el total de los elementos de una lista para luego poder iterar por un número fijo de veces.\n",
    "__Nota:__ la variable i no obtiene los valores 0, 1, 2, 3, 4 al mismo tiempo, cada valor se obtiene de manera secuencial."
   ]
  },
  {
   "cell_type": "code",
   "execution_count": 7,
   "metadata": {
    "jupyter": {
     "source_hidden": true
    }
   },
   "outputs": [
    {
     "data": {
      "text/html": [
       "<img src=\"https://pynative.com/wp-content/uploads/2018/10/Python_for_loop_with_range.png\" width=\"300\"/>"
      ],
      "text/plain": [
       "<IPython.core.display.Image object>"
      ]
     },
     "execution_count": 7,
     "metadata": {},
     "output_type": "execute_result"
    }
   ],
   "source": [
    "Image(url= \"https://pynative.com/wp-content/uploads/2018/10/Python_for_loop_with_range.png\", width=300)"
   ]
  },
  {
   "cell_type": "markdown",
   "metadata": {},
   "source": [
    "---"
   ]
  },
  {
   "cell_type": "markdown",
   "metadata": {},
   "source": [
    "## Para más detalles: [Python range()](https://pynative.com/python-range-function/)"
   ]
  }
 ],
 "metadata": {
  "kernelspec": {
   "display_name": "Python 3",
   "language": "python",
   "name": "python3"
  },
  "language_info": {
   "codemirror_mode": {
    "name": "ipython",
    "version": 3
   },
   "file_extension": ".py",
   "mimetype": "text/x-python",
   "name": "python",
   "nbconvert_exporter": "python",
   "pygments_lexer": "ipython3",
   "version": "3.7.4"
  }
 },
 "nbformat": 4,
 "nbformat_minor": 4
}
