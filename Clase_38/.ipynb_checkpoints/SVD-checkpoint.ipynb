{
 "cells": [
  {
   "cell_type": "markdown",
   "metadata": {},
   "source": [
    "# Singular Value Decomposition (SVD)\n",
    "\n",
    "<img src=\"https://cdn.memegenerator.es/imagenes/memes/full/14/5/14051825.jpg\">"
   ]
  },
  {
   "cell_type": "markdown",
   "metadata": {},
   "source": [
    "La descomposición por valor singular, o SVD, es un método de descomposición de matriz que permite reducir una matriz a sus partes constituyentes, `con el fin de simplificar ciertos cálculos de matriz posteriores.`\n",
    "\n",
    "$$\n",
    "A = U \\Sigma V^T\n",
    "$$\n",
    "\n",
    "Donde $A$ es una matriz de $mxn$ que deseamos descomponer, $U$ es una matriz de $mxm$, $\\Sigma$ es una matriz diagonal de $mxn$, y $V^T$ es la transposición de una matriz de $nxn$, donde $T$ significa transpuesto.\n",
    "\n",
    "Los valores diagonales en la matriz $\\Sigma$ se conocen como los `valores singulares de la matriz original` $A$. Las columnas de la matriz $U$ se denominan `vectores singulares a la izquierda` de $A$, y las columnas de $V$ se denominan `vectores singulares a la derecha` de $A$.\n",
    "\n",
    "#### `La SVD se calcula mediante métodos numéricos iterativos. No entraremos en detalles sobre estos métodos. Cada matriz rectangular tiene una descomposición por valor singular.`\n",
    "\n",
    "SVD se usa ampliamente tanto en el cálculo de otras operaciones matriciales, como la matriz inversa, como también como un `método de reducción de datos en el aprendizaje automático.` "
   ]
  },
  {
   "cell_type": "markdown",
   "metadata": {},
   "source": [
    "----\n",
    "# Calcular la SVD\n",
    "\n",
    "La SVD se puede calcular usando la función `svd()` de la librería `scipy`\n",
    "\n",
    "La función toma una matriz y devuelve los elementos $U$, $\\Sigma$ y $V^T$. La matriz diagonal $\\Sigma$ es devuelta como un vector de valores singulares. La matriz $V$ es devuelta en su forma transpuesta.\n",
    "\n",
    "El siguiente ejemplo define una matriz de $3×2$ y se calcula la descomposición por valor singular."
   ]
  },
  {
   "cell_type": "code",
   "execution_count": 1,
   "metadata": {},
   "outputs": [
    {
     "name": "stdout",
     "output_type": "stream",
     "text": [
      "Matriz a descomponer:\n",
      "[[1 2]\n",
      " [3 4]\n",
      " [5 6]]\n",
      "\n",
      "Matriz U:\n",
      "[[-0.2298477   0.88346102  0.40824829]\n",
      " [-0.52474482  0.24078249 -0.81649658]\n",
      " [-0.81964194 -0.40189603  0.40824829]]\n",
      "\n",
      "Matriz s: Ojo que no es la matriz diagonal Sigma!\n",
      "[9.52551809 0.51430058]\n",
      "\n",
      "Matriz V^T:\n",
      "[[-0.61962948 -0.78489445]\n",
      " [-0.78489445  0.61962948]]\n"
     ]
    }
   ],
   "source": [
    "# Singular-value decomposition\n",
    "import numpy as np\n",
    "from scipy.linalg import svd\n",
    "\n",
    "# define a matrix\n",
    "A = np.array([[1, 2], [3, 4], [5, 6]])\n",
    "print(\"Matriz a descomponer:\")\n",
    "print(A)\n",
    "\n",
    "# SVD\n",
    "U, s, VT = svd(A)\n",
    "print(\"\\nMatriz U:\")\n",
    "print(U)\n",
    "print(\"\\nMatriz s: Ojo que no es la matriz diagonal Sigma!\")\n",
    "print(s)\n",
    "print(\"\\nMatriz V^T:\")\n",
    "print(VT)"
   ]
  },
  {
   "cell_type": "markdown",
   "metadata": {},
   "source": [
    "Al ejecutar el ejemplo, primero se imprime la matriz $3 × 2$ definida, luego la matriz $U$ de $3 × 3$, el vector $\\Sigma$ de 2 elementos y los elementos de la matriz $V^T$ de $2 × 2$ calculados a partir de la descomposición."
   ]
  },
  {
   "cell_type": "markdown",
   "metadata": {},
   "source": [
    "----\n",
    "# Reconstrucción de una matriz a partir de su descomposición por SVD\n",
    "\n",
    "La matriz original se puede reconstruir a partir de los elementos $U$, $\\Sigma$ y $V^T$.\n",
    "\n",
    "Los elementos `U`, `s` y `V` devueltos por `svd()` no se pueden multiplicar directamente.\n",
    "\n",
    "El vector `s` debe convertirse en una `matriz diagonal` utilizando la función `diag()`. Por defecto, esta función creará una matriz cuadrada que de $n x n$, en relación con nuestra matriz original. Esto causa un problema ya que el tamaño de las matrices no se ajusta a las reglas de la multiplicación de matrices, donde el número de columnas en una matriz debe coincidir con el número de filas en la matriz posterior.\n",
    "\n",
    "Después de crear la matriz diagonal cuadrada, $\\Sigma$, los tamaños de las matrices son relativos a la matriz original $m x n$ que estamos descomponiendo, de la siguiente manera:"
   ]
  },
  {
   "cell_type": "code",
   "execution_count": 2,
   "metadata": {},
   "outputs": [
    {
     "name": "stdout",
     "output_type": "stream",
     "text": [
      "Matriz Sigma vacía:\n",
      "[[0. 0.]\n",
      " [0. 0.]\n",
      " [0. 0.]]\n",
      "\n",
      "Matriz Sigma formada a partir del vector s:\n",
      "[[9.52551809 0.        ]\n",
      " [0.         0.51430058]\n",
      " [0.         0.        ]]\n",
      "\n",
      "Matriz original:\n",
      "[[1 2]\n",
      " [3 4]\n",
      " [5 6]]\n",
      "\n",
      "Matriz reconstruida:\n",
      "[[1. 2.]\n",
      " [3. 4.]\n",
      " [5. 6.]]\n"
     ]
    }
   ],
   "source": [
    "# create m x n Sigma matrix\n",
    "Sigma = np.zeros((A.shape[0], A.shape[1]))\n",
    "print(\"Matriz Sigma vacía:\")\n",
    "print(Sigma)\n",
    "\n",
    "# populate Sigma with n x n diagonal matrix\n",
    "Sigma[:A.shape[1], :A.shape[1]] = np.diag(s)\n",
    "print(\"\\nMatriz Sigma formada a partir del vector s:\")\n",
    "print(Sigma)\n",
    "\n",
    "# reconstruct matrix\n",
    "A_reconstr = U.dot(Sigma.dot(VT))\n",
    "print(\"\\nMatriz original:\")\n",
    "print(A)\n",
    "print(\"\\nMatriz reconstruida:\")\n",
    "print(A_reconstr)"
   ]
  },
  {
   "cell_type": "markdown",
   "metadata": {},
   "source": [
    "La complicación anterior con la diagonal $\\Sigma$ sólo existe con el caso en que $m$ y $n$ no son iguales. La matriz diagonal se puede usar directamente al reconstruir una matriz cuadrada, como se indica a continuación."
   ]
  },
  {
   "cell_type": "code",
   "execution_count": 3,
   "metadata": {},
   "outputs": [
    {
     "name": "stdout",
     "output_type": "stream",
     "text": [
      "Matriz original:\n",
      "[[1 2 3]\n",
      " [4 5 6]\n",
      " [7 8 9]]\n",
      "\n",
      "Matriz Sigma:\n",
      "[[1.68481034e+01 0.00000000e+00 0.00000000e+00]\n",
      " [0.00000000e+00 1.06836951e+00 0.00000000e+00]\n",
      " [0.00000000e+00 0.00000000e+00 1.47280825e-16]]\n",
      "\n",
      "Matriz reconstruida:\n",
      "[[1. 2. 3.]\n",
      " [4. 5. 6.]\n",
      " [7. 8. 9.]]\n"
     ]
    }
   ],
   "source": [
    "# Reconstruct SVD\n",
    "# define a matrix\n",
    "A = np.array([[1, 2, 3], [4, 5, 6], [7, 8, 9]])\n",
    "print(\"Matriz original:\")\n",
    "print(A)\n",
    "\n",
    "# Singular-value decomposition\n",
    "U, s, VT = svd(A)\n",
    "\n",
    "# create n x n Sigma matrix\n",
    "Sigma = np.diag(s)\n",
    "print(\"\\nMatriz Sigma:\")\n",
    "print(Sigma)\n",
    "\n",
    "# reconstruct matrix\n",
    "A_reconstr = U.dot(Sigma.dot(VT))\n",
    "print(\"\\nMatriz reconstruida:\")\n",
    "print(A_reconstr)"
   ]
  },
  {
   "cell_type": "markdown",
   "metadata": {},
   "source": [
    "---\n",
    "# SVD para reducción de dimensionalidad\n",
    "\n",
    "Una aplicación popular de SVD es la `reducción de dimensionalidad.`\n",
    "\n",
    "#### `Los datos con una gran cantidad de características, como más características (columnas) que observaciones (filas) pueden reducirse a un subconjunto más pequeño de características que son más relevantes para el problema de predicción.`\n",
    "\n",
    "El resultado es una matriz con un rango inferior que se dice que se aproxima a la matriz original.\n",
    "\n",
    "Para hacer esto, podemos realizar una operación SVD en los datos originales y seleccionar los `K valores singulares` más grandes en $\\Sigma$. Estas columnas se pueden seleccionar de $\\Sigma$ y las filas seleccionadas de $V^T$.\n",
    "\n",
    "Entonces se puede reconstruir una $A'$ de la matriz $A$ original:\n",
    "\n",
    "$$\n",
    "A' = U  \\Sigma_k V_k^T\n",
    "$$\n",
    "\n",
    "En la práctica, podemos retener y trabajar con un subconjunto descriptivo de los datos llamado $B$. `Este es un resumen denso de la matriz.`\n",
    "\n",
    "$$\n",
    "B = U \\Sigma_k\n",
    "$$\n",
    "\n",
    "El siguiente ejemplo demuestra la reducción de datos con SVD.\n",
    "\n",
    "Primero se define una matriz de $3 × 10$, con más columnas que filas. Se calcula la SVD y solo se seleccionan las dos primeras características. Los elementos se recombinan para dar una reproducción precisa de la matriz original."
   ]
  },
  {
   "cell_type": "code",
   "execution_count": 4,
   "metadata": {},
   "outputs": [
    {
     "name": "stdout",
     "output_type": "stream",
     "text": [
      "Matriz original:\n",
      "[[ 1  2  3  4  5  6  7  8  9 10]\n",
      " [11 12 13 14 15 16 17 18 19 20]\n",
      " [21 22 23 24 25 26 27 28 29 30]]\n",
      "\n",
      "Matriz reconstruida:\n",
      "[[ 1.  2.  3.  4.  5.  6.  7.  8.  9. 10.]\n",
      " [11. 12. 13. 14. 15. 16. 17. 18. 19. 20.]\n",
      " [21. 22. 23. 24. 25. 26. 27. 28. 29. 30.]]\n",
      "\n",
      "Matriz reducida:\n",
      "[[-18.52157747   6.47697214]\n",
      " [-49.81310011   1.91182038]\n",
      " [-81.10462276  -2.65333138]]\n"
     ]
    }
   ],
   "source": [
    "from numpy import array\n",
    "from numpy import diag\n",
    "from numpy import zeros\n",
    "from scipy.linalg import svd\n",
    "\n",
    "# define a matrix\n",
    "A = array([\n",
    "    [1,2,3,4,5,6,7,8,9,10],\n",
    "    [11,12,13,14,15,16,17,18,19,20],\n",
    "    [21,22,23,24,25,26,27,28,29,30]])\n",
    "print(\"Matriz original:\")\n",
    "print(A)\n",
    "\n",
    "# Singular-value decomposition\n",
    "U, s, VT = svd(A)\n",
    "\n",
    "# create m x n Sigma matrix\n",
    "Sigma = zeros((A.shape[0], A.shape[1]))\n",
    "# populate Sigma with n x n diagonal matrix\n",
    "Sigma[:A.shape[0], :A.shape[0]] = diag(s)\n",
    "\n",
    "# select only 2\n",
    "n_elements = 2\n",
    "Sigma = Sigma[:, :n_elements]\n",
    "VT = VT[:n_elements, :]\n",
    "\n",
    "# reconstruct\n",
    "A_aprox = U.dot(Sigma.dot(VT))\n",
    "print(\"\\nMatriz reconstruida:\")\n",
    "print(A_aprox)\n",
    "\n",
    "# transform\n",
    "B = U.dot(Sigma)\n",
    "print(\"\\nMatriz reducida:\")\n",
    "print(B)"
   ]
  },
  {
   "cell_type": "markdown",
   "metadata": {},
   "source": [
    "Scikit-learn proporciona una clase `TruncatedSVD` que implementa esta capacidad directamente.\n",
    "\n",
    "Se puede crear la clase `TruncatedSVD` en la que debe especificar el número de características o componentes deseables para seleccionar, por ejemplo: 2. Una vez creado, puede ajustar la transformación (por ejemplo, calcular $V^T_k$) llamando a la función `fit()`, luego aplicarla a la matriz original llamando a la función `transform()`. El resultado es la transformación de $A$ llamada $B$ arriba.\n",
    "\n",
    "El siguiente ejemplo muestra la clase `TruncatedSVD`"
   ]
  },
  {
   "cell_type": "code",
   "execution_count": 5,
   "metadata": {},
   "outputs": [
    {
     "name": "stdout",
     "output_type": "stream",
     "text": [
      "Matriz original:\n",
      "[[ 1  2  3  4  5  6  7  8  9 10]\n",
      " [11 12 13 14 15 16 17 18 19 20]\n",
      " [21 22 23 24 25 26 27 28 29 30]]\n",
      "\n",
      "Matriz reducida:\n",
      "[[18.52157747  6.47697214]\n",
      " [49.81310011  1.91182038]\n",
      " [81.10462276 -2.65333138]]\n"
     ]
    }
   ],
   "source": [
    "from numpy import array\n",
    "from sklearn.decomposition import TruncatedSVD\n",
    "# define array\n",
    "A = array([[1,2,3,4,5,6,7,8,9,10],\n",
    "    [11,12,13,14,15,16,17,18,19,20],\n",
    "    [21,22,23,24,25,26,27,28,29,30]])\n",
    "print(\"Matriz original:\")\n",
    "print(A)\n",
    "\n",
    "# svd\n",
    "svd = TruncatedSVD(n_components=2)\n",
    "svd.fit(A)\n",
    "result = svd.transform(A)\n",
    "\n",
    "print(\"\\nMatriz reducida:\")\n",
    "print(result)"
   ]
  },
  {
   "cell_type": "markdown",
   "metadata": {},
   "source": [
    "Podemos ver que los valores coinciden con los calculados manualmente arriba, excepto por el signo en algunos valores. Podemos esperar que haya cierta inestabilidad cuando se trata del signo dada la naturaleza de los cálculos involucrados y las diferencias en las bibliotecas y métodos subyacentes utilizados. Esta inestabilidad del signo no debería ser un problema en la práctica, siempre y cuando la transformación esté entrenada para su reutilización."
   ]
  },
  {
   "cell_type": "code",
   "execution_count": 6,
   "metadata": {},
   "outputs": [
    {
     "name": "stdout",
     "output_type": "stream",
     "text": [
      "Matriz original:\n",
      "[[ 1  2  3  4  5  6  7  8  9 10]\n",
      " [11 12 13 14 15 16 17 18 19 20]\n",
      " [21 22 23 24 25 26 27 28 29 30]]\n",
      "\n",
      "Matriz reconstruida a partir de la matriz reducida:\n",
      "[[ 1.  2.  3.  4.  5.  6.  7.  8.  9. 10.]\n",
      " [11. 12. 13. 14. 15. 16. 17. 18. 19. 20.]\n",
      " [21. 22. 23. 24. 25. 26. 27. 28. 29. 30.]]\n"
     ]
    }
   ],
   "source": [
    "print(\"Matriz original:\")\n",
    "print(A)\n",
    "print(\"\\nMatriz reconstruida a partir de la matriz reducida:\")\n",
    "print(svd.inverse_transform(result))"
   ]
  },
  {
   "cell_type": "markdown",
   "metadata": {},
   "source": [
    "<img src=\"https://i1.wp.com/www.sopitas.com/wp-content/uploads/2018/06/memes-prohibicion-union-europea.jpg\">"
   ]
  }
 ],
 "metadata": {
  "kernelspec": {
   "display_name": "Python 3",
   "language": "python",
   "name": "python3"
  },
  "language_info": {
   "codemirror_mode": {
    "name": "ipython",
    "version": 3
   },
   "file_extension": ".py",
   "mimetype": "text/x-python",
   "name": "python",
   "nbconvert_exporter": "python",
   "pygments_lexer": "ipython3",
   "version": "3.7.4"
  }
 },
 "nbformat": 4,
 "nbformat_minor": 4
}
