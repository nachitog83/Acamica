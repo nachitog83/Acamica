{
 "cells": [
  {
   "cell_type": "markdown",
   "metadata": {},
   "source": [
    "# TF-IDF v2\n",
    "\n",
    "### Pero Martín, no habías explicado TF-IDF en la otra notebook? \n",
    "\n",
    "<img src='https://em.wattpad.com/28107c22eb70e95b00abe19b2a50f2d4d2197b7e/68747470733a2f2f73332e616d617a6f6e6177732e636f6d2f776174747061642d6d656469612d736572766963652f53746f7279496d6167652f645658326c4b5a443453424446673d3d2d352e313538306462393530386134373165333738313832393831353734302e6a7067?s=fit&w=720&h=720'>"
   ]
  },
  {
   "cell_type": "markdown",
   "metadata": {},
   "source": [
    "TF-IDF es útil para resolver los principales inconvenientes de BoW, al introducir un concepto importante llamado `frecuencia de documento inversa` o IDF.\n",
    "\n",
    "TF-IDF es una puntuación que la máquina mantiene donde se evalúan las palabras utilizadas en una oración y mide su uso en comparación con las palabras utilizadas en todo el documento. En otras palabras, es una puntuación para resaltar la relevancia de cada palabra en todo el documento. Se calcula como:\n",
    "\n",
    "\n",
    "$$IDF = \\log\\left( \\frac{Numero\\ de\\ documentos}{Numero\\ de\\ documentos\\ que\\ contienen\\ la\\ palabra}\\right)$$"
   ]
  },
  {
   "cell_type": "markdown",
   "metadata": {},
   "source": [
    "Por otra parte, tenemos el TF:\n",
    "\n",
    "$$TF = \\frac{Numero\\ de\\ repeticiones\\ de\\ la\\ palabra\\ en\\ un\\ documento}{Numero\\ de\\ palabras\\ en\\ un\\ documento}$$\n",
    "\n",
    "Finalmente:\n",
    "\n",
    "$$TFIDF(palabra) = TF(palabra) * IDF(palabra)$$\n",
    "\n",
    "#### Bien, por ahora solo digamos que TF responde preguntas como: ¿cuántas veces se usa la palabra `belleza` en todo ese documento `X`?\n",
    "\n",
    "#### Por su parte IDF responde preguntas como ¿Qué tan importante es la palabra `belleza` en toda la lista de documentos? ¿Es un tema común en todos los documentos?\n",
    "\n",
    "#### Por lo tanto, el uso de TF e IDF tiene sentido para las palabras importantes en un documento y las palabras importantes en todos los documentos."
   ]
  },
  {
   "cell_type": "markdown",
   "metadata": {},
   "source": [
    "## ¿Cuál es la forma de encontrar TF-IDF de un documento?\n",
    "\n",
    "El proceso para encontrar el significado de los documentos usando TF-IDF es muy similar a la BoW:\n",
    "\n",
    "* Limpieza de Datos/Preprocesamiento: Estandarizar datos, normalizar datos, lematizar datos, etc.\n",
    "* Tokenizar palabras con frecuencia.\n",
    "* Encontrar TF de las palabras.\n",
    "* Encontrar IDF de las palabras.\n",
    "* Vectorizar con TF-IDF."
   ]
  },
  {
   "cell_type": "markdown",
   "metadata": {},
   "source": [
    "Al evaluar TF-IDF o un número de `las palabras utilizadas en una oración frente a las palabras utilizadas en el documento general,` podemos entender:\n",
    "\n",
    "* Cuán útil es una palabra para una oración (lo que nos ayuda a comprender la importancia de una palabra en una oración).\n",
    "* Cuán útil es una palabra para un documento (lo que nos ayuda a comprender las palabras importantes con más frecuencia en un documento).\n",
    "* Nos ayuda a ignorar ciertas palabras que están mal escritas (usando la técnica de n-gramas).\n",
    "\n",
    "Imaginemos que en un documento se escribió incorrectamente la palabra `example` como `exaple`. En el caso de BoW, tanto el `example` como el `exaple` se tratarán como palabras diferentes y se les dará la misma importancia porque su frecuencia es la misma.\n",
    "\n",
    "En el caso de TD-IDF debido a la puntuación IDF, este error se corrige porque sabemos que `example` es más importante que `exaple`, por lo que lo tratamos como una palabra no útil.\n",
    "\n",
    "$$IDF = \\log\\left( \\frac{Numero\\ de\\ documentos}{Numero\\ de\\ documentos\\ que\\ contienen\\ la\\ palabra}\\right)$$\n",
    "\n",
    "Ahora, debido a estos puntajes, nuestra máquina tiene una mejor comprensión de estos documentos y se le puede pedir que los compare, que encuentre documentos similares, que encuentre documentos opuestos, que encuentre similitudes en el documento y por ejemplo puede ser utilizada por la máquina para recomendarte qué leer en base a los textos que comúnmente lees."
   ]
  },
  {
   "cell_type": "markdown",
   "metadata": {},
   "source": [
    "---\n",
    "\n",
    "## Vamos con un ejemplo manual\n",
    "\n",
    "Tenemos 3 documentos:\n",
    "\n",
    "* Documento 1: `It is going to rain today`\n",
    "* Documento 2: `Today I am not going outside`\n",
    "* Documento 3: `I am going to watch the season premiere`\n",
    "\n",
    "Para encontrar TF-IDF, debemos realizar los pasos que describimos anteriormente, vamos a hacerlo."
   ]
  },
  {
   "cell_type": "markdown",
   "metadata": {},
   "source": [
    "## Paso 1: Limpiar y Tokenizar con frequencia\n",
    "\n",
    "<img src='https://miro.medium.com/max/358/1*4e7_738WtUgkKSdumJfQ1Q.png'>"
   ]
  },
  {
   "cell_type": "markdown",
   "metadata": {},
   "source": [
    "## Paso 2: Encontrar TF\n",
    "\n",
    "`It is going to rain today` tiene 6 palabras.\n",
    "\n",
    "<img src='https://miro.medium.com/max/273/1*pWR7LSh3Ui9ADTqRrcbTcw.png'>"
   ]
  },
  {
   "cell_type": "markdown",
   "metadata": {},
   "source": [
    "Para el resto de los documentos:\n",
    "\n",
    "<img src='https://miro.medium.com/max/550/1*58b3x6cd6SefwgERcaGamg.png'>"
   ]
  },
  {
   "cell_type": "markdown",
   "metadata": {},
   "source": [
    "## Paso 3: Encontrar el IDF\n",
    "\n",
    "<img src='https://miro.medium.com/max/442/1*goSIDb32U3DflYNrKUXQHQ.png'>"
   ]
  },
  {
   "cell_type": "markdown",
   "metadata": {},
   "source": [
    "## Paso 4: Vectorizar con TF-IDF\n",
    "\n",
    "<img src='https://miro.medium.com/max/1042/1*OXjZ3vpUk-T3kyZL4Ytncw.png'>"
   ]
  },
  {
   "cell_type": "markdown",
   "metadata": {},
   "source": [
    "## Paso 5: Comparar resultados\n",
    "\n",
    "<img src='https://miro.medium.com/max/1005/1*jhKVAMWLbmstk5VO3jdAiw.png'>"
   ]
  },
  {
   "cell_type": "markdown",
   "metadata": {},
   "source": [
    "Con esta tabla, se puede ver fácilmente que palabras como `it`, `is`, `rain` son importantes para el `Documento 1` pero no para el `Documento 2` y el `Documento 3`, lo que significa que los `Documentos 1` & `2 y 3` son diferentes en el tema lluvia.\n",
    "\n",
    "También puede decir que los `Documentos 1 y 2` hablan sobre `today`, y los `Documentos 2 y 3` hablan sobre el escritor debido a la palabra `I`\n",
    "\n",
    "Esta tabla nos ayuda a encontrar similitudes y diferencias entre documentos, palabras y mucho más, de una mejor manera que BoW."
   ]
  },
  {
   "cell_type": "markdown",
   "metadata": {},
   "source": [
    "---\n",
    "\n",
    "# Ahora lo hacemos con Python (y en menos pasos)"
   ]
  },
  {
   "cell_type": "markdown",
   "metadata": {},
   "source": [
    "### Paso 1: Declaramos todos los documentos."
   ]
  },
  {
   "cell_type": "code",
   "execution_count": 1,
   "metadata": {},
   "outputs": [
    {
     "name": "stdout",
     "output_type": "stream",
     "text": [
      "['It is going to rain today.', 'Today I am not going outside.', 'I am going to watch the season premiere.']\n"
     ]
    }
   ],
   "source": [
    "Document1 = \"It is going to rain today.\"\n",
    "Document2 = \"Today I am not going outside.\"\n",
    "Document3 = \"I am going to watch the season premiere.\"\n",
    "\n",
    "Doc = [Document1, Document2, Document3]\n",
    "print(Doc)"
   ]
  },
  {
   "cell_type": "markdown",
   "metadata": {},
   "source": [
    "### Paso 2: Inicializamos un objeto `TfidfVectorizer`, en este caso no vamos a eliminar las `stopwords.`"
   ]
  },
  {
   "cell_type": "code",
   "execution_count": 2,
   "metadata": {},
   "outputs": [],
   "source": [
    "from sklearn.feature_extraction.text import TfidfVectorizer\n",
    "\n",
    "vectorizer = TfidfVectorizer()"
   ]
  },
  {
   "cell_type": "markdown",
   "metadata": {},
   "source": [
    "### Paso 3: Vectorizamos creando la matriz de los tres documentos, con los features names y visualizamos en un dataframe."
   ]
  },
  {
   "cell_type": "code",
   "execution_count": 3,
   "metadata": {},
   "outputs": [
    {
     "name": "stdout",
     "output_type": "stream",
     "text": [
      "Document 1 ['it', 'is', 'going', 'to', 'rain', 'today']\n",
      "Document 2 ['today', 'am', 'not', 'going', 'outside']\n",
      "Document 3 ['am', 'going', 'to', 'watch', 'the', 'season', 'premiere']\n"
     ]
    },
    {
     "data": {
      "text/html": [
       "<div>\n",
       "<style scoped>\n",
       "    .dataframe tbody tr th:only-of-type {\n",
       "        vertical-align: middle;\n",
       "    }\n",
       "\n",
       "    .dataframe tbody tr th {\n",
       "        vertical-align: top;\n",
       "    }\n",
       "\n",
       "    .dataframe thead th {\n",
       "        text-align: right;\n",
       "    }\n",
       "</style>\n",
       "<table border=\"1\" class=\"dataframe\">\n",
       "  <thead>\n",
       "    <tr style=\"text-align: right;\">\n",
       "      <th></th>\n",
       "      <th>am</th>\n",
       "      <th>going</th>\n",
       "      <th>is</th>\n",
       "      <th>it</th>\n",
       "      <th>not</th>\n",
       "      <th>outside</th>\n",
       "      <th>premiere</th>\n",
       "      <th>rain</th>\n",
       "      <th>season</th>\n",
       "      <th>the</th>\n",
       "      <th>to</th>\n",
       "      <th>today</th>\n",
       "      <th>watch</th>\n",
       "    </tr>\n",
       "  </thead>\n",
       "  <tbody>\n",
       "    <tr>\n",
       "      <td>0</td>\n",
       "      <td>0.000000</td>\n",
       "      <td>0.278245</td>\n",
       "      <td>0.47111</td>\n",
       "      <td>0.47111</td>\n",
       "      <td>0.000000</td>\n",
       "      <td>0.000000</td>\n",
       "      <td>0.000000</td>\n",
       "      <td>0.47111</td>\n",
       "      <td>0.000000</td>\n",
       "      <td>0.000000</td>\n",
       "      <td>0.358291</td>\n",
       "      <td>0.358291</td>\n",
       "      <td>0.000000</td>\n",
       "    </tr>\n",
       "    <tr>\n",
       "      <td>1</td>\n",
       "      <td>0.406192</td>\n",
       "      <td>0.315444</td>\n",
       "      <td>0.00000</td>\n",
       "      <td>0.00000</td>\n",
       "      <td>0.534093</td>\n",
       "      <td>0.534093</td>\n",
       "      <td>0.000000</td>\n",
       "      <td>0.00000</td>\n",
       "      <td>0.000000</td>\n",
       "      <td>0.000000</td>\n",
       "      <td>0.000000</td>\n",
       "      <td>0.406192</td>\n",
       "      <td>0.000000</td>\n",
       "    </tr>\n",
       "    <tr>\n",
       "      <td>2</td>\n",
       "      <td>0.324124</td>\n",
       "      <td>0.251711</td>\n",
       "      <td>0.00000</td>\n",
       "      <td>0.00000</td>\n",
       "      <td>0.000000</td>\n",
       "      <td>0.000000</td>\n",
       "      <td>0.426184</td>\n",
       "      <td>0.00000</td>\n",
       "      <td>0.426184</td>\n",
       "      <td>0.426184</td>\n",
       "      <td>0.324124</td>\n",
       "      <td>0.000000</td>\n",
       "      <td>0.426184</td>\n",
       "    </tr>\n",
       "  </tbody>\n",
       "</table>\n",
       "</div>"
      ],
      "text/plain": [
       "         am     going       is       it       not   outside  premiere  \\\n",
       "0  0.000000  0.278245  0.47111  0.47111  0.000000  0.000000  0.000000   \n",
       "1  0.406192  0.315444  0.00000  0.00000  0.534093  0.534093  0.000000   \n",
       "2  0.324124  0.251711  0.00000  0.00000  0.000000  0.000000  0.426184   \n",
       "\n",
       "      rain    season       the        to     today     watch  \n",
       "0  0.47111  0.000000  0.000000  0.358291  0.358291  0.000000  \n",
       "1  0.00000  0.000000  0.000000  0.000000  0.406192  0.000000  \n",
       "2  0.00000  0.426184  0.426184  0.324124  0.000000  0.426184  "
      ]
     },
     "execution_count": 3,
     "metadata": {},
     "output_type": "execute_result"
    }
   ],
   "source": [
    "import pandas as pd\n",
    "\n",
    "X = vectorizer.fit_transform(Doc)\n",
    "analyze = vectorizer.build_analyzer()\n",
    "print('Document 1', analyze(Document1))\n",
    "print('Document 2', analyze(Document2))\n",
    "print('Document 3', analyze(Document3))\n",
    "\n",
    "X = vectorizer.fit_transform(Doc)\n",
    "feature_names = vectorizer.get_feature_names()\n",
    "\n",
    "con_stop_words = pd.DataFrame(X.toarray(), columns = feature_names)\n",
    "con_stop_words"
   ]
  },
  {
   "cell_type": "markdown",
   "metadata": {},
   "source": [
    "<img src='https://cdn.memegenerator.es/imagenes/memes/full/22/45/22459081.jpg'>\n",
    "\n",
    "\n",
    "<img src='https://miro.medium.com/max/1005/1*jhKVAMWLbmstk5VO3jdAiw.png'>"
   ]
  },
  {
   "cell_type": "code",
   "execution_count": 4,
   "metadata": {},
   "outputs": [
    {
     "data": {
      "text/html": [
       "<div>\n",
       "<style scoped>\n",
       "    .dataframe tbody tr th:only-of-type {\n",
       "        vertical-align: middle;\n",
       "    }\n",
       "\n",
       "    .dataframe tbody tr th {\n",
       "        vertical-align: top;\n",
       "    }\n",
       "\n",
       "    .dataframe thead th {\n",
       "        text-align: right;\n",
       "    }\n",
       "</style>\n",
       "<table border=\"1\" class=\"dataframe\">\n",
       "  <thead>\n",
       "    <tr style=\"text-align: right;\">\n",
       "      <th></th>\n",
       "      <th>am</th>\n",
       "      <th>going</th>\n",
       "      <th>is</th>\n",
       "      <th>it</th>\n",
       "      <th>not</th>\n",
       "      <th>outside</th>\n",
       "      <th>premiere</th>\n",
       "      <th>rain</th>\n",
       "      <th>season</th>\n",
       "      <th>the</th>\n",
       "      <th>to</th>\n",
       "      <th>today</th>\n",
       "      <th>watch</th>\n",
       "    </tr>\n",
       "  </thead>\n",
       "  <tbody>\n",
       "    <tr>\n",
       "      <td>0</td>\n",
       "      <td>0.000000</td>\n",
       "      <td>0.278245</td>\n",
       "      <td>0.47111</td>\n",
       "      <td>0.47111</td>\n",
       "      <td>0.000000</td>\n",
       "      <td>0.000000</td>\n",
       "      <td>0.000000</td>\n",
       "      <td>0.47111</td>\n",
       "      <td>0.000000</td>\n",
       "      <td>0.000000</td>\n",
       "      <td>0.358291</td>\n",
       "      <td>0.358291</td>\n",
       "      <td>0.000000</td>\n",
       "    </tr>\n",
       "    <tr>\n",
       "      <td>1</td>\n",
       "      <td>0.406192</td>\n",
       "      <td>0.315444</td>\n",
       "      <td>0.00000</td>\n",
       "      <td>0.00000</td>\n",
       "      <td>0.534093</td>\n",
       "      <td>0.534093</td>\n",
       "      <td>0.000000</td>\n",
       "      <td>0.00000</td>\n",
       "      <td>0.000000</td>\n",
       "      <td>0.000000</td>\n",
       "      <td>0.000000</td>\n",
       "      <td>0.406192</td>\n",
       "      <td>0.000000</td>\n",
       "    </tr>\n",
       "    <tr>\n",
       "      <td>2</td>\n",
       "      <td>0.324124</td>\n",
       "      <td>0.251711</td>\n",
       "      <td>0.00000</td>\n",
       "      <td>0.00000</td>\n",
       "      <td>0.000000</td>\n",
       "      <td>0.000000</td>\n",
       "      <td>0.426184</td>\n",
       "      <td>0.00000</td>\n",
       "      <td>0.426184</td>\n",
       "      <td>0.426184</td>\n",
       "      <td>0.324124</td>\n",
       "      <td>0.000000</td>\n",
       "      <td>0.426184</td>\n",
       "    </tr>\n",
       "  </tbody>\n",
       "</table>\n",
       "</div>"
      ],
      "text/plain": [
       "         am     going       is       it       not   outside  premiere  \\\n",
       "0  0.000000  0.278245  0.47111  0.47111  0.000000  0.000000  0.000000   \n",
       "1  0.406192  0.315444  0.00000  0.00000  0.534093  0.534093  0.000000   \n",
       "2  0.324124  0.251711  0.00000  0.00000  0.000000  0.000000  0.426184   \n",
       "\n",
       "      rain    season       the        to     today     watch  \n",
       "0  0.47111  0.000000  0.000000  0.358291  0.358291  0.000000  \n",
       "1  0.00000  0.000000  0.000000  0.000000  0.406192  0.000000  \n",
       "2  0.00000  0.426184  0.426184  0.324124  0.000000  0.426184  "
      ]
     },
     "execution_count": 4,
     "metadata": {},
     "output_type": "execute_result"
    }
   ],
   "source": [
    "con_stop_words"
   ]
  },
  {
   "cell_type": "markdown",
   "metadata": {},
   "source": [
    "<img src='https://cdn.memegenerator.es/imagenes/memes/full/0/53/536830.jpg'>"
   ]
  },
  {
   "cell_type": "markdown",
   "metadata": {},
   "source": [
    "### `No os desesperéis, en el ejemplo hecho a mano no se tuvieron en cuenta toooodas las palabras para hacerlo más corto. Recuerden que nunca lo van a hacer a mano, esto es sólo para entender la mecánica.`"
   ]
  },
  {
   "cell_type": "markdown",
   "metadata": {},
   "source": [
    "La salida representa una medida númerica que expresa cuán relevante es una palabra para un documento en una colección. Una vez que conocemos dichas relevancias/puntaciones podemos hacernos muchas preguntas:\n",
    "\n",
    "* ¿Son documentos similares?\n",
    "* ¿Sobre que tema gira el documento?\n",
    "* Ya termine de leer tal texto, ¿Con qué puedo seguir?\n",
    "* Etc, etc.\n",
    "\n",
    "¿Les suenan los `chatbots`?"
   ]
  },
  {
   "cell_type": "markdown",
   "metadata": {},
   "source": [
    "---\n",
    "\n",
    "# Ahora repetimos el mismo ejemplo, pero eliminando las `stopwords`"
   ]
  },
  {
   "cell_type": "code",
   "execution_count": 5,
   "metadata": {},
   "outputs": [],
   "source": [
    "Document1 = \"It is going to rain today.\"\n",
    "Document2 = \"Today I am not going outside.\"\n",
    "Document3 = \"I am going to watch the season premiere.\"\n",
    "Doc = [Document1, Document2, Document3]\n",
    "\n",
    "vectorizer = TfidfVectorizer(stop_words='english')\n",
    "X = vectorizer.fit_transform(Doc)\n",
    "\n",
    "feature_names = vectorizer.get_feature_names()\n",
    "sin_stop_words = pd.DataFrame(X.toarray(), columns = feature_names)"
   ]
  },
  {
   "cell_type": "code",
   "execution_count": 6,
   "metadata": {},
   "outputs": [
    {
     "data": {
      "text/html": [
       "<div>\n",
       "<style scoped>\n",
       "    .dataframe tbody tr th:only-of-type {\n",
       "        vertical-align: middle;\n",
       "    }\n",
       "\n",
       "    .dataframe tbody tr th {\n",
       "        vertical-align: top;\n",
       "    }\n",
       "\n",
       "    .dataframe thead th {\n",
       "        text-align: right;\n",
       "    }\n",
       "</style>\n",
       "<table border=\"1\" class=\"dataframe\">\n",
       "  <thead>\n",
       "    <tr style=\"text-align: right;\">\n",
       "      <th></th>\n",
       "      <th>am</th>\n",
       "      <th>going</th>\n",
       "      <th>is</th>\n",
       "      <th>it</th>\n",
       "      <th>not</th>\n",
       "      <th>outside</th>\n",
       "      <th>premiere</th>\n",
       "      <th>rain</th>\n",
       "      <th>season</th>\n",
       "      <th>the</th>\n",
       "      <th>to</th>\n",
       "      <th>today</th>\n",
       "      <th>watch</th>\n",
       "    </tr>\n",
       "  </thead>\n",
       "  <tbody>\n",
       "    <tr>\n",
       "      <td>0</td>\n",
       "      <td>0.000000</td>\n",
       "      <td>0.278245</td>\n",
       "      <td>0.47111</td>\n",
       "      <td>0.47111</td>\n",
       "      <td>0.000000</td>\n",
       "      <td>0.000000</td>\n",
       "      <td>0.000000</td>\n",
       "      <td>0.47111</td>\n",
       "      <td>0.000000</td>\n",
       "      <td>0.000000</td>\n",
       "      <td>0.358291</td>\n",
       "      <td>0.358291</td>\n",
       "      <td>0.000000</td>\n",
       "    </tr>\n",
       "    <tr>\n",
       "      <td>1</td>\n",
       "      <td>0.406192</td>\n",
       "      <td>0.315444</td>\n",
       "      <td>0.00000</td>\n",
       "      <td>0.00000</td>\n",
       "      <td>0.534093</td>\n",
       "      <td>0.534093</td>\n",
       "      <td>0.000000</td>\n",
       "      <td>0.00000</td>\n",
       "      <td>0.000000</td>\n",
       "      <td>0.000000</td>\n",
       "      <td>0.000000</td>\n",
       "      <td>0.406192</td>\n",
       "      <td>0.000000</td>\n",
       "    </tr>\n",
       "    <tr>\n",
       "      <td>2</td>\n",
       "      <td>0.324124</td>\n",
       "      <td>0.251711</td>\n",
       "      <td>0.00000</td>\n",
       "      <td>0.00000</td>\n",
       "      <td>0.000000</td>\n",
       "      <td>0.000000</td>\n",
       "      <td>0.426184</td>\n",
       "      <td>0.00000</td>\n",
       "      <td>0.426184</td>\n",
       "      <td>0.426184</td>\n",
       "      <td>0.324124</td>\n",
       "      <td>0.000000</td>\n",
       "      <td>0.426184</td>\n",
       "    </tr>\n",
       "  </tbody>\n",
       "</table>\n",
       "</div>"
      ],
      "text/plain": [
       "         am     going       is       it       not   outside  premiere  \\\n",
       "0  0.000000  0.278245  0.47111  0.47111  0.000000  0.000000  0.000000   \n",
       "1  0.406192  0.315444  0.00000  0.00000  0.534093  0.534093  0.000000   \n",
       "2  0.324124  0.251711  0.00000  0.00000  0.000000  0.000000  0.426184   \n",
       "\n",
       "      rain    season       the        to     today     watch  \n",
       "0  0.47111  0.000000  0.000000  0.358291  0.358291  0.000000  \n",
       "1  0.00000  0.000000  0.000000  0.000000  0.406192  0.000000  \n",
       "2  0.00000  0.426184  0.426184  0.324124  0.000000  0.426184  "
      ]
     },
     "execution_count": 6,
     "metadata": {},
     "output_type": "execute_result"
    }
   ],
   "source": [
    "con_stop_words"
   ]
  },
  {
   "cell_type": "code",
   "execution_count": 7,
   "metadata": {},
   "outputs": [
    {
     "data": {
      "text/html": [
       "<div>\n",
       "<style scoped>\n",
       "    .dataframe tbody tr th:only-of-type {\n",
       "        vertical-align: middle;\n",
       "    }\n",
       "\n",
       "    .dataframe tbody tr th {\n",
       "        vertical-align: top;\n",
       "    }\n",
       "\n",
       "    .dataframe thead th {\n",
       "        text-align: right;\n",
       "    }\n",
       "</style>\n",
       "<table border=\"1\" class=\"dataframe\">\n",
       "  <thead>\n",
       "    <tr style=\"text-align: right;\">\n",
       "      <th></th>\n",
       "      <th>going</th>\n",
       "      <th>outside</th>\n",
       "      <th>premiere</th>\n",
       "      <th>rain</th>\n",
       "      <th>season</th>\n",
       "      <th>today</th>\n",
       "      <th>watch</th>\n",
       "    </tr>\n",
       "  </thead>\n",
       "  <tbody>\n",
       "    <tr>\n",
       "      <td>0</td>\n",
       "      <td>0.425441</td>\n",
       "      <td>0.000000</td>\n",
       "      <td>0.000000</td>\n",
       "      <td>0.720333</td>\n",
       "      <td>0.000000</td>\n",
       "      <td>0.547832</td>\n",
       "      <td>0.000000</td>\n",
       "    </tr>\n",
       "    <tr>\n",
       "      <td>1</td>\n",
       "      <td>0.425441</td>\n",
       "      <td>0.720333</td>\n",
       "      <td>0.000000</td>\n",
       "      <td>0.000000</td>\n",
       "      <td>0.000000</td>\n",
       "      <td>0.547832</td>\n",
       "      <td>0.000000</td>\n",
       "    </tr>\n",
       "    <tr>\n",
       "      <td>2</td>\n",
       "      <td>0.322745</td>\n",
       "      <td>0.000000</td>\n",
       "      <td>0.546454</td>\n",
       "      <td>0.000000</td>\n",
       "      <td>0.546454</td>\n",
       "      <td>0.000000</td>\n",
       "      <td>0.546454</td>\n",
       "    </tr>\n",
       "  </tbody>\n",
       "</table>\n",
       "</div>"
      ],
      "text/plain": [
       "      going   outside  premiere      rain    season     today     watch\n",
       "0  0.425441  0.000000  0.000000  0.720333  0.000000  0.547832  0.000000\n",
       "1  0.425441  0.720333  0.000000  0.000000  0.000000  0.547832  0.000000\n",
       "2  0.322745  0.000000  0.546454  0.000000  0.546454  0.000000  0.546454"
      ]
     },
     "execution_count": 7,
     "metadata": {},
     "output_type": "execute_result"
    }
   ],
   "source": [
    "sin_stop_words"
   ]
  },
  {
   "cell_type": "markdown",
   "metadata": {},
   "source": [
    "### ¿Qué pasó aquí? ¿Cambian las relevancias de las palabras? ¿Es bueno sacar las stopwords? ¿Falta mucho para irnos a casa?"
   ]
  }
 ],
 "metadata": {
  "kernelspec": {
   "display_name": "Python 3",
   "language": "python",
   "name": "python3"
  },
  "language_info": {
   "codemirror_mode": {
    "name": "ipython",
    "version": 3
   },
   "file_extension": ".py",
   "mimetype": "text/x-python",
   "name": "python",
   "nbconvert_exporter": "python",
   "pygments_lexer": "ipython3",
   "version": "3.7.4"
  }
 },
 "nbformat": 4,
 "nbformat_minor": 4
}
