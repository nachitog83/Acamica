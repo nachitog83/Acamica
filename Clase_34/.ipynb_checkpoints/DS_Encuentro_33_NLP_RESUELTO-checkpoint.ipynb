{
 "cells": [
  {
   "cell_type": "markdown",
   "metadata": {},
   "source": [
    "# NLP\n",
    "\n",
    "A lo largo del notebook vamos a trabajar con el siguiente dataset:\n",
    "\n",
    "https://www.kaggle.com/rmisra/news-headlines-dataset-for-sarcasm-detection/\n",
    "\n",
    "El objetivo es que se familiaricen con algunas herramientas típicas del Procesamiento del Lenguaje Natural (NLP por sus siglas en inglés). Para ello, es requisito que miren los videos de la plataforma de Acámica y vuelquen lo aprendido acá.\n",
    "\n",
    "La biblioteca fundamental que vamos a usar es NLTK. Probablemente tengan que instalarla. Para ello, pongan `conda install nltk` en la terminal."
   ]
  },
  {
   "cell_type": "markdown",
   "metadata": {},
   "source": [
    "## 1. Carga de datos\n",
    "\n",
    "Lo primero que tienen que hacer es fijarse en qué formato están los datos. ¿De qué se trata es formato?¿Cómo se abre? Si googlean, van a ver que hay muchas formas de abrir archivos JSON con Python. Como venimos trabajando con Pandas, googleen \"Open JSON with Pandas\". Prueben esa función. Si les tira un error en el primer intento, googleen el error. Les aseguramos que la respuesta está muy a mano y es muy accesible, no tienen que hacer nada raro."
   ]
  },
  {
   "cell_type": "code",
   "execution_count": 1,
   "metadata": {},
   "outputs": [],
   "source": [
    "import itertools\n",
    "\n",
    "import numpy as np\n",
    "import pandas as pd\n",
    "\n",
    "import matplotlib.pyplot as plt\n",
    "import seaborn as sns\n",
    "sns.set()\n",
    "\n",
    "import nltk\n",
    "\n",
    "# Esto sirve para configurar NLTK. La primera vez puede tardar un poco\n",
    "#nltk.download('punkt')\n",
    "#nltk.download('stopwords')"
   ]
  },
  {
   "cell_type": "code",
   "execution_count": 2,
   "metadata": {},
   "outputs": [
    {
     "data": {
      "text/html": [
       "<div>\n",
       "<style scoped>\n",
       "    .dataframe tbody tr th:only-of-type {\n",
       "        vertical-align: middle;\n",
       "    }\n",
       "\n",
       "    .dataframe tbody tr th {\n",
       "        vertical-align: top;\n",
       "    }\n",
       "\n",
       "    .dataframe thead th {\n",
       "        text-align: right;\n",
       "    }\n",
       "</style>\n",
       "<table border=\"1\" class=\"dataframe\">\n",
       "  <thead>\n",
       "    <tr style=\"text-align: right;\">\n",
       "      <th></th>\n",
       "      <th>article_link</th>\n",
       "      <th>headline</th>\n",
       "      <th>is_sarcastic</th>\n",
       "    </tr>\n",
       "  </thead>\n",
       "  <tbody>\n",
       "    <tr>\n",
       "      <td>0</td>\n",
       "      <td>https://www.huffingtonpost.com/entry/versace-b...</td>\n",
       "      <td>former versace store clerk sues over secret 'b...</td>\n",
       "      <td>0</td>\n",
       "    </tr>\n",
       "    <tr>\n",
       "      <td>1</td>\n",
       "      <td>https://www.huffingtonpost.com/entry/roseanne-...</td>\n",
       "      <td>the 'roseanne' revival catches up to our thorn...</td>\n",
       "      <td>0</td>\n",
       "    </tr>\n",
       "    <tr>\n",
       "      <td>2</td>\n",
       "      <td>https://local.theonion.com/mom-starting-to-fea...</td>\n",
       "      <td>mom starting to fear son's web series closest ...</td>\n",
       "      <td>1</td>\n",
       "    </tr>\n",
       "    <tr>\n",
       "      <td>3</td>\n",
       "      <td>https://politics.theonion.com/boehner-just-wan...</td>\n",
       "      <td>boehner just wants wife to listen, not come up...</td>\n",
       "      <td>1</td>\n",
       "    </tr>\n",
       "    <tr>\n",
       "      <td>4</td>\n",
       "      <td>https://www.huffingtonpost.com/entry/jk-rowlin...</td>\n",
       "      <td>j.k. rowling wishes snape happy birthday in th...</td>\n",
       "      <td>0</td>\n",
       "    </tr>\n",
       "  </tbody>\n",
       "</table>\n",
       "</div>"
      ],
      "text/plain": [
       "                                        article_link  \\\n",
       "0  https://www.huffingtonpost.com/entry/versace-b...   \n",
       "1  https://www.huffingtonpost.com/entry/roseanne-...   \n",
       "2  https://local.theonion.com/mom-starting-to-fea...   \n",
       "3  https://politics.theonion.com/boehner-just-wan...   \n",
       "4  https://www.huffingtonpost.com/entry/jk-rowlin...   \n",
       "\n",
       "                                            headline  is_sarcastic  \n",
       "0  former versace store clerk sues over secret 'b...             0  \n",
       "1  the 'roseanne' revival catches up to our thorn...             0  \n",
       "2  mom starting to fear son's web series closest ...             1  \n",
       "3  boehner just wants wife to listen, not come up...             1  \n",
       "4  j.k. rowling wishes snape happy birthday in th...             0  "
      ]
     },
     "execution_count": 2,
     "metadata": {},
     "output_type": "execute_result"
    }
   ],
   "source": [
    "dataset = pd.read_json('DS_Encuentro_33_Sarcasm_Headlines_Dataset.json', lines= True)\n",
    "dataset.head()"
   ]
  },
  {
   "cell_type": "markdown",
   "metadata": {},
   "source": [
    "¿Qué forma tiene el dataset?¿Cuántas instancias?¿Cuáles son sus columnas?¿Cuántos titulares hay de cada tipo?¿Podemos hablar ya de *features*?"
   ]
  },
  {
   "cell_type": "code",
   "execution_count": 3,
   "metadata": {},
   "outputs": [
    {
     "data": {
      "text/plain": [
       "(26709, 3)"
      ]
     },
     "execution_count": 3,
     "metadata": {},
     "output_type": "execute_result"
    }
   ],
   "source": [
    "dataset.shape"
   ]
  },
  {
   "cell_type": "code",
   "execution_count": 4,
   "metadata": {},
   "outputs": [
    {
     "data": {
      "image/png": "[encoded data removed]",
      "text/plain": [
       "<Figure size 432x288 with 1 Axes>"
      ]
     },
     "metadata": {
      "needs_background": "light"
     },
     "output_type": "display_data"
    }
   ],
   "source": [
    "sns.countplot(dataset.is_sarcastic)\n",
    "plt.show()"
   ]
  },
  {
   "cell_type": "markdown",
   "metadata": {},
   "source": [
    "## 2. Breve exploración del dataset\n",
    "\n",
    "Elegir una instancia del dataset al azar y seleccionar el *headline*."
   ]
  },
  {
   "cell_type": "code",
   "execution_count": 5,
   "metadata": {},
   "outputs": [
    {
     "name": "stdout",
     "output_type": "stream",
     "text": [
      "708 for a first-time marathoner, there's strength in numbers\n"
     ]
    }
   ],
   "source": [
    "index_random = np.random.randint(0,high = dataset.shape[0])\n",
    "titular = dataset.iloc[index_random].headline\n",
    "print(index_random, titular)"
   ]
  },
  {
   "cell_type": "markdown",
   "metadata": {},
   "source": [
    "¿Les parece que es sarcástico?¿Qué características del texto les hace creer - o no - eso? Comprobar si es sarcástico o no imprimiendo en la celda de abajo el valor correspondiente del dataset. (Como la mayoría de los titulares están en inglés y encima refieren a política local, no se preocupen si es una tarea difícil)."
   ]
  },
  {
   "cell_type": "code",
   "execution_count": 6,
   "metadata": {},
   "outputs": [
    {
     "name": "stdout",
     "output_type": "stream",
     "text": [
      "708 0\n"
     ]
    }
   ],
   "source": [
    "print(index_random, dataset.iloc[index_random].is_sarcastic)"
   ]
  },
  {
   "cell_type": "markdown",
   "metadata": {},
   "source": [
    "## 3. NLTK\n",
    "\n",
    "Si es difícil para algunos humanos detectar el sarcasmo, probablemente también lo sea para una computadora. De todas formas, se puede hacer el intento. Para ello, es necesario extraer características de cada texto que nos sirvan para ir apuntando al objetivo. En los videos de Acámica hay muchos ejemplo de herramientas para aplicar. Elegir un titular que les llame la atención y probar las siguientes herramientas:\n",
    "\n",
    "### Tokenización\n",
    "\n",
    "¿Qué es y para qué sirve?¿Cuáles de todas las formas de tokenización presentadas les parece más útil para este problema?\n",
    "\n",
    "1. `sent_tokenize`"
   ]
  },
  {
   "cell_type": "code",
   "execution_count": 7,
   "metadata": {},
   "outputs": [
    {
     "data": {
      "text/plain": [
       "[\"for a first-time marathoner, there's strength in numbers\"]"
      ]
     },
     "execution_count": 7,
     "metadata": {},
     "output_type": "execute_result"
    }
   ],
   "source": [
    "titular_st = nltk.tokenize.sent_tokenize(titular)\n",
    "titular_st"
   ]
  },
  {
   "cell_type": "markdown",
   "metadata": {},
   "source": [
    "2. word_tokenize"
   ]
  },
  {
   "cell_type": "code",
   "execution_count": 8,
   "metadata": {},
   "outputs": [
    {
     "data": {
      "text/plain": [
       "['for',\n",
       " 'a',\n",
       " 'first-time',\n",
       " 'marathoner',\n",
       " ',',\n",
       " 'there',\n",
       " \"'s\",\n",
       " 'strength',\n",
       " 'in',\n",
       " 'numbers']"
      ]
     },
     "execution_count": 8,
     "metadata": {},
     "output_type": "execute_result"
    }
   ],
   "source": [
    "titular_wt = nltk.tokenize.word_tokenize(titular)\n",
    "titular_wt"
   ]
  },
  {
   "cell_type": "code",
   "execution_count": 9,
   "metadata": {},
   "outputs": [
    {
     "data": {
      "text/plain": [
       "'  this    is    !    !    !    a         hashtag       '"
      ]
     },
     "execution_count": 9,
     "metadata": {},
     "output_type": "execute_result"
    }
   ],
   "source": [
    "import re\n",
    "titular_wt = nltk.tokenize.word_tokenize(\"This is !!! a #hashtag.\".lower())\n",
    "re.sub(\"[^a-zA-Z!]\",\" \",str(titular_wt))"
   ]
  },
  {
   "cell_type": "markdown",
   "metadata": {},
   "source": [
    "### Normalización\n",
    "\n",
    "¿Qué es y para qué sirve? Notar que varias formas de normalización ya vienen aplicadas en el dataset.\n",
    "\n",
    "1. Stopwords\n",
    "\n",
    "Importar los `stopwords` del inglés e imprimirlos."
   ]
  },
  {
   "cell_type": "code",
   "execution_count": 10,
   "metadata": {
    "scrolled": true
   },
   "outputs": [
    {
     "name": "stdout",
     "output_type": "stream",
     "text": [
      "['i', 'me', 'my', 'myself', 'we', 'our', 'ours', 'ourselves', 'you', \"you're\", \"you've\", \"you'll\", \"you'd\", 'your', 'yours', 'yourself', 'yourselves', 'he', 'him', 'his', 'himself', 'she', \"she's\", 'her', 'hers', 'herself', 'it', \"it's\", 'its', 'itself', 'they', 'them', 'their', 'theirs', 'themselves', 'what', 'which', 'who', 'whom', 'this', 'that', \"that'll\", 'these', 'those', 'am', 'is', 'are', 'was', 'were', 'be', 'been', 'being', 'have', 'has', 'had', 'having', 'do', 'does', 'did', 'doing', 'a', 'an', 'the', 'and', 'but', 'if', 'or', 'because', 'as', 'until', 'while', 'of', 'at', 'by', 'for', 'with', 'about', 'against', 'between', 'into', 'through', 'during', 'before', 'after', 'above', 'below', 'to', 'from', 'up', 'down', 'in', 'out', 'on', 'off', 'over', 'under', 'again', 'further', 'then', 'once', 'here', 'there', 'when', 'where', 'why', 'how', 'all', 'any', 'both', 'each', 'few', 'more', 'most', 'other', 'some', 'such', 'no', 'nor', 'only', 'own', 'same', 'so', 'than', 'too', 'very', 's', 't', 'can', 'will', 'just', 'don', \"don't\", 'should', \"should've\", 'now', 'd', 'll', 'm', 'o', 're', 've', 'y', 'ain', 'aren', \"aren't\", 'couldn', \"couldn't\", 'didn', \"didn't\", 'doesn', \"doesn't\", 'hadn', \"hadn't\", 'hasn', \"hasn't\", 'haven', \"haven't\", 'isn', \"isn't\", 'ma', 'mightn', \"mightn't\", 'mustn', \"mustn't\", 'needn', \"needn't\", 'shan', \"shan't\", 'shouldn', \"shouldn't\", 'wasn', \"wasn't\", 'weren', \"weren't\", 'won', \"won't\", 'wouldn', \"wouldn't\"]\n"
     ]
    }
   ],
   "source": [
    "stopwords = nltk.corpus.stopwords.words('english')\n",
    "stopwords = [palabra for palabra in stopwords if 'not' not in palabra]\n",
    "print(stopwords)"
   ]
  },
  {
   "cell_type": "markdown",
   "metadata": {},
   "source": [
    "¿Les parece conveniente aplicar todos los stopwords que aparecen en esa lista?\n",
    "\n",
    "Eliminar del titular elegido los stopwords."
   ]
  },
  {
   "cell_type": "code",
   "execution_count": 11,
   "metadata": {},
   "outputs": [
    {
     "name": "stdout",
     "output_type": "stream",
     "text": [
      "['this', 'is', '!', '!', '!', 'a', '#', 'hashtag', '.']\n"
     ]
    },
    {
     "data": {
      "text/plain": [
       "['!', '!', '!', '#', 'hashtag', '.']"
      ]
     },
     "execution_count": 11,
     "metadata": {},
     "output_type": "execute_result"
    }
   ],
   "source": [
    "print(titular_wt)\n",
    "titular_wt_sin_sw = [word for word in titular_wt if word not in stopwords]\n",
    "titular_wt_sin_sw"
   ]
  },
  {
   "cell_type": "markdown",
   "metadata": {},
   "source": [
    "¿Cuál o cuáles palabras se fueron?"
   ]
  },
  {
   "cell_type": "markdown",
   "metadata": {},
   "source": [
    "### Frecuencia de palabras\n",
    "\n",
    "Dado el titular ya tokenizado por palabras y sin stopwords, usar `nltk` para extrar la frecuencia con que aparece cada palabras. ¿Tiene sentido esto para titulares?"
   ]
  },
  {
   "cell_type": "code",
   "execution_count": 12,
   "metadata": {},
   "outputs": [
    {
     "data": {
      "text/plain": [
       "FreqDist({'!': 3, '#': 1, 'hashtag': 1, '.': 1})"
      ]
     },
     "execution_count": 12,
     "metadata": {},
     "output_type": "execute_result"
    }
   ],
   "source": [
    "freq = nltk.FreqDist(titular_wt_sin_sw)\n",
    "freq"
   ]
  },
  {
   "cell_type": "markdown",
   "metadata": {},
   "source": [
    "### Dataset Completo\n",
    "\n",
    "Antes de pasar a extraer features de cada instancia del Dataset, podemos hacer un pequeño análisis del dataset en su conjunto. Por ejemplo, una opción es agrupar todos los titulares por tipo y extraer de cada clase las palabras más frecuentes. Para ello:\n",
    "\n",
    "1. Agrupar los titulares por tipo. Crear un dataframe para cada uno. Recuerden usar máscaras.\n",
    "2. Crear una lista vacia y agregar en esa lista todos los titulares (por tipo/dataframe creado) ya tokenizados (usar el `RegexpTokenizer`) y filtrado por `stopwords`.\n",
    "3. Usar el `FreqDist` en esa lista que acaban de llenar. Llevar lo que devuelve `FreqDist` a un Dataframe. Ordenar por frecuencia en que aparece cada palabra.\n",
    "4. Hacer un `barplot` o similar para visualizar.\n",
    "5. ¿Qué palabras filtrarían, aparte de las que aparecen en `stopwords`? Crear una lista vacía y agregarlas a mano. Agregar en el código que realizaron una línea (similar a la que usan con `stopwords`) para que también filtre por esas palabras.\n",
    "6. Volver a visualizar.\n",
    "\n",
    "#### No-Sarcasmo"
   ]
  },
  {
   "cell_type": "code",
   "execution_count": 13,
   "metadata": {},
   "outputs": [],
   "source": [
    "filtrar = []\n",
    "if True:\n",
    "    filtrar.append(\"u\")\n",
    "    filtrar.append(\"new\")"
   ]
  },
  {
   "cell_type": "code",
   "execution_count": 14,
   "metadata": {},
   "outputs": [
    {
     "data": {
      "text/html": [
       "<div>\n",
       "<style scoped>\n",
       "    .dataframe tbody tr th:only-of-type {\n",
       "        vertical-align: middle;\n",
       "    }\n",
       "\n",
       "    .dataframe tbody tr th {\n",
       "        vertical-align: top;\n",
       "    }\n",
       "\n",
       "    .dataframe thead th {\n",
       "        text-align: right;\n",
       "    }\n",
       "</style>\n",
       "<table border=\"1\" class=\"dataframe\">\n",
       "  <thead>\n",
       "    <tr style=\"text-align: right;\">\n",
       "      <th></th>\n",
       "      <th>article_link</th>\n",
       "      <th>headline</th>\n",
       "      <th>is_sarcastic</th>\n",
       "    </tr>\n",
       "  </thead>\n",
       "  <tbody>\n",
       "    <tr>\n",
       "      <td>0</td>\n",
       "      <td>https://www.huffingtonpost.com/entry/versace-b...</td>\n",
       "      <td>former versace store clerk sues over secret 'b...</td>\n",
       "      <td>0</td>\n",
       "    </tr>\n",
       "    <tr>\n",
       "      <td>1</td>\n",
       "      <td>https://www.huffingtonpost.com/entry/roseanne-...</td>\n",
       "      <td>the 'roseanne' revival catches up to our thorn...</td>\n",
       "      <td>0</td>\n",
       "    </tr>\n",
       "    <tr>\n",
       "      <td>4</td>\n",
       "      <td>https://www.huffingtonpost.com/entry/jk-rowlin...</td>\n",
       "      <td>j.k. rowling wishes snape happy birthday in th...</td>\n",
       "      <td>0</td>\n",
       "    </tr>\n",
       "    <tr>\n",
       "      <td>5</td>\n",
       "      <td>https://www.huffingtonpost.com/entry/advancing...</td>\n",
       "      <td>advancing the world's women</td>\n",
       "      <td>0</td>\n",
       "    </tr>\n",
       "    <tr>\n",
       "      <td>6</td>\n",
       "      <td>https://www.huffingtonpost.com/entry/how-meat-...</td>\n",
       "      <td>the fascinating case for eating lab-grown meat</td>\n",
       "      <td>0</td>\n",
       "    </tr>\n",
       "  </tbody>\n",
       "</table>\n",
       "</div>"
      ],
      "text/plain": [
       "                                        article_link  \\\n",
       "0  https://www.huffingtonpost.com/entry/versace-b...   \n",
       "1  https://www.huffingtonpost.com/entry/roseanne-...   \n",
       "4  https://www.huffingtonpost.com/entry/jk-rowlin...   \n",
       "5  https://www.huffingtonpost.com/entry/advancing...   \n",
       "6  https://www.huffingtonpost.com/entry/how-meat-...   \n",
       "\n",
       "                                            headline  is_sarcastic  \n",
       "0  former versace store clerk sues over secret 'b...             0  \n",
       "1  the 'roseanne' revival catches up to our thorn...             0  \n",
       "4  j.k. rowling wishes snape happy birthday in th...             0  \n",
       "5                        advancing the world's women             0  \n",
       "6     the fascinating case for eating lab-grown meat             0  "
      ]
     },
     "execution_count": 14,
     "metadata": {},
     "output_type": "execute_result"
    }
   ],
   "source": [
    "dataset_no_sarcasmo = dataset[dataset.is_sarcastic==0]\n",
    "dataset_no_sarcasmo.head()"
   ]
  },
  {
   "cell_type": "code",
   "execution_count": 15,
   "metadata": {},
   "outputs": [],
   "source": [
    "todos_titulares_no_sarcasmo = []\n",
    "for i in range(dataset_no_sarcasmo.shape[0]):\n",
    "    titular = dataset_no_sarcasmo.iloc[i].headline\n",
    "    titular = nltk.tokenize.RegexpTokenizer(\"[\\w]+\").tokenize(titular)\n",
    "    titular = [word for word in titular if word not in stopwords]\n",
    "    titular = [word for word in titular if word not in filtrar]\n",
    "\n",
    "    todos_titulares_no_sarcasmo.append(titular)"
   ]
  },
  {
   "cell_type": "code",
   "execution_count": 16,
   "metadata": {},
   "outputs": [
    {
     "data": {
      "text/plain": [
       "['former',\n",
       " 'versace',\n",
       " 'store',\n",
       " 'clerk',\n",
       " 'sues',\n",
       " 'secret',\n",
       " 'black',\n",
       " 'code',\n",
       " 'minority',\n",
       " 'shoppers']"
      ]
     },
     "execution_count": 16,
     "metadata": {},
     "output_type": "execute_result"
    }
   ],
   "source": [
    "todos_titulares_no_sarcasmo = list(itertools.chain(*todos_titulares_no_sarcasmo))\n",
    "todos_titulares_no_sarcasmo[0:10]"
   ]
  },
  {
   "cell_type": "code",
   "execution_count": 17,
   "metadata": {},
   "outputs": [
    {
     "data": {
      "text/plain": [
       "FreqDist({'trump': 1446, 'donald': 458, 'not': 387, 'says': 349, 'women': 317, 'one': 268, 'year': 244, 'first': 242, 'world': 241, 'man': 241, ...})"
      ]
     },
     "execution_count": 17,
     "metadata": {},
     "output_type": "execute_result"
    }
   ],
   "source": [
    "freq_no_sarcasmo = nltk.FreqDist(todos_titulares_no_sarcasmo)\n",
    "freq_no_sarcasmo"
   ]
  },
  {
   "cell_type": "code",
   "execution_count": 18,
   "metadata": {},
   "outputs": [
    {
     "data": {
      "text/html": [
       "<div>\n",
       "<style scoped>\n",
       "    .dataframe tbody tr th:only-of-type {\n",
       "        vertical-align: middle;\n",
       "    }\n",
       "\n",
       "    .dataframe tbody tr th {\n",
       "        vertical-align: top;\n",
       "    }\n",
       "\n",
       "    .dataframe thead th {\n",
       "        text-align: right;\n",
       "    }\n",
       "</style>\n",
       "<table border=\"1\" class=\"dataframe\">\n",
       "  <thead>\n",
       "    <tr style=\"text-align: right;\">\n",
       "      <th></th>\n",
       "      <th>Word</th>\n",
       "      <th>Frequency</th>\n",
       "    </tr>\n",
       "  </thead>\n",
       "  <tbody>\n",
       "    <tr>\n",
       "      <td>0</td>\n",
       "      <td>former</td>\n",
       "      <td>82</td>\n",
       "    </tr>\n",
       "    <tr>\n",
       "      <td>1</td>\n",
       "      <td>versace</td>\n",
       "      <td>1</td>\n",
       "    </tr>\n",
       "    <tr>\n",
       "      <td>2</td>\n",
       "      <td>store</td>\n",
       "      <td>14</td>\n",
       "    </tr>\n",
       "    <tr>\n",
       "      <td>3</td>\n",
       "      <td>clerk</td>\n",
       "      <td>5</td>\n",
       "    </tr>\n",
       "    <tr>\n",
       "      <td>4</td>\n",
       "      <td>sues</td>\n",
       "      <td>15</td>\n",
       "    </tr>\n",
       "  </tbody>\n",
       "</table>\n",
       "</div>"
      ],
      "text/plain": [
       "      Word  Frequency\n",
       "0   former         82\n",
       "1  versace          1\n",
       "2    store         14\n",
       "3    clerk          5\n",
       "4     sues         15"
      ]
     },
     "execution_count": 18,
     "metadata": {},
     "output_type": "execute_result"
    }
   ],
   "source": [
    "df_no_sarcasmo = pd.DataFrame(list(freq_no_sarcasmo.items()), columns = [\"Word\",\"Frequency\"])\n",
    "df_no_sarcasmo.head()"
   ]
  },
  {
   "cell_type": "code",
   "execution_count": 19,
   "metadata": {},
   "outputs": [
    {
     "data": {
      "text/html": [
       "<div>\n",
       "<style scoped>\n",
       "    .dataframe tbody tr th:only-of-type {\n",
       "        vertical-align: middle;\n",
       "    }\n",
       "\n",
       "    .dataframe tbody tr th {\n",
       "        vertical-align: top;\n",
       "    }\n",
       "\n",
       "    .dataframe thead th {\n",
       "        text-align: right;\n",
       "    }\n",
       "</style>\n",
       "<table border=\"1\" class=\"dataframe\">\n",
       "  <thead>\n",
       "    <tr style=\"text-align: right;\">\n",
       "      <th></th>\n",
       "      <th>Word</th>\n",
       "      <th>Frequency</th>\n",
       "    </tr>\n",
       "  </thead>\n",
       "  <tbody>\n",
       "    <tr>\n",
       "      <td>46</td>\n",
       "      <td>trump</td>\n",
       "      <td>1446</td>\n",
       "    </tr>\n",
       "    <tr>\n",
       "      <td>229</td>\n",
       "      <td>donald</td>\n",
       "      <td>458</td>\n",
       "    </tr>\n",
       "    <tr>\n",
       "      <td>498</td>\n",
       "      <td>not</td>\n",
       "      <td>387</td>\n",
       "    </tr>\n",
       "    <tr>\n",
       "      <td>421</td>\n",
       "      <td>says</td>\n",
       "      <td>349</td>\n",
       "    </tr>\n",
       "    <tr>\n",
       "      <td>29</td>\n",
       "      <td>women</td>\n",
       "      <td>317</td>\n",
       "    </tr>\n",
       "  </tbody>\n",
       "</table>\n",
       "</div>"
      ],
      "text/plain": [
       "       Word  Frequency\n",
       "46    trump       1446\n",
       "229  donald        458\n",
       "498     not        387\n",
       "421    says        349\n",
       "29    women        317"
      ]
     },
     "execution_count": 19,
     "metadata": {},
     "output_type": "execute_result"
    }
   ],
   "source": [
    "df_no_sarcasmo.sort_values('Frequency',ascending=False, inplace = True)\n",
    "df_no_sarcasmo.head()"
   ]
  },
  {
   "cell_type": "code",
   "execution_count": 20,
   "metadata": {},
   "outputs": [
    {
     "data": {
      "text/html": [
       "<div>\n",
       "<style scoped>\n",
       "    .dataframe tbody tr th:only-of-type {\n",
       "        vertical-align: middle;\n",
       "    }\n",
       "\n",
       "    .dataframe tbody tr th {\n",
       "        vertical-align: top;\n",
       "    }\n",
       "\n",
       "    .dataframe thead th {\n",
       "        text-align: right;\n",
       "    }\n",
       "</style>\n",
       "<table border=\"1\" class=\"dataframe\">\n",
       "  <thead>\n",
       "    <tr style=\"text-align: right;\">\n",
       "      <th></th>\n",
       "      <th>Word</th>\n",
       "      <th>Frequency</th>\n",
       "    </tr>\n",
       "  </thead>\n",
       "  <tbody>\n",
       "    <tr>\n",
       "      <td>0</td>\n",
       "      <td>trump</td>\n",
       "      <td>1446</td>\n",
       "    </tr>\n",
       "    <tr>\n",
       "      <td>1</td>\n",
       "      <td>donald</td>\n",
       "      <td>458</td>\n",
       "    </tr>\n",
       "    <tr>\n",
       "      <td>2</td>\n",
       "      <td>not</td>\n",
       "      <td>387</td>\n",
       "    </tr>\n",
       "    <tr>\n",
       "      <td>3</td>\n",
       "      <td>says</td>\n",
       "      <td>349</td>\n",
       "    </tr>\n",
       "    <tr>\n",
       "      <td>4</td>\n",
       "      <td>women</td>\n",
       "      <td>317</td>\n",
       "    </tr>\n",
       "  </tbody>\n",
       "</table>\n",
       "</div>"
      ],
      "text/plain": [
       "     Word  Frequency\n",
       "0   trump       1446\n",
       "1  donald        458\n",
       "2     not        387\n",
       "3    says        349\n",
       "4   women        317"
      ]
     },
     "execution_count": 20,
     "metadata": {},
     "output_type": "execute_result"
    }
   ],
   "source": [
    "df_no_sarcasmo.reset_index(drop = True, inplace=True)\n",
    "df_no_sarcasmo.head()"
   ]
  },
  {
   "cell_type": "code",
   "execution_count": 21,
   "metadata": {},
   "outputs": [
    {
     "data": {
      "image/png": "[encoded data removed]",
      "text/plain": [
       "<Figure size 1080x576 with 1 Axes>"
      ]
     },
     "metadata": {
      "needs_background": "light"
     },
     "output_type": "display_data"
    }
   ],
   "source": [
    "plt.figure(figsize = (15,8))\n",
    "plot = sns.barplot(x  = df_no_sarcasmo.iloc[:30].Word, y = df_no_sarcasmo.iloc[:30].Frequency)\n",
    "for item in plot.get_xticklabels():\n",
    "    item.set_rotation(90)\n",
    "plt.show()"
   ]
  },
  {
   "cell_type": "markdown",
   "metadata": {},
   "source": [
    "#### Sarcasmo"
   ]
  },
  {
   "cell_type": "code",
   "execution_count": 22,
   "metadata": {},
   "outputs": [
    {
     "data": {
      "text/html": [
       "<div>\n",
       "<style scoped>\n",
       "    .dataframe tbody tr th:only-of-type {\n",
       "        vertical-align: middle;\n",
       "    }\n",
       "\n",
       "    .dataframe tbody tr th {\n",
       "        vertical-align: top;\n",
       "    }\n",
       "\n",
       "    .dataframe thead th {\n",
       "        text-align: right;\n",
       "    }\n",
       "</style>\n",
       "<table border=\"1\" class=\"dataframe\">\n",
       "  <thead>\n",
       "    <tr style=\"text-align: right;\">\n",
       "      <th></th>\n",
       "      <th>article_link</th>\n",
       "      <th>headline</th>\n",
       "      <th>is_sarcastic</th>\n",
       "    </tr>\n",
       "  </thead>\n",
       "  <tbody>\n",
       "    <tr>\n",
       "      <td>2</td>\n",
       "      <td>https://local.theonion.com/mom-starting-to-fea...</td>\n",
       "      <td>mom starting to fear son's web series closest ...</td>\n",
       "      <td>1</td>\n",
       "    </tr>\n",
       "    <tr>\n",
       "      <td>3</td>\n",
       "      <td>https://politics.theonion.com/boehner-just-wan...</td>\n",
       "      <td>boehner just wants wife to listen, not come up...</td>\n",
       "      <td>1</td>\n",
       "    </tr>\n",
       "    <tr>\n",
       "      <td>8</td>\n",
       "      <td>https://politics.theonion.com/top-snake-handle...</td>\n",
       "      <td>top snake handler leaves sinking huckabee camp...</td>\n",
       "      <td>1</td>\n",
       "    </tr>\n",
       "    <tr>\n",
       "      <td>15</td>\n",
       "      <td>https://entertainment.theonion.com/nuclear-bom...</td>\n",
       "      <td>nuclear bomb detonates during rehearsal for 's...</td>\n",
       "      <td>1</td>\n",
       "    </tr>\n",
       "    <tr>\n",
       "      <td>16</td>\n",
       "      <td>https://www.theonion.com/cosby-lawyer-asks-why...</td>\n",
       "      <td>cosby lawyer asks why accusers didn't come for...</td>\n",
       "      <td>1</td>\n",
       "    </tr>\n",
       "  </tbody>\n",
       "</table>\n",
       "</div>"
      ],
      "text/plain": [
       "                                         article_link  \\\n",
       "2   https://local.theonion.com/mom-starting-to-fea...   \n",
       "3   https://politics.theonion.com/boehner-just-wan...   \n",
       "8   https://politics.theonion.com/top-snake-handle...   \n",
       "15  https://entertainment.theonion.com/nuclear-bom...   \n",
       "16  https://www.theonion.com/cosby-lawyer-asks-why...   \n",
       "\n",
       "                                             headline  is_sarcastic  \n",
       "2   mom starting to fear son's web series closest ...             1  \n",
       "3   boehner just wants wife to listen, not come up...             1  \n",
       "8   top snake handler leaves sinking huckabee camp...             1  \n",
       "15  nuclear bomb detonates during rehearsal for 's...             1  \n",
       "16  cosby lawyer asks why accusers didn't come for...             1  "
      ]
     },
     "execution_count": 22,
     "metadata": {},
     "output_type": "execute_result"
    }
   ],
   "source": [
    "dataset_sarcasmo = dataset[dataset.is_sarcastic==1]\n",
    "dataset_sarcasmo.head()"
   ]
  },
  {
   "cell_type": "code",
   "execution_count": 23,
   "metadata": {},
   "outputs": [],
   "source": [
    "todos_titulares_sarcasmo = []\n",
    "for i in range(dataset_sarcasmo.shape[0]):\n",
    "    titular = dataset_sarcasmo.iloc[i].headline\n",
    "    titular = nltk.tokenize.RegexpTokenizer(\"[\\w]+\").tokenize(titular)\n",
    "    titular = [word for word in titular if word not in stopwords]\n",
    "    titular = [word for word in titular if word not in filtrar]\n",
    "    todos_titulares_sarcasmo.append(titular)"
   ]
  },
  {
   "cell_type": "code",
   "execution_count": 24,
   "metadata": {},
   "outputs": [
    {
     "data": {
      "text/plain": [
       "['mom',\n",
       " 'starting',\n",
       " 'fear',\n",
       " 'son',\n",
       " 'web',\n",
       " 'series',\n",
       " 'closest',\n",
       " 'thing',\n",
       " 'grandchild',\n",
       " 'boehner']"
      ]
     },
     "execution_count": 24,
     "metadata": {},
     "output_type": "execute_result"
    }
   ],
   "source": [
    "todos_titulares_sarcasmo = list(itertools.chain(*todos_titulares_sarcasmo))\n",
    "todos_titulares_sarcasmo[0:10]"
   ]
  },
  {
   "cell_type": "code",
   "execution_count": 25,
   "metadata": {},
   "outputs": [
    {
     "data": {
      "text/plain": [
       "FreqDist({'man': 1154, 'area': 480, 'report': 426, 'not': 352, 'nation': 339, 'woman': 319, 'year': 308, 'one': 273, 'old': 267, 'time': 252, ...})"
      ]
     },
     "execution_count": 25,
     "metadata": {},
     "output_type": "execute_result"
    }
   ],
   "source": [
    "freq_sarcasmo = nltk.FreqDist(todos_titulares_sarcasmo)\n",
    "freq_sarcasmo"
   ]
  },
  {
   "cell_type": "code",
   "execution_count": 26,
   "metadata": {},
   "outputs": [
    {
     "data": {
      "text/html": [
       "<div>\n",
       "<style scoped>\n",
       "    .dataframe tbody tr th:only-of-type {\n",
       "        vertical-align: middle;\n",
       "    }\n",
       "\n",
       "    .dataframe tbody tr th {\n",
       "        vertical-align: top;\n",
       "    }\n",
       "\n",
       "    .dataframe thead th {\n",
       "        text-align: right;\n",
       "    }\n",
       "</style>\n",
       "<table border=\"1\" class=\"dataframe\">\n",
       "  <thead>\n",
       "    <tr style=\"text-align: right;\">\n",
       "      <th></th>\n",
       "      <th>Word</th>\n",
       "      <th>Frequency</th>\n",
       "    </tr>\n",
       "  </thead>\n",
       "  <tbody>\n",
       "    <tr>\n",
       "      <td>0</td>\n",
       "      <td>mom</td>\n",
       "      <td>117</td>\n",
       "    </tr>\n",
       "    <tr>\n",
       "      <td>1</td>\n",
       "      <td>starting</td>\n",
       "      <td>32</td>\n",
       "    </tr>\n",
       "    <tr>\n",
       "      <td>2</td>\n",
       "      <td>fear</td>\n",
       "      <td>16</td>\n",
       "    </tr>\n",
       "    <tr>\n",
       "      <td>3</td>\n",
       "      <td>son</td>\n",
       "      <td>71</td>\n",
       "    </tr>\n",
       "    <tr>\n",
       "      <td>4</td>\n",
       "      <td>web</td>\n",
       "      <td>7</td>\n",
       "    </tr>\n",
       "  </tbody>\n",
       "</table>\n",
       "</div>"
      ],
      "text/plain": [
       "       Word  Frequency\n",
       "0       mom        117\n",
       "1  starting         32\n",
       "2      fear         16\n",
       "3       son         71\n",
       "4       web          7"
      ]
     },
     "execution_count": 26,
     "metadata": {},
     "output_type": "execute_result"
    }
   ],
   "source": [
    "df_sarcasmo = pd.DataFrame(list(freq_sarcasmo.items()), columns = [\"Word\",\"Frequency\"])\n",
    "df_sarcasmo.head()"
   ]
  },
  {
   "cell_type": "code",
   "execution_count": 27,
   "metadata": {},
   "outputs": [
    {
     "data": {
      "text/html": [
       "<div>\n",
       "<style scoped>\n",
       "    .dataframe tbody tr th:only-of-type {\n",
       "        vertical-align: middle;\n",
       "    }\n",
       "\n",
       "    .dataframe tbody tr th {\n",
       "        vertical-align: top;\n",
       "    }\n",
       "\n",
       "    .dataframe thead th {\n",
       "        text-align: right;\n",
       "    }\n",
       "</style>\n",
       "<table border=\"1\" class=\"dataframe\">\n",
       "  <thead>\n",
       "    <tr style=\"text-align: right;\">\n",
       "      <th></th>\n",
       "      <th>Word</th>\n",
       "      <th>Frequency</th>\n",
       "    </tr>\n",
       "  </thead>\n",
       "  <tbody>\n",
       "    <tr>\n",
       "      <td>31</td>\n",
       "      <td>man</td>\n",
       "      <td>1154</td>\n",
       "    </tr>\n",
       "    <tr>\n",
       "      <td>183</td>\n",
       "      <td>area</td>\n",
       "      <td>480</td>\n",
       "    </tr>\n",
       "    <tr>\n",
       "      <td>158</td>\n",
       "      <td>report</td>\n",
       "      <td>426</td>\n",
       "    </tr>\n",
       "    <tr>\n",
       "      <td>13</td>\n",
       "      <td>not</td>\n",
       "      <td>352</td>\n",
       "    </tr>\n",
       "    <tr>\n",
       "      <td>57</td>\n",
       "      <td>nation</td>\n",
       "      <td>339</td>\n",
       "    </tr>\n",
       "  </tbody>\n",
       "</table>\n",
       "</div>"
      ],
      "text/plain": [
       "       Word  Frequency\n",
       "31      man       1154\n",
       "183    area        480\n",
       "158  report        426\n",
       "13      not        352\n",
       "57   nation        339"
      ]
     },
     "execution_count": 27,
     "metadata": {},
     "output_type": "execute_result"
    }
   ],
   "source": [
    "df_sarcasmo.sort_values('Frequency',ascending=False, inplace = True)\n",
    "df_sarcasmo.head()"
   ]
  },
  {
   "cell_type": "code",
   "execution_count": 28,
   "metadata": {},
   "outputs": [
    {
     "data": {
      "text/html": [
       "<div>\n",
       "<style scoped>\n",
       "    .dataframe tbody tr th:only-of-type {\n",
       "        vertical-align: middle;\n",
       "    }\n",
       "\n",
       "    .dataframe tbody tr th {\n",
       "        vertical-align: top;\n",
       "    }\n",
       "\n",
       "    .dataframe thead th {\n",
       "        text-align: right;\n",
       "    }\n",
       "</style>\n",
       "<table border=\"1\" class=\"dataframe\">\n",
       "  <thead>\n",
       "    <tr style=\"text-align: right;\">\n",
       "      <th></th>\n",
       "      <th>Word</th>\n",
       "      <th>Frequency</th>\n",
       "    </tr>\n",
       "  </thead>\n",
       "  <tbody>\n",
       "    <tr>\n",
       "      <td>0</td>\n",
       "      <td>man</td>\n",
       "      <td>1154</td>\n",
       "    </tr>\n",
       "    <tr>\n",
       "      <td>1</td>\n",
       "      <td>area</td>\n",
       "      <td>480</td>\n",
       "    </tr>\n",
       "    <tr>\n",
       "      <td>2</td>\n",
       "      <td>report</td>\n",
       "      <td>426</td>\n",
       "    </tr>\n",
       "    <tr>\n",
       "      <td>3</td>\n",
       "      <td>not</td>\n",
       "      <td>352</td>\n",
       "    </tr>\n",
       "    <tr>\n",
       "      <td>4</td>\n",
       "      <td>nation</td>\n",
       "      <td>339</td>\n",
       "    </tr>\n",
       "  </tbody>\n",
       "</table>\n",
       "</div>"
      ],
      "text/plain": [
       "     Word  Frequency\n",
       "0     man       1154\n",
       "1    area        480\n",
       "2  report        426\n",
       "3     not        352\n",
       "4  nation        339"
      ]
     },
     "execution_count": 28,
     "metadata": {},
     "output_type": "execute_result"
    }
   ],
   "source": [
    "df_sarcasmo.reset_index(drop = True, inplace=True)\n",
    "df_sarcasmo.head()"
   ]
  },
  {
   "cell_type": "code",
   "execution_count": 29,
   "metadata": {},
   "outputs": [
    {
     "data": {
      "image/png": "[encoded data removed]",
      "text/plain": [
       "<Figure size 1080x576 with 1 Axes>"
      ]
     },
     "metadata": {
      "needs_background": "light"
     },
     "output_type": "display_data"
    }
   ],
   "source": [
    "plt.figure(figsize = (15,8))\n",
    "plot = sns.barplot(x  = df_sarcasmo.iloc[:30].Word, y = df_sarcasmo.iloc[:30].Frequency)\n",
    "for item in plot.get_xticklabels():\n",
    "    item.set_rotation(90)\n",
    "plt.show()"
   ]
  },
  {
   "cell_type": "markdown",
   "metadata": {},
   "source": [
    "---\n",
    "## 4. Stemming\n",
    "Por razones gramaticales muchas palabras pueden escribirse de manera distinta (debido a conjugación, género, número) pero tener el mismo significado para el texto. Por ejemplo si decimos \"jugar\", \"jugando\" o \"juega\", debido a la como estan conjugadas, la computadora las tratará como palabras distintas, pero en términos de significado, todas estan relacionadas al verbo Jugar. Muchas veces nos va a convenir unir todas estos términos en uno solo.\n",
    "\n",
    "Una de las manera de hacer esto es por \"STEMMING\". El Stemming es un proceso eurístico que recorta la terminación de las palabras, agrupándolas por su raiz. Reduzcamos la cantidad de palabras diferentes en nuestro dataset utilizando este proceso."
   ]
  },
  {
   "cell_type": "markdown",
   "metadata": {},
   "source": [
    "a. Importar nuevamente el dataset completo"
   ]
  },
  {
   "cell_type": "code",
   "execution_count": 30,
   "metadata": {
    "scrolled": true
   },
   "outputs": [
    {
     "data": {
      "text/html": [
       "<div>\n",
       "<style scoped>\n",
       "    .dataframe tbody tr th:only-of-type {\n",
       "        vertical-align: middle;\n",
       "    }\n",
       "\n",
       "    .dataframe tbody tr th {\n",
       "        vertical-align: top;\n",
       "    }\n",
       "\n",
       "    .dataframe thead th {\n",
       "        text-align: right;\n",
       "    }\n",
       "</style>\n",
       "<table border=\"1\" class=\"dataframe\">\n",
       "  <thead>\n",
       "    <tr style=\"text-align: right;\">\n",
       "      <th></th>\n",
       "      <th>article_link</th>\n",
       "      <th>headline</th>\n",
       "      <th>is_sarcastic</th>\n",
       "    </tr>\n",
       "  </thead>\n",
       "  <tbody>\n",
       "    <tr>\n",
       "      <td>0</td>\n",
       "      <td>https://www.huffingtonpost.com/entry/versace-b...</td>\n",
       "      <td>former versace store clerk sues over secret 'b...</td>\n",
       "      <td>0</td>\n",
       "    </tr>\n",
       "    <tr>\n",
       "      <td>1</td>\n",
       "      <td>https://www.huffingtonpost.com/entry/roseanne-...</td>\n",
       "      <td>the 'roseanne' revival catches up to our thorn...</td>\n",
       "      <td>0</td>\n",
       "    </tr>\n",
       "    <tr>\n",
       "      <td>2</td>\n",
       "      <td>https://local.theonion.com/mom-starting-to-fea...</td>\n",
       "      <td>mom starting to fear son's web series closest ...</td>\n",
       "      <td>1</td>\n",
       "    </tr>\n",
       "    <tr>\n",
       "      <td>3</td>\n",
       "      <td>https://politics.theonion.com/boehner-just-wan...</td>\n",
       "      <td>boehner just wants wife to listen, not come up...</td>\n",
       "      <td>1</td>\n",
       "    </tr>\n",
       "    <tr>\n",
       "      <td>4</td>\n",
       "      <td>https://www.huffingtonpost.com/entry/jk-rowlin...</td>\n",
       "      <td>j.k. rowling wishes snape happy birthday in th...</td>\n",
       "      <td>0</td>\n",
       "    </tr>\n",
       "  </tbody>\n",
       "</table>\n",
       "</div>"
      ],
      "text/plain": [
       "                                        article_link  \\\n",
       "0  https://www.huffingtonpost.com/entry/versace-b...   \n",
       "1  https://www.huffingtonpost.com/entry/roseanne-...   \n",
       "2  https://local.theonion.com/mom-starting-to-fea...   \n",
       "3  https://politics.theonion.com/boehner-just-wan...   \n",
       "4  https://www.huffingtonpost.com/entry/jk-rowlin...   \n",
       "\n",
       "                                            headline  is_sarcastic  \n",
       "0  former versace store clerk sues over secret 'b...             0  \n",
       "1  the 'roseanne' revival catches up to our thorn...             0  \n",
       "2  mom starting to fear son's web series closest ...             1  \n",
       "3  boehner just wants wife to listen, not come up...             1  \n",
       "4  j.k. rowling wishes snape happy birthday in th...             0  "
      ]
     },
     "execution_count": 30,
     "metadata": {},
     "output_type": "execute_result"
    }
   ],
   "source": [
    "dataset = pd.read_json('DS_Encuentro_33_Sarcasm_Headlines_Dataset.json', lines= True)\n",
    "dataset.head()"
   ]
  },
  {
   "cell_type": "markdown",
   "metadata": {},
   "source": [
    "b, Tomar del `dataset` solo las columnas de interes"
   ]
  },
  {
   "cell_type": "code",
   "execution_count": 31,
   "metadata": {
    "scrolled": true
   },
   "outputs": [
    {
     "data": {
      "text/html": [
       "<div>\n",
       "<style scoped>\n",
       "    .dataframe tbody tr th:only-of-type {\n",
       "        vertical-align: middle;\n",
       "    }\n",
       "\n",
       "    .dataframe tbody tr th {\n",
       "        vertical-align: top;\n",
       "    }\n",
       "\n",
       "    .dataframe thead th {\n",
       "        text-align: right;\n",
       "    }\n",
       "</style>\n",
       "<table border=\"1\" class=\"dataframe\">\n",
       "  <thead>\n",
       "    <tr style=\"text-align: right;\">\n",
       "      <th></th>\n",
       "      <th>headline</th>\n",
       "      <th>is_sarcastic</th>\n",
       "    </tr>\n",
       "  </thead>\n",
       "  <tbody>\n",
       "    <tr>\n",
       "      <td>0</td>\n",
       "      <td>former versace store clerk sues over secret 'b...</td>\n",
       "      <td>0</td>\n",
       "    </tr>\n",
       "    <tr>\n",
       "      <td>1</td>\n",
       "      <td>the 'roseanne' revival catches up to our thorn...</td>\n",
       "      <td>0</td>\n",
       "    </tr>\n",
       "    <tr>\n",
       "      <td>2</td>\n",
       "      <td>mom starting to fear son's web series closest ...</td>\n",
       "      <td>1</td>\n",
       "    </tr>\n",
       "    <tr>\n",
       "      <td>3</td>\n",
       "      <td>boehner just wants wife to listen, not come up...</td>\n",
       "      <td>1</td>\n",
       "    </tr>\n",
       "    <tr>\n",
       "      <td>4</td>\n",
       "      <td>j.k. rowling wishes snape happy birthday in th...</td>\n",
       "      <td>0</td>\n",
       "    </tr>\n",
       "  </tbody>\n",
       "</table>\n",
       "</div>"
      ],
      "text/plain": [
       "                                            headline  is_sarcastic\n",
       "0  former versace store clerk sues over secret 'b...             0\n",
       "1  the 'roseanne' revival catches up to our thorn...             0\n",
       "2  mom starting to fear son's web series closest ...             1\n",
       "3  boehner just wants wife to listen, not come up...             1\n",
       "4  j.k. rowling wishes snape happy birthday in th...             0"
      ]
     },
     "execution_count": 31,
     "metadata": {},
     "output_type": "execute_result"
    }
   ],
   "source": [
    "dataset=pd.concat([dataset.headline,dataset.is_sarcastic],axis=1)\n",
    "dataset.dropna(axis=0,inplace=True)  # Si hay alguna nan, tiramos esa instancia\n",
    "dataset.head()"
   ]
  },
  {
   "cell_type": "markdown",
   "metadata": {},
   "source": [
    "c. Antes de realizar el proceso de Stemming, vamos a normalizar el texto con lo que ya estuvimos viendo. Le agregamos en este caso el uso de la libreria `re`, que nos permite sacar del texto todos los caracteres que no sean palabras. Notemos que hay veces que no conviene quitar estos caracteres ya que, por ejemplo, no podremos distiguir preguntas (?) o exclamaciones (!)."
   ]
  },
  {
   "cell_type": "code",
   "execution_count": 32,
   "metadata": {},
   "outputs": [],
   "source": [
    "# Importamos esta libreria que nos permite reemplzar caracteres\n",
    "import re\n",
    "\n",
    "# Importamos la función que nos permite Stemmizar de nltk y definimos el stemmer\n",
    "from nltk.stem import PorterStemmer\n",
    "stemmer = PorterStemmer()\n",
    "\n",
    "# Traemos nuevamente las stopwords\n",
    "stopwords = nltk.corpus.stopwords.words('english')\n",
    "#stopword.remove('no')\n",
    "#stopword.remove('not')"
   ]
  },
  {
   "cell_type": "code",
   "execution_count": 33,
   "metadata": {},
   "outputs": [],
   "source": [
    "# Recorremos todos los titulos y le vamos aplicando la Normalizacion y luego el Stemming a cada uno\n",
    "titular_list=[]\n",
    "for titular in dataset.headline:\n",
    "    # Vamos a reemplzar los caracteres que no sean leras por espacios\n",
    "    titular=re.sub(\"[^a-zA-Z]\",\" \",str(titular))\n",
    "    # Pasamos todo a minúsculas\n",
    "    titular=titular.lower()\n",
    "    # Tokenizamos para separar las palabras del titular\n",
    "    titular=nltk.word_tokenize(titular)\n",
    "    # Eliminamos las palabras de menos de 3 letras\n",
    "    titular = [palabra for palabra in titular if len(palabra)>3]\n",
    "    # Sacamos las Stopwords\n",
    "    titular = [palabra for palabra in titular if not palabra in stopwords]\n",
    "    \n",
    "    ## Hasta acá Normalizamos, ahora a stemmizar\n",
    "    # Aplicamos la funcion para buscar la raiz de las palabras\n",
    "    titular=[stemmer.stem(palabra) for palabra in titular]\n",
    "    # Por ultimo volvemos a unir el titular\n",
    "    titular=\" \".join(titular)\n",
    "    \n",
    "    # Vamos armando una lista con todos los titulares\n",
    "    titular_list.append(titular)\n",
    "    #dataset[\"titular_normalizado\"] = titular_list"
   ]
  },
  {
   "cell_type": "markdown",
   "metadata": {},
   "source": [
    "d. Agregamos al dataset una columna llamado `titular_stem` que contenga los titulares stemmizados"
   ]
  },
  {
   "cell_type": "code",
   "execution_count": 34,
   "metadata": {},
   "outputs": [
    {
     "data": {
      "text/html": [
       "<div>\n",
       "<style scoped>\n",
       "    .dataframe tbody tr th:only-of-type {\n",
       "        vertical-align: middle;\n",
       "    }\n",
       "\n",
       "    .dataframe tbody tr th {\n",
       "        vertical-align: top;\n",
       "    }\n",
       "\n",
       "    .dataframe thead th {\n",
       "        text-align: right;\n",
       "    }\n",
       "</style>\n",
       "<table border=\"1\" class=\"dataframe\">\n",
       "  <thead>\n",
       "    <tr style=\"text-align: right;\">\n",
       "      <th></th>\n",
       "      <th>headline</th>\n",
       "      <th>is_sarcastic</th>\n",
       "      <th>titular_stem</th>\n",
       "    </tr>\n",
       "  </thead>\n",
       "  <tbody>\n",
       "    <tr>\n",
       "      <td>26704</td>\n",
       "      <td>american politics in moral free-fall</td>\n",
       "      <td>0</td>\n",
       "      <td>american polit moral free fall</td>\n",
       "    </tr>\n",
       "    <tr>\n",
       "      <td>26705</td>\n",
       "      <td>america's best 20 hikes</td>\n",
       "      <td>0</td>\n",
       "      <td>america best hike</td>\n",
       "    </tr>\n",
       "    <tr>\n",
       "      <td>26706</td>\n",
       "      <td>reparations and obama</td>\n",
       "      <td>0</td>\n",
       "      <td>repar obama</td>\n",
       "    </tr>\n",
       "    <tr>\n",
       "      <td>26707</td>\n",
       "      <td>israeli ban targeting boycott supporters raise...</td>\n",
       "      <td>0</td>\n",
       "      <td>isra target boycott support rais alarm abroad</td>\n",
       "    </tr>\n",
       "    <tr>\n",
       "      <td>26708</td>\n",
       "      <td>gourmet gifts for the foodie 2014</td>\n",
       "      <td>0</td>\n",
       "      <td>gourmet gift foodi</td>\n",
       "    </tr>\n",
       "  </tbody>\n",
       "</table>\n",
       "</div>"
      ],
      "text/plain": [
       "                                                headline  is_sarcastic  \\\n",
       "26704               american politics in moral free-fall             0   \n",
       "26705                            america's best 20 hikes             0   \n",
       "26706                              reparations and obama             0   \n",
       "26707  israeli ban targeting boycott supporters raise...             0   \n",
       "26708                  gourmet gifts for the foodie 2014             0   \n",
       "\n",
       "                                        titular_stem  \n",
       "26704                 american polit moral free fall  \n",
       "26705                              america best hike  \n",
       "26706                                    repar obama  \n",
       "26707  isra target boycott support rais alarm abroad  \n",
       "26708                             gourmet gift foodi  "
      ]
     },
     "execution_count": 34,
     "metadata": {},
     "output_type": "execute_result"
    }
   ],
   "source": [
    "dataset[\"titular_stem\"] = titular_list\n",
    "dataset.tail()"
   ]
  },
  {
   "cell_type": "markdown",
   "metadata": {},
   "source": [
    "Armamos un nuevo dataset llamado `dataset_stem` que contenga solo las columnas `titular_stem` e `is_sarcastic`"
   ]
  },
  {
   "cell_type": "code",
   "execution_count": 35,
   "metadata": {
    "scrolled": true
   },
   "outputs": [
    {
     "data": {
      "text/html": [
       "<div>\n",
       "<style scoped>\n",
       "    .dataframe tbody tr th:only-of-type {\n",
       "        vertical-align: middle;\n",
       "    }\n",
       "\n",
       "    .dataframe tbody tr th {\n",
       "        vertical-align: top;\n",
       "    }\n",
       "\n",
       "    .dataframe thead th {\n",
       "        text-align: right;\n",
       "    }\n",
       "</style>\n",
       "<table border=\"1\" class=\"dataframe\">\n",
       "  <thead>\n",
       "    <tr style=\"text-align: right;\">\n",
       "      <th></th>\n",
       "      <th>titular_stem</th>\n",
       "      <th>is_sarcastic</th>\n",
       "    </tr>\n",
       "  </thead>\n",
       "  <tbody>\n",
       "    <tr>\n",
       "      <td>0</td>\n",
       "      <td>former versac store clerk sue secret black cod...</td>\n",
       "      <td>0</td>\n",
       "    </tr>\n",
       "    <tr>\n",
       "      <td>1</td>\n",
       "      <td>roseann reviv catch thorni polit mood better wors</td>\n",
       "      <td>0</td>\n",
       "    </tr>\n",
       "    <tr>\n",
       "      <td>2</td>\n",
       "      <td>start fear seri closest thing grandchild</td>\n",
       "      <td>1</td>\n",
       "    </tr>\n",
       "    <tr>\n",
       "      <td>3</td>\n",
       "      <td>boehner want wife listen come altern debt redu...</td>\n",
       "      <td>1</td>\n",
       "    </tr>\n",
       "    <tr>\n",
       "      <td>4</td>\n",
       "      <td>rowl wish snape happi birthday magic</td>\n",
       "      <td>0</td>\n",
       "    </tr>\n",
       "  </tbody>\n",
       "</table>\n",
       "</div>"
      ],
      "text/plain": [
       "                                        titular_stem  is_sarcastic\n",
       "0  former versac store clerk sue secret black cod...             0\n",
       "1  roseann reviv catch thorni polit mood better wors             0\n",
       "2           start fear seri closest thing grandchild             1\n",
       "3  boehner want wife listen come altern debt redu...             1\n",
       "4               rowl wish snape happi birthday magic             0"
      ]
     },
     "execution_count": 35,
     "metadata": {},
     "output_type": "execute_result"
    }
   ],
   "source": [
    "dataset_stem=pd.concat([dataset.titular_stem,dataset.is_sarcastic],axis=1)\n",
    "dataset_stem.dropna(axis=0,inplace=True)  # Por si quedaron titulares vacios\n",
    "dataset_stem.head()"
   ]
  },
  {
   "cell_type": "markdown",
   "metadata": {},
   "source": [
    "## 5. Lemmatization\n",
    "\n",
    "Otra manera de llevar distintas palabras a un raíz común en la que comparten un significado es mediante el procezo de 'Lemmatizar' el texto. Es similar al 'Stemming' pero un poco más educado, ya que intenta realizar el proceso teniendo en cuenta cuál es el rol que la palabra cumple en el texto. Esto quiere decir que su accionar será distinto si la palabra a lemmantizar está actuando como verbo, sustantivo, etc. \n",
    "\n",
    "Para usar las funciones que ofrece `nltk` para lemmantizar, tendremos primero que descargar la libreria `Wordnet` que se encuentra en la solapa 'corpora' y las librerias 'maxent_treebank_pos_' y 'averaged_perceptron_tagger' que se encuentra en la solapa 'Models'. Para eso ejecute la siguiente celda:"
   ]
  },
  {
   "cell_type": "code",
   "execution_count": 36,
   "metadata": {},
   "outputs": [],
   "source": [
    "#nltk.download('wordnet')\n",
    "#nltk.download('averaged_perceptron_tagger')"
   ]
  },
  {
   "cell_type": "code",
   "execution_count": 37,
   "metadata": {},
   "outputs": [],
   "source": [
    "# Importamos esta libreria que nos permite reemplzar caracteres\n",
    "import re\n",
    "\n",
    "# Importamos el lemmatizar de NLTK, y creamos el objeto\n",
    "from nltk.stem import WordNetLemmatizer\n",
    "wordnet_lemmatizer = WordNetLemmatizer()"
   ]
  },
  {
   "cell_type": "markdown",
   "metadata": {},
   "source": [
    "Veamos cómo actúa el lemmatizer sobre una frase de ejemplo."
   ]
  },
  {
   "cell_type": "code",
   "execution_count": 38,
   "metadata": {},
   "outputs": [
    {
     "name": "stdout",
     "output_type": "stream",
     "text": [
      "Word                Lemma               \n",
      "he                  he                  \n",
      "was                 wa                  \n",
      "running             running             \n",
      "and                 and                 \n",
      "eating              eating              \n",
      "at                  at                  \n",
      "same                same                \n",
      "time                time                \n",
      "he                  he                  \n",
      "has                 ha                  \n",
      "bad                 bad                 \n",
      "habit               habit               \n",
      "of                  of                  \n",
      "swimming            swimming            \n",
      "after               after               \n",
      "playing             playing             \n",
      "long                long                \n",
      "hours               hour                \n",
      "in                  in                  \n",
      "the                 the                 \n",
      "sun                 sun                 \n"
     ]
    }
   ],
   "source": [
    "# Oracion que usaremos como ejemplo\n",
    "frase = \"He was running and eating at same time. He has bad habit of swimming after playing long hours in the Sun.\"\n",
    "\n",
    "# Hay que regularizar el texto. Dejar solo letra, pasar a minúsculas y tokenizar:\n",
    "\n",
    "# Sacamos todo lo que no sean letras\n",
    "frase = re.sub(\"[^a-zA-Z]\",\" \",str(frase))\n",
    "# Pasamos a minúsculas\n",
    "frase = frase.lower()\n",
    "# Tokenizamos\n",
    "frase_tokens = nltk.word_tokenize(frase)\n",
    "\n",
    "# Veamos como cambians las palabras al lemmatizar\n",
    "print(\"{0:20}{1:20}\".format(\"Word\",\"Lemma\"))\n",
    "for palabra in frase_tokens:\n",
    "    print (\"{0:20}{1:20}\".format(palabra,wordnet_lemmatizer.lemmatize(palabra)))"
   ]
  },
  {
   "cell_type": "markdown",
   "metadata": {},
   "source": [
    "¿Les sorprende lo que paso? No cambiaron casi nada (solo se fueron las \"s\" del final). El problema es que precisamos darle información extra al Lemmatizer, decirle qué rol está cumpliendo la palabra en la oración. Si se fijan en la documentación, esto se hace pasandole un argumento extra a la función llamado POS (Part Of Speech).\n",
    "\n",
    "Hay distintos metodos que intentan averiguar el rol que cumple una palabra en una oración. Nosotros vamos a utilizar uno que viene incorporado en NLTK llamado pos_tag."
   ]
  },
  {
   "cell_type": "code",
   "execution_count": 39,
   "metadata": {},
   "outputs": [
    {
     "name": "stdout",
     "output_type": "stream",
     "text": [
      "[('he', 'PRP'), ('was', 'VBD'), ('running', 'VBG'), ('and', 'CC'), ('eating', 'VBG'), ('at', 'IN'), ('same', 'JJ'), ('time', 'NN'), ('he', 'PRP'), ('has', 'VBZ'), ('bad', 'JJ'), ('habit', 'NN'), ('of', 'IN'), ('swimming', 'NN'), ('after', 'IN'), ('playing', 'VBG'), ('long', 'JJ'), ('hours', 'NNS'), ('in', 'IN'), ('the', 'DT'), ('sun', 'NN')]\n"
     ]
    }
   ],
   "source": [
    "print(nltk.pos_tag(frase_tokens))"
   ]
  },
  {
   "cell_type": "markdown",
   "metadata": {},
   "source": [
    "Las etiquetas refieren al tipo de palabra. Vamos a definir una función para traducir estas etiquetas a los valores de POS que entiende 'wordnet_lemmatizer'."
   ]
  },
  {
   "cell_type": "code",
   "execution_count": 40,
   "metadata": {},
   "outputs": [],
   "source": [
    "from nltk.corpus import wordnet\n",
    "\n",
    "def get_wordnet_pos(word):\n",
    "    \"\"\"Map POS tag to first character lemmatize() accepts\"\"\"\n",
    "    tag = nltk.pos_tag([word])[0][1][0].upper()\n",
    "    tag_dict = {\"J\": wordnet.ADJ,\n",
    "                \"N\": wordnet.NOUN,\n",
    "                \"V\": wordnet.VERB,\n",
    "                \"R\": wordnet.ADV}\n",
    "    return tag_dict.get(tag, wordnet.NOUN)"
   ]
  },
  {
   "cell_type": "markdown",
   "metadata": {},
   "source": [
    "Veamos finalmente como funciona en nuestro ejemplo."
   ]
  },
  {
   "cell_type": "code",
   "execution_count": 41,
   "metadata": {},
   "outputs": [
    {
     "name": "stdout",
     "output_type": "stream",
     "text": [
      "Palabra:            Tipo:               Lemma:              \n",
      "he                  n                   he                  \n",
      "was                 v                   be                  \n",
      "running             v                   run                 \n",
      "and                 n                   and                 \n",
      "eating              v                   eat                 \n",
      "at                  n                   at                  \n",
      "same                a                   same                \n",
      "time                n                   time                \n",
      "he                  n                   he                  \n",
      "has                 v                   have                \n",
      "bad                 a                   bad                 \n",
      "habit               n                   habit               \n",
      "of                  n                   of                  \n",
      "swimming            v                   swim                \n",
      "after               n                   after               \n",
      "playing             v                   play                \n",
      "long                r                   long                \n",
      "hours               n                   hour                \n",
      "in                  n                   in                  \n",
      "the                 n                   the                 \n",
      "sun                 n                   sun                 \n"
     ]
    }
   ],
   "source": [
    "frase_lemma = [wordnet_lemmatizer.lemmatize(w, get_wordnet_pos(w)) for w in nltk.word_tokenize(frase)]\n",
    "tipo_palabra = [get_wordnet_pos(w) for w in nltk.word_tokenize(frase)]\n",
    "\n",
    "# Veamos como cambiaron las palabras\n",
    "print(\"{0:20}{1:20}{2:20}\".format(\"Palabra:\",\"Tipo:\",\"Lemma:\"))\n",
    "for i in range(len(frase_tokens)):\n",
    "    print (\"{0:20}{1:20}{2:20}\".format(frase_tokens[i],tipo_palabra[i],frase_lemma[i]))"
   ]
  },
  {
   "cell_type": "markdown",
   "metadata": {},
   "source": [
    "a. Ahora les toca aplicar todo esto a nuestro dataset. Vamos a volver a importarlo y hacer un procedimiento análogo al que hicimos para la parte de Stemming."
   ]
  },
  {
   "cell_type": "code",
   "execution_count": 42,
   "metadata": {},
   "outputs": [],
   "source": [
    "# Importamos el lemmatizar de NLTK, y creamos el objeto\n",
    "from nltk.stem import WordNetLemmatizer\n",
    "wordnet_lemmatizer = WordNetLemmatizer()\n",
    "\n",
    "# Importamos esta libreria que nos permite reemplzar caracteres\n",
    "import re\n",
    "\n",
    "dataset = pd.read_json('DS_Encuentro_33_Sarcasm_Headlines_Dataset.json', lines= True)\n",
    "dataset = pd.concat([dataset.headline,dataset.is_sarcastic],axis=1)\n",
    "dataset.dropna(axis=0,inplace=True)\n",
    "\n",
    "# Traemos nuevamente las stopwords\n",
    "stopwords = nltk.corpus.stopwords.words('english')\n",
    "#stopword.remove('no')\n",
    "#stopword.remove('not')"
   ]
  },
  {
   "cell_type": "code",
   "execution_count": 43,
   "metadata": {},
   "outputs": [],
   "source": [
    "titular_list=[]\n",
    "for titular in dataset.headline:\n",
    "    # Vamos a reemplazar los caracteres que no sean letras por espacios\n",
    "    titular=re.sub(\"[^a-zA-Z]\",\" \",str(titular))\n",
    "    # Pasamos todo a minúsculas\n",
    "    titular=titular.lower()\n",
    "    # Tokenizamos para separar las palabras\n",
    "    titular=nltk.word_tokenize(titular)\n",
    "    \n",
    "    # Aplicamos el Lemmatizer (Esto puede tardar un ratito)\n",
    "    frase_lemma = [wordnet_lemmatizer.lemmatize(w, get_wordnet_pos(w)) for w in titular]\n",
    "    \n",
    "    # Eliminamos las palabras d emenos de 3 letras\n",
    "    titular = [palabra for palabra in titular if len(palabra)>3]\n",
    "    # Sacamos las Stopwords\n",
    "    titular = [palabra for palabra in titular if not palabra in stopwords]\n",
    "    \n",
    "    # Por ultimo volvemos a unir el titular\n",
    "    titular=\" \".join(titular)\n",
    "    #dataset[\"titular_normalizado\"] = titular_list\n",
    "    titular_list.append(titular)"
   ]
  },
  {
   "cell_type": "code",
   "execution_count": 44,
   "metadata": {},
   "outputs": [
    {
     "data": {
      "text/html": [
       "<div>\n",
       "<style scoped>\n",
       "    .dataframe tbody tr th:only-of-type {\n",
       "        vertical-align: middle;\n",
       "    }\n",
       "\n",
       "    .dataframe tbody tr th {\n",
       "        vertical-align: top;\n",
       "    }\n",
       "\n",
       "    .dataframe thead th {\n",
       "        text-align: right;\n",
       "    }\n",
       "</style>\n",
       "<table border=\"1\" class=\"dataframe\">\n",
       "  <thead>\n",
       "    <tr style=\"text-align: right;\">\n",
       "      <th></th>\n",
       "      <th>headline</th>\n",
       "      <th>is_sarcastic</th>\n",
       "      <th>titular_lemm</th>\n",
       "    </tr>\n",
       "  </thead>\n",
       "  <tbody>\n",
       "    <tr>\n",
       "      <td>26704</td>\n",
       "      <td>american politics in moral free-fall</td>\n",
       "      <td>0</td>\n",
       "      <td>american politics moral free fall</td>\n",
       "    </tr>\n",
       "    <tr>\n",
       "      <td>26705</td>\n",
       "      <td>america's best 20 hikes</td>\n",
       "      <td>0</td>\n",
       "      <td>america best hikes</td>\n",
       "    </tr>\n",
       "    <tr>\n",
       "      <td>26706</td>\n",
       "      <td>reparations and obama</td>\n",
       "      <td>0</td>\n",
       "      <td>reparations obama</td>\n",
       "    </tr>\n",
       "    <tr>\n",
       "      <td>26707</td>\n",
       "      <td>israeli ban targeting boycott supporters raise...</td>\n",
       "      <td>0</td>\n",
       "      <td>israeli targeting boycott supporters raises al...</td>\n",
       "    </tr>\n",
       "    <tr>\n",
       "      <td>26708</td>\n",
       "      <td>gourmet gifts for the foodie 2014</td>\n",
       "      <td>0</td>\n",
       "      <td>gourmet gifts foodie</td>\n",
       "    </tr>\n",
       "  </tbody>\n",
       "</table>\n",
       "</div>"
      ],
      "text/plain": [
       "                                                headline  is_sarcastic  \\\n",
       "26704               american politics in moral free-fall             0   \n",
       "26705                            america's best 20 hikes             0   \n",
       "26706                              reparations and obama             0   \n",
       "26707  israeli ban targeting boycott supporters raise...             0   \n",
       "26708                  gourmet gifts for the foodie 2014             0   \n",
       "\n",
       "                                            titular_lemm  \n",
       "26704                  american politics moral free fall  \n",
       "26705                                 america best hikes  \n",
       "26706                                  reparations obama  \n",
       "26707  israeli targeting boycott supporters raises al...  \n",
       "26708                               gourmet gifts foodie  "
      ]
     },
     "execution_count": 44,
     "metadata": {},
     "output_type": "execute_result"
    }
   ],
   "source": [
    "dataset[\"titular_lemm\"] = titular_list\n",
    "dataset.tail()"
   ]
  },
  {
   "cell_type": "markdown",
   "metadata": {},
   "source": [
    "b. Por último nos armamos un nuevo datasate llamado `dataset_lem` que tenga solo las columnas `titular_lemm` y `is_sarcastic`."
   ]
  },
  {
   "cell_type": "code",
   "execution_count": 45,
   "metadata": {},
   "outputs": [
    {
     "data": {
      "text/html": [
       "<div>\n",
       "<style scoped>\n",
       "    .dataframe tbody tr th:only-of-type {\n",
       "        vertical-align: middle;\n",
       "    }\n",
       "\n",
       "    .dataframe tbody tr th {\n",
       "        vertical-align: top;\n",
       "    }\n",
       "\n",
       "    .dataframe thead th {\n",
       "        text-align: right;\n",
       "    }\n",
       "</style>\n",
       "<table border=\"1\" class=\"dataframe\">\n",
       "  <thead>\n",
       "    <tr style=\"text-align: right;\">\n",
       "      <th></th>\n",
       "      <th>titular_lemm</th>\n",
       "      <th>is_sarcastic</th>\n",
       "    </tr>\n",
       "  </thead>\n",
       "  <tbody>\n",
       "    <tr>\n",
       "      <td>0</td>\n",
       "      <td>former versace store clerk sues secret black c...</td>\n",
       "      <td>0</td>\n",
       "    </tr>\n",
       "    <tr>\n",
       "      <td>1</td>\n",
       "      <td>roseanne revival catches thorny political mood...</td>\n",
       "      <td>0</td>\n",
       "    </tr>\n",
       "    <tr>\n",
       "      <td>2</td>\n",
       "      <td>starting fear series closest thing grandchild</td>\n",
       "      <td>1</td>\n",
       "    </tr>\n",
       "    <tr>\n",
       "      <td>3</td>\n",
       "      <td>boehner wants wife listen come alternative deb...</td>\n",
       "      <td>1</td>\n",
       "    </tr>\n",
       "    <tr>\n",
       "      <td>4</td>\n",
       "      <td>rowling wishes snape happy birthday magical</td>\n",
       "      <td>0</td>\n",
       "    </tr>\n",
       "  </tbody>\n",
       "</table>\n",
       "</div>"
      ],
      "text/plain": [
       "                                        titular_lemm  is_sarcastic\n",
       "0  former versace store clerk sues secret black c...             0\n",
       "1  roseanne revival catches thorny political mood...             0\n",
       "2      starting fear series closest thing grandchild             1\n",
       "3  boehner wants wife listen come alternative deb...             1\n",
       "4        rowling wishes snape happy birthday magical             0"
      ]
     },
     "execution_count": 45,
     "metadata": {},
     "output_type": "execute_result"
    }
   ],
   "source": [
    "dataset_lemm = pd.concat([dataset.titular_lemm,dataset.is_sarcastic],axis=1)\n",
    "dataset_lemm.dropna(axis=0,inplace=True)  # Por si quedaron titulares vacios\n",
    "dataset_lemm.head()"
   ]
  },
  {
   "cell_type": "markdown",
   "metadata": {},
   "source": [
    "## 6. Vectorizar\n",
    "Tenemos un grupo de palabras por cada titular (bag of words). La idea ahora es representar esta lista de palabras como un vector. Para esto vamos a utilizar la función CountVectorizer de sklearn. Esta función nos permite representar cada título por un vector con un `1` en las palabras que contiene y un `0` en las que no. Además, vamos a trabajar únicamente con las palabras que aparecen más veces en el texto, ya que las que aparecen una única vez o pocas veces no nos van a brindar información que se pueda generalizar."
   ]
  },
  {
   "cell_type": "markdown",
   "metadata": {},
   "source": [
    "a. Tomamos la lista de palabras y el vector que nos dice si es o no sarcástico el título"
   ]
  },
  {
   "cell_type": "code",
   "execution_count": 46,
   "metadata": {},
   "outputs": [],
   "source": [
    "# Tomamso la lista de palabras y el vector que nos dice si es o no sarcastico el titulo\n",
    "list_titulos = list(dataset_lemm['titular_lemm'].values)\n",
    "is_sarc = dataset_lemm['is_sarcastic'].values\n",
    "\n",
    "## Para probar con Stemmizer:\n",
    "#list_titulos = list(dataset_stem'titular_stem'].values)\n",
    "#is_sarc = dataset_stem['is_sarcastic'].values"
   ]
  },
  {
   "cell_type": "markdown",
   "metadata": {},
   "source": [
    "b. Preparamos el conversor de bag of words a vectores que traemos de sklearn. `CountVectorizer` posee varias funcionalidades que pueden determinarse a partir de parámetros. Les recomendamos fuertemente leer su documentación."
   ]
  },
  {
   "cell_type": "code",
   "execution_count": 47,
   "metadata": {},
   "outputs": [],
   "source": [
    "from sklearn.feature_extraction.text import CountVectorizer\n",
    "\n",
    "# Usaremos solo las 1000 palabras con mas frecuencia en todo el corpus para generar los vectores\n",
    "max_features=1000\n",
    "\n",
    "# Es decir que cada instancia tendrá 1000 features\n",
    "cou_vec=CountVectorizer(max_features=max_features) # stop_words=\"english\" , ngram_range=(1, 2)"
   ]
  },
  {
   "cell_type": "markdown",
   "metadata": {},
   "source": [
    "Notemos que desde `CountVectorizer` se pueden quitar las stopwords (algo que ya hicimos con `nltk`) e incluir los n_gramas automáticamente.\n",
    "\n",
    "c. Ahora sí, vamos generarnos los vectores para cada título a partir del corpus total."
   ]
  },
  {
   "cell_type": "code",
   "execution_count": 48,
   "metadata": {},
   "outputs": [
    {
     "name": "stdout",
     "output_type": "stream",
     "text": [
      "50 palabras mas usadas:  ['abortion', 'abuse', 'accidentally', 'according', 'accused', 'across', 'action', 'activists', 'actor', 'actually', 'address', 'adds', 'administration', 'admits', 'adorable', 'advice', 'afghanistan', 'ahead', 'airport', 'album', 'allegations', 'almost', 'already', 'also', 'always', 'amazing', 'amazon', 'america', 'american', 'americans', 'amid', 'among', 'anniversary', 'announce', 'announces', 'another', 'anti', 'anyone', 'anything', 'apartment', 'apologizes', 'apparently', 'apple', 'archives', 'area', 'around', 'arrested', 'artist', 'asked', 'asking']\n"
     ]
    }
   ],
   "source": [
    "matriz_titulos = cou_vec.fit_transform(list_titulos)\n",
    "\n",
    "# Tomamos las palabras\n",
    "all_words = cou_vec.get_feature_names()\n",
    "\n",
    "# Vizualizamos las 50 palabras mas usadas\n",
    "print(\"50 palabras mas usadas: \",all_words[0:50])"
   ]
  },
  {
   "cell_type": "markdown",
   "metadata": {},
   "source": [
    "## 7. Modelar\n",
    "\n",
    "Ahroa sí estamos listos para usar todo nuestro conocimiento de modelos en este set de datos. Tengamos en cuenta que, dependiendo el número de palabras (features) que hayamos elegido, los modelos pueden tardar un rato en entrenarse.\n",
    "\n",
    "a. Primero, como siempre, separamos en test y train."
   ]
  },
  {
   "cell_type": "code",
   "execution_count": 49,
   "metadata": {},
   "outputs": [],
   "source": [
    "x = matriz_titulos.toarray()\n",
    "y = is_sarc\n",
    "\n",
    "from sklearn.model_selection import train_test_split\n",
    "xtrain, xtest, ytrain, ytest = train_test_split(x,y,test_size=0.2,random_state=42,stratify=y)"
   ]
  },
  {
   "cell_type": "markdown",
   "metadata": {},
   "source": [
    "Tambien definimos una función que nos permite plotear los resultados en una matriz de confusión."
   ]
  },
  {
   "cell_type": "code",
   "execution_count": 50,
   "metadata": {},
   "outputs": [],
   "source": [
    "from sklearn.metrics import confusion_matrix\n",
    "import seaborn as sns\n",
    "\n",
    "def confusion(ytest,y_pred):\n",
    "    names=[\"No Sarcastico\",\"Sarcastico\"]\n",
    "    cm=confusion_matrix(ytest,y_pred)\n",
    "    f,ax=plt.subplots(figsize=(5,5))\n",
    "    sns.heatmap(cm,annot=True,linewidth=.5,linecolor=\"r\",fmt=\".0f\",ax=ax)\n",
    "    plt.xlabel(\"y_pred\")\n",
    "    plt.ylabel(\"y_true\")\n",
    "    ax.set_xticklabels(names)\n",
    "    ax.set_yticklabels(names)\n",
    "    plt.show()\n",
    "    return"
   ]
  },
  {
   "cell_type": "markdown",
   "metadata": {},
   "source": [
    "### Naive Bayes\n",
    "a. Empecemos por un simple Naive Bayes para tener un benchmark de referencia para el accuracy."
   ]
  },
  {
   "cell_type": "code",
   "execution_count": 51,
   "metadata": {},
   "outputs": [
    {
     "name": "stdout",
     "output_type": "stream",
     "text": [
      "acc :  0.6800823661549982\n"
     ]
    }
   ],
   "source": [
    "from sklearn.naive_bayes import GaussianNB\n",
    "nb = GaussianNB()\n",
    "nb.fit(xtrain,ytrain)\n",
    "print(\"acc : \", nb.score(xtest,ytest))"
   ]
  },
  {
   "cell_type": "markdown",
   "metadata": {},
   "source": [
    "b. Veamos cómo queda graficada la matriz de confusión:"
   ]
  },
  {
   "cell_type": "code",
   "execution_count": 52,
   "metadata": {},
   "outputs": [
    {
     "data": {
      "image/png": "[encoded data removed]",
      "text/plain": [
       "<Figure size 360x360 with 2 Axes>"
      ]
     },
     "metadata": {
      "needs_background": "light"
     },
     "output_type": "display_data"
    }
   ],
   "source": [
    "y_pred=nb.predict(xtest)\n",
    "confusion(ytest,y_pred)"
   ]
  },
  {
   "cell_type": "markdown",
   "metadata": {},
   "source": [
    "### Random Forest\n",
    "a. Veamos cómo funciona un random forest para predecir el sarcasmo de una nota en base a su titular."
   ]
  },
  {
   "cell_type": "code",
   "execution_count": 53,
   "metadata": {},
   "outputs": [
    {
     "name": "stdout",
     "output_type": "stream",
     "text": [
      "acc:  0.7134032197678772\n"
     ]
    }
   ],
   "source": [
    "from sklearn.ensemble import RandomForestClassifier\n",
    "from sklearn.metrics import confusion_matrix\n",
    "\n",
    "rf = RandomForestClassifier(n_estimators = 50, random_state=42)\n",
    "rf.fit(xtrain,ytrain)\n",
    "print(\"acc: \",rf.score(xtest,ytest))"
   ]
  },
  {
   "cell_type": "markdown",
   "metadata": {},
   "source": [
    "b. Grafiquen su matriz de confusión:"
   ]
  },
  {
   "cell_type": "code",
   "execution_count": 54,
   "metadata": {},
   "outputs": [
    {
     "data": {
      "image/png": "[encoded data removed]",
      "text/plain": [
       "<Figure size 360x360 with 2 Axes>"
      ]
     },
     "metadata": {
      "needs_background": "light"
     },
     "output_type": "display_data"
    }
   ],
   "source": [
    "y_pred=rf.predict(xtest)\n",
    "confusion(ytest,y_pred)"
   ]
  },
  {
   "cell_type": "markdown",
   "metadata": {},
   "source": [
    "c. Habíamos dicho que algo muy bueno de Random Forest era poder preguntarle por la importancia de los features que uso para clasificar. Veamos en este caso cuales son las palabras que mayormente determinan el sarcasmo de una nota para este clasificador."
   ]
  },
  {
   "cell_type": "code",
   "execution_count": 55,
   "metadata": {},
   "outputs": [
    {
     "data": {
      "image/png": "[encoded data removed]",
      "text/plain": [
       "<Figure size 1080x576 with 1 Axes>"
      ]
     },
     "metadata": {
      "needs_background": "light"
     },
     "output_type": "display_data"
    }
   ],
   "source": [
    "# Le preguntamos la importancia de cada feature (cada palabra)\n",
    "importances = rf.feature_importances_\n",
    "# Tomamos la lista de palabras\n",
    "all_words = cou_vec.get_feature_names()\n",
    "columns = all_words\n",
    "\n",
    "# Ordenamos por importnacia y tomamos las 20 primeras\n",
    "indices = np.argsort(importances)[::-1]\n",
    "indices = indices[:20]\n",
    "selected_columns = [columns[i] for i in indices]\n",
    "selected_importances = importances[indices]\n",
    "\n",
    "# Por ultimo graficamos\n",
    "plt.figure(figsize = (15,8))\n",
    "sns.barplot(selected_columns, selected_importances)\n",
    "plt.show()"
   ]
  },
  {
   "cell_type": "markdown",
   "metadata": {},
   "source": [
    "### SVM\n",
    "Por último vamos a utilizar uno de los modelos mas prometedores para este tipo de datos donde el numero de features es comparable al número de instancias: SVM."
   ]
  },
  {
   "cell_type": "markdown",
   "metadata": {},
   "source": [
    "a. Entrene un modelo de SVM Lineal y calcule su accuracy para C = 1."
   ]
  },
  {
   "cell_type": "code",
   "execution_count": 56,
   "metadata": {},
   "outputs": [
    {
     "data": {
      "text/plain": [
       "0.729127667540247"
      ]
     },
     "execution_count": 56,
     "metadata": {},
     "output_type": "execute_result"
    }
   ],
   "source": [
    "# Notar que en vez de utilizar SVC, vamos a usar LinearSVC. \n",
    "# Para el Kernel Lineal, esta función es MUCHO mas rapida que la tradicional SVC.\n",
    "from sklearn.svm import LinearSVC\n",
    "\n",
    "svc = LinearSVC(C = 1)\n",
    "svc.fit(xtrain,ytrain)\n",
    "svc.score(xtest,ytest)"
   ]
  },
  {
   "cell_type": "markdown",
   "metadata": {},
   "source": [
    "b. Grafiquen su matrz de confusión:"
   ]
  },
  {
   "cell_type": "code",
   "execution_count": 57,
   "metadata": {},
   "outputs": [
    {
     "data": {
      "image/png": "[encoded data removed]",
      "text/plain": [
       "<Figure size 360x360 with 2 Axes>"
      ]
     },
     "metadata": {
      "needs_background": "light"
     },
     "output_type": "display_data"
    }
   ],
   "source": [
    "y_pred=svc.predict(xtest)\n",
    "confusion(ytest,y_pred)"
   ]
  },
  {
   "cell_type": "markdown",
   "metadata": {},
   "source": [
    "## 7. Explore las posibilidades\n",
    "\n",
    "Si llegaron hasta acá, ya cuentan con todas las herramientas para poder explorar que sucede con el poder predictivo cuando van cambiando la manera en que procesan y vectorizan el texto. Algunas sugerencias para explorar son las siguientes:\n",
    "\n",
    "a) `Pruebe con Stemmizar en vez de Lemmantizar`\n",
    "\n",
    "b) `Cambie el numero de features que esta tomando.`\n",
    "\n",
    "c) `Incluya los 2-gramas.`\n",
    "\n",
    "d) `Conserve los signos de exclamación y pregunta del texto.`"
   ]
  },
  {
   "cell_type": "markdown",
   "metadata": {},
   "source": [
    "---\n",
    "## Ejercicio Extra\n",
    "\n",
    "\"Scrapear\" una nota de algún medio digital y procesarla utilizando las herramientas que vimos. Para ver como importar el texto de la pagina de la noticia, ver video 1.6 'Frecuencia de palabras' de Procesamiento de Lenguaje Natural."
   ]
  },
  {
   "cell_type": "markdown",
   "metadata": {},
   "source": [
    "Antes de seguir con el ejercicio, debemos instalar la librería `beautifulsoup4`"
   ]
  },
  {
   "cell_type": "code",
   "execution_count": 58,
   "metadata": {},
   "outputs": [],
   "source": [
    "#!pip install beautifulsoup4"
   ]
  },
  {
   "cell_type": "code",
   "execution_count": 59,
   "metadata": {},
   "outputs": [],
   "source": [
    "# Librerias que van a precisar para esto\n",
    "from bs4 import BeautifulSoup\n",
    "import urllib.request\n",
    "\n",
    "response = urllib.request.urlopen('https://www.clarin.com/economia/economia/desempleo-subio-10-millones-desocupados_0_0lhtuy_fZ.html')\n",
    "\n",
    "html = response.read()\n",
    "soup = BeautifulSoup(html, 'html.parser')\n",
    "nota = soup.get_text()"
   ]
  },
  {
   "cell_type": "code",
   "execution_count": 60,
   "metadata": {
    "scrolled": true
   },
   "outputs": [
    {
     "data": {
      "text/plain": [
       "'\\n\\n\\nEl desempleo alcanzó el 10,1% y hay 2 millones de desocupados - Clarín\\n\\n\\n\\n\\n\\n\\n\\n\\n\\n\\n\\n\\n\\n\\n\\n\\n\\n\\n\\n\\n\\n    (function(w,d,s,c,u){\\n        var qf=function(e,a){\\n            (w[c].q=w[c].q||[]).push([e,a]);\\n        }\\n        w[c] = w[c] || qf;\\n        var st=d.createElement(s);\\n        var fs=d.getElementsByTagName(s)[0];\\n        st.async=1;\\n        st.src=u;\\n        fs.parentNode.insertBefore(st,fs);\\n    })(window,document,\\'script\\',\\'chartbeat\\',\\'https://static.chartbeat.com/js/subscriptions.js\\');\\n\\n\\n\\n\\n\\n\\n\\n\\n\\n\\n\\n\\n\\n\\n\\n\\n\\n\\n\\n\\n\\n\\n\\n\\n\\n\\n    {\\n        \"@context\": \"http://schema.org\",\\n        \"@type\": \"NewsArticle\",\\n        \"mainEntityOfPage\":{\\n            \"@type\": \"WebPage\",\\n            \"@id\": \"https://www.clarin.com/economia/economia/desempleo-subio-10-millones-desocupados_0_0lhtuy_fZ.html\"\\n        },\\n        \"headline\": \"El desempleo alcanzó el 10,1% y hay 2 millones de desocupados\",\\n        \"url\": \"https://www.clarin.com/economia/economia/desempleo-subio-10-millones-desocupados_0_0lhtuy_fZ.html\",\\n        \"image\": {\\n            \"@context\": \"http://schema.org\",\\n            \"@type\": \"ImageObject\",\\n            \"url\": \"https://images.clarin.com/2019/06/11/dante-sica-ministro-de-produccion___n1zDTN2zO_1256x620__1.jpg\",\\n            \"height\": 620,\\n            \"width\": 1256\\n        },\\n        \"dateCreated\": \"19/06/2019 04:02:53 PM\",\\n        \"datePublished\": \"19/06/2019 04:02:53 PM\",\\n        \"dateModified\": \"19/06/2019 18:58:02\",\\n        \"articleSection\": \"701\",\\n            \"author\": [\"Ismael Bermúdez\"],\\n                \"keywords\": [\"Empleo y Mercado Laboral\"],\\n            \"publisher\": {\\n            \"@type\": \"Organization\",\\n            \"name\": \"Clarín\",\\n            \"logo\": {\\n                \"@type\": \"ImageObject\",\\n                \"url\": \"https://www.clarin.com/static/CLAClarin/images/logo.png\",\\n                \"width\": 228,\\n                \"height\": 60\\n            }\\n        },\\n        \"speakable\": {\\n            \"@type\": \"SpeakableSpecification\",\\n            \"xpath\": [\\n                \"/html/head/meta[@property=\\'og:title\\']/@content\",\\n                \"/html/head/meta[@name=\\'description\\']/@content\"\\n            ]\\n        }\\n    }\\n\\n\\n\\n    var desktopSizes = [\\n        [970, 250],\\n        [728, 90],\\n        [300, 250],\\n        [950, 90],\\n        [970, 90],\\n        [970, 300],\\n        [950, 300]\\n    ];\\n    var tabletSizes = [\\n        [728, 90],\\n        [950, 90],\\n        [300, 250],\\n        [950, 300]\\n    ];\\n    var phoneSizes = [\\n        [320, 100],\\n        [320, 50],\\n        [300, 600],\\n        [300, 250]\\n    ];\\n    var allSizes = [\\n        [970, 250],\\n        [970, 90],\\n        [970, 300],\\n        [728,90],\\n        [320, 100],\\n        [320, 50],\\n        [300, 600],\\n        [300, 250],\\n        [950, 90],\\n        [950, 300]\\n    ];\\n    var caja_sizes = [\\n        [300, 250],\\n        [300, 600]\\n    ];\\n    var horizontal_sizes = [\\n        [728, 90],\\n        [970, 250],\\n        [950,90],\\n        [950,300],\\n        [320, 100],\\n        [320, 50]\\n    ];\\n    var PREBID_TIMEOUT = 2000;\\n    var FAILSAFE_TIMEOUT = 3000;\\n\\n    var adUnits = [\\n        {\\n            code: \\'/242767168/clarin/ieco/economia/nota/horizontal1\\',\\n            mediaTypes: {\\n                banner: {\\n                    sizes: horizontal_sizes\\n                }\\n            },\\n            bids: [\\n                {\\n                    bidder: \\'appnexus\\',\\n                    params: {\\n                        placementId: 16367020,\\n                        keywords:{\\n                            path:[\\'ieco/economia/nota\\']\\n                        }\\n                    }\\n                },\\n                {\\n                    bidder: \\'rubicon\\',\\n                    params: {\\n                        accountId: \\'11206\\',\\n                        siteId: \\'28026\\',\\n                        zoneId: \\'119996\\',\\n                    }\\n                }\\n            ]\\n        },\\n        {\\n            code: \\'/242767168/clarin/ieco/economia/nota/caja1\\',\\n            mediaTypes: {\\n                banner: {\\n                    sizes: caja_sizes\\n                }\\n            },\\n            bids: [\\n                {\\n                    bidder: \\'appnexus\\',\\n                    params: {\\n                        placementId: 16367021,\\n                        keywords:{\\n                            path:[\\'ieco/economia/nota\\']\\n                        }\\n                    }\\n                },\\n                {\\n                    bidder: \\'rubicon\\',\\n                    params: {\\n                        accountId: \\'11206\\',\\n                        siteId: \\'28026\\',\\n                        zoneId: \\'120000\\',\\n                    }\\n                }\\n            ]\\n        },\\n        {\\n            code: \\'/242767168/clarin/ieco/economia/nota/caja2\\',\\n            mediaTypes: {\\n                banner: {\\n                    sizes: caja_sizes\\n                }\\n            },\\n            bids: [\\n                {\\n                    bidder: \\'appnexus\\',\\n                    params: {\\n                        placementId: 16367022,\\n                        keywords:{\\n                            path:[\\'ieco/economia/nota\\']\\n                        }\\n                    }\\n                },\\n                {\\n                    bidder: \\'rubicon\\',\\n                    params: {\\n                        accountId: \\'11206\\',\\n                        siteId: \\'28026\\',\\n                        zoneId: \\'120002\\',\\n                    }\\n                }\\n            ]\\n        }\\n    ];\\n\\n    // ======== DO NOT EDIT BELOW THIS LINE =========== //\\n    var googletag = googletag || {};\\n    googletag.cmd = googletag.cmd || [];\\n    googletag.cmd.push(function() {\\n        googletag.pubads().disableInitialLoad();\\n    });\\n\\n    var pbjs = pbjs || {};\\n    pbjs.que = pbjs.que || [];\\n\\n    pbjs.que.push(function() {\\n        pbjs.addAdUnits(adUnits);\\n        pbjs.setConfig({priceGranularity: \"dense\"});\\n        pbjs.setConfig(\\n            {\\n                sizeConfig: [\\n                    {\\n                        \\'mediaQuery\\': \\'(min-width: 1025px)\\',\\n                        \\'sizesSupported\\': desktopSizes,\\n                        \\'labels\\': [\\'desktop\\']\\n                    },\\n                    {\\n                        \\'mediaQuery\\': \\'(min-width: 768px) and (max-width: 1024px)\\',\\n                        \\'sizesSupported\\': tabletSizes,\\n                        \\'labels\\': [\\'tablet\\']\\n                    },\\n                    {\\n                        \\'mediaQuery\\': \\'(min-width: 320px) and (max-width: 812px)\\',\\n                        \\'sizesSupported\\': phoneSizes,\\n                        \\'labels\\': [\\'phone\\']\\n                    }\\n                ]\\n            }\\n        );\\n        if (\"ieco/economia/nota\" == \"home\") {\\n            pbjs.bidderSettings = {\\n                rubicon: {\\n                    bidCpmAdjustment: function (bidCpm, bid) {\\n                        console.log(bid);\\n                        console.log(\\'bidCpm is : \\' + bidCpm);\\n                        console.log(\\'New bidCpm is : \\' + bidCpm * 0.88);\\n                        return bidCpm * 0.88;\\n                    }\\n                }\\n            };\\n        }\\n        pbjs.requestBids({\\n            bidsBackHandler: initAdserver,\\n            timeout: PREBID_TIMEOUT\\n        });\\n    });\\n\\n    function initAdserver() {\\n        function initAdServerInterval() {\\n            if (googletag.pubadsReady) {\\n                if (pbjs.initAdserverSet) return;\\n                pbjs.initAdserverSet = true;\\n                googletag.cmd.push(function() {\\n                    pbjs.que.push(function() {\\n                        pbjs.setTargetingForGPTAsync();\\n                        googletag.pubads().refresh();\\n                    });\\n                });\\n                clearInterval(intervalId);\\n            };\\n        };\\n        intervalId=setInterval(initAdServerInterval,100);\\n    };\\n\\n\\n\\n    $(document).on(\\'wa.ready\\', function(){\\n        var _weizenbockUser = WAuth.getUserSync();\\n        window.dataLayer = window.dataLayer || [];\\n        window.dataLayer.push({\\n            \\'event\\': \\'sendPageview\\',\\n            \\'comscoreParams\\': {c1: \"2\", c2: \"6906409\"}, \\n            \\'cd_paseId\\': _weizenbockUser && typeof _weizenbockUser.uid != \"undefined\" && _weizenbockUser.uid != null && _weizenbockUser.uid != \"\" && !isNaN(_weizenbockUser.uid ) ? _weizenbockUser.uid : \"-2\",\\n            \\'cd_nsSite\\': \"ieco\",\\n            \\'cd_adblock\\': adblockFlag() ? \"si\" : \"no\",\\n            \\'cd_nsListaTags\\': \"Empleo y Mercado Laboral\",\\n            \\'cd_name\\': \"noticias.desempleo-subio-del-91-al-101-y-hay-2-millones-de-desocupados\",\\n            \\'cd_autorefresh\\': refreshChecker.isAutorefresh(),\\n            \\'cd_anioPublicacion\\': \"2019\",\\n            \\'cd_mesPublicacion\\': \"06\",\\n            \\'cd_diaPublicacion\\': \"19\",\\n            \\'cd_horaPublicacion\\': \"16:02\",\\n            \\'cd_diaSemanaPublicacion\\': \"miércoles\",\\n            \\'cd_tituloNota\\': document.title,\\n            \\'cd_blockPW\\': \"si\",\\n            \\'cd_hardLW\\': \"no\",\\n            \\'cd_hardPW\\': \"no\",\\n            \\'cd_notaId\\': \"0lhtuy_fZ\",\\n            \\'cd_temperatura\\': WeizenBockCompatible.getTemperatura() ? WeizenBockCompatible.getTemperatura() : \"-2\",\\n            \\'cd_pwAudiencia\\': WeizenBockCompatible.getAudiencia(\"-2\"),\\n            \\'cd_sexo\\': _weizenbockUser && typeof _weizenbockUser.genero != \"undefined\" ? _weizenbockUser.genero : \"-2\",\\n            \\'cd_edad\\': _weizenbockUser && typeof _weizenbockUser.fechaNacimiento != \"undefined\" ? getAge(_weizenbockUser.fechaNacimiento) : \"-2\",\\n            \\'cd_tipoPagina\\': \"nota\",\\n            \\'cd_multimedia\\': \"-2\",\\n            \\'cd_tipoSuscriptor\\': WeizenBockCompatible.getTipoSuscripcion(\"-2\"),\\n            \\'cd_tipoLector\\': WeizenBockCompatible.getTipoLector(),\\n            \\'cd_concursos\\': \"-2\",\\n            \\'cd_referrer\\': getReferrer(),\\n            \\'cd_pwCounter\\': WeizenBockCompatible.getPaywallCount(),\\n            \\'cd_choque\\': WeizenBockCompatible.getPaywallChoque(),\\n            \\'cd_paseFlujo\\': \"-2\",\\n            \\'cd_planSeleccionado\\': \"-2\",\\n            \\'cd_infobipId\\': \"-2\",\\n            \\'cd_urlMultimedia\\': document.URL,\\n            \\'cd_durMultimedia\\': \"-2\",\\n            \\'cd_userDataImportAudiencias\\': \"-2\",\\n            \\'cd_errorCollect\\': \"-2\",\\n            \\'cd_notaTipo\\': \"default\",\\n            \\'cd_campania\\': getCampaign(),\\n            \\'cd_FP_user\\': typeof WeizenBockCompatible.getFingerprint == \"function\" ? WeizenBockCompatible.getFingerprint():\"-2\",\\n            \\'cd_FP_hit\\': typeof WeizenBockCompatible.getFingerprint == \"function\" ? WeizenBockCompatible.getFingerprint():\"-2\",\\n            \\'cd_notaShared\\': \"-2\"\\n        });\\n        try {\\n            if(typeof(window.isPrivateMode) == \"undefined\") {\\n                throw \\'waiting bprivate\\';\\n            }\\n            window.dataLayer.push({ \\n                \\'cd_bprivate\\': window.isPrivateMode,\\n                \\'cd_contadorGral\\': WeizenBockCompatible.getPaywallCount(),\\n                \\'cd_blockLW\\': WeizenBockCompatible.getStatusSw(),\\n            });\\n        } catch(e){\\n            setTimeout(function(){\\n                window.dataLayer.push({ \\n                    \\'cd_bprivate\\': window.isPrivateMode,\\n                    \\'cd_contadorGral\\': WeizenBockCompatible.getPaywallCount(),\\n                    \\'cd_blockLW\\': WeizenBockCompatible.getStatusSw(),\\n                });\\n            }, 200);\\n        } \\n    });\\n\\n(function(w,d,s,l,i){w[l]=w[l]||[];w[l].push({\\'gtm.start\\':\\nnew Date().getTime(),event:\\'gtm.js\\'});var f=d.getElementsByTagName(s)[0],\\nj=d.createElement(s),dl=l!=\\'dataLayer\\'?\\'&l=\\'+l:\\'\\';j.async=true;j.src=\\n\\'https://www.googletagmanager.com/gtm.js?id=\\'+i+dl;f.parentNode.insertBefore(j,f);\\n})(window,document,\\'script\\',\\'dataLayer\\',\\'GTM-J5TM\\');\\n\\n    var _sf_async_config = _sf_async_config || {};\\n    /** CONFIGURATION START **/\\n     _sf_async_config.uid = 27977;\\n    _sf_async_config.domain = \"clarin.com\";\\n    _sf_async_config.flickerControl = false;\\n    _sf_async_config.useCanonical = false;\\n    _sf_async_config.path = window.location.pathname;\\n    /** CONFIGURATION END **/\\n    var _sf_startpt = (new Date()).getTime();\\n\\n\\n\\n\\n\\n\\n\\n\\n\\n\\n\\n\\n\\n\\n\\n\\n\\n\\nSECCIONES\\n\\n\\nx\\n\\n\\n\\nÚltimas Noticias\\n\\n\\n\\n\\n\\nVideos\\n\\n\\n\\n\\n\\nFotogalerías\\n\\n\\n\\n\\n\\nPolítica\\n\\n\\n\\n\\n\\nEconomía\\n\\n\\nDólar, divisas, acciones y bonos\\n\\n\\n\\n\\n\\nSociedad\\n\\n\\n\\n\\n\\nMundo\\n\\n\\n\\n\\n\\nCultura\\n\\n\\n\\n\\n\\nOpinión\\n\\n\\nCartas al País\\n\\n\\n\\n\\n\\nCiudades\\n\\n\\n\\n\\n\\nPoliciales\\n\\n\\n\\n\\n\\n\\n\\nDeportes\\n\\n\\nFútbol\\nFútbol Internacional\\nSelección\\nEstadísticas\\nAscenso\\nTenis\\nRugby\\nLiga Nac. de Básquet\\nNBA\\nHockey\\nAgenda Deportiva\\n\\n\\n\\n\\n\\nFama\\n\\n\\n\\n\\n\\nEspectáculos\\n\\n\\nTV\\nCine\\nSeries y Películas\\nMúsica\\nTeatro\\nCartelera de teatro\\nCartelera de cine\\n\\n\\n\\n\\n\\n\\n\\nHumor e Ilustraciones\\n\\n\\n\\n\\n\\nEntremujeres\\n\\n\\n\\n\\n\\nAutos\\n\\n\\n\\n\\n\\nTecnología\\n\\n\\n\\n\\n\\nViajes\\n\\n\\n\\n\\n\\nBuena vida\\n\\n\\n\\n\\n\\nViste\\n\\n\\n\\n\\n\\nRural\\n\\n\\n\\n\\n\\nRevista Viva\\n\\n\\n\\n\\n\\nArq\\n\\n\\n\\n\\n\\nRevista Ñ\\n\\n\\n\\n\\n\\nClarín Docs\\n\\n\\n\\n\\n\\n\\n\\nClarín em portugués\\n\\n\\n\\n\\n\\nNYT International Weekly\\n\\n\\n\\n\\n\\nEspacio Clarín\\n\\n\\n\\n\\n\\nNewsletters\\n\\n\\n\\n\\n\\nGran DT\\n\\n\\n\\n\\n\\nRadio Mitre en Vivo\\n\\n\\n\\n\\n\\n\\n\\nServicios\\n\\n\\nClaringrilla\\nSudoku\\nClima\\nHoróscopo\\nHoróscopo chino\\nLoterías y Quinielas\\nFeriados 2020\\nProgramación de TV Argentina\\nTapas de Clarín\\nEdición impresa\\nEdiciones anteriores\\n\\n\\n\\n\\n\\nClasificados\\n\\n\\nArgenprop\\nEmpleos\\n\\n\\n\\n\\n\\nSuscribite\\n\\n\\n\\n\\n\\nLas más leídas\\n\\n\\n\\n\\n\\nTemas\\n\\n\\n\\n\\n\\n\\n\\nEspeciales\\n\\n\\n\\n\\n\\nContactanos\\n\\n\\nAyuda\\n\\n\\n\\n\\n\\n\\n\\n\\n\\n\\n\\n\\n\\n\\n\\n\\n\\n\\n\\n\\n\\n\\n\\n\\n\\n\\nEconomía\\n\\n\\n\\n\\n\\n\\nBuenos Aires\\n32.8°\\n\\n\\n\\n\\n\\n\\n\\n2\\n\\nSuscribite\\n\\n\\n\\nIngresar\\n\\n\\n\\n\\n\\n\\n\\n\\n\\n\\n\\n\\n\\nMI CUENTA\\nMI SUSCRIPCION\\nCERRAR SESIÓN\\n\\n\\n\\n\\n\\n\\n\\n\\n\\n\\n\\n\\n\\n\\nNOTICIAS CLARÍN >\\nEconomía\\n\\nPolitica \\nSociedad \\nDeportes \\nEspectáculos \\nMundo \\nEconomía \\nOpinión \\nPoliciales \\nCiudades \\nRural \\nAutos \\nViajes \\nEntreMujeres \\nTecnología \\nVideos \\nFotogalerías \\nArq \\nCultura \\nVIVA \\nRevista Ñ \\nEspeciales \\n\\n\\n\\n\\n\\n\\n\\n    $(document).ready(function() {\\n\\n        if($(window).outerHeight(true) < 560)\\n            $(\\'.dropdown-menu\\').css({\\'height\\':$(window).outerHeight(true)});\\n\\n        $(\"header\").css(\"padding-top\",\"0\");\\n        $(\\'.container-submenu\\').add(\\'.dropdown-menu\\').on(\\'click\\', function(e){\\n            e.stopImmediatePropagation();\\n        });\\n        $(\\'.dropdown-menu .close\\').dropdown(\\'toggle\\');\\n\\n\\n        $(\\'.navbar-nav li.dropdown\\').on(\\'shown.bs.dropdown\\', function(){\\n            $(\\'header .menu-overlay\\').show();\\n            $(\\'html\\').css({\\'overflow\\':\\'hidden\\'});\\n        });\\n\\n        $(\\'.navbar-nav li.dropdown\\').on(\\'hidden.bs.dropdown\\', function(){\\n            $(\\'header .menu-overlay\\').hide();\\n            $(\\'html\\').css({\\'overflow\\':\\'initial\\'});\\n        });\\n\\n         $(\\'.button-suscribe\\').on(\\'click\\', function(e){\\n            e.preventDefault();\\n            var section = $(e.currentTarget).attr(\\'data-nota\\');\\n            if(typeof section != \\'undefined\\'){\\n                sendSubscribeEvent(section);\\n                window.open(\\'https://www.clarin.com/suscripciones/landing.html?ob=1\\', \\'_blank\\');\\n            }\\n        })\\n\\n        //Desplegable Pase\\n        var toggle = false;\\n        $(\".pase-module .pase_LoggedIn\").click(function(){\\n            if(!toggle) {\\n                $(\".pase-module .opciones.subnav\").slideDown(300);\\n                toggle = true;\\n            } else {\\n                $(\".pase-module .opciones.subnav\").slideUp(300);\\n                toggle = false;\\n            }\\n        });\\n        //Fin deplegable Pase\\n\\n        //Menú Desplegable\\n        $(\\'.toggle-icon\\').on(\\'click\\', function(e){\\n            e.stopImmediatePropagation();\\n            var thisElm = this;\\n            var elmsDesplegados = $(\\'.subsections-col:visible\\');\\n\\n            if($(thisElm).hasClass(\\'open\\')){\\n                $(thisElm).removeClass(\\'open\\');\\n                $(thisElm).closest(\\'li\\').find(\\'ul\\').slideUp(300);\\n                return false;\\n            }\\n\\n            if(elmsDesplegados.length > 0) {\\n                $(\\'.toggle-icon\\').removeClass(\\'open\\');\\n                elmsDesplegados.slideUp(200, function(){\\n                    desplegarMenu(thisElm);\\n                });\\n            } else {\\n                desplegarMenu(thisElm);\\n            }\\n        });\\n\\n        function desplegarMenu(elm){\\n            var classSection = $(elm).attr(\\'class\\').split(\" \")[1];\\n            $(\".subsections-col.\"+classSection).slideDown(300);\\n            $(elm).addClass(\\'open\\');\\n        }\\n        //Fin desplegable\\n\\n        var hasNotUlChild= $(\\'.dropdown-menu .columna .section-name\\').not(\\':has(\"ul\")\\');\\n        hasNotUlChild.find(\\'.toggle-icon\\').hide();\\n\\n        $(\\'.dropdown-menu .columna\\').last().addClass(\\'last\\');\\n\\n        checkSticky();\\n\\n        if($(\\'#links-subhome .listado-items\\').length>0){\\n            $(\"#links-subhome .listado-items\").simplyScroll({\\n                auto: false,\\n                speed: 30\\n            });\\n            $(\\'#links-subhome .simply-scroll-btn-left\\').addClass(\\'fa fa-angle-left\\');\\n            $(\\'#links-subhome .simply-scroll-btn-right\\').addClass(\\'fa fa-angle-right\\');\\n\\n            var ulWidth = 0;\\n            var sliderWidth = $(\\'#links-subhome .simply-scroll-clip\\').outerWidth();\\n            $(\"#links-subhome .listado-items li\").each(function() {\\n                ulWidth = ulWidth + $(this).outerWidth();\\n            });\\n            if (ulWidth < sliderWidth) {\\n                $(\\'#links-subhome .simply-scroll-btn\\').hide();\\n                $(\\'#links-subhome .simply-scroll-clip\\').css({\\'width\\':\\'98%\\'});\\n            }\\n        }\\n    });\\n\\n    function checkSticky() {\\n        if ($(window).outerWidth()<1024) {\\n            $(\"header\").css(\"padding-top\",\"45px\");\\n         } else {\\n             $(\"header\").css(\"padding-top\",\"0\");\\n         }\\n    }\\n\\n    $(window).resize(function(){\\n       checkSticky();\\n    });\\n\\n\\n    $(\"#buscarForm\").submit(function(e) {\\n        e.preventDefault();\\n        var val = $(\"#search_text\").val();\\n        if (val != \"\") {\\n            window.location.assign(\"/buscador/?q=\" + encodeURIComponent(val));\\n        }\\n    });\\n    if($(\".subhome-name\").length){\\n        $(\"#sn\"+$(\".subhome-name\").html().toLowerCase().replace(\" \",\"-\")).remove();\\n    }\\n\\n\\n\\n\\n\\n\\n\\n\\n\\n\\n\\n\\n\\n\\n\\n\\n\\n\\n\\nDatos del INDEC\\nEl desempleo alcanzó el 10,1% y hay 2 millones de desocupados\\n\\n\\nLa última vez que llegó a las\\xa0dos cifras fue en el tercer trimestre de 2006. Es fuerte el crecimiento de los subocupados.\\xa0\\n\\n\\n\\n\\n\\n\\n\\nDante Sica, ministro de Producción y Trabajo. Maxi Failla \\n\\n\\n                    var jsonData = \"%5B%7B%22contentTipo%22%3A%22imagen%22%2C%22autor%22%3A%22%22%2C%22epigrafe%22%3A%22Dante%20Sica%2C%20ministro%20de%20Producci%C3%B3n%20y%20Trabajo.%20Maxi%20Failla%22%2C%22class%22%3A%22horizontal%22%2C%22ads%22%3A%22%3Cdiv%20id%3D%5C%22caja4%5C%22%20class%3D%5C%22ad-slot%5C%22%20data-adtype%3D%5C%22caja%5C%22%3E%3C%5C%2Fdiv%3E%22%2C%22clippings%22%3A%7B%22big%22%3A%22https%3A%5C%2F%5C%2Fimages.clarin.com%5C%2F2019%5C%2F06%5C%2F11%5C%2Fdante-sica-ministro-de-produccion___n1zDTN2zO_1200x0__1.jpg%22%2C%22small%22%3A%22https%3A%5C%2F%5C%2Fimages.clarin.com%5C%2F2019%5C%2F06%5C%2F11%5C%2Fdante-sica-ministro-de-produccion___n1zDTN2zO_720x0__1.jpg%22%7D%7D%5D\";\\n                    var shares = \"%7B%22facebook%22%3A%7B%22url%22%3A%22http%3A%5C%2F%5C%2Fbit.ly%5C%2F2Zu0yRK%22%7D%2C%22twitter%22%3A%7B%22url%22%3A%22http%3A%5C%2F%5C%2Ftwitter.com%5C%2Fshare%3Furl%3Dhttp%3A%5C%2F%5C%2Fbit.ly%5C%2F2Zu0yRK%26text%3DEl%20desempleo%20alcanz%C3%B3%20el%2010%2C1%25%20y%20hay%202%20millones%20de%20desocupados%20-%20%22%7D%2C%22whatsapp%22%3A%7B%22url%22%3A%22whatsapp%3A%5C%2F%5C%2Fsend%3Ftext%3DClar%C3%ADn%3Ahttp%3A%5C%2F%5C%2Fbit.ly%5C%2F2Zu0yRK%22%7D%7D\";\\n                \\n\\n\\n\\n\\n\\n\\n\\n\\n\\n\\n\\n\\n        #colDer .col-der-box .most-viewed .title-box{text-align:center;text-transform:uppercase;font-size:12px;font-family:\\'Roboto\\';height:30px}#colDer .col-der-box .most-viewed .title-box span{font-weight:700;color:#999;height:100%;position:relative;display:inline-block;line-height:30px;padding:0 25px;border-right:1px solid #999;border-left:1px solid #999}#colDer .col-der-box .most-viewed .hd{background:#cde2e5;text-align:center;padding:15px 0 3px;width:100%;color:#333;display:block;margin-top:10px}#colDer .col-der-box .most-viewed .hd p{text-align:center;color:#333;font-family:\\'Portada-Light\\';font-size:19px;line-height:23px;vertical-align:middle;margin:0 0 10px}#colDer .col-der-box .most-viewed .hd h2{text-align:center;color:#333;font-family:\\'Portada-Light\\';font-size:19px;line-height:23px;vertical-align:middle;margin:0 0 10px}#colDer .col-der-box .most-viewed .bd{background:#dde5ec}#colDer .col-der-box .most-viewed .bd article{padding:10px 0;overflow:hidden;border-top:1px solid #fff;position:relative}#colDer .col-der-box .most-viewed .bd article .content-item{padding:0 10px;overflow:hidden}#colDer .col-der-box .most-viewed .bd article .content-item figure{float:left;overflow:hidden;height:75px;width:75px;position:relative}#colDer .col-der-box .most-viewed .bd article .content-item figure img{width:100%;height:100%;object-fit:cover}#colDer .col-der-box .most-viewed .bd article .content-item .mg{float:right;width:73%;padding:0 10px}#colDer .col-der-box .most-viewed .bd article .content-item .mg h3{font-size:14px;line-height:18px;font-family:\\'Portada-Light\\';color:#333;margin:0;text-align:left;overflow:hidden;display:-webkit-box;-webkit-line-clamp:4;-webkit-box-orient:vertical}#colDer .col-der-box .most-viewed .bd article .number{display:block;position:absolute;border-radius:50px;width:30px;height:30px;background:#ed1c24;top:32px;left:0;z-index:1;font-weight:700}#colDer .col-der-box .most-viewed .bd article .number h5{margin:10px 0;font-size:16px;line-height:10px;color:#fff;font-family:\\'Roboto\\';text-align:center}#colDer .col-der-box .most-viewed .bd .sponsor{float:right;width:100%;height:35px}#colDer .col-der-box .most-viewed .bd .sponsor img{float:right;max-width:200px;max-height:35px;margin-right:0}#colDer .tagLoading{padding-top:30px;text-align:center}\\n\\n    \\n\\n\\nlas más leídas\\n\\n\\nde Economía\\n\\n\\n\\n\\n\\n\\n\\n\\n\\n\\nPlazos fijos UVA, la inversión de moda para ganarle a la inflación\\n\\n1\\n\\n\\n\\n\\n\\n\\n\\n\\n\\n\\nLa polémica medida que aplicará el Gobierno con las jubilaciones\\n\\n2\\n\\n\\n\\n\\n\\n\\n\\n\\n\\n\\nMás ruidos en la relación con el Papa Francisco a cinco días de la visita de Alberto Fernández\\n\\n3\\n\\n\\n\\n\\n\\n\\n\\n\\n\\n\\nEl Banco Central amenaza con imponer “precios cuidados” a las tasas de interés que cobran los bancos\\n\\n4\\n\\n\\n\\n\\n\\n\\n\\n\\n\\n\\nLos 7 sectores que impulsa el Gobierno para salir de la crisis\\n\\n5\\n\\n\\n\\n\\n\\n\\n\\n\\n\\n\\n\\n\\n\\n\\n\\n\\n\\n\\n\\nIsmael Bermúdez\\n\\n\\n\\n\\n\\n\\nCOMENTARIOS\\n\\n\\n\\n\\n\\n\\n\\n\\n\\n\\n\\n\\n\\n\\n\\n\\n\\n\\n\\n\\n\\n\\n\\n\\n\\n\\n\\n\\n\\n\\n19/06/2019 - 16:02\\n\\n\\n\\n\\nClarín.com\\n\\n\\n\\n\\nEconomía\\n\\n\\n\\nEconomía\\n\\n\\n\\n\\n\\n    $(\\'.entry-share i:first\\').css(\"border-left\", \"none\");\\n\\n\\n\\nEn doce meses, la tasa de desocupación subió del 9,1 al 10,1%\\xa0según los datos del INDEC del primer trimestre de este año. Esto significa proyectando al total de la población urbana hay 1.920.000 desocupados urbanos, 220.000 más que un año atrás. Si se incluye\\xa0la población rural, el desempleo golpea a más de 2 millones de personas.También aumentó la subocupación\\xa0pasó del 9,8 al 11,8%. Suman así 2.250.000 personas que trabajan menos de 35 horas semanales, aunque están dispuestos a trabajar más. Son 420.000 más que un año atrás.#DatoINDEC Mercado de trabajo: en el 1° trimestre de 2019, la región Gran Buenos Aires registró las mayores tasas de desocupación (11,1%), actividad (48,7%) y empleo (43,3%); y la Noreste, las más bajas (4,5%, 39,2% y 37,5%, respectivamente) https://t.co/beUwmPiVxV pic.twitter.com/0hnMiIZbTk— INDEC Argentina (@INDECArgentina) June 19, 2019\\n\\nDe estos números se desprende que casi 4.200.000 personas tienen problemas de empleo porque no encuentran trabajo o realizan trabajos de pocas horas, en especial en la informalidad o en “changas”. Son 640.000 más en tan solo un año.\\xa0\\n\\n    var newsletterStorage = window.localStorage;\\n    var nlObject = {\\n        id : \\'85\\',\\n        newsletterName : \\'Qué pasó hoy\\',\\n        title : \\'Newsletters Clarín\\',\\n        subtitle : \\'Qué pasó hoy\\',\\n        bajada : \\'Te contamos las noticias más importantes del día, y qué pasará mañana cuando te levantes\\',\\n        quotedBajada: \\'Te contamos las noticias más importantes del día, y qué pasará mañana cuando te levantes\\',\\n        imgSrc: \\'https://images.clarin.com/2018/11/11/PXs1aOhIj_290x140__1.jpg\\',\\n        frequency: \\'De lunes a viernes por la tarde.\\',\\n        htmlContent : function () { return \\'<div class=\"newsletter-embeb\" grupo=\"\\' + this.id +\\'\" titulo=\"\\' + this.newsletterName +\\'\"> \\\\\\n                                    <article>\\\\\\n                                        <div class=\"bd\">\\\\\\n                                            <div class=\"mt\">\\\\\\n                                                    <span class=\"title-box\">\\' + this.title +\\'</span>\\\\\\n                                                    <span class=\"subtitle-box\">\\' + this.subtitle +\\'</span>\\\\\\n                                                <h4 style=\"cursor:pointer;\">\\' + this.quotedBajada +\\'</h4>\\\\\\n                                                <div class=\"data-txt\" style=\"cursor:pointer;\">\\\\\\n                                                    <span>\\' + this.frequency +\\'</span>\\\\\\n                                                </div>\\\\\\n                                                <div class=\"bt\" style=\"cursor:pointer;\">\\\\\\n                                                    <p>Recibir newsletter</p>\\\\\\n                                                </div>\\\\\\n                                            </div>\\\\\\n                                            <figure style=\"cursor:pointer;\">\\\\\\n                                                <img alt=\"\\' + this.bajada +\\'\" src=\"\\' + this.imgSrc +\\'\" observer data-observer-function=\"loadLazyImg\">\\\\\\n                                            </figure>\\\\\\n                                        </div>\\\\\\n                                    </article>\\\\\\n                                </div>\\'}\\n\\n    };\\n    \\n\\n    (function ( $ ) {\\n        $.Newsletter = function () {\\n            var options = {\\n                url_suscribir: \\'/newsletter/suscribir\\',\\n                url_consultar: \\'/newsletter/consultar\\',\\n                mensaje_suscripto: \\'/newsletter/mensaje/sus\\',\\n                mensaje_yasuscripto: \\'/newsletter/mensaje/asus\\'\\n            };\\n            suscribo = function (options, mail, grupo) {\\n                $.ajax({\\n                    url: options.url_suscribir,\\n                    dataType: \\'json\\',\\n                    method: \"POST\",\\n                    cache: false,\\n                    data: {\\n                        \"mail\": mail,\\n                        \"idGrupo\": grupo\\n                    },\\n                    success: function (response) {\\n                        newsletterStorage.removeItem(grupo);\\n                        var path = options.mensaje_suscripto + \\'?title=\\'+$(\\'.newsletter-embeb\\').attr(\"titulo\");\\n                        var nl_pass_data = {};\\n                        nl_pass_data.hitType = \"event\";\\n                        nl_pass_data.eventCategory = \"news_caja_nota\";\\n                        nl_pass_data.eventAction   = \"load_modal_suscripcion\";\\n                        nl_pass_data.eventLabel    = \"confirmacion_quepasóhoy\";\\n                        sendGAPageview(nl_pass_data);\\n                        openModal(path);\\n                    }\\n                });\\n            }\\n            consulto = function (options) {\\n                var user = WAuth.getUserSync();\\n                $.ajax({\\n                    url: options.url_consultar,\\n                    dataType: \\'json\\',\\n                    cache: false,\\n                    data: {\\n                        \"email\": user.email\\n                    },\\n                    success: function (response) {\\n                        var grupoWidget = $(\\'.newsletter-embeb\\').attr(\\'grupo\\');\\n                        if (response.subscriptions[grupoWidget]) {\\n                            var path = options.mensaje_yasuscripto + \\'?title=\\'+$(\\'.newsletter-embeb\\').attr(\"titulo\");\\n                            openModal(path);\\n                        } else {\\n                            suscribo(options,user.email,grupoWidget);\\n                        }\\n                    }\\n                });\\n\\n            }\\n            authenticate = function () {\\n                if (getIdPase() == \\'\\') {\\n                    WAuth.authenticateUser();\\n                    $.cookie(\"suscribir\",$(\\'.newsletter-embeb\\').attr(\\'grupo\\'));\\n                } else {\\n                    $.cookie(\"suscribir\",0);\\n                }\\n            }\\n            getIdPase = function () {\\n                var idPase = $.cookie(\\'idPase\\');\\n                if (idPase == null || idPase == \"\") {\\n                    return \\'\\';\\n                }\\n                return idPase;\\n            }\\n            execute = function (options) {\\n                authenticate();\\n                consulto(options);\\n            }\\n            openModal =  function (path) {\\n                $.magnificPopup.open({\\n                    closeOnBgClick: false,\\n                    closeBtnInside: false,\\n                    overflowY: \\'scroll\\',\\n                    alignTop: true,\\n                    modal:true,\\n                    items: {\\n                        src: path,\\n                        type: \\'ajax\\'\\n                    },\\n                    callbacks: {\\n                        close: function () {\\n                            window.location.hash = \\'\\';\\n                        },\\n                        open: function () {\\n                            $(\\'.mfp-bg\\').addClass(\\'modal-newsletter\\');\\n                        }\\n                    }\\n                });\\n            }\\n            \\n            execute(options);\\n        }\\n    }( jQuery ));\\n    $(document).on(\\'click\\',\\'.newsletter-embeb figure, .newsletter-embeb .mt h4, .newsletter-embeb .mt .data-txt, .newsletter-embeb .mt .bt\\', function () {\\n        $.Newsletter();\\n        var nl_pass_data = {};\\n        nl_pass_data.hitType = \"event\";\\n        nl_pass_data.eventCategory = \"news_caja_nota\";\\n        nl_pass_data.eventAction   = \"clickarea\";\\n        nl_pass_data.eventLabel    = \"caja_quepasóhoy\";\\n        sendGAPageview(nl_pass_data);\\n    });\\n    $(document).on(\"wa.login\", function(e, user){\\n        if($.cookie(\"suscribir\")>0) {\\n            $.Newsletter();\\n        }\\n    });\\n    $(document).ready(function () {\\n        var user = WAuth.getUserSync();\\n        if(user){\\n            var widgetSavedToGroup = newsletterStorage.getItem(nlObject.id);\\n            var almacenarWidget = false;\\n            if(typeof widgetSavedToGroup === \\'undefined\\'  || widgetSavedToGroup === null){\\n                almacenarWidget =true;\\n            }\\n            if(almacenarWidget){\\n                $.ajax({\\n                    url: \\'/newsletter/checksubscription\\',\\n                    dataType: \\'json\\',\\n                    cache: false,\\n                    data: {\\n                        \"email\": user.email,\\n                        \"grupoID\": nlObject.id\\n                    },\\n                    success: function (response) {\\n                        queryGroup = nlObject.id;\\n                        if(response.isSubscribeToGroup && response.widget != \\'\\')\\n                        {\\n                            nlObject.id = (typeof response.widget.data.newslettersList.id !== \"undefined\") ? response.widget.data.newslettersList.id : \\'\\';\\n                            nlObject.newsletterName = (typeof response.widget.data.title !== \"undefined\") ? response.widget.data.title : \\'\\';\\n                            nlObject.title = (typeof response.widget.data.title !== \"undefined\") ? response.widget.data.title : \\'\\';\\n                            nlObject.subtitle = (typeof response.widget.data.subtitle !== \"undefined\") ? response.widget.data.subtitle : \\'\\';\\n                            nlObject.bajada = (typeof response.widget.data.subhead !== \"undefined\") ? response.widget.data.subhead : \\'\\';\\n                            nlObject.quotedBajada = (typeof response.widget.data.subhead !== \"undefined\") ? response.widget.data.subhead.replace(/[\\'\"]+/g, \\'\\') : \\'\\';\\n                            nlObject.imgSrc = (typeof response.imageUrl !== \"undefined\") ? response.imageUrl : \\'\\';\\n                            nlObject.frequency = (typeof response.widget.data.newslettersList.frecuency !== \"undefined\") ? response.widget.data.newslettersList.frecuency : \\'\\';\\n                        }\\n\\n                        newsletterStorage.setItem(queryGroup, nlObject.htmlContent());\\n                        $(\\'#nl-box\\').html(nlObject.htmlContent());\\n\\n                    }\\n                });\\n            }\\n            else {\\n                $(\\'#nl-box\\').html(widgetSavedToGroup);\\n            }\\n        }\\n        else\\n        {\\n            $(\\'#nl-box\\').html(nlObject.htmlContent());\\n        }\\n    })\\n\\nHay que remontarse al tercer trimestre de 2006 para encontrar una tasa de desempleo de dos dígitos, como la que se conoció.Con relación al primer trimestre de 2015, cuando el desempleo fue de\\xa07,1% (1.200.000 desocupados), hay 720.000 desocupados más. Y en subocupación ( 7,6%, 1.300.000 personas), hay 950.000 personas más.#DatoINDEC Mercado de trabajo: entre los jóvenes, la tasa de desocupación fue de 23,1% en mujeres y 18,5% en varones en el 1° trimestre de 2019 https://t.co/beUwmPAwWv pic.twitter.com/Y0dB6AC5UV— INDEC Argentina (@INDECArgentina) June 19, 2019\\n\\nPor la emergencia estadística no hubo medición en el primer trimestre de 2016. Al año siguiente, la tasa fue del 9,2%, en enero-marzo de 2018 bajó al 9,1% y ahora aumentó\\xa0 al 10,1%.La tasa de empleo se redujo del 42,4 al 42,3%. Esto significa que hay 17.200.000 ocupados, de los cuales 13 millones son asalariados. Entre los asalariados aumentó el empleo no registrado, del 33,9 al 35%. Esto significa que 4,6 millones se desempeñan en la informalidad (“en negro”), casi 200.000 más que un año atrás.De aquí se desprende que se redujo en 250.000 el número de ocupados plenos (trabajan más de 45 horas semanales).\\xa0Entre los jóvenes, la tasa de desocupación aumentó del 20,9 al\\xa0 23,1% entre mujeres y subió del 15,3 al 18,5% entre varones en el 1° trimestre de 2019. Ahora, más de la mitad de los desocupados (52,7%)\\xa0son menores de 29 años.El Conurbano bonaerense registra indicadores muy adversos que por la magnitud de la región\\xa0pesan en el nivel general.\\xa0 El desempleo en el GBA subió del 11,3 al 12,3%. Y la subocupación pasó del 10,6 al 13,1%.Así, el 37% de los desocupados - 705.000 personas,\\xa0 unas 70.000 más que un año atrás--se concentran en el Conurbano bonaerense, donde los subocupados suman 755.000, unos 160.000 más que en\\xa0 el primer trimestre de 2018. Entre los jóvenes varones la desocupación es del 21,4% y entre las mujeres del 27,5%.\\xa0El Ministro de Producción y Trabajo, Dante Sica, relativizó estos números al señalar que \"estamos viendo el impacto de la crisis del año pasado, eso es lo que muestra esa cifra\"\\xa0. Agregó que \"en lo urgente, ya comenzamos a ver recuperación de actividad en varios sectores, eso va a revertir la curva. El verdadero desafío es estructural: incorporar al mercado formal a ese 35% de trabajadores y crear las condiciones para que las PyMES generen empleo de calidad\".El informe del INDEC destaca el fuerte aumento de la \"presión sobre el mercado de trabajo\" porque, además de los desocupados, hay\\xa0 un\\xa0crecimiento de los que ocupados y subocupados que buscan trabajo, insatisfechos con sus ocupaciones actuales..En total, en un año,\\xa0ese indicador subió de\\xa029,9 a\\xa033,9% que incrementa la precariedad laboral.\\xa0Según el economista Claudio Lozano en total 6,4 millones de personas buscan trabajo, 690.000 más que un año atrás.\\xa0Esto pasa por la \"proliferación permanente de ocupaciones transitorias\" hasta la consecución de otro empleo en mejores condiciones ( \"desocupación encubierta\") y\\xa0\\xa0por \"los recientes procesos de expulsión de una mano de obra que continúa en actividad a través de la búsqueda de empleo\".\\xa0Nadin Argañaraz, del IARAF, dice que ese 33,9% \"es el verdadero problema laboral argentino que refleja un aumento de la precarización e inestabilidad en los ingresos\".\"No creemos que en 2019 haya dinamismo en la creación de empleo\", señaló la consultora LCG.\\xa0 y agrega que \"será difícil ver una tasa de desocupación debajo del 9,5% durante la segunda mitad del año.\\xa0En línea con nuestro escenario base, hacia fines de año el desempleo sería de 10%, en línea con la caída de la actividad económica y sin cambios significativos en la tasa de actividad\".\\xa0\\xa0\\n\\n\\n\\nCOMENTARIOS\\n\\n\\n\\n\\n\\n\\n\\n\\n\\n\\n\\n\\n\\n\\n\\n\\n\\n\\n\\n\\n\\n\\n\\n\\n\\n\\n\\n\\nTEMAS QUE APARECEN EN ESTA NOTA\\n\\n\\nEmpleo Y Mercado Laboral\\n\\n\\n\\n\\n\\n\\n\\n\\n\\n\\n\\n Comentarios\\n\\n\\n\\n\\n\\n\\n\\nCARGANDO COMENTARIOS\\n\\n\\n\\n\\n\\n\\n            function myComments() {\\n\\n\\n                                if (\"1\" == \"1\" && $(window).width() < 1024) {\\n                    $(\".news .entry-head .content-top .content-top-right .entry-comments, .intVideo .entry-head .content-top .content-top-right .entry-comments \").css(\"display\", \"block\");\\n                    $(\".head-comments\").css(\"display\", \"block\");\\n                    //$(\\'#count_comments\\').css(\"padding\",\"13px 15px\");\\n                    //$(\\'.entry-comments\\').css(\"height\",\"54px\");\\n                }\\n\\n                if (typeof gigya != \\'undefined\\' && typeof $(\"#containerID-comments-pase\").gigyaComments != \"undefined\") {\\n\\n                    var containerID = \"containerID-comments-pase\";\\n                    var act1 = new gigya.socialize.UserAction();\\n                                                            \\n                    \\n                    \\n                    \\n                    \\n                    \\n                    act1.setTitle(\\'El desempleo alcanzó el 10,1% y hay 2 millones de desocupados\\');\\n                    act1.setSubtitle(\\'Datos del INDEC\\');\\n                    act1.setLinkBack(\\'/economia/economia/desempleo-subio-10-millones-desocupados_0_0lhtuy_fZ.html\\');\\n                    act1.addActionLink(\\'VER MÁS\\', \\'/economia/economia/desempleo-subio-10-millones-desocupados_0_0lhtuy_fZ.html\\');\\n\\n                    \\n                    $(\"#containerID-comments-pase\").gigyaComments({\\n                        categoryID: \"Com_03\",\\n                        streamID: \"0lhtuy_fZ\",\\n                        streamTags: \"703\",\\n                        userAction: act1,\\n                        activeForComment: 1\\n                    });\\n                }\\n            }\\n\\n\\n\\n            function GigyaLoadFunctions() {\\n                myComments();\\n            }\\n            var onGigyaServiceReady = function() {\\n                GigyaLoadFunctions();\\n            }\\n\\n        \\n\\n\\nClarín\\nPara comentar debés activar tu cuenta haciendo clic en el e-mail que te enviamos a la casilla \\n¿No encontraste el e-mail? Hace clic acá y te lo volvemos a enviar.\\n\\n            $(\\'#resendMail\\').click(function(e){\\n                e.preventDefault();\\n                e.stopPropagation();\\n                var url = $(this).attr(\"data-action\");\\n                $.post(url)\\n                    .done(function(data) {\\n                        if(typeof data.result != \"undefined\" && data.result){\\n                            $(\\'#reenvio\\').html(\\'Te reenviamos el email. Por favor, revisá tu correo para activar la cuenta.\\');\\n                        } else {\\n                            alert(\\'Lo sentimos. Falló el reenvío del email. Por favor, intentá de nuevo más tarde o contactanos.\\')\\n                        }\\n                    })\\n                    .fail(function(e) {\\n                        console.log(\"Fail: \",e);\\n                    })\\n            });\\n        \\n\\nYa la active\\n\\n\\nCancelar\\n\\n\\n        $(\"#btn-aceptar\").click(function(e){\\n            e.preventDefault();\\n\\n            if(typeof WAuth != \"undefined\"){\\n                WAuth.getUpdateUserServer(function(err, user){\\n                    if(!err){\\n                        WeizenBockCompatible.createOldCookies(user);\\n                        $.magnificPopup.close();\\n                    }\\n                });\\n            } else {\\n                gigya.services.socialize.logout();\\n            }\\n            return false;\\n        });\\n    \\n\\n\\nClarín\\nPara comentar nuestras notas por favor completá los siguientes datos.\\n\\n\\n\\n\\n\\nNombre\\n\\n\\n\\nApellido\\n\\n\\n\\nGuardar\\n\\n\\nCancelar\\n\\n\\n\\n\\n    $(\"#form-profile\").bind(\"submit\", function(e){\\n        e.preventDefault();\\n        var url = $(this).attr(\"action\");\\n        var params = $(this).serializeArray().reduce(function(obj, item) {\\n            obj[item.name] = item.value;\\n            return obj;\\n        }, {});\\n        $(\\'#form-profile .form-group, #form-profile .loadComments\\').toggle();\\n        $.post(url, params)\\n            .done(function(data) {\\n                if(typeof data.result != \"undefined\" && data.result){\\n                    refreshCommentPlugin();\\n                }\\n                if(typeof WAuth != \"undefined\"){\\n                    WAuth.getUpdateUserServer(function(err, user){\\n                        if(!err){\\n                            WeizenBockCompatible.checkSiteCookies(user);\\n                        }\\n                });\\n                }\\n            })\\n            .fail(function(e) {\\n                console.log(\"Fail: \",e);\\n            })\\n            .always(function() {\\n                $(\\'#form-profile .form-group, #form-profile .loadComments\\').toggle();\\n                $.magnificPopup.close();\\n            });\\n    });\\n\\n\\n        function refreshCommentPlugin(){\\n            $(\\'#containerID-comments-pase\\').replaceWith(\\'<div id=\"containerID-comments-pase\" style=\"clear: both; margin:auto;\"></div>\\');\\n            $(\"#activateComments\").trigger(\\'refreshPlugin\\');\\n        }\\n\\n        $(document).on(\"wa.login\", function(e, user){\\n            refreshCommentPlugin();\\n        });\\n\\n    \\n\\n\\n\\n\\n\\n\\n\\n\\n    window._taboola = window._taboola || [];\\n    _taboola.push({article:\\'auto\\'});\\n    !function (e, f, u, i) {\\n        if (!document.getElementById(i)){\\n        e.async = 1;\\n        e.src = u;\\n        e.id = i;\\n        f.parentNode.insertBefore(e, f);\\n        }\\n    }(document.createElement(\\'script\\'),\\n    document.getElementsByTagName(\\'script\\')[0],\\n    \\'//cdn.taboola.com/libtrc/ageadigital-clarn/loader.js\\',\\n    \\'tb_loader_script\\');\\n    if(window.performance && typeof window.performance.mark == \\'function\\')\\n        {window.performance.mark(\\'tbl_ic\\');}\\n\\n\\n\\n  window._taboola = window._taboola || [];\\n  _taboola.push({\\n    mode: \\'thumbnails-b\\',\\n    container: \\'taboola-below-article-thumbnails\\',\\n    placement: \\'Below Article Thumbnails\\',\\n    target_type: \\'mix\\',\\n    category: \\'same\\'\\n  });\\n\\n\\n  window._taboola = window._taboola || [];\\n  _taboola.push({flush: true});\\n\\n\\n\\n        @media(max-width:1520px) and (min-width:1025px){.fgpdo-triple-impact .latest-news .box-section{max-height:inherit}}.latest-news{overflow:hidden;clear:both;padding:10px}@media screen and (min-width:720px){.latest-news{padding:10px 0 0 0}}.latest-news .box-section{margin-bottom:10px;min-height:710px}@media screen and (max-width:719px){.latest-news .box-section{margin-bottom:15px;padding:0;min-height:auto}}@media screen and (min-width:1024px){.latest-news .box-section{max-height:inherit}}@media(min-width:1256px){.latest-news .box-section{max-height:800px;margin-top:30px}}.latest-news .box-section .border-box{border-top:1px solid #c9c9c9;margin:0}.latest-news .box-section .border-box span{font-size:5.9375vw;font-family:\\'Portada-Bold\\';font-weight:700;display:block;padding-top:10px;color:#999}@media screen and (min-width:720px){.latest-news .box-section .border-box span{font-size:19px}}.latest-news .box-section .border-box h2{font-size:5.9375vw;font-family:\\'Portada-Bold\\';font-weight:700;display:block;padding-top:10px;color:#999}@media screen and (min-width:720px){.latest-news .box-section .border-box h2{font-size:19px}}.latest-news .box-section .border-box article{overflow:hidden;padding:10px 0;border-bottom:1px solid #c9c9c9;max-height:inherit}@media screen and (min-width:720px){.latest-news .box-section .border-box article{max-height:135px}}.latest-news .box-section .border-box article figure{width:100%;float:none;position:relative;overflow:hidden}@media screen and (min-width:720px){.latest-news .box-section .border-box article figure{width:48%;float:left}}.latest-news .box-section .border-box article figure a{position:absolute;top:0;left:0;bottom:0;right:0}.latest-news .box-section .border-box article figure a img{display:block;width:100%;position:relative;top:50%;transform:translateY(-50%);background:#efefef}.latest-news .box-section .border-box article figure:before{content:\"\";display:block;padding-top:56%}.latest-news .box-section .border-box article .mt{width:100%;float:none;padding:5px 0;max-height:inherit;min-height:inherit}@media screen and (min-width:720px){.latest-news .box-section .border-box article .mt{float:left;width:52%;padding-left:10px}}@media screen and (min-width:720px) and (max-width:1023px){.latest-news .box-section .border-box article .mt{padding-top:0}}.latest-news .box-section .border-box article .mt h3{color:#000;font-size:16px;line-height:19px;font-family:\\'Portada-Regular\\';overflow:hidden;display:-webkit-box;-webkit-line-clamp:4;-webkit-box-orient:vertical;min-height:73px}@media screen and (max-width:719px){.latest-news .box-section .border-box article .mt h3{font-size:6.25vw;line-height:8.75vw;margin:0;max-height:inherit;min-height:inherit;overflow:hidden}}@media screen and (min-width:720px) and (max-width:1023px){.latest-news .box-section .border-box article .mt h3{-webkit-line-clamp:3;min-height:inherit}}.latest-news .box-section .border-box article .mt .tags_time a{font-size:11px;margin-top:10px;font-family:\\'Roboto\\',sans-serif;font-weight:400;color:#999;display:inline-block;text-transform:uppercase;padding-right:9px;line-height:12px}@media screen and (max-width:719px){.latest-news .box-section .border-box article .mt .tags_time a{font-size:3.125vw}}.latest-news .box-section .border-box article:last-child{border-bottom:0}\\n\\n    \\n\\n\\n\\nLo más leído de Política\\n\\n\\n\\n\\n\\n\\n\\n\\n\\nEl provocador elogio de Jaime Durán Barba: “Cristina Fernández es la mujer más brillante de la historia argentina”\\n\\n\\n\\nJaime Durán Barba\\n\\n\\n\\n\\n\\n\\n\\n\\n\\n\\n\\n\\nLas polémicas designaciones del Gobierno de Alberto Fernández siguen en aumento\\n\\n\\n\\nAlberto Fernández\\n\\n\\n\\n\\n\\n\\n\\n\\n\\n\\n\\n\\nMás ruidos en la relación con el Papa Francisco a cinco días de la visita de Alberto Fernández\\n\\n\\n\\nPapa Francisco\\n\\n\\n\\n\\n\\n\\n\\n\\n\\n\\n\\n\\nAlfredo Cornejo: “Con cinismo hablan de solidaridad pero le meten la mano a la clase media”\\n\\n\\n\\nOpinión\\n\\n\\n\\n\\n\\n\\n\\n\\n\\n\\n\\n\\nLas pruebas de la causa de los Cuadernos de las Coimas están en un contenedor al aire libre\\n\\n\\n\\nLos Cuadernos De Las Coimas\\n\\n\\n\\n\\n\\n\\n\\n\\n\\n\\n\\n\\nMauricio Macri: “Siempre les decía a todos, cuidado que los mercados no te dan más plata y nos vamos a la mierda”\\n\\n\\n\\nMauricio Macri\\n\\n\\n\\n\\n\\n\\n\\nLo más leído de Espectáculos\\n\\n\\n\\n\\n\\n\\n\\n\\n\\nHombre buscando mujer: “Yo te muestro, vos me mostrás”\\n\\n\\n\\nTinder\\n\\n\\n\\n\\n\\n\\n\\n\\n\\n\\n\\n\\nRubén Deicas, cantante de Los Palmeras: “Después del Bombón asesino pagué el precio del éxito con un ACV”\\n\\n\\n\\nLos Palmeras\\n\\n\\n\\n\\n\\n\\n\\n\\n\\n\\n\\n\\nEsperando la carroza: de ser boicoteada a convertirse en un clásico\\n\\n\\n\\nSeries Y Películas\\n\\n\\n\\n\\n\\n\\n\\n\\n\\n\\n\\n\\nMurió el prestigioso director de teatro Hugo Urquijo\\n\\n\\n\\nTeatro\\n\\n\\n\\n\\n\\n\\n\\n\\n\\n\\n\\n\\nLucas Ferraro, el argentino de la nueva “Vis a Vis”: historia de un remador criado en Versalles\\n\\n\\n\\nVis A Vis\\n\\n\\n\\n\\n\\n\\n\\n\\n\\n\\n\\n\\nPremios Grammy 2020: cómo y cuándo verlos\\n\\n\\n\\nPremios Grammy\\n\\n\\n\\n\\n\\n\\n\\nLo más leído de Deportes\\n\\n\\n\\n\\n\\n\\n\\n\\n\\nMurió Kobe Bryant en un accidente aéreo: se cayó el helicóptero en el que viajaba\\n\\n\\n\\nKobe Bryant\\n\\n\\n\\n\\n\\n\\n\\n\\n\\n\\n\\n\\nMurió\\xa0Kobe Bryant:\\xa0Gianna Maria, la hija mayor del ex jugador de la NBA, también falleció en el accidente\\n\\n\\n\\nKobe Bryant\\n\\n\\n\\n\\n\\n\\n\\n\\n\\n\\n\\n\\nMurió Kobe Bryant: las primeras fotos del accidente aéreo en el que falleció la leyenda de la NBA\\n\\n\\n\\nKobe Bryant\\n\\n\\n\\n\\n\\n\\n\\n\\n\\n\\n\\n\\nMurió Kobe Bryant: cómo era el helicóptero Sikorsky S-76 en el que viajaba y qué dijo la empresa fabricante\\n\\n\\n\\nKobe Bryant\\n\\n\\n\\n\\n\\n\\n\\n\\n\\n\\n\\n\\nEl mensaje de Manu Ginóbili tras conocer la muerte de Kobe Bryant: “Devastado”\\n\\n\\n\\nManu Ginóbili\\n\\n\\n\\n\\n\\n\\n\\n\\n\\n\\n\\n\\nMurió Kobe Bryant: el emotivo homenaje de la NBA durante el primer partido tras la tragedia\\n\\n\\n\\nKobe Bryant\\n\\n\\n\\n\\n\\n\\n\\nLo más leído de Sociedad\\n\\n\\n\\n\\n\\n\\n\\n\\n\\nEl crimen de Villa Gesell: el crudo relato de un guardavidas que pasó de atender “picaduras de aguavivas a comas alcohólicos”\\n\\n\\n\\nVilla Gesell\\n\\n\\n\\n\\n\\n\\n\\n\\n\\n\\n\\n\\n“Ojalá no vuelvan nunca más a Zárate”, el repudio de los vecinos a los 10 rugbiers imputados por el crimen de Villa Gesell\\n\\n\\n\\nFernando Báez Sosa\\n\\n\\n\\n\\n\\n\\n\\n\\n\\n\\n\\n\\nCaptan en video un extraño fenómeno en el Nahuel Huapi: ¿El Nahuelito?\\n\\n\\n\\nParque Nacional Nahuel Huapi\\n\\n\\n\\n\\n\\n\\n\\n\\n\\n\\n\\n\\nHacían una obra de cloacas en Córdoba y encontraron el desagüe de un molino construido en el siglo XIX\\n\\n\\n\\nCórdoba\\n\\n\\n\\n\\n\\n\\n\\n\\n\\n\\n\\n\\nFeriados 2020: el calendario completo de días no laborables y fines de semana largos\\n\\n\\n\\nFeriados\\n\\n\\n\\n\\n\\n\\n\\n\\n\\n\\n\\n\\nCrimen de Villa Gesell: “No hubo un plan para matarlo”, dijo el padre de uno de los rugbiers más complicados\\n\\n\\n\\nVilla Gesell\\n\\n\\n\\n\\n\\n\\n\\nLo más leído de Mundo\\n\\n\\n\\n\\n\\n\\n\\n\\n\\nChina endureció las medidas para luchar contra el coronavirus y admite que se “está fortaleciendo”\\n\\n\\n\\nCoronavirus\\n\\n\\n\\n\\n\\n\\n\\n\\n\\n\\n\\n\\nUn joven cura que trabajó con chicos de la calle en Montevideo es el nuevo secretario personal del Papa Francisco\\n\\n\\n\\nPapa Francisco\\n\\n\\n\\n\\n\\n\\n\\n\\n\\n\\n\\n\\nEl presidente chino admite que la epidemia por el coronavirus se acelera y la situación “es grave”\\n\\n\\n\\nCoronavirus\\n\\n\\n\\n\\n\\n\\n\\n\\n\\n\\n\\n\\nEl MAS, el partido del ex presidente Evo Morales encabeza la intención de voto en Bolivia\\n\\n\\n\\nBolivia\\n\\n\\n\\n\\n\\n\\n\\n\\n\\n\\n\\n\\nRusia: la oposición se rebela contra el “golpe constitucional” de Vladimir Putin\\n\\n\\n\\nVladimir Putin\\n\\n\\n\\n\\n\\n\\n\\n\\n\\n\\n\\n\\nA 75 años del cierre de Auschwitz: el plan final del Holocausto, una reunión de 90 minutos\\n\\n\\n\\nEuropa\\n\\n\\n\\n\\n\\n\\n\\nLo más leído de Policiales\\n\\n\\n\\n\\n\\n\\n\\n\\n\\nVideo: la pelea de hace un año en la que incriminan a los rugbiers del crimen de Villa Gesell\\n\\n\\n\\nHomicidios\\n\\n\\n\\n\\n\\n\\n\\n\\n\\n\\n\\n\\nCayó un violador serial que atacaba en el centro de Moreno: le atribuyen ocho casos\\n\\n\\n\\nAbuso Sexual\\n\\n\\n\\n\\n\\n\\n\\n\\n\\n\\n\\n\\nEl crimen de Villa Gesell: por qué podría romperse el “scrum defensivo” de los rugbiers\\n\\n\\n\\nHomicidios\\n\\n\\n\\n\\n\\n\\n\\n\\n\\n\\n\\n\\nLa masacre de Andreani, el golpe más sangriento de la historia\\n\\n\\n\\nAvellaneda\\n\\n\\n\\n\\n\\n\\n\\n\\n\\n\\n\\n\\nNuevo video de la noche trágica en Villa Gesell: así sacaron a Fernando Báez Sosa del boliche\\n\\n\\n\\nFernando Báez Sosa\\n\\n\\n\\n\\n\\n\\n\\n\\n\\n\\n\\n\\nCayó en Chile el gamer marplatense que había estafado a sus amigos\\n\\n\\n\\nMar Del Plata\\n\\n\\n\\n\\n\\n\\n\\n\\n        $(document).ready(function(){\\n            $(\".widgetSectionLink\").each(function(){\\n                var lnk = \"http://www.clarin.com/\"+RemoveAccents($(this).attr(\\'href\\'));\\n                $(this).attr(\\'href\\',lnk);\\n            });\\n        });\\n        function RemoveAccents(s){\\n            var i = \\'ÁÉÍÓÚÑáéíóúñ\\'.split(\\'\\');\\n            var o = \\'AEIOUNaeioun\\'.split(\\'\\');\\n            var map = {};\\n            i.forEach(function(el, idx) {map[el] = o[idx]});\\n            return s.replace(/[^A-Za-z0-9]/g, function(ch) { return map[ch] || ch; }).toLowerCase();\\n        }\\n\\n    \\n\\n\\n\\n\\n\\n\\n\\n    function GDPRInit() {\\n\\n        var scriptJS = document.createElement(\\'script\\');\\n\\n        if(scriptJS.readyState) {\\n            scriptJS.onreadystatechange = function() {\\n                if ( scriptJS.readyState === \"loaded\" || scriptJS.readyState === \"complete\" ) {\\n                    scriptJS.onreadystatechange = null;\\n                    GDPRStart()\\n                }\\n            };\\n        } else{//others\\n            scriptJS.onload = function() {\\n                GDPRStart()\\n            }\\n        }\\n        scriptJS.src = \"/commons/js/GDPRCookiePolicy.js\";\\n        document.documentElement.appendChild(scriptJS);\\n\\n    }\\n\\n\\n\\n    _clarin = {};\\n    _clarin.sw = {\\n        serviceWorker: null\\n    };\\n\\n    function SWInit() {\\n        var _filereC = document.createElement(\"link\")\\n        _filereC.setAttribute(\"rel\", \"stylesheet\")\\n        _filereC.setAttribute(\"type\", \"text/css\")\\n        _filereC.setAttribute(\"href\", \"/commons/sw/sw-app.css\")\\n        document.getElementsByTagName(\"head\")[0].appendChild(_filereC);\\n\\n        var _scripts = [\\n            \"/commons/sw/firebaseconf.js\",\\n            \"/commons/sw/sw-app.js\",\\n            \"/commons/sw/init.js?v=0.3\"];\\n\\n        for(i=0;i<3;i++) {\\n            var _scriptJS = document.createElement(\\'script\\');\\n            _scriptJS.src = _scripts[i];\\n            document.documentElement.appendChild(_scriptJS);\\n        }\\n    }\\n    /**Descomentar completo si se va a habilitar el SW para que verifique si el dispositivo \\n    * es iOS y no cargue el SW (El SW no trabaja en iOS y los ccs crean problemas con el magnific popup)\\n    */\\n        //if(!iOS) SWInit();\\n\\n\\n(function(cid,mkt,config,domain) {\\n  var ml = document.createElement(\\'script\\');\\n  var s = document.getElementsByTagName(\\'script\\')[0] || document.head;\\n  var cb;\\n\\n  try {\\n    if (!(cb = localStorage._matherVer)) {\\n      throw false;\\n    }\\n  } catch (e) {\\n    cb = Math.round(new Date() / 1.0368e9);\\n  }\\n\\n  ml.type = \\'text/javascript\\'; ml.async = true; ml.defer = true; ml.id = \\'_mljs\\';\\n  ml.src = (\\'https:\\' == window.location.protocol ? \\'https\\' : \\'http\\') + \\'://\\' + (domain || \\'js.matheranalytics.com/s\\') + \\'/\\' + cid + \\'/\\' + mkt + \\'/\\' + (config ? config + \\'/\\' : \\'\\') + \\'ml.js?cb=\\' + cb;\\n  s.parentNode.insertBefore(ml, s);\\n})(\\'ma33005\\',\\'978583300\\',\\'\\');\\n\\n\\n\\n\\n\\nClarin\\n\\n\\n\\n\\nTérminos y Condiciones\\nPolítica de Protección de Datos Personales\\nNormas de confidencialidad y privacidad\\n\\n\\n\\n\\n\\n\\n\\n\\n\\n\\n\\n\\n\\n\\n Piedras 1743. C.A.B.A, ARGENTINA\\nEditor Responsable: Ricardo Kirschbaum \\nRegistro de Propiedad Intelectual: 4347221\\nEdición Nº: 8697\\n26 de Enero de 2020\\n \\xa0 Información fiscal \\n\\n\\n\\n AGEA DIGITAL\\n\\n DIARIO OLÉ|\\nENTREMUJERES|\\nGRAN DT|\\nARGENPROP|\\nGUÍA CLARÍN|\\nCLASIFICADOS|\\nRECEPTORÍA ONLINE|\\nCOLECCIONES CLARÍN|\\nELLE|\\n\\n\\n\\nGRUPO CLARÍN\\n\\nGrupo Clarín|\\nNoticias Clarín|\\nTN|\\nEl Trece TV|\\nMitre|\\nLa 100|\\nCiudad|\\nCienradios|\\nTyCSports|\\nLa Voz del Interior |\\nLos Andes|\\nViaPais|\\nRumbos|\\n\\n\\n\\n\\nSuscribite\\nContáctenos\\nAyuda\\nArchivo\\n\\n\\n\\nPUBLICIDAD\\n\\nANÚNCIESE CON NOSOTROS\\n AGEADIGITAL\\n\\n\\n\\n\\nRegistro Propiedad Intelectual: 4347221. Propietario Arte Gráfico Editorial Argentino S.A. © 1996-2020 Clarín.com - Clarín Digital - Todos los derechos reservados.\\n\\n\\n\\n\\n\\n\\n\\n\\n\\n\\n    var GDPRv;\\n\\n    if(typeof $.cookie(\"cookieconsent_status\") == \"undefined\"){\\n        GDPRv = \"-2\";\\n    }else{\\n        if($.cookie(\"cookieconsent_status\") == \"deny\"){\\n            GDPRv = \"0\";\\n        }\\n        if($.cookie(\"cookieconsent_status\") == \"allow\"){\\n            GDPRv = \"1\";\\n        }\\n    }\\n\\n    function triggerRenderAds(event){\\n        if(typeof ads != \\'undefined\\'){\\n            ads.pending();\\n        }\\n    }\\n\\n    document.body.dataset.adspath = \\'clarin/economia/nota\\';\\n \\n    var _dc_w_user = WAuth.getUserSync();\\n    var adskv = {\\n        section: [\"economia\"],\\n        kw_referer: [document.referrer],\\n        kw_ck: GDPRv,\\n        kw_pw: [WeizenBockCompatible.getKwPw()],\\n        kw_temperatura: [WeizenBockCompatible.getTemperatura()],\\n        kw_pw_counter: [WeizenBockCompatible.getPaywallCount()],\\n        kw_time: [Date.now()],\\n        kw_choque: [WeizenBockCompatible.getPaywallChoque()],\\n        kw_width: [window.screen.availWidth],\\n        kw_height: [window.screen.availHeight],\\n        kw_keywords: [\"desempleo\",\"subio\",\"10\",\"millones\",\"desocupados\"],\\n        kw_tags: [\"empleo-y-mercado-laboral\"],\\n        kw_login_edad: (_dc_w_user) ? [WeizenBockCompatible.getAge(_dc_w_user.fechaNacimiento)] : [],\\n        kw_login_sexo: (_dc_w_user) ? [_dc_w_user.genero] : [],\\n    };\\n    document.body.dataset.adskv = JSON.stringify(adskv);\\n\\n    $(document).on(\\'domReady.OnDemand\\', function(event){\\n        triggerRenderAds(event);\\n    });\\n\\n\\n\\n\\n\\n    bk_allow_multiple_calls=true;\\n    bk_use_multiple_iframes=true;\\n    bk_is_debug=true;\\n\\n    function sendBlueKai(){\\n        try{\\n\\n            var GDPRv;\\n\\n            if(typeof $.cookie(\"cookieconsent_status\") == \"undefined\"){\\n                GDPRv = \"-2\";\\n            }else{\\n                if($.cookie(\"cookieconsent_status\") == \"deny\"){\\n                    GDPRv = \"0\";\\n                }\\n                if($.cookie(\"cookieconsent_status\") == \"allow\"){\\n                    GDPRv = \"1\";\\n                }\\n            }\\n\\n            if(typeof(window.WAuth) == \"undefined\")\\n                throw \\'waiting WAuth\\';\\n\\n            if(typeof(window.isPrivateMode) == \"undefined\")\\n                throw \\'waiting bprivate\\';\\n\\n            var _weizenbockUser = WAuth.getUserSync();\\n\\n            if(_weizenbockUser){\\n                bk_addEmailHash(_weizenbockUser.email);\\n            }else{\\n                bk_addEmailHash(\"-2\");\\n            }\\n\\n\\n            bk_addPageCtx(\\'section\\', \\'economia\\');\\n            bk_addPageCtx(\\'bajada\\', [\"ultima\",\"vez\",\"que\",\"llego\",\"dos\",\"cifras\",\"fue\",\"tercer\",\"trimestre\",\"2006\",\"es\",\"fuerte\",\"crecimiento\",\"subocupados\"]);\\n            bk_addPageCtx(\\'kw_ck\\', GDPRv);\\n            bk_addPageCtx(\\'tipo_pagina\\', \\'nota\\');\\n            bk_addPageCtx(\\'ns_site\\', \\'ieco\\');\\n            bk_addPageCtx(\\'name\\', \\'noticias.desempleo-subio-del-91-al-101-y-hay-2-millones-de-desocupados\\');\\n            bk_addPageCtx(\\'ET_multimedia\\', \\'-2\\');\\n            bk_addPageCtx(\\'kw_referrer\\', [document.referrer]);\\n            bk_addPageCtx(\\'keywords\\', [\"desempleo\",\"subio\",\"10\",\"millones\",\"desocupados\"]);\\n            bk_addPageCtx(\\'tags\\', [\"empleo y mercado laboral\"]);\\n            bk_addPageCtx(\\'bprivate\\', window.isPrivateMode);\\n            bk_addPageCtx(\\'idPase\\', getValueFromCookie(\\'idPase\\') == \\'\\' ? \"-2\" : getValueFromCookie(\\'idPase\\'));\\n            bk_addPageCtx(\\'pase_sexo\\', _weizenbockUser ? _weizenbockUser.genero : \"-2\");\\n            bk_addPageCtx(\\'pase_edad\\', _weizenbockUser ? getAge(_weizenbockUser.fechaNacimiento) : \"-2\");\\n            bk_addPageCtx(\\'contador_gral\\', WeizenBockCompatible.getPaywallCount());\\n            bk_addPageCtx(\\'block_LW\\', \\'no\\');\\n            bk_addPageCtx(\\'block_PW\\', \\'no\\');\\n            bk_addPageCtx(\\'tipo_suscriptor\\', WeizenBockCompatible.getTipoSuscripcion(\"-2\"));\\n\\n            bk_addPageCtx(\\'tipo_lector\\', WeizenBockCompatible.getTipoLector());\\n            bk_addPageCtx(\\'kw_pw_counter\\', WeizenBockCompatible.getPaywallCount());\\n            bk_addPageCtx(\\'kw_choque\\', WeizenBockCompatible.getPaywallChoque());\\n            bk_doJSTag(\\'66466\\', 1);\\n        } catch(e) {\\n            setTimeout(function(){\\n                sendBlueKai();\\n            }, 200);\\n        }\\n    }\\n    sendBlueKai();\\n\\n\\n\\n    function getChartbeatUserType (){\\n        var data =WeizenBockCompatible.getTipoLector();\\n        var userTypes = {\"anonimo\":\"anon\",\"loginwall\":\"lgdin\",\"paywall\":\"paid\"};\\n        return userTypes[data];\\n    }\\n\\n    var _sf_async_config = _sf_async_config || {};\\n    /** CONFIGURATION START **/\\n    _sf_async_config.sections = \\'Economía\\';\\n    _sf_async_config.authors = \\'clarin.com\\';\\n    _cbq = window._cbq = (window._cbq || []);\\n    // acct : Guest:  \\'anon\\' || Registered: \\'lgdin\\' || Subscriber: \\'paid\\'\\n    _cbq.push([\\'_acct\\', getChartbeatUserType()]);\\n    /** CONFIGURATION END **/\\n\\n    function loadChartbeat() {\\n        window._sf_endpt = (new Date()).getTime();\\n        var e = document.createElement(\\'script\\');\\n        e.setAttribute(\\'language\\', \\'javascript\\');\\n        e.setAttribute(\\'type\\', \\'text/javascript\\');\\n        e.setAttribute(\\'src\\', \\'//static.chartbeat.com/js/chartbeat.js\\');\\n        document.body.appendChild(e);\\n    }\\n    loadChartbeat();\\n\\n\\n    var CLATimerWorker = function () {\\n\\n        var refreshTime; //seg\\n        var tiempoRestante; //seg\\n        var initDate = {};\\n        var params = {\\n            timeoutValue: false,\\n            active: false\\n        };\\n\\n        var autoRefresh = true;\\n\\n        var init = function (options) {\\n            if (autoRefresh) {\\n                console.log(\\'Timer Init.\\');\\n                refreshTime = options.refreshTime || refreshTime;\\n                tiempoRestante = refreshTime;\\n                start(refreshTime);\\n            } else {\\n                console.log(\\'Timer Disabled\\');\\n            }\\n        };\\n\\n        var start = function (tiempo) {\\n            params.active = true;\\n            initDate = new Date();\\n            params.timeoutValue = setTimeout(finish, tiempo * 1000);\\n            console.log(\\'Timer Start: \\', tiempo);\\n        };\\n\\n        var pause = function () {\\n            if (!params.active) \\n                return false;\\n            \\n            clearTimeout(params.timeoutValue);\\n            params.active = false;\\n\\n            var now = new Date();\\n            var segDiff = Math.round((now.getTime() - initDate.getTime()) / 1000);\\n            tiempoRestante = tiempoRestante - segDiff;\\n            console.log(\\'Timer Pause: \\', tiempoRestante);\\n        };\\n\\n        var resume = function () {\\n            console.log(\\'Timer Resume.\\');\\n            if (params.active) \\n                return false;\\n            \\n            start(tiempoRestante);\\n        };\\n\\n        var finish = function () {\\n            console.log(\\'Timer Finish.\\');\\n            active = false;\\n            postMessage({\\'status\\': \\'finish\\'});\\n        };\\n\\n        self.onmessage = function (e) {\\n            try {\\n                switch (e.data.cmd) {\\n                    case \\'start\\':\\n                        init(e.data.options || {});\\n                        break;\\n                    case \\'pause\\':\\n                        pause();\\n                        break;\\n                    case \\'resume\\':\\n                        resume();\\n                        break;\\n                }\\n            } catch (e) {}\\n        };\\n\\n    }();\\n\\n\\n\\n'"
      ]
     },
     "execution_count": 60,
     "metadata": {},
     "output_type": "execute_result"
    }
   ],
   "source": [
    "nota"
   ]
  }
 ],
 "metadata": {
  "kernelspec": {
   "display_name": "Python 3",
   "language": "python",
   "name": "python3"
  },
  "language_info": {
   "codemirror_mode": {
    "name": "ipython",
    "version": 3
   },
   "file_extension": ".py",
   "mimetype": "text/x-python",
   "name": "python",
   "nbconvert_exporter": "python",
   "pygments_lexer": "ipython3",
   "version": "3.7.4"
  }
 },
 "nbformat": 4,
 "nbformat_minor": 4
}
