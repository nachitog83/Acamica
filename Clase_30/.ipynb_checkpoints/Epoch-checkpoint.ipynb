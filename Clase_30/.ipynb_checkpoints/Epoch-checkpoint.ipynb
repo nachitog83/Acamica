{
 "cells": [
  {
   "cell_type": "markdown",
   "metadata": {},
   "source": [
    "# Epoch, Batch Size e Iteración"
   ]
  },
  {
   "cell_type": "markdown",
   "metadata": {},
   "source": [
    "En la terminología de la red neuronal:\n",
    "\n",
    "* `Epoch ó Época:` un pase hacia adelante (forward propagation) y un pase hacia atrás (backpropagation) de todos los ejemplos de entrenamiento.\n",
    "* `Batch Size ó Tamaño de Lote:` el número de ejemplos de entrenamiento en un pase hacia adelante/atrás. Cuanto mayor sea el tamaño del lote, más espacio de memoria necesitará.\n",
    "* `Número de Iteraciones:` número de pases, cada pase usando un número de ejemplos del tamaño del Batch Size. Para ser claros, __un pase = un pase hacia adelante + un pase hacia atrás__ (no contamos el pase hacia adelante y hacia atrás como dos pases diferentes).\n",
    "\n",
    "## Ejemplo: \n",
    "Si se tienen 1000 datos de entrenamiento y el tamaño de su lote (Batch Size) es 500, se necesitarán 2 iteraciones para completar 1 época."
   ]
  }
 ],
 "metadata": {
  "kernelspec": {
   "display_name": "Python 3",
   "language": "python",
   "name": "python3"
  },
  "language_info": {
   "codemirror_mode": {
    "name": "ipython",
    "version": 3
   },
   "file_extension": ".py",
   "mimetype": "text/x-python",
   "name": "python",
   "nbconvert_exporter": "python",
   "pygments_lexer": "ipython3",
   "version": "3.7.4"
  }
 },
 "nbformat": 4,
 "nbformat_minor": 4
}
