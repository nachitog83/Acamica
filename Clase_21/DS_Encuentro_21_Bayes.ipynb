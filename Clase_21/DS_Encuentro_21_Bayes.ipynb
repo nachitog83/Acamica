{
 "cells": [
  {
   "cell_type": "markdown",
   "metadata": {},
   "source": [
    "# Teorema de Bayes\n",
    "## Ejercicio 1"
   ]
  },
  {
   "cell_type": "markdown",
   "metadata": {},
   "source": [
    "Una empresa tiene una fábrica en Estados Unidos que dispone de tres máquinas A, B y C, que producen envases para botellas de agua. Se sabe que la máquina A produce un 40% de la cantidad total, la máquina B un 30%, y la máquina C un 30%. También se sabe que cada máquina produce envases defectuosos. De tal manera que la máquina A produce un 2% de envases defectuosos sobre el total de su producción, la máquina B un 3%, y la máquina C un 5%. \n",
    "\n",
    "Dicho esto, se plantean dos preguntas:\n",
    "\n",
    "1. Si un envase ha sido fabricado por la fábrica de esta empresa en Estados Unidos ¿Cuál es la probabilidad de que sea defectuoso?\n",
    "2. Siguiendo con la pregunta anterior, si se adquiere un envase y este es defectuoso ¿Cuáles es la probabilidad de que haya sido fabricado por la máquina A?¿Y por la máquina B?¿Y por la máquina C?"
   ]
  },
  {
   "cell_type": "markdown",
   "metadata": {},
   "source": [
    "## Ejercicio 2"
   ]
  },
  {
   "cell_type": "markdown",
   "metadata": {},
   "source": [
    "En Acámica, la probabilidad de que a un alumno seleccionado al azar le guste el helado es del 60%, mientras que la probabilidad de que a un alumno le guste la torta es del 36%. Además, se sabe que la probabilidad de que a un alumno le guste la torta dado que le gusta el helado es del 40%. Calcular la probabilidad de que a un alumno le guste el helado, dado que le gusta la torta."
   ]
  },
  {
   "cell_type": "markdown",
   "metadata": {},
   "source": [
    "## Ejercicio 3"
   ]
  },
  {
   "cell_type": "markdown",
   "metadata": {},
   "source": [
    "Supongamos que estamos participando en una campaña de concienciación sobre el VIH en la que se le va a realizar esta prueba a 100000 personas.\n",
    "\n",
    "Vamos a suponer que la prueba es fiable al 95%. ¿Qué significa esto? Que da positivo el 95% de las veces que se la hacemos a alguien enfermo y que da negativo el 95% de las veces que se la aplicamos a alguien sano. Y supongamos también que el porcentaje de personas que la padecen en realidad es el 1%. Es decir, una de cada cien personas tienen realmente dicha enfermedad.\n",
    "\n",
    "Bueno, con todo esto nos hacemos la prueba… y el resultado es positivo. ¿Debemos venirnos abajo? ¿Debemos pensar que está todo perdido? ¿Cuál es realmente la probabilidad de que padezcamos realmente la enfermedad? "
   ]
  }
 ],
 "metadata": {
  "kernelspec": {
   "display_name": "Python 3",
   "language": "python",
   "name": "python3"
  },
  "language_info": {
   "codemirror_mode": {
    "name": "ipython",
    "version": 3
   },
   "file_extension": ".py",
   "mimetype": "text/x-python",
   "name": "python",
   "nbconvert_exporter": "python",
   "pygments_lexer": "ipython3",
   "version": "3.7.4"
  }
 },
 "nbformat": 4,
 "nbformat_minor": 4
}
