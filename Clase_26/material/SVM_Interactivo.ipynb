{
 "cells": [
  {
   "cell_type": "code",
   "execution_count": 7,
   "metadata": {},
   "outputs": [],
   "source": [
    "def svm_iris(C=1.0, gamma = 0.01, kernel = \"rbf\"):\n",
    "    import pandas as pd\n",
    "    import numpy as np\n",
    "    from sklearn import svm, datasets\n",
    "    import matplotlib.pyplot as plt\n",
    "\n",
    "    iris = datasets.load_iris()\n",
    "    \n",
    "    \n",
    "    X = iris.data[:, :2]\n",
    "    Y = iris.target\n",
    "\n",
    "    x_min, x_max = X[:,0].min()-1, X[:,0].max()+1\n",
    "    y_min, y_max = X[:,1].min()-1, X[:,1].max()+1\n",
    "    h = (x_max - x_min)/100\n",
    "\n",
    "    xx, yy = np.meshgrid(np.arange(x_min, x_max, h), np.arange(y_min, y_max, h))\n",
    "\n",
    "    X_plot = np.c_[xx.ravel(), yy.ravel()]\n",
    "\n",
    "    svc = svm.SVC(kernel=kernel, C=C, gamma=gamma, decision_function_shape=\"ovr\").fit(X,Y)\n",
    "    Ypred = svc.predict(X_plot)\n",
    "    Ypred = Ypred.reshape(xx.shape)\n",
    "    plt.figure(figsize=(10,7))\n",
    "    plt.contourf(xx,yy,Ypred, cmap=plt.cm.tab10, alpha = 0.3)\n",
    "    plt.scatter(X[:,0], X[:,1], c=Y, cmap=plt.cm.tab10)\n",
    "    plt.xlabel(\"Longitud de los pétalos\")\n",
    "    plt.ylabel(\"Anchura de los pétalos\")\n",
    "    plt.xlim(xx.min(), xx.max())\n",
    "    plt.title(\"SVC para las flores de Iris con Kernel \"+kernel)"
   ]
  },
  {
   "cell_type": "code",
   "execution_count": 8,
   "metadata": {},
   "outputs": [],
   "source": [
    "from ipywidgets import interact, fixed"
   ]
  },
  {
   "cell_type": "code",
   "execution_count": 9,
   "metadata": {},
   "outputs": [
    {
     "data": {
      "application/vnd.jupyter.widget-view+json": {
       "model_id": "702f260a0f59400a804c25c1ec577dc9",
       "version_major": 2,
       "version_minor": 0
      },
      "text/plain": [
       "interactive(children=(Dropdown(description='C', index=2, options=(0.01, 0.1, 1, 10, 100, 1000, 1000000.0, 1000…"
      ]
     },
     "metadata": {},
     "output_type": "display_data"
    },
    {
     "data": {
      "text/plain": [
       "<function __main__.svm_iris(C=1.0, gamma=0.01, kernel='rbf')>"
      ]
     },
     "execution_count": 9,
     "metadata": {},
     "output_type": "execute_result"
    }
   ],
   "source": [
    "interact(svm_iris, C=[0.01, 0.1, 1,10,100,1000, 1e6, 1e10],\n",
    "        gamma=[1e-5,1e-4,1e-3,1e-2, 0.1, 0.2, 0.5,0.99],\n",
    "        kernel=[\"rbf\",\"linear\",\"sigmoid\",\"poly\"])"
   ]
  },
  {
   "cell_type": "code",
   "execution_count": null,
   "metadata": {},
   "outputs": [],
   "source": []
  }
 ],
 "metadata": {
  "hide_input": false,
  "kernelspec": {
   "display_name": "Python 3",
   "language": "python",
   "name": "python3"
  },
  "language_info": {
   "codemirror_mode": {
    "name": "ipython",
    "version": 3
   },
   "file_extension": ".py",
   "mimetype": "text/x-python",
   "name": "python",
   "nbconvert_exporter": "python",
   "pygments_lexer": "ipython3",
   "version": "3.7.3"
  }
 },
 "nbformat": 4,
 "nbformat_minor": 4
}
