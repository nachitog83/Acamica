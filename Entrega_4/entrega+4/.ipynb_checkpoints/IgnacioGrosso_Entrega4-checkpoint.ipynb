{
 "cells": [
  {
   "cell_type": "markdown",
   "metadata": {},
   "source": [
    "# MiniProyecto 4: Optimización de parámetros"
   ]
  },
  {
   "cell_type": "markdown",
   "metadata": {},
   "source": [
    "¡Bienvenidos al cuarto (mini)proyecto de la carrera de Data Science de Acamica! \n",
    "\n",
    "En este proyecto vamos a seguir trabajando (por última vez) con el dataset de propiedades en venta publicadas en el portal [Properati](www.properati.com.ar). El objetivo en este caso es optimizar los parámetros de los algoritmos que usamos en el proyecto pasado.\n",
    "\n",
    "El dataset es el mismo del proyecto 3. Recordemos que las columnas que se agregan son:\n",
    "\n",
    "* `barrios_match`: si coincide el barrio publicado con el geográfico vale 1, si no 0.\n",
    "\n",
    "* `PH`, `apartment`, `house`: variables binarias que indican el tipo de propiedad.\n",
    "\n",
    "* dummies de barrios: variables binarias con 1 o 0 según el barrio.\n",
    "\n",
    "La métrica que vamos a usar para medir es RMSE (raíz del error cuadréatico medio), cuya fórmula es:\n",
    "\n",
    "$$RMSE = \\sqrt{\\frac{\\sum_{t=1}^n (\\hat y_t - y_t)^2}{n}}$$"
   ]
  },
  {
   "cell_type": "markdown",
   "metadata": {},
   "source": [
    "## Pandas - Levantamos el dataset"
   ]
  },
  {
   "cell_type": "code",
   "execution_count": 1,
   "metadata": {},
   "outputs": [],
   "source": [
    "import pandas as pd\n",
    "pd.set_option('display.float_format', lambda x: '%.3f' % x)\n",
    "path_dataset = 'dataset/datos_properati_limpios_model.csv'\n",
    "df = pd.read_csv(path_dataset)"
   ]
  },
  {
   "cell_type": "markdown",
   "metadata": {},
   "source": [
    "**Separá** el dataset en entrenamiento (80%) y test (20%) utilizando como target la columna `price_aprox_usd`"
   ]
  },
  {
   "cell_type": "code",
   "execution_count": 2,
   "metadata": {},
   "outputs": [],
   "source": [
    "# Hacé la separación en esta celda\n",
    "from sklearn.model_selection import train_test_split\n",
    "\n",
    "X = df.drop(['price_aprox_usd'], axis=1)\n",
    "y = df['price_aprox_usd']\n",
    "\n",
    "X_train, X_test, y_train, y_test = train_test_split(X, y, test_size = 0.2, random_state = 42)\n"
   ]
  },
  {
   "cell_type": "code",
   "execution_count": 3,
   "metadata": {},
   "outputs": [
    {
     "name": "stdout",
     "output_type": "stream",
     "text": [
      "5100 1276\n"
     ]
    }
   ],
   "source": [
    "# Esto es lo que hace\n",
    "import numpy as np\n",
    "np.random.seed(123)\n",
    "from sklearn.model_selection import train_test_split\n",
    "X = df.drop(['price_aprox_usd'], axis=1)\n",
    "y = df['price_aprox_usd']\n",
    "X_train, X_test, y_train, y_test = train_test_split(\n",
    "    X, y, test_size=0.2, random_state=42)\n",
    "\n",
    "print(X_train.shape[0], X_test.shape[0])"
   ]
  },
  {
   "cell_type": "markdown",
   "metadata": {},
   "source": [
    "## Scikit-learn - Entrenamiento"
   ]
  },
  {
   "cell_type": "markdown",
   "metadata": {},
   "source": [
    "Para repasar los parámetros de árboles de decisión en Scikit-learn: \n",
    "\n",
    "http://scikit-learn.org/stable/modules/generated/sklearn.tree.DecisionTreeRegressor.html"
   ]
  },
  {
   "cell_type": "markdown",
   "metadata": {},
   "source": [
    "En primer lugar veamos como hacer cross validation. Para eso necesitamos definir la cantidad de folds, en este caso vamos a usar 5.\n",
    "\n",
    "GridSearchCV nos permite testear a través de un espacio de búsqueda de parámetros la mejor combinación posible dado un estimador.\n",
    "\n",
    "Por ejemplo, en este caso probamos la profundidad máxima y la máxima cantidad de features para hacer los split. Ambos entre 1 y 5.\n",
    "Recordemos que para hacer la optimización scikit-learn usa la métrica `neg_mean_squared_error` en lugar de `mean_squared_error`."
   ]
  },
  {
   "cell_type": "markdown",
   "metadata": {},
   "source": [
    "**Creá** una variable `param_grid` con valores del 1 al 5 para los atributos `max_depth` y `max_features`. "
   ]
  },
  {
   "cell_type": "code",
   "execution_count": 4,
   "metadata": {},
   "outputs": [
    {
     "data": {
      "text/plain": [
       "{'max_depth': [1, 2, 3, 4, 5], 'max_features': [1, 2, 3, 4, 5]}"
      ]
     },
     "execution_count": 4,
     "metadata": {},
     "output_type": "execute_result"
    }
   ],
   "source": [
    "# Creá en esta celda la variable param_grid\n",
    "\n",
    "param_grid = {'max_depth': [1, 2, 3, 4, 5], 'max_features': [1, 2, 3, 4, 5]}\n",
    "param_grid"
   ]
  },
  {
   "cell_type": "markdown",
   "metadata": {},
   "source": [
    "**Importá** `GridSearchCV` y `DecisionTreeRegressor`.\n",
    "\n",
    "**Creá** una variable `grid_search` y asignale un `GridSearchCV` que recorra el `param_grid` que creaste con el algoritmos `DecisionTreeRegressor` y el un scoring de `neg_mean_squared_error`"
   ]
  },
  {
   "cell_type": "code",
   "execution_count": 5,
   "metadata": {},
   "outputs": [],
   "source": [
    "# Importa y crea un GridSearchCV en esta celda\n",
    "from sklearn.model_selection import GridSearchCV\n",
    "from sklearn.tree import DecisionTreeRegressor\n",
    "\n",
    "tree_reg = DecisionTreeRegressor(random_state = 0)\n",
    "grid_search = GridSearchCV(tree_reg, param_grid, cv=5,\n",
    "                           scoring='neg_mean_squared_error', \n",
    "                           return_train_score=True)\n"
   ]
  },
  {
   "cell_type": "markdown",
   "metadata": {},
   "source": [
    "A continuación, realizá el `fit` del `grid_search` con el conjunto de entrenamiento"
   ]
  },
  {
   "cell_type": "code",
   "execution_count": 6,
   "metadata": {},
   "outputs": [
    {
     "data": {
      "text/plain": [
       "GridSearchCV(cv=5, error_score='raise-deprecating',\n",
       "             estimator=DecisionTreeRegressor(criterion='mse', max_depth=None,\n",
       "                                             max_features=None,\n",
       "                                             max_leaf_nodes=None,\n",
       "                                             min_impurity_decrease=0.0,\n",
       "                                             min_impurity_split=None,\n",
       "                                             min_samples_leaf=1,\n",
       "                                             min_samples_split=2,\n",
       "                                             min_weight_fraction_leaf=0.0,\n",
       "                                             presort=False, random_state=0,\n",
       "                                             splitter='best'),\n",
       "             iid='warn', n_jobs=None,\n",
       "             param_grid={'max_depth': [1, 2, 3, 4, 5],\n",
       "                         'max_features': [1, 2, 3, 4, 5]},\n",
       "             pre_dispatch='2*n_jobs', refit=True, return_train_score=True,\n",
       "             scoring='neg_mean_squared_error', verbose=0)"
      ]
     },
     "execution_count": 6,
     "metadata": {},
     "output_type": "execute_result"
    }
   ],
   "source": [
    "# Hace el fit de grid search en esta celda\n",
    "grid_search.fit(X_train, y_train)"
   ]
  },
  {
   "cell_type": "markdown",
   "metadata": {},
   "source": [
    "Revisemos los resultados. Recordemos que no están expresados en RMSE."
   ]
  },
  {
   "cell_type": "code",
   "execution_count": 7,
   "metadata": {},
   "outputs": [
    {
     "data": {
      "text/plain": [
       "make_scorer(mean_squared_error, greater_is_better=False)"
      ]
     },
     "execution_count": 7,
     "metadata": {},
     "output_type": "execute_result"
    }
   ],
   "source": [
    "grid_search.scorer_"
   ]
  },
  {
   "cell_type": "markdown",
   "metadata": {},
   "source": [
    "**Mostrá** los `grid_scores` obtenidos durante el `grid_search`"
   ]
  },
  {
   "cell_type": "code",
   "execution_count": 8,
   "metadata": {},
   "outputs": [
    {
     "data": {
      "text/plain": [
       "{'mean_fit_time': array([0.01744032, 0.00956383, 0.00740247, 0.0083077 , 0.00667419,\n",
       "        0.00856576, 0.00640793, 0.00672822, 0.00694499, 0.00711441,\n",
       "        0.00710416, 0.00632262, 0.00714965, 0.00738263, 0.0089283 ,\n",
       "        0.00976696, 0.00751195, 0.00946369, 0.00868359, 0.01110201,\n",
       "        0.00822444, 0.00903811, 0.00871034, 0.01021562, 0.00854096]),\n",
       " 'std_fit_time': array([0.00687302, 0.00251094, 0.00205206, 0.00299654, 0.00183494,\n",
       "        0.00195162, 0.0012145 , 0.00130316, 0.00207901, 0.00147717,\n",
       "        0.00081063, 0.00131394, 0.00044501, 0.00040117, 0.00121509,\n",
       "        0.00071135, 0.00165549, 0.00254985, 0.00163425, 0.00053636,\n",
       "        0.00183248, 0.00173492, 0.00236152, 0.00186635, 0.00166968]),\n",
       " 'mean_score_time': array([0.00653653, 0.00307441, 0.00238008, 0.00228591, 0.00208282,\n",
       "        0.00220118, 0.00180058, 0.00194988, 0.0018301 , 0.00169396,\n",
       "        0.00203643, 0.00186515, 0.0020689 , 0.00261149, 0.00195651,\n",
       "        0.00279112, 0.0022572 , 0.00238638, 0.00222239, 0.00313649,\n",
       "        0.00226665, 0.00209455, 0.00284467, 0.00200543, 0.00185418]),\n",
       " 'std_score_time': array([0.00243287, 0.00164079, 0.0013717 , 0.00023736, 0.00049562,\n",
       "        0.00074107, 0.00037858, 0.00035202, 0.0003128 , 0.00025256,\n",
       "        0.00033437, 0.00040257, 0.00022684, 0.00057438, 0.00046398,\n",
       "        0.00088874, 0.000644  , 0.0005406 , 0.00042193, 0.0011402 ,\n",
       "        0.00087613, 0.00041923, 0.00080923, 0.00027322, 0.00030214]),\n",
       " 'param_max_depth': masked_array(data=[1, 1, 1, 1, 1, 2, 2, 2, 2, 2, 3, 3, 3, 3, 3, 4, 4, 4,\n",
       "                    4, 4, 5, 5, 5, 5, 5],\n",
       "              mask=[False, False, False, False, False, False, False, False,\n",
       "                    False, False, False, False, False, False, False, False,\n",
       "                    False, False, False, False, False, False, False, False,\n",
       "                    False],\n",
       "        fill_value='?',\n",
       "             dtype=object),\n",
       " 'param_max_features': masked_array(data=[1, 2, 3, 4, 5, 1, 2, 3, 4, 5, 1, 2, 3, 4, 5, 1, 2, 3,\n",
       "                    4, 5, 1, 2, 3, 4, 5],\n",
       "              mask=[False, False, False, False, False, False, False, False,\n",
       "                    False, False, False, False, False, False, False, False,\n",
       "                    False, False, False, False, False, False, False, False,\n",
       "                    False],\n",
       "        fill_value='?',\n",
       "             dtype=object),\n",
       " 'params': [{'max_depth': 1, 'max_features': 1},\n",
       "  {'max_depth': 1, 'max_features': 2},\n",
       "  {'max_depth': 1, 'max_features': 3},\n",
       "  {'max_depth': 1, 'max_features': 4},\n",
       "  {'max_depth': 1, 'max_features': 5},\n",
       "  {'max_depth': 2, 'max_features': 1},\n",
       "  {'max_depth': 2, 'max_features': 2},\n",
       "  {'max_depth': 2, 'max_features': 3},\n",
       "  {'max_depth': 2, 'max_features': 4},\n",
       "  {'max_depth': 2, 'max_features': 5},\n",
       "  {'max_depth': 3, 'max_features': 1},\n",
       "  {'max_depth': 3, 'max_features': 2},\n",
       "  {'max_depth': 3, 'max_features': 3},\n",
       "  {'max_depth': 3, 'max_features': 4},\n",
       "  {'max_depth': 3, 'max_features': 5},\n",
       "  {'max_depth': 4, 'max_features': 1},\n",
       "  {'max_depth': 4, 'max_features': 2},\n",
       "  {'max_depth': 4, 'max_features': 3},\n",
       "  {'max_depth': 4, 'max_features': 4},\n",
       "  {'max_depth': 4, 'max_features': 5},\n",
       "  {'max_depth': 5, 'max_features': 1},\n",
       "  {'max_depth': 5, 'max_features': 2},\n",
       "  {'max_depth': 5, 'max_features': 3},\n",
       "  {'max_depth': 5, 'max_features': 4},\n",
       "  {'max_depth': 5, 'max_features': 5}],\n",
       " 'split0_test_score': array([-9.97527974e+08, -9.97975870e+08, -9.86068694e+08, -9.86068694e+08,\n",
       "        -9.86068694e+08, -9.96490373e+08, -9.96946974e+08, -9.69811584e+08,\n",
       "        -9.82713574e+08, -9.86429012e+08, -9.92620573e+08, -9.63480682e+08,\n",
       "        -7.11158641e+08, -8.71198982e+08, -9.80205436e+08, -9.99402170e+08,\n",
       "        -9.54490700e+08, -6.73535628e+08, -9.42468510e+08, -9.44126399e+08,\n",
       "        -9.73018005e+08, -7.09844900e+08, -7.00750138e+08, -9.76968639e+08,\n",
       "        -9.55786333e+08]),\n",
       " 'split1_test_score': array([-9.92475506e+08, -9.92475506e+08, -9.72814621e+08, -9.72814621e+08,\n",
       "        -9.72814621e+08, -9.92306520e+08, -9.76087255e+08, -7.55794407e+08,\n",
       "        -9.74503916e+08, -9.71604077e+08, -9.89090205e+08, -9.60258768e+08,\n",
       "        -7.32356313e+08, -9.54863478e+08, -9.61535321e+08, -9.88713808e+08,\n",
       "        -9.36378832e+08, -9.67247346e+08, -7.34529169e+08, -6.74581734e+08,\n",
       "        -9.61916329e+08, -8.85279780e+08, -9.35772152e+08, -7.28385810e+08,\n",
       "        -8.75109722e+08]),\n",
       " 'split2_test_score': array([-9.34306597e+08, -9.34202376e+08, -9.20043980e+08, -9.20043980e+08,\n",
       "        -9.20043980e+08, -9.32135670e+08, -9.35586265e+08, -9.08478812e+08,\n",
       "        -9.19663258e+08, -9.13675349e+08, -9.40505134e+08, -9.12984631e+08,\n",
       "        -7.09506366e+08, -8.37811540e+08, -9.08238357e+08, -9.31640621e+08,\n",
       "        -9.10022835e+08, -7.08730438e+08, -8.82699942e+08, -8.92993897e+08,\n",
       "        -9.35316637e+08, -7.33131161e+08, -7.11128566e+08, -9.23203961e+08,\n",
       "        -8.98992971e+08]),\n",
       " 'split3_test_score': array([-1.00457357e+09, -1.00463535e+09, -9.97926096e+08, -9.97926096e+08,\n",
       "        -9.97926096e+08, -1.00375970e+09, -1.00298398e+09, -9.79317774e+08,\n",
       "        -9.97704079e+08, -1.00035404e+09, -9.98900308e+08, -9.79905543e+08,\n",
       "        -7.53658309e+08, -9.04960115e+08, -9.90445833e+08, -9.94781856e+08,\n",
       "        -9.73397852e+08, -7.50376246e+08, -8.04985743e+08, -9.61808509e+08,\n",
       "        -9.66773783e+08, -7.87619944e+08, -7.43421488e+08, -8.98604043e+08,\n",
       "        -9.42273557e+08]),\n",
       " 'split4_test_score': array([-9.70067215e+08, -9.69689178e+08, -9.60303338e+08, -9.60303338e+08,\n",
       "        -9.60303338e+08, -9.70021150e+08, -9.68899286e+08, -9.28665884e+08,\n",
       "        -9.55909261e+08, -9.55765640e+08, -9.65513170e+08, -9.46362491e+08,\n",
       "        -7.43167223e+08, -8.96217072e+08, -9.45917569e+08, -9.34470106e+08,\n",
       "        -9.19369856e+08, -7.25578715e+08, -9.54750261e+08, -9.15451566e+08,\n",
       "        -8.05826160e+08, -7.58073234e+08, -7.10638680e+08, -7.78065950e+08,\n",
       "        -9.10059778e+08]),\n",
       " 'mean_test_score': array([-9.79790172e+08, -9.79795656e+08, -9.67431346e+08, -9.67431346e+08,\n",
       "        -9.67431346e+08, -9.78942683e+08, -9.76100752e+08, -9.08413692e+08,\n",
       "        -9.66098817e+08, -9.65565625e+08, -9.77325878e+08, -9.52598423e+08,\n",
       "        -7.29969370e+08, -8.93010237e+08, -9.57268503e+08, -9.69801712e+08,\n",
       "        -9.38732015e+08, -7.65093675e+08, -8.63886725e+08, -8.77792421e+08,\n",
       "        -9.28570183e+08, -7.74789804e+08, -7.60342205e+08, -8.61045681e+08,\n",
       "        -9.16444472e+08]),\n",
       " 'std_test_score': array([2.55070797e+07, 2.56483807e+07, 2.68426195e+07, 2.68426195e+07,\n",
       "        2.68426195e+07, 2.59726327e+07, 2.38770090e+07, 8.06224430e+07,\n",
       "        2.68539629e+07, 2.99019010e+07, 2.16013445e+07, 2.24985450e+07,\n",
       "        1.73989925e+07, 3.87337936e+07, 2.89062027e+07, 3.02074604e+07,\n",
       "        2.30421530e+07, 1.04119001e+08, 8.36515621e+07, 1.04309903e+08,\n",
       "        6.27035872e+07, 6.10006130e+07, 8.88882602e+07, 9.29480409e+07,\n",
       "        2.92191868e+07]),\n",
       " 'rank_test_score': array([24, 25, 17, 17, 17, 23, 21,  9, 16, 15, 22, 13,  1,  8, 14, 20, 12,\n",
       "         3,  6,  7, 11,  4,  2,  5, 10], dtype=int32),\n",
       " 'split0_train_score': array([-9.74522239e+08, -9.73762035e+08, -9.63242254e+08, -9.63242254e+08,\n",
       "        -9.63242254e+08, -9.73137294e+08, -9.72652905e+08, -9.40110808e+08,\n",
       "        -9.59163709e+08, -9.59271718e+08, -9.70468805e+08, -9.45692563e+08,\n",
       "        -7.34800718e+08, -8.69334537e+08, -9.46699315e+08, -9.62740613e+08,\n",
       "        -9.32328864e+08, -7.02481440e+08, -9.12902847e+08, -9.29073672e+08,\n",
       "        -9.30357079e+08, -7.21449647e+08, -7.12714296e+08, -9.39666090e+08,\n",
       "        -9.21937134e+08]),\n",
       " 'split1_train_score': array([-9.75835495e+08, -9.75835495e+08, -9.62246910e+08, -9.62246910e+08,\n",
       "        -9.62246910e+08, -9.74299504e+08, -9.68624657e+08, -7.30356341e+08,\n",
       "        -9.59198008e+08, -9.58800550e+08, -9.71710681e+08, -9.38525346e+08,\n",
       "        -6.97697385e+08, -9.19639487e+08, -9.48364533e+08, -9.65509276e+08,\n",
       "        -9.08641577e+08, -9.27830561e+08, -6.89384105e+08, -6.42616411e+08,\n",
       "        -9.35709163e+08, -8.55897671e+08, -8.75499355e+08, -6.96363439e+08,\n",
       "        -8.42515670e+08]),\n",
       " 'split2_train_score': array([-9.90365859e+08, -9.89776175e+08, -9.79824282e+08, -9.79824282e+08,\n",
       "        -9.79824282e+08, -9.89317536e+08, -9.88138915e+08, -9.55363882e+08,\n",
       "        -9.75114537e+08, -9.77522393e+08, -9.84126384e+08, -9.56395104e+08,\n",
       "        -7.34281155e+08, -8.70522892e+08, -9.65513933e+08, -9.78734817e+08,\n",
       "        -9.43455024e+08, -7.17749622e+08, -8.99709731e+08, -9.39503930e+08,\n",
       "        -9.66402462e+08, -7.27309750e+08, -7.10114816e+08, -9.30778318e+08,\n",
       "        -9.23518155e+08]),\n",
       " 'split3_train_score': array([-9.72973324e+08, -9.72345323e+08, -9.60565398e+08, -9.60565398e+08,\n",
       "        -9.60565398e+08, -9.71604934e+08, -9.71407818e+08, -9.37848000e+08,\n",
       "        -9.55685689e+08, -9.56115731e+08, -9.69249812e+08, -9.39821790e+08,\n",
       "        -7.23177573e+08, -8.59566410e+08, -9.45129006e+08, -9.64471675e+08,\n",
       "        -9.28744063e+08, -6.98804332e+08, -7.22763514e+08, -9.08852712e+08,\n",
       "        -9.29172137e+08, -7.05404229e+08, -6.89562602e+08, -8.56291084e+08,\n",
       "        -8.95233225e+08]),\n",
       " 'split4_train_score': array([-9.81374112e+08, -9.80838906e+08, -9.69695460e+08, -9.69695460e+08,\n",
       "        -9.69695460e+08, -9.79850511e+08, -9.79671314e+08, -9.50240103e+08,\n",
       "        -9.65808588e+08, -9.66909059e+08, -9.77344140e+08, -9.47962889e+08,\n",
       "        -7.26371295e+08, -8.63823646e+08, -9.55268185e+08, -9.13718930e+08,\n",
       "        -9.41032884e+08, -7.16626814e+08, -9.52861881e+08, -9.20094067e+08,\n",
       "        -7.77494164e+08, -7.10338852e+08, -6.86228572e+08, -7.80725363e+08,\n",
       "        -9.16821604e+08]),\n",
       " 'mean_train_score': array([-9.79014206e+08, -9.78511587e+08, -9.67114861e+08, -9.67114861e+08,\n",
       "        -9.67114861e+08, -9.77641956e+08, -9.76099122e+08, -9.02783827e+08,\n",
       "        -9.62994106e+08, -9.63723890e+08, -9.74579964e+08, -9.45679538e+08,\n",
       "        -7.23265625e+08, -8.76577394e+08, -9.52194994e+08, -9.57035062e+08,\n",
       "        -9.30840482e+08, -7.52698554e+08, -8.35524415e+08, -8.68028159e+08,\n",
       "        -9.07827001e+08, -7.44080030e+08, -7.34823928e+08, -8.40764859e+08,\n",
       "        -9.00005158e+08]),\n",
       " 'std_train_score': array([6.34355449e+06, 6.32534403e+06, 7.06793289e+06, 7.06793289e+06,\n",
       "        7.06793289e+06, 6.46693883e+06, 7.03519086e+06, 8.64532218e+07,\n",
       "        6.88943296e+06, 7.77803537e+06, 5.51941558e+06, 6.41144130e+06,\n",
       "        1.35483438e+07, 2.18883142e+07, 7.50522160e+06, 2.23912281e+07,\n",
       "        1.23483874e+07, 8.78864766e+07, 1.07654325e+08, 1.13157677e+08,\n",
       "        6.65708150e+07, 5.64461620e+07, 7.11323386e+07, 9.22837485e+07,\n",
       "        3.04777890e+07])}"
      ]
     },
     "execution_count": 8,
     "metadata": {},
     "output_type": "execute_result"
    }
   ],
   "source": [
    "# Mostrá los grid_scores en esta celda\n",
    "grid_search.cv_results_"
   ]
  },
  {
   "cell_type": "markdown",
   "metadata": {},
   "source": [
    "De esta manera, el valor con mejor resultado (dado el espacio de búsqueda definido) es `max_depth` 3 y `max_features` 3."
   ]
  },
  {
   "cell_type": "markdown",
   "metadata": {},
   "source": [
    "**Mostrá** el mejor score y los mejores parámetros encontrados por `grid_search`"
   ]
  },
  {
   "cell_type": "code",
   "execution_count": 9,
   "metadata": {},
   "outputs": [
    {
     "name": "stdout",
     "output_type": "stream",
     "text": [
      "DecisionTreeRegressor(criterion='mse', max_depth=3, max_features=3,\n",
      "                      max_leaf_nodes=None, min_impurity_decrease=0.0,\n",
      "                      min_impurity_split=None, min_samples_leaf=1,\n",
      "                      min_samples_split=2, min_weight_fraction_leaf=0.0,\n",
      "                      presort=False, random_state=0, splitter='best')\n",
      "-729969370.3438246\n"
     ]
    }
   ],
   "source": [
    "# Mostrás los resultados en esta celda\n",
    "print(grid_search.best_estimator_)\n",
    "print(grid_search.best_score_)"
   ]
  },
  {
   "cell_type": "markdown",
   "metadata": {},
   "source": [
    "Convertimos a RMSE."
   ]
  },
  {
   "cell_type": "code",
   "execution_count": 10,
   "metadata": {},
   "outputs": [
    {
     "data": {
      "text/plain": [
       "27017.95"
      ]
     },
     "execution_count": 10,
     "metadata": {},
     "output_type": "execute_result"
    }
   ],
   "source": [
    "def nmsq2rmse(score):\n",
    "    return np.round(np.sqrt(-score), 2)\n",
    "\n",
    "nmsq2rmse(grid_search.best_score_)"
   ]
  },
  {
   "cell_type": "markdown",
   "metadata": {},
   "source": [
    "__Encontrar el mejor modelo para el espacio de búsqueda dado__\n",
    "\n",
    "* `\"min_samples_split\": [2, 10, 20]`\n",
    "* `\"max_depth\": [None, 2, 5, 10, 15]`\n",
    "* `\"min_samples_leaf\": [1, 5, 10, 15]`\n",
    "* `\"max_leaf_nodes\": [None, 5, 10, 20]`"
   ]
  },
  {
   "cell_type": "code",
   "execution_count": 11,
   "metadata": {},
   "outputs": [
    {
     "data": {
      "text/plain": [
       "GridSearchCV(cv=5, error_score='raise-deprecating',\n",
       "             estimator=DecisionTreeRegressor(criterion='mse', max_depth=None,\n",
       "                                             max_features=None,\n",
       "                                             max_leaf_nodes=None,\n",
       "                                             min_impurity_decrease=0.0,\n",
       "                                             min_impurity_split=None,\n",
       "                                             min_samples_leaf=1,\n",
       "                                             min_samples_split=2,\n",
       "                                             min_weight_fraction_leaf=0.0,\n",
       "                                             presort=False, random_state=0,\n",
       "                                             splitter='best'),\n",
       "             iid='warn', n_jobs=None,\n",
       "             param_grid=[{'max_depth': [None, 2, 5, 10, 15],\n",
       "                          'max_leaf_nodes': [None, 5, 10, 20],\n",
       "                          'min_samples_leaf': [1, 5, 10, 15],\n",
       "                          'min_samples_split': [2, 10, 20]}],\n",
       "             pre_dispatch='2*n_jobs', refit=True, return_train_score=True,\n",
       "             scoring='neg_mean_squared_error', verbose=0)"
      ]
     },
     "execution_count": 11,
     "metadata": {},
     "output_type": "execute_result"
    }
   ],
   "source": [
    "param_grid = [{\"min_samples_split\": [2, 10, 20], \"max_depth\": [None, 2, 5, 10, 15], \"min_samples_leaf\": [1, 5, 10, 15], \n",
    "                \"max_leaf_nodes\": [None, 5, 10, 20]}]\n",
    "\n",
    "tree_reg = DecisionTreeRegressor(random_state = 0)\n",
    "grid_search = GridSearchCV(tree_reg, param_grid, cv=5,\n",
    "                           scoring='neg_mean_squared_error', \n",
    "                           return_train_score=True)\n",
    "\n",
    "grid_search.fit(X_train, y_train)"
   ]
  },
  {
   "cell_type": "markdown",
   "metadata": {},
   "source": [
    "Recordemos que `GridSearchCV` tiene como parámetro default `refit=True`. Esto significa que luego de hacer la corrida se ajusta el mejor modelo al conjunto de datos de entrada. De esta manera, se puede predecir directamente usando `best_estimator_`."
   ]
  },
  {
   "cell_type": "code",
   "execution_count": 12,
   "metadata": {},
   "outputs": [
    {
     "name": "stdout",
     "output_type": "stream",
     "text": [
      "{'max_depth': 10, 'max_leaf_nodes': None, 'min_samples_leaf': 15, 'min_samples_split': 2}\n"
     ]
    }
   ],
   "source": [
    "print(grid_search.best_params_)"
   ]
  },
  {
   "cell_type": "code",
   "execution_count": 13,
   "metadata": {},
   "outputs": [],
   "source": [
    "optimised_decision_tree = grid_search.best_estimator_"
   ]
  },
  {
   "cell_type": "markdown",
   "metadata": {},
   "source": [
    "__Evaluemos en testing el desempeño de este modelo.__\n",
    "\n",
    "Como venimos trabajando, el resultado en testing será la medición que usaremos como benchmark para comparar este modelos con otros en el futuro, puesto que no estuvo en contacto con el dataset de test para la calibración."
   ]
  },
  {
   "cell_type": "code",
   "execution_count": 14,
   "metadata": {},
   "outputs": [
    {
     "data": {
      "text/plain": [
       "21301.0"
      ]
     },
     "execution_count": 14,
     "metadata": {},
     "output_type": "execute_result"
    }
   ],
   "source": [
    "from sklearn.metrics import mean_squared_error\n",
    "y_opt_pred = optimised_decision_tree.predict(X_test)\n",
    "rmse = np.sqrt(mean_squared_error(y_test, y_opt_pred))\n",
    "np.round(rmse)"
   ]
  },
  {
   "cell_type": "markdown",
   "metadata": {},
   "source": [
    "Vemos los primeros 10 resultados de la predicción del valor de propiedades."
   ]
  },
  {
   "cell_type": "code",
   "execution_count": 15,
   "metadata": {},
   "outputs": [],
   "source": [
    "val_real = pd.Series(y_test.values)\n",
    "val_pred = pd.Series(y_opt_pred)"
   ]
  },
  {
   "cell_type": "code",
   "execution_count": 16,
   "metadata": {},
   "outputs": [],
   "source": [
    "predicciones = pd.concat([val_real.rename('Valor real'),val_pred.rename('Valor Pred') ,abs(val_real-val_pred).rename('Dif(+/-)')] ,  axis=1)"
   ]
  },
  {
   "cell_type": "code",
   "execution_count": 17,
   "metadata": {},
   "outputs": [
    {
     "data": {
      "text/html": [
       "<div>\n",
       "<style scoped>\n",
       "    .dataframe tbody tr th:only-of-type {\n",
       "        vertical-align: middle;\n",
       "    }\n",
       "\n",
       "    .dataframe tbody tr th {\n",
       "        vertical-align: top;\n",
       "    }\n",
       "\n",
       "    .dataframe thead th {\n",
       "        text-align: right;\n",
       "    }\n",
       "</style>\n",
       "<table border=\"1\" class=\"dataframe\">\n",
       "  <thead>\n",
       "    <tr style=\"text-align: right;\">\n",
       "      <th></th>\n",
       "      <th>Valor real</th>\n",
       "      <th>Valor Pred</th>\n",
       "      <th>Dif(+/-)</th>\n",
       "    </tr>\n",
       "  </thead>\n",
       "  <tbody>\n",
       "    <tr>\n",
       "      <th>0</th>\n",
       "      <td>80000.000</td>\n",
       "      <td>103438.660</td>\n",
       "      <td>23438.660</td>\n",
       "    </tr>\n",
       "    <tr>\n",
       "      <th>1</th>\n",
       "      <td>128000.000</td>\n",
       "      <td>135705.882</td>\n",
       "      <td>7705.882</td>\n",
       "    </tr>\n",
       "    <tr>\n",
       "      <th>2</th>\n",
       "      <td>150000.000</td>\n",
       "      <td>156075.759</td>\n",
       "      <td>6075.759</td>\n",
       "    </tr>\n",
       "    <tr>\n",
       "      <th>3</th>\n",
       "      <td>85000.000</td>\n",
       "      <td>102400.991</td>\n",
       "      <td>17400.991</td>\n",
       "    </tr>\n",
       "    <tr>\n",
       "      <th>4</th>\n",
       "      <td>135000.000</td>\n",
       "      <td>135571.622</td>\n",
       "      <td>571.622</td>\n",
       "    </tr>\n",
       "    <tr>\n",
       "      <th>5</th>\n",
       "      <td>135000.000</td>\n",
       "      <td>109560.000</td>\n",
       "      <td>25440.000</td>\n",
       "    </tr>\n",
       "    <tr>\n",
       "      <th>6</th>\n",
       "      <td>68000.000</td>\n",
       "      <td>75181.250</td>\n",
       "      <td>7181.250</td>\n",
       "    </tr>\n",
       "    <tr>\n",
       "      <th>7</th>\n",
       "      <td>110000.000</td>\n",
       "      <td>140444.444</td>\n",
       "      <td>30444.444</td>\n",
       "    </tr>\n",
       "    <tr>\n",
       "      <th>8</th>\n",
       "      <td>134000.000</td>\n",
       "      <td>158431.250</td>\n",
       "      <td>24431.250</td>\n",
       "    </tr>\n",
       "    <tr>\n",
       "      <th>9</th>\n",
       "      <td>110000.000</td>\n",
       "      <td>76701.202</td>\n",
       "      <td>33298.798</td>\n",
       "    </tr>\n",
       "  </tbody>\n",
       "</table>\n",
       "</div>"
      ],
      "text/plain": [
       "   Valor real  Valor Pred  Dif(+/-)\n",
       "0   80000.000  103438.660 23438.660\n",
       "1  128000.000  135705.882  7705.882\n",
       "2  150000.000  156075.759  6075.759\n",
       "3   85000.000  102400.991 17400.991\n",
       "4  135000.000  135571.622   571.622\n",
       "5  135000.000  109560.000 25440.000\n",
       "6   68000.000   75181.250  7181.250\n",
       "7  110000.000  140444.444 30444.444\n",
       "8  134000.000  158431.250 24431.250\n",
       "9  110000.000   76701.202 33298.798"
      ]
     },
     "execution_count": 17,
     "metadata": {},
     "output_type": "execute_result"
    }
   ],
   "source": [
    "predicciones.head(10)"
   ]
  },
  {
   "cell_type": "code",
   "execution_count": null,
   "metadata": {},
   "outputs": [],
   "source": []
  }
 ],
 "metadata": {
  "kernelspec": {
   "display_name": "Python 3",
   "language": "python",
   "name": "python3"
  },
  "language_info": {
   "codemirror_mode": {
    "name": "ipython",
    "version": 3
   },
   "file_extension": ".py",
   "mimetype": "text/x-python",
   "name": "python",
   "nbconvert_exporter": "python",
   "pygments_lexer": "ipython3",
   "version": "3.6.9"
  }
 },
 "nbformat": 4,
 "nbformat_minor": 4
}
