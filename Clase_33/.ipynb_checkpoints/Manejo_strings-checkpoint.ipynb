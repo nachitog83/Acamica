{
 "cells": [
  {
   "cell_type": "markdown",
   "metadata": {},
   "source": [
    "# Manejo de String con métodos  built-in de Python"
   ]
  },
  {
   "cell_type": "markdown",
   "metadata": {},
   "source": [
    "## Normalización\n",
    "\n",
    "En NLP es muy común querer pasar a minúsculas un texto con el fin de homogeneizar. Veamos algunas funciones nativas de python que nos van a ser de mucha ayuda a la hora de normalizar."
   ]
  },
  {
   "cell_type": "code",
   "execution_count": 1,
   "metadata": {},
   "outputs": [
    {
     "name": "stdout",
     "output_type": "stream",
     "text": [
      "True\n",
      "False\n"
     ]
    }
   ],
   "source": [
    "texto_upper = \"ESTE CURSO DE DS SE ESTÁ YENDO A LA MIER...\"\n",
    "print(texto_upper.isupper()) \n",
    "print(texto_upper.islower()) "
   ]
  },
  {
   "cell_type": "code",
   "execution_count": 2,
   "metadata": {},
   "outputs": [
    {
     "name": "stdout",
     "output_type": "stream",
     "text": [
      "False\n",
      "False\n"
     ]
    }
   ],
   "source": [
    "texto_mixed = \"Este curso de DS se está yendo a la mier...\"\n",
    "print(texto_mixed.isupper()) \n",
    "print(texto_mixed.islower()) "
   ]
  },
  {
   "cell_type": "code",
   "execution_count": 3,
   "metadata": {},
   "outputs": [
    {
     "name": "stdout",
     "output_type": "stream",
     "text": [
      "False\n",
      "True\n"
     ]
    }
   ],
   "source": [
    "texto_lower = \"este curso de ds se está yendo a la mier...\"\n",
    "print(texto_lower.isupper()) \n",
    "print(texto_lower.islower()) "
   ]
  },
  {
   "cell_type": "code",
   "execution_count": 4,
   "metadata": {},
   "outputs": [
    {
     "name": "stdout",
     "output_type": "stream",
     "text": [
      "este curso de ds se está yendo a la mier...\n"
     ]
    }
   ],
   "source": [
    "print(texto_upper.lower())"
   ]
  },
  {
   "cell_type": "code",
   "execution_count": 5,
   "metadata": {},
   "outputs": [
    {
     "name": "stdout",
     "output_type": "stream",
     "text": [
      "ESTE CURSO DE DS SE ESTÁ YENDO A LA MIER...\n"
     ]
    }
   ],
   "source": [
    "print(texto_lower.upper())"
   ]
  },
  {
   "cell_type": "code",
   "execution_count": 6,
   "metadata": {},
   "outputs": [
    {
     "name": "stdout",
     "output_type": "stream",
     "text": [
      "En el string original:\n",
      "Este curso de DS se está yendo a la mier...\n",
      "\n",
      "Cantidad de mayúsculas:  3\n",
      "Cantidad de minúsculas:  28\n",
      "Cantidad de espacios:    9\n",
      "\n",
      "Después de las modificaciones:\n",
      "eSTE CURSO DE ds SE ESTÁ YENDO A LA MIER...\n"
     ]
    }
   ],
   "source": [
    "string ='Este curso de DS se está yendo a la mier...'\n",
    "newstring ='' \n",
    "count1 = 0\n",
    "count2 = 0\n",
    "count3 = 0\n",
    "  \n",
    "for a in string: \n",
    "    #Checking for uppercase letter and converting to lowercase. \n",
    "    if (a.isupper()) == True: \n",
    "        count1 += 1\n",
    "        newstring += (a.lower()) \n",
    "    #Checking for lowercase letter and converting to uppercase. \n",
    "    elif (a.islower()) == True: \n",
    "        count2 += 1\n",
    "        newstring += (a.upper()) \n",
    "    #Checking for whitespace letter and adding it to the new string as it is. \n",
    "    elif (a.isspace()) == True: \n",
    "        count3 += 1\n",
    "        newstring += a \n",
    "    else:\n",
    "        newstring += a\n",
    "        \n",
    "print(\"En el string original:\")\n",
    "print(string+'\\n') \n",
    "print(\"Cantidad de mayúsculas: \", count1) \n",
    "print(\"Cantidad de minúsculas: \", count2) \n",
    "print(\"Cantidad de espacios:   \", count3) \n",
    "  \n",
    "print(\"\\nDespués de las modificaciones:\") \n",
    "print(newstring) "
   ]
  },
  {
   "cell_type": "markdown",
   "metadata": {},
   "source": [
    "## `Al ser funciones del tipo NATIVAS, no hace falta importar ninguna librería extra!`"
   ]
  }
 ],
 "metadata": {
  "kernelspec": {
   "display_name": "Python 3",
   "language": "python",
   "name": "python3"
  },
  "language_info": {
   "codemirror_mode": {
    "name": "ipython",
    "version": 3
   },
   "file_extension": ".py",
   "mimetype": "text/x-python",
   "name": "python",
   "nbconvert_exporter": "python",
   "pygments_lexer": "ipython3",
   "version": "3.7.4"
  }
 },
 "nbformat": 4,
 "nbformat_minor": 4
}
